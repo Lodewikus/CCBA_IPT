{
 "cells": [
  {
   "cell_type": "code",
   "execution_count": 35,
   "metadata": {},
   "outputs": [],
   "source": [
    "import json\n",
    "import numpy as np\n",
    "import pandas as pd\n",
    "import lxml"
   ]
  },
  {
   "attachments": {},
   "cell_type": "markdown",
   "metadata": {},
   "source": [
    "# Import SAP data from 15 December 2021"
   ]
  },
  {
   "cell_type": "code",
   "execution_count": 36,
   "metadata": {},
   "outputs": [
    {
     "name": "stderr",
     "output_type": "stream",
     "text": [
      "/tmp/ipykernel_20337/3562322008.py:1: DtypeWarning: Columns (2,3,4,8,10,13) have mixed types. Specify dtype option on import or set low_memory=False.\n",
      "  sap_data=pd.read_csv('data/SAP_15Dec21.csv')\n"
     ]
    }
   ],
   "source": [
    "sap_data=pd.read_csv('data/SAP_15Dec21.csv')\n",
    "sap_data['BaseDate'] = pd.to_datetime(sap_data['BaseDate'], format='%Y-%m-%d')"
   ]
  },
  {
   "cell_type": "code",
   "execution_count": 37,
   "metadata": {},
   "outputs": [
    {
     "data": {
      "text/plain": [
       "67701"
      ]
     },
     "execution_count": 37,
     "metadata": {},
     "output_type": "execute_result"
    }
   ],
   "source": [
    "mask = ((sap_data['Cases'] < 0))\n",
    "try1 = sap_data[mask]\n",
    "len(try1)\n",
    "#try1['ActivityType'].unique()\n",
    "#sap_data['ActivityType'].mask(mask,'5TRADERETURNS',inplace=True)"
   ]
  },
  {
   "cell_type": "code",
   "execution_count": 38,
   "metadata": {},
   "outputs": [
    {
     "name": "stdout",
     "output_type": "stream",
     "text": [
      "2PLAN: 8092 orders, with 21342 order lines\n",
      "3DESPATCH: 9022 orders, with 22969 order lines\n",
      "4SETTLE: 9260 orders, with 23390 order lines\n"
     ]
    }
   ],
   "source": [
    "mask = ((sap_data['Cases'] < 0)  & (sap_data['ActivityType'] == '2PLAN'))\n",
    "try1=sap_data[mask]\n",
    "print('2PLAN: ' + str(len(try1['Order Number'].unique())) + ' orders, with ' + str(len(try1)) + ' order lines')\n",
    "mask = ((sap_data['Cases'] < 0)  & (sap_data['ActivityType'] == '3DESPATCH'))\n",
    "try1=sap_data[mask]\n",
    "print('3DESPATCH: ' + str(len(try1['Order Number'].unique())) + ' orders, with ' + str(len(try1)) + ' order lines')\n",
    "mask = ((sap_data['Cases'] < 0)  & (sap_data['ActivityType'] == '4SETTLE'))\n",
    "try1=sap_data[mask]\n",
    "print('4SETTLE: ' + str(len(try1['Order Number'].unique())) + ' orders, with ' + str(len(try1)) + ' order lines')"
   ]
  },
  {
   "cell_type": "code",
   "execution_count": 39,
   "metadata": {},
   "outputs": [
    {
     "name": "stdout",
     "output_type": "stream",
     "text": [
      "<class 'pandas.core.frame.DataFrame'>\n",
      "RangeIndex: 918658 entries, 0 to 918657\n",
      "Data columns (total 20 columns):\n",
      " #   Column                Non-Null Count   Dtype         \n",
      "---  ------                --------------   -----         \n",
      " 0   Unnamed: 0            918658 non-null  int64         \n",
      " 1   ActivityType          918658 non-null  object        \n",
      " 2   Order Number          918658 non-null  object        \n",
      " 3   Shipment N            918658 non-null  object        \n",
      " 4   Delivery N            918658 non-null  object        \n",
      " 5   DocumentNo            918658 non-null  object        \n",
      " 6   Plant_Type            918658 non-null  object        \n",
      " 7   Plant_WAREHOUSE_NAME  918658 non-null  object        \n",
      " 8   Customer N            918658 non-null  object        \n",
      " 9   Customer Name         918658 non-null  object        \n",
      " 10  Billing Do            918658 non-null  object        \n",
      " 11  Bill I                914493 non-null  object        \n",
      " 12  Description           918658 non-null  object        \n",
      " 13  Driver code           918658 non-null  object        \n",
      " 14  Driver Nam            918658 non-null  object        \n",
      " 15  Material No           918658 non-null  object        \n",
      " 16  Material Description  918658 non-null  object        \n",
      " 17  BaseDate              918658 non-null  datetime64[ns]\n",
      " 18  BaseHour              918658 non-null  int64         \n",
      " 19  Cases                 918658 non-null  int64         \n",
      "dtypes: datetime64[ns](1), int64(3), object(16)\n",
      "memory usage: 140.2+ MB\n"
     ]
    }
   ],
   "source": [
    "sap_data.info()"
   ]
  },
  {
   "cell_type": "code",
   "execution_count": 40,
   "metadata": {},
   "outputs": [],
   "source": [
    "mask = ((sap_data['BaseHour'] == 12) & (sap_data['ActivityType'] == '3DESPATCH'))\n",
    "temp1 = sap_data[mask]"
   ]
  },
  {
   "cell_type": "code",
   "execution_count": 41,
   "metadata": {},
   "outputs": [
    {
     "data": {
      "text/plain": [
       "484"
      ]
     },
     "execution_count": 41,
     "metadata": {},
     "output_type": "execute_result"
    }
   ],
   "source": [
    "len(temp1['Delivery N'].unique())"
   ]
  },
  {
   "cell_type": "code",
   "execution_count": 42,
   "metadata": {},
   "outputs": [],
   "source": [
    "temp3 = temp1.groupby('Plant_WAREHOUSE_NAME')['Delivery N'].nunique()"
   ]
  },
  {
   "cell_type": "code",
   "execution_count": 43,
   "metadata": {},
   "outputs": [
    {
     "data": {
      "text/plain": [
       "Plant_WAREHOUSE_NAME\n",
       "Bloemfontein_Gutche           2\n",
       "Devland                       5\n",
       "LDP Bloemfontein              3\n",
       "LDP Evaton                    1\n",
       "LDP Ga-rankuwa                1\n",
       "LDP Makhado                   9\n",
       "LDP Mankweng                 33\n",
       "LDP Mbombela                  7\n",
       "LDP Modjadji 2                5\n",
       "LDP Osizweni                 58\n",
       "LDP Pretoria east             7\n",
       "LDP STANDERTON               15\n",
       "LDP Tembisa west              2\n",
       "LDP Ulundi                    2\n",
       "LDP Vaal                      8\n",
       "MLP DSD Benrose               2\n",
       "MLP DSD Centurion            20\n",
       "MLP DSD Edendale             49\n",
       "MLP DSD Harrismith           26\n",
       "MLP DSD Krugersdorp North    41\n",
       "MLP DSD Molweni              88\n",
       "MLP DSD Richards Bay         19\n",
       "MLP DSD Sandton              27\n",
       "Perseverance                  2\n",
       "Phoenix                      34\n",
       "Polokwane                     6\n",
       "Premier Place                 5\n",
       "Pretoria West                 7\n",
       "Name: Delivery N, dtype: int64"
      ]
     },
     "execution_count": 43,
     "metadata": {},
     "output_type": "execute_result"
    }
   ],
   "source": [
    "temp3"
   ]
  },
  {
   "cell_type": "code",
   "execution_count": 44,
   "metadata": {},
   "outputs": [],
   "source": [
    "temp3.to_excel('temp3.xlsx')"
   ]
  },
  {
   "attachments": {},
   "cell_type": "markdown",
   "metadata": {},
   "source": [
    "# Warehouse lookup table"
   ]
  },
  {
   "attachments": {},
   "cell_type": "markdown",
   "metadata": {},
   "source": [
    "### Start with a manually prepared table mapping D365 warehouses to the 88 SAP warehouses in the 15 Dec 21 data set"
   ]
  },
  {
   "cell_type": "code",
   "execution_count": 45,
   "metadata": {},
   "outputs": [],
   "source": [
    "SAP_to_D365_warehouse=pd.read_csv('data/raw_data/warehouses/SAP-to-D365 warehouse mapping.csv')"
   ]
  },
  {
   "cell_type": "code",
   "execution_count": 46,
   "metadata": {},
   "outputs": [],
   "source": [
    "SAP_to_D365_warehouse.drop(columns={'D365_Del_Loc', 'WAREHOUSELOCATIONID', 'site_id'}, inplace=True, axis=1)"
   ]
  },
  {
   "attachments": {},
   "cell_type": "markdown",
   "metadata": {},
   "source": [
    "### Merge with IPT_Site_Warehouse_locations to get SITE, WAREHOUSELOCATIONID, Cost Centre Financial Dimension and Financial Dimension for Stock Journal"
   ]
  },
  {
   "cell_type": "code",
   "execution_count": 47,
   "metadata": {},
   "outputs": [],
   "source": [
    "IPT_Site_Warehouse_locations=pd.read_csv('data/raw_data/warehouses/IPT_Site_Warehouse_locations_20221226.csv')\n",
    "#IPT_Site_Warehouse_locations=pd.read_csv('data/warehouses.csv')"
   ]
  },
  {
   "cell_type": "code",
   "execution_count": 48,
   "metadata": {},
   "outputs": [
    {
     "name": "stdout",
     "output_type": "stream",
     "text": [
      "<class 'pandas.core.frame.DataFrame'>\n",
      "RangeIndex: 89 entries, 0 to 88\n",
      "Data columns (total 5 columns):\n",
      " #   Column                                 Non-Null Count  Dtype \n",
      "---  ------                                 --------------  ----- \n",
      " 0   SITE                                   88 non-null     object\n",
      " 1   WAREHOUSEID                            88 non-null     object\n",
      " 2   WAREHOUSELOCATIONID                    88 non-null     object\n",
      " 3   Cost Centre Financial Dimension        88 non-null     object\n",
      " 4   Financial Dimension for Stock Journal  88 non-null     object\n",
      "dtypes: object(5)\n",
      "memory usage: 3.6+ KB\n"
     ]
    }
   ],
   "source": [
    "IPT_Site_Warehouse_locations.info()"
   ]
  },
  {
   "cell_type": "code",
   "execution_count": 49,
   "metadata": {},
   "outputs": [],
   "source": [
    "warehouses = pd.merge(\n",
    "    SAP_to_D365_warehouse,\n",
    "    IPT_Site_Warehouse_locations,\n",
    "    how=\"inner\",\n",
    "    on=None,\n",
    "    left_on='D365_WH_NO',\n",
    "    right_on='WAREHOUSEID',\n",
    "    left_index=False,\n",
    "    right_index=False,\n",
    "    sort=True,\n",
    "    suffixes=(\"_x\", \"_y\"),\n",
    "    copy=True,\n",
    "    indicator=False,\n",
    "    validate=None,\n",
    ")"
   ]
  },
  {
   "cell_type": "code",
   "execution_count": 50,
   "metadata": {},
   "outputs": [],
   "source": [
    "warehouses.drop(columns={'WAREHOUSEID'}, inplace=True, axis=1)"
   ]
  },
  {
   "cell_type": "code",
   "execution_count": 51,
   "metadata": {},
   "outputs": [],
   "source": [
    "warehouses.rename(columns={'Cost Centre Financial Dimension': 'Cost_Centre', 'Financial Dimension for Stock Journal':'Financial_Dimension'}, inplace=True)"
   ]
  },
  {
   "cell_type": "code",
   "execution_count": 52,
   "metadata": {},
   "outputs": [
    {
     "name": "stdout",
     "output_type": "stream",
     "text": [
      "<class 'pandas.core.frame.DataFrame'>\n",
      "Int64Index: 88 entries, 0 to 87\n",
      "Data columns (total 7 columns):\n",
      " #   Column               Non-Null Count  Dtype \n",
      "---  ------               --------------  ----- \n",
      " 0   SAP_WH_NAME          88 non-null     object\n",
      " 1   D365_WH_NAME         88 non-null     object\n",
      " 2   D365_WH_NO           88 non-null     object\n",
      " 3   SITE                 88 non-null     object\n",
      " 4   WAREHOUSELOCATIONID  88 non-null     object\n",
      " 5   Cost_Centre          88 non-null     object\n",
      " 6   Financial_Dimension  88 non-null     object\n",
      "dtypes: object(7)\n",
      "memory usage: 5.5+ KB\n"
     ]
    }
   ],
   "source": [
    "warehouses.info()"
   ]
  },
  {
   "attachments": {},
   "cell_type": "markdown",
   "metadata": {},
   "source": [
    "### Merge with CE warehouses to get the CE Delivery Location"
   ]
  },
  {
   "cell_type": "code",
   "execution_count": 54,
   "metadata": {},
   "outputs": [],
   "source": [
    "CE_IPT_Active_Warehouses=pd.read_excel('data/raw_data/warehouses/CE_IPT_Active Warehouses _DeliveryLocations_20221223.xlsx',sheet_name='CE Active Warehouses')\n"
   ]
  },
  {
   "cell_type": "code",
   "execution_count": 55,
   "metadata": {},
   "outputs": [
    {
     "name": "stdout",
     "output_type": "stream",
     "text": [
      "<class 'pandas.core.frame.DataFrame'>\n",
      "RangeIndex: 1200 entries, 0 to 1199\n",
      "Data columns (total 3 columns):\n",
      " #   Column                         Non-Null Count  Dtype \n",
      "---  ------                         --------------  ----- \n",
      " 0   Warehouse Id                   1200 non-null   object\n",
      " 1   Delivery Location Description  1200 non-null   object\n",
      " 2   Description                    1200 non-null   object\n",
      "dtypes: object(3)\n",
      "memory usage: 28.2+ KB\n"
     ]
    }
   ],
   "source": [
    "CE_IPT_Active_Warehouses.info()"
   ]
  },
  {
   "cell_type": "code",
   "execution_count": 56,
   "metadata": {},
   "outputs": [],
   "source": [
    "warehouses = pd.merge(\n",
    "    warehouses,\n",
    "    CE_IPT_Active_Warehouses,\n",
    "    how=\"inner\",\n",
    "    on=None,\n",
    "    left_on='D365_WH_NO',\n",
    "    right_on='Warehouse Id',\n",
    "    left_index=False,\n",
    "    right_index=False,\n",
    "    sort=True,\n",
    "    suffixes=(\"_x\", \"_y\"),\n",
    "    copy=True,\n",
    "    indicator=False,\n",
    "    validate=None,\n",
    ")"
   ]
  },
  {
   "cell_type": "code",
   "execution_count": 57,
   "metadata": {},
   "outputs": [],
   "source": [
    "warehouses.drop(columns={'Warehouse Id','Description'}, inplace=True, axis=1)"
   ]
  },
  {
   "cell_type": "code",
   "execution_count": 58,
   "metadata": {},
   "outputs": [],
   "source": [
    "warehouses.rename(columns={'Delivery Location Description': 'D365_Del_Loc','SITE': 'site_id'}, inplace=True)"
   ]
  },
  {
   "attachments": {},
   "cell_type": "markdown",
   "metadata": {},
   "source": [
    "Change notes: 8 Jan\n",
    "The following fields were in the warehouses dataframe before making these changes\n",
    "    SAP_WH_NAME,D365_WH_NO,D365_WH_NAME,D365_Del_Loc,site_id,WAREHOUSELOCATIONID\n",
    "\n",
    "The following fields were added (to be used in the journal creation):\n",
    "    Cost_Centre, Financial_Dimension"
   ]
  },
  {
   "cell_type": "code",
   "execution_count": 59,
   "metadata": {},
   "outputs": [
    {
     "name": "stdout",
     "output_type": "stream",
     "text": [
      "<class 'pandas.core.frame.DataFrame'>\n",
      "Int64Index: 88 entries, 0 to 87\n",
      "Data columns (total 8 columns):\n",
      " #   Column               Non-Null Count  Dtype \n",
      "---  ------               --------------  ----- \n",
      " 0   SAP_WH_NAME          88 non-null     object\n",
      " 1   D365_WH_NAME         88 non-null     object\n",
      " 2   D365_WH_NO           88 non-null     object\n",
      " 3   site_id              88 non-null     object\n",
      " 4   WAREHOUSELOCATIONID  88 non-null     object\n",
      " 5   Cost_Centre          88 non-null     object\n",
      " 6   Financial_Dimension  88 non-null     object\n",
      " 7   D365_Del_Loc         88 non-null     object\n",
      "dtypes: object(8)\n",
      "memory usage: 6.2+ KB\n"
     ]
    }
   ],
   "source": [
    "warehouses.info()"
   ]
  },
  {
   "attachments": {
    "image.png": {
     "image/png": "[encoded data removed]"
    }
   },
   "cell_type": "markdown",
   "metadata": {},
   "source": [
    "# These are the required fields for warehouses\n",
    "![image.png](attachment:image.png)"
   ]
  },
  {
   "attachments": {},
   "cell_type": "markdown",
   "metadata": {},
   "source": [
    "# Items lookup table"
   ]
  },
  {
   "cell_type": "code",
   "execution_count": 60,
   "metadata": {},
   "outputs": [],
   "source": [
    "items=pd.read_csv('data/matched_items.csv')\n",
    "items.rename(columns={'ITEMNUMBER': 'D365_ItemNo'}, inplace=True)"
   ]
  },
  {
   "cell_type": "code",
   "execution_count": 61,
   "metadata": {},
   "outputs": [],
   "source": [
    "mask = (items['D365_ItemNo'].str.contains('CN'))"
   ]
  },
  {
   "cell_type": "code",
   "execution_count": 62,
   "metadata": {},
   "outputs": [
    {
     "data": {
      "text/plain": [
       "8"
      ]
     },
     "execution_count": 62,
     "metadata": {},
     "output_type": "execute_result"
    }
   ],
   "source": [
    "len(items[mask])"
   ]
  },
  {
   "attachments": {},
   "cell_type": "markdown",
   "metadata": {},
   "source": [
    "# Customers\n",
    "- Use the Bloem customers list that Andre provided.\n",
    "- Correlate with CE customers that are Outlets. Use CE_IPT_SoftDrinkOutlets_20200104.xlsx for this.\n",
    "- Include only direct customers.  Get this from the customer master.\n",
    "- Inner join this with the Bloem customers to get a list of Bloem customers (that we know will work), that also meet the criteria above.\n",
    "- Do a random match for each valid SAP_15Dec21 customer to a Bloem customer.  There will be more than one SAP customer that will be mapped to a Bloem customer.\n",
    "- We do not use Mode of Delivery from the customer master.\n",
    "-'Source Channel' field to be defaulted to 'Voice In'\n",
    "-'Order Category' field to be defaulted to 'Sales Local'"
   ]
  },
  {
   "attachments": {},
   "cell_type": "markdown",
   "metadata": {},
   "source": [
    "### Import the D365 customer master"
   ]
  },
  {
   "cell_type": "code",
   "execution_count": 63,
   "metadata": {},
   "outputs": [
    {
     "name": "stderr",
     "output_type": "stream",
     "text": [
      "/tmp/ipykernel_20337/3652185213.py:1: DtypeWarning: Columns (6,18,58,95,104,117,148) have mixed types. Specify dtype option on import or set low_memory=False.\n",
      "  customers=pd.read_csv('data/customer_master.csv')\n"
     ]
    }
   ],
   "source": [
    "customers=pd.read_csv('data/customer_master.csv')\n",
    "# customers_short is just a copy of customers, without most of the columns\n",
    "customers_short = customers[['ADDRESSZIPCODE','CUSTOMERACCOUNT','ORGANIZATIONNAME', 'NAMEALIAS', 'CCBCUSTOMERTYPE']].copy()"
   ]
  },
  {
   "attachments": {},
   "cell_type": "markdown",
   "metadata": {},
   "source": [
    "### Fix the address zip code for later use"
   ]
  },
  {
   "cell_type": "code",
   "execution_count": 64,
   "metadata": {},
   "outputs": [],
   "source": [
    "customers_short['ADDRESSZIPCODE'] = customers_short['ADDRESSZIPCODE'].fillna(0)\n",
    "customers_short['ADDRESSZIPCODE'] = customers_short['ADDRESSZIPCODE'].astype(int)\n",
    "customers_short['ADDRESSZIPCODE'] = customers_short['ADDRESSZIPCODE'].astype(str)"
   ]
  },
  {
   "attachments": {},
   "cell_type": "markdown",
   "metadata": {},
   "source": [
    "### Import the list of D365 Pilot customers (Bloem)"
   ]
  },
  {
   "cell_type": "code",
   "execution_count": 65,
   "metadata": {},
   "outputs": [],
   "source": [
    "pilot_customers=pd.read_csv('data/Pilot Customer Accounts.csv')\n",
    "pilot_customers['Account Number']=pilot_customers['Account Number'].astype(str)\n",
    "pilot_customers.drop(columns={'Customer Category', 'Inv-Postal Code', 'Inv-Province', 'Inv-Suburb', 'Inv-City', 'Inv-Address 1', 'Inv-Address 2', 'BillTo LocationId'}, inplace=True, axis=1)\n"
   ]
  },
  {
   "cell_type": "code",
   "execution_count": 66,
   "metadata": {},
   "outputs": [],
   "source": [
    "pilot_customers['Account Number'] = pilot_customers['Account Number'].astype(int)"
   ]
  },
  {
   "cell_type": "code",
   "execution_count": 67,
   "metadata": {},
   "outputs": [],
   "source": [
    "pilot_customers.drop(columns={'Account Name'}, inplace=True, axis=1)"
   ]
  },
  {
   "attachments": {},
   "cell_type": "markdown",
   "metadata": {},
   "source": [
    "### Now import CE customers (provided by Gary on 7 Jan), and join that with pilot_customers to arrive at the list pf usable customers."
   ]
  },
  {
   "cell_type": "code",
   "execution_count": 68,
   "metadata": {},
   "outputs": [],
   "source": [
    "#outlet_customers = pd.read_excel('data/CE_IPT_SoftDrinkOutlets_20200104.xlsx')\n",
    "\n",
    "# This new list was provided by Gary on 4 Jan @ 17h32.  \n",
    "# [17:32] Gary Cook\n",
    "# Wikus Olivier (Guest) Here is a new list of Pilot Accounts with a Soft Drink Product Policy that are not restricted on placing orders\n",
    "# SoftDrinkOutlets_IPT.xlsx\n",
    "\n",
    "#outlet_customers = pd.read_excel('data/SoftDrinkOutlets_IPT.xlsx')\n",
    "outlet_customers = pd.read_excel('data/PilotAccounts.xlsx')\n"
   ]
  },
  {
   "cell_type": "code",
   "execution_count": 69,
   "metadata": {},
   "outputs": [],
   "source": [
    "outlet_customers = outlet_customers.drop_duplicates()"
   ]
  },
  {
   "cell_type": "code",
   "execution_count": 70,
   "metadata": {},
   "outputs": [
    {
     "name": "stdout",
     "output_type": "stream",
     "text": [
      "<class 'pandas.core.frame.DataFrame'>\n",
      "Int64Index: 1141 entries, 0 to 1140\n",
      "Data columns (total 3 columns):\n",
      " #   Column                    Non-Null Count  Dtype \n",
      "---  ------                    --------------  ----- \n",
      " 0   Account Number            1141 non-null   int64 \n",
      " 1   Account Name              1141 non-null   object\n",
      " 2   CIC Order Placement Rule  220 non-null    object\n",
      "dtypes: int64(1), object(2)\n",
      "memory usage: 35.7+ KB\n"
     ]
    }
   ],
   "source": [
    "outlet_customers.info(verbose=True,show_counts=True)\n",
    "#outlet_customers"
   ]
  },
  {
   "cell_type": "code",
   "execution_count": 71,
   "metadata": {},
   "outputs": [],
   "source": [
    "outlet_customers.rename(columns={'Account Name': 'D365_Account_Name'}, inplace=True)"
   ]
  },
  {
   "cell_type": "code",
   "execution_count": 72,
   "metadata": {},
   "outputs": [],
   "source": [
    "pilot_customers = pd.merge(\n",
    "    outlet_customers,\n",
    "    pilot_customers,\n",
    "    how=\"inner\",\n",
    "    on=None,\n",
    "    left_on='Account Number',\n",
    "    right_on='Account Number',\n",
    "    left_index=False,\n",
    "    right_index=False,\n",
    "    sort=True,\n",
    "    suffixes=(\"_x\", \"_y\"),\n",
    "    copy=True,\n",
    "    indicator=False,\n",
    "    validate=None,\n",
    ")"
   ]
  },
  {
   "cell_type": "code",
   "execution_count": 73,
   "metadata": {},
   "outputs": [
    {
     "name": "stdout",
     "output_type": "stream",
     "text": [
      "<class 'pandas.core.frame.DataFrame'>\n",
      "Int64Index: 1141 entries, 0 to 1140\n",
      "Data columns (total 3 columns):\n",
      " #   Column                    Non-Null Count  Dtype \n",
      "---  ------                    --------------  ----- \n",
      " 0   Account Number            1141 non-null   int64 \n",
      " 1   D365_Account_Name         1141 non-null   object\n",
      " 2   CIC Order Placement Rule  220 non-null    object\n",
      "dtypes: int64(1), object(2)\n",
      "memory usage: 35.7+ KB\n"
     ]
    }
   ],
   "source": [
    "pilot_customers.info()\n",
    "#pilot_customers"
   ]
  },
  {
   "attachments": {},
   "cell_type": "markdown",
   "metadata": {},
   "source": [
    "### Change made on 9 Jan 2023\n",
    "\n",
    "Change the “Source Channel” based on the following rules \n",
    "- Set to B2B if the “Bill I” column in Tommys data is B2B \n",
    "- Set to SFA if the “Bill I” column in Tommys data is HHT \n",
    "- Set to Voice in for all other rows \n",
    "\n",
    "The B2B order lines can only be linked to a B2B customer and the SFA and Voice In order lines should be linked to non B2B customers. \n",
    "- Gary has provided a new list of pilot accounts, with the Place Rule Columns (B2B or Blank).  This list also excludes customers with very low credit limits, which has cause submission holds on some on the FnO Prep Data.\n",
    "- These changes only need to be made for the 1ORDERCREATION order lines/files \n",
    "- This will mean we can split the order creation between the 3 different channels/test cases "
   ]
  },
  {
   "cell_type": "code",
   "execution_count": 74,
   "metadata": {},
   "outputs": [],
   "source": [
    "sap_data['Source Channel'] = 'Voice in'"
   ]
  },
  {
   "cell_type": "code",
   "execution_count": 75,
   "metadata": {},
   "outputs": [],
   "source": [
    "mask = ((sap_data['Bill I'] == 'B2B') & (sap_data['ActivityType'] == '1ORDERCREATION'))\n",
    "sap_data['Source Channel'].mask(mask,'B2B',inplace=True)\n",
    "mask = ((sap_data['Bill I'] == 'HHT') & (sap_data['ActivityType'] == '1ORDERCREATION'))\n",
    "sap_data['Source Channel'].mask(mask,'SFA',inplace=True)"
   ]
  },
  {
   "cell_type": "code",
   "execution_count": 76,
   "metadata": {},
   "outputs": [],
   "source": [
    "sap_data['Order Category'] = 'Sales Local'"
   ]
  },
  {
   "attachments": {},
   "cell_type": "markdown",
   "metadata": {},
   "source": [
    "### This section creates a list of customers, padding the SAP customers with a repeating list of allowable D365 customers\n",
    "- For B2B customers, make sure they are aligned with those SAP customers for 1ORDERCREATION activity type\n",
    "- First map the D365 B2B customers (CIC Order Placement Rule == B2B) to the unique list of SAP customers where Activity Type == 1ORDERCREATION\n",
    "- Then extract the list of unique SAP customers for all lines where Activity Type != 1ORDERCREATION, remove those that have already been mapped, and map the rest to D365 customers that are non-B2B"
   ]
  },
  {
   "cell_type": "code",
   "execution_count": 77,
   "metadata": {},
   "outputs": [],
   "source": [
    "# Extract a list of unique customers from the SAP data, where 'Source Channel' == 'B2B'\n",
    "mask = (sap_data['Source Channel'] == 'B2B') \n",
    "try1 = sap_data[mask]\n",
    "unique_SAP_customers_np = try1['Customer Name'].unique()\n",
    "unique_SAP_customers1 = pd.DataFrame(unique_SAP_customers_np)\n",
    "#unique_SAP_customers.to_csv('output/unique_sap_customers.csv')"
   ]
  },
  {
   "cell_type": "code",
   "execution_count": 78,
   "metadata": {},
   "outputs": [],
   "source": [
    "unique_SAP_customers1.rename(columns={0: 'SAP_Cust_Name'}, inplace=True)"
   ]
  },
  {
   "cell_type": "code",
   "execution_count": 79,
   "metadata": {},
   "outputs": [],
   "source": [
    "# Extract  list of allowable pilot customers, where CIC Order Placement Rule = B2B\n",
    "mask = (pilot_customers['CIC Order Placement Rule'] == 'B2B') \n",
    "try1 = pilot_customers[mask]\n",
    "allowable_pilot_customers_np = try1['Account Number'].unique()\n",
    "allowable_pilot_customers = pd.DataFrame(allowable_pilot_customers_np)"
   ]
  },
  {
   "cell_type": "code",
   "execution_count": 80,
   "metadata": {},
   "outputs": [],
   "source": [
    "repeats = int(len(unique_SAP_customers_np)/len(allowable_pilot_customers_np) + 1)"
   ]
  },
  {
   "cell_type": "code",
   "execution_count": 81,
   "metadata": {},
   "outputs": [],
   "source": [
    "new_array = allowable_pilot_customers_np.repeat(repeats)"
   ]
  },
  {
   "cell_type": "code",
   "execution_count": 82,
   "metadata": {},
   "outputs": [],
   "source": [
    "trim_rows = len(new_array) - len(unique_SAP_customers_np)"
   ]
  },
  {
   "cell_type": "code",
   "execution_count": 83,
   "metadata": {},
   "outputs": [],
   "source": [
    "#a[:-n, :]\n",
    "trimmed_array = new_array[:-trim_rows :]"
   ]
  },
  {
   "cell_type": "code",
   "execution_count": 84,
   "metadata": {},
   "outputs": [],
   "source": [
    "unique_SAP_customers1['D365_Cust_No'] = trimmed_array.tolist()"
   ]
  },
  {
   "cell_type": "code",
   "execution_count": 85,
   "metadata": {},
   "outputs": [],
   "source": [
    "# Repeat the process, but now with the rest of the activity types, mapping to the remainder of the D365 customers\n",
    "\n",
    "# Extract a list of unique customers from the SAP data, where 'Source Channel' != 'B2B'\n",
    "mask = (sap_data['Source Channel'] != 'B2B')\n",
    "try1 = sap_data[mask]\n",
    "unique_SAP_customers_np = try1['Customer Name'].unique()\n",
    "unique_SAP_customers2 = pd.DataFrame(unique_SAP_customers_np)\n",
    "\n",
    "unique_SAP_customers2.rename(columns={0: 'SAP_Cust_Name'}, inplace=True)"
   ]
  },
  {
   "cell_type": "code",
   "execution_count": 86,
   "metadata": {},
   "outputs": [],
   "source": [
    "# Now exclude those SAP customers that have already been mapped to a D365 customer.  To do that, join the two dataframes\n",
    "unique_SAP_customers2 = pd.merge(\n",
    "    unique_SAP_customers2,\n",
    "    unique_SAP_customers1,\n",
    "    how=\"left\",\n",
    "    on=None,\n",
    "    left_on='SAP_Cust_Name',\n",
    "    right_on='SAP_Cust_Name',\n",
    "    left_index=False,\n",
    "    right_index=False,\n",
    "    sort=True,\n",
    "    suffixes=(\"_x\", \"_y\"),\n",
    "    copy=True,\n",
    "    indicator=False,\n",
    "    validate=None,\n",
    ")"
   ]
  },
  {
   "cell_type": "code",
   "execution_count": 87,
   "metadata": {},
   "outputs": [],
   "source": [
    "mask = (unique_SAP_customers2['D365_Cust_No'].isna())\n",
    "unique_SAP_customers2 = unique_SAP_customers2[mask]"
   ]
  },
  {
   "cell_type": "code",
   "execution_count": 88,
   "metadata": {},
   "outputs": [],
   "source": [
    "# Extract  list of allowable pilot customers, where CIC Order Placement Rule != B2B\n",
    "mask = (pilot_customers['CIC Order Placement Rule'] != 'B2B') \n",
    "try1 = pilot_customers[mask]\n",
    "allowable_pilot_customers_np = try1['Account Number'].unique()\n",
    "allowable_pilot_customers2 = pd.DataFrame(allowable_pilot_customers_np)\n",
    "\n",
    "repeats = int(len(unique_SAP_customers2)/len(allowable_pilot_customers_np) + 1)\n",
    "new_array = allowable_pilot_customers_np.repeat(repeats)\n",
    "trim_rows = len(new_array) - len(unique_SAP_customers2)\n",
    "trimmed_array = new_array[:-trim_rows :]\n",
    "unique_SAP_customers2['D365_Cust_No'] = trimmed_array.tolist()"
   ]
  },
  {
   "cell_type": "code",
   "execution_count": 89,
   "metadata": {},
   "outputs": [],
   "source": [
    "# Concatenate unique_SAP_customers1 and unique_SAP_customers2\n",
    "unique_SAP_customers = pd.concat([unique_SAP_customers1, unique_SAP_customers2], ignore_index=True)"
   ]
  },
  {
   "cell_type": "code",
   "execution_count": 90,
   "metadata": {},
   "outputs": [
    {
     "data": {
      "text/plain": [
       "23687"
      ]
     },
     "execution_count": 90,
     "metadata": {},
     "output_type": "execute_result"
    }
   ],
   "source": [
    "len(sap_data['Customer Name'].unique())"
   ]
  },
  {
   "cell_type": "code",
   "execution_count": 91,
   "metadata": {},
   "outputs": [],
   "source": [
    "# Merge to pull in the rest of the columns in \"pilot_customers\"\n",
    "unique_SAP_customers = pd.merge(\n",
    "    unique_SAP_customers,\n",
    "    pilot_customers,\n",
    "    how=\"inner\",\n",
    "    on=None,\n",
    "    left_on='D365_Cust_No',\n",
    "    right_on='Account Number',\n",
    "    left_index=False,\n",
    "    right_index=False,\n",
    "    sort=True,\n",
    "    suffixes=(\"_x\", \"_y\"),\n",
    "    copy=True,\n",
    "    indicator=False,\n",
    "    validate=None,\n",
    ")"
   ]
  },
  {
   "cell_type": "code",
   "execution_count": 92,
   "metadata": {},
   "outputs": [],
   "source": [
    "unique_SAP_customers.drop(columns={'Account Number'}, inplace=True, axis=1)"
   ]
  },
  {
   "cell_type": "code",
   "execution_count": 93,
   "metadata": {},
   "outputs": [],
   "source": [
    "#unique_SAP_customers['Source Channel'] = 'Voice In'\n",
    "#unique_SAP_customers['Order Category'] = 'Sales Local'"
   ]
  },
  {
   "cell_type": "code",
   "execution_count": 94,
   "metadata": {},
   "outputs": [
    {
     "data": {
      "text/plain": [
       "array([nan, 'B2B'], dtype=object)"
      ]
     },
     "execution_count": 94,
     "metadata": {},
     "output_type": "execute_result"
    }
   ],
   "source": [
    "unique_SAP_customers['CIC Order Placement Rule'].unique()"
   ]
  },
  {
   "attachments": {},
   "cell_type": "markdown",
   "metadata": {},
   "source": [
    "### Join SAP_15Dec data with D365 items"
   ]
  },
  {
   "cell_type": "code",
   "execution_count": 95,
   "metadata": {},
   "outputs": [],
   "source": [
    "# Make a new dataframe for the SAP data\n",
    "sap_data_orders = sap_data[['ActivityType', 'Order Number', 'Plant_WAREHOUSE_NAME', 'Customer N', 'Customer Name', 'Material No', 'Material Description', 'BaseDate', 'BaseHour', 'Cases','Bill I','Source Channel','Order Category']]"
   ]
  },
  {
   "cell_type": "code",
   "execution_count": 96,
   "metadata": {},
   "outputs": [],
   "source": [
    "# Only filter out type 'AP'\n",
    "mask = (sap_data_orders['ActivityType'] != 'AP')\n",
    "sap_data_orders = sap_data_orders[mask]\n",
    "#sap_data_orders.drop(columns={'Cases'}, inplace=True, axis=1)\n",
    "sap_data_orders.rename(columns={'Plant (WAREHOUSE NAME)': 'SAP_WH', 'Material No': 'SAP_MatlNo'}, inplace=True)\n"
   ]
  },
  {
   "cell_type": "code",
   "execution_count": 97,
   "metadata": {},
   "outputs": [],
   "source": [
    "# New code for updating \"Cases\".  Where Cases==0, assign a fixed quantity of 10.  Where Cases<0, negate the quantity.\n",
    "mask = (sap_data_orders['Cases'] == 0) \n",
    "sap_data_orders['Cases'].mask(mask,10,inplace=True)\n",
    "\n",
    "mask = (sap_data_orders['Cases'] < 0) \n",
    "sap_data_orders['Cases'].mask(mask,-sap_data_orders['Cases'],inplace=True)"
   ]
  },
  {
   "cell_type": "code",
   "execution_count": 98,
   "metadata": {},
   "outputs": [],
   "source": [
    "df3 = pd.merge(\n",
    "    sap_data_orders,\n",
    "    items,\n",
    "    how=\"inner\",\n",
    "    on=None,\n",
    "    left_on='Material Description',\n",
    "    right_on='Material_Description',\n",
    "    left_index=False,\n",
    "    right_index=False,\n",
    "    sort=True,\n",
    "    suffixes=(\"_x\", \"_y\"),\n",
    "    copy=True,\n",
    "    indicator=False,\n",
    "    validate=None,\n",
    ")"
   ]
  },
  {
   "cell_type": "code",
   "execution_count": 99,
   "metadata": {},
   "outputs": [],
   "source": [
    "df3.drop(columns={'Material Description', 'SAP_MatlNo'}, inplace=True, axis=1)"
   ]
  },
  {
   "cell_type": "code",
   "execution_count": 100,
   "metadata": {},
   "outputs": [
    {
     "data": {
      "text/plain": [
       "array(['2PLAN', '3DESPATCH', '4SETTLE', '1ORDERCREATION'], dtype=object)"
      ]
     },
     "execution_count": 100,
     "metadata": {},
     "output_type": "execute_result"
    }
   ],
   "source": [
    "df3['ActivityType'].unique()"
   ]
  },
  {
   "cell_type": "code",
   "execution_count": 101,
   "metadata": {},
   "outputs": [],
   "source": [
    "df3['MOD'] = ''"
   ]
  },
  {
   "cell_type": "code",
   "execution_count": 102,
   "metadata": {},
   "outputs": [],
   "source": [
    "# Now default Mode of Delivery accourding to ActivityType\n",
    "mask = (df3['ActivityType'] == '1ORDERCREATION') \n",
    "df3['MOD'].mask(mask,'01',inplace=True)\n",
    "mask = (df3['ActivityType'] == '2PLAN') \n",
    "df3['MOD'].mask(mask,'02',inplace=True)\n",
    "mask = (df3['ActivityType'] == '3DESPATCH') \n",
    "df3['MOD'].mask(mask,'03',inplace=True)\n",
    "mask = (df3['ActivityType'] == '4SETTLE') \n",
    "df3['MOD'].mask(mask,'04',inplace=True)\n",
    "mask = (df3['ActivityType'] == '5TRADERETURNS') \n",
    "df3['MOD'].mask(mask,'05',inplace=True)"
   ]
  },
  {
   "attachments": {},
   "cell_type": "markdown",
   "metadata": {},
   "source": [
    "### Join SAP data with Warehouse"
   ]
  },
  {
   "cell_type": "code",
   "execution_count": 103,
   "metadata": {},
   "outputs": [],
   "source": [
    "df4 = pd.merge(\n",
    "    df3,\n",
    "    warehouses,\n",
    "    how=\"inner\",\n",
    "    on=None,\n",
    "    left_on='Plant_WAREHOUSE_NAME',\n",
    "    right_on='SAP_WH_NAME',\n",
    "    left_index=False,\n",
    "    right_index=False,\n",
    "    sort=True,\n",
    "    suffixes=(\"_x\", \"_y\"),\n",
    "    copy=True,\n",
    "    indicator=False,\n",
    "    validate=None,\n",
    ")"
   ]
  },
  {
   "cell_type": "code",
   "execution_count": 104,
   "metadata": {},
   "outputs": [],
   "source": [
    "df4.drop(columns={'SAP_WH_NAME', 'Plant_WAREHOUSE_NAME', 'SAP_WH_NAME', 'D365_WH_NO', 'D365_WH_NAME'}, inplace=True, axis=1)"
   ]
  },
  {
   "cell_type": "code",
   "execution_count": 105,
   "metadata": {},
   "outputs": [],
   "source": [
    "# Used this code once only to extract a unique list of SAP customer names\n",
    "# SAP_customers = df4['Customer Name'].unique()\n",
    "# pd.DataFrame(SAP_customers).to_csv('output/SAP_customers.csv')"
   ]
  },
  {
   "attachments": {},
   "cell_type": "markdown",
   "metadata": {},
   "source": [
    "### Merge SAP data with Customer lookup table\n",
    "Note that there is no logic in replacing SAP customers with D365 customers, as only Bloem customers are available for the performance test.  "
   ]
  },
  {
   "cell_type": "code",
   "execution_count": 106,
   "metadata": {},
   "outputs": [],
   "source": [
    "df5 = pd.merge(\n",
    "    df4,\n",
    "    unique_SAP_customers,\n",
    "    how=\"inner\",\n",
    "    on=None,\n",
    "    left_on='Customer Name',\n",
    "    right_on='SAP_Cust_Name',\n",
    "    left_index=False,\n",
    "    right_index=False,\n",
    "    sort=True,\n",
    "    suffixes=(\"_x\", \"_y\"),\n",
    "    copy=True,\n",
    "    indicator=False,\n",
    "    validate=None,\n",
    ")"
   ]
  },
  {
   "cell_type": "code",
   "execution_count": 107,
   "metadata": {},
   "outputs": [],
   "source": [
    "df5.drop(columns={'Customer N','Customer Name','SAP_Cust_Name'}, inplace=True, axis=1)"
   ]
  },
  {
   "cell_type": "code",
   "execution_count": 108,
   "metadata": {},
   "outputs": [],
   "source": [
    "df5['Order Number'] = df5['Order Number'].astype(int)"
   ]
  },
  {
   "cell_type": "code",
   "execution_count": 109,
   "metadata": {},
   "outputs": [],
   "source": [
    "df5.drop_duplicates(subset=['ActivityType', 'Order Number', 'D365_ItemNo'],keep='first',inplace=True)"
   ]
  },
  {
   "cell_type": "code",
   "execution_count": 110,
   "metadata": {},
   "outputs": [],
   "source": [
    "df5.drop(columns={'Cost_Centre', 'Financial_Dimension'}, inplace=True, axis=1)"
   ]
  },
  {
   "cell_type": "code",
   "execution_count": 111,
   "metadata": {},
   "outputs": [
    {
     "data": {
      "text/plain": [
       "array(['ZRCR', 'ZFBO', 'ZFBR', 'HHT', nan, 'ZFRO', 'ZPLS', 'ZCOR', 'CRM',\n",
       "       'ZTRD', 'ZTRR', 'ZUBR', 'ZPLR', 'ZCOS', 'ZFBF', 'ZFRE', 'CRMW',\n",
       "       'ZUBS', 'ZRCS', 'ZLC', 'B2B', 'ZMTC'], dtype=object)"
      ]
     },
     "execution_count": 111,
     "metadata": {},
     "output_type": "execute_result"
    }
   ],
   "source": [
    "df5['Bill I'].unique()"
   ]
  },
  {
   "cell_type": "code",
   "execution_count": 112,
   "metadata": {},
   "outputs": [
    {
     "data": {
      "text/plain": [
       "\" mask = ((df5['Bill I'] == 'B2B') & (df5['ActivityType'] == '1ORDERCREATION'))\\ndf5['Source Channel'].mask(mask,'B2B',inplace=True)\\nmask = ((df5['Bill I'] == 'HHT') & (df5['ActivityType'] == '1ORDERCREATION'))\\ndf5['Source Channel'].mask(mask,'SFA',inplace=True) \""
      ]
     },
     "execution_count": 112,
     "metadata": {},
     "output_type": "execute_result"
    }
   ],
   "source": [
    "\"\"\" mask = ((df5['Bill I'] == 'B2B') & (df5['ActivityType'] == '1ORDERCREATION'))\n",
    "df5['Source Channel'].mask(mask,'B2B',inplace=True)\n",
    "mask = ((df5['Bill I'] == 'HHT') & (df5['ActivityType'] == '1ORDERCREATION'))\n",
    "df5['Source Channel'].mask(mask,'SFA',inplace=True) \"\"\"\n",
    "# The rest of the records are already set to \"Voice in\""
   ]
  },
  {
   "cell_type": "code",
   "execution_count": 113,
   "metadata": {},
   "outputs": [],
   "source": [
    "temp6 = pd.DataFrame(df5['D365_Cust_No'].unique())"
   ]
  },
  {
   "cell_type": "code",
   "execution_count": 114,
   "metadata": {},
   "outputs": [],
   "source": [
    "temp6.to_excel('temp6.xlsx')"
   ]
  },
  {
   "cell_type": "code",
   "execution_count": 115,
   "metadata": {},
   "outputs": [],
   "source": [
    "#mask = (df5['D365_ItemNo'].str.contains('CN'))"
   ]
  },
  {
   "cell_type": "code",
   "execution_count": 116,
   "metadata": {},
   "outputs": [
    {
     "name": "stderr",
     "output_type": "stream",
     "text": [
      "/tmp/ipykernel_20337/1579820086.py:1: UserWarning: Boolean Series key will be reindexed to match DataFrame index.\n",
      "  temp=df5[mask]\n"
     ]
    }
   ],
   "source": [
    "temp=df5[mask]"
   ]
  },
  {
   "cell_type": "code",
   "execution_count": 117,
   "metadata": {},
   "outputs": [
    {
     "data": {
      "text/plain": [
       "array([], dtype=object)"
      ]
     },
     "execution_count": 117,
     "metadata": {},
     "output_type": "execute_result"
    }
   ],
   "source": [
    "temp['D365_ItemNo'].unique()"
   ]
  },
  {
   "attachments": {},
   "cell_type": "markdown",
   "metadata": {},
   "source": [
    "### Generate output files"
   ]
  },
  {
   "cell_type": "code",
   "execution_count": 119,
   "metadata": {},
   "outputs": [],
   "source": [
    "# Generate CSV for the entire SAP data set\n",
    "df5.to_csv('output/15Dec_D365_orders.csv', index=False)"
   ]
  },
  {
   "cell_type": "code",
   "execution_count": 120,
   "metadata": {},
   "outputs": [],
   "source": [
    "# Now drop lines with negative order quantities, except where ActivityType = 5TRADERETURNS\n",
    "#mask = ((df5['Cases'] > 0) | (df5['ActivityType'] == '5TRADERETURNS'))\n",
    "#df5 = df5[mask]"
   ]
  },
  {
   "cell_type": "code",
   "execution_count": 121,
   "metadata": {},
   "outputs": [],
   "source": [
    "mask = ((df5['ActivityType'] == '1ORDERCREATION') &  (df5['BaseHour'] == 12) & (df5['Bill I'] == 'HHT'))"
   ]
  },
  {
   "cell_type": "code",
   "execution_count": 122,
   "metadata": {},
   "outputs": [],
   "source": [
    "temp1 = df5[mask]"
   ]
  },
  {
   "cell_type": "code",
   "execution_count": 123,
   "metadata": {},
   "outputs": [
    {
     "data": {
      "text/plain": [
       "1268"
      ]
     },
     "execution_count": 123,
     "metadata": {},
     "output_type": "execute_result"
    }
   ],
   "source": [
    "len(temp1['Order Number'].unique())"
   ]
  },
  {
   "cell_type": "code",
   "execution_count": 124,
   "metadata": {},
   "outputs": [
    {
     "name": "stderr",
     "output_type": "stream",
     "text": [
      "/tmp/ipykernel_20337/2200613148.py:14: SettingWithCopyWarning: \n",
      "A value is trying to be set on a copy of a slice from a DataFrame\n",
      "\n",
      "See the caveats in the documentation: https://pandas.pydata.org/pandas-docs/stable/user_guide/indexing.html#returning-a-view-versus-a-copy\n",
      "  df5_1.drop(columns={'CIC Order Placement Rule'}, inplace=True, axis=1)\n",
      "/tmp/ipykernel_20337/2200613148.py:19: SettingWithCopyWarning: \n",
      "A value is trying to be set on a copy of a slice from a DataFrame\n",
      "\n",
      "See the caveats in the documentation: https://pandas.pydata.org/pandas-docs/stable/user_guide/indexing.html#returning-a-view-versus-a-copy\n",
      "  df5_1.drop(columns={'CIC Order Placement Rule'}, inplace=True, axis=1)\n",
      "/tmp/ipykernel_20337/2200613148.py:25: SettingWithCopyWarning: \n",
      "A value is trying to be set on a copy of a slice from a DataFrame\n",
      "\n",
      "See the caveats in the documentation: https://pandas.pydata.org/pandas-docs/stable/user_guide/indexing.html#returning-a-view-versus-a-copy\n",
      "  df5_1.drop(columns={'CIC Order Placement Rule'}, inplace=True, axis=1)\n",
      "/tmp/ipykernel_20337/2200613148.py:30: SettingWithCopyWarning: \n",
      "A value is trying to be set on a copy of a slice from a DataFrame\n",
      "\n",
      "See the caveats in the documentation: https://pandas.pydata.org/pandas-docs/stable/user_guide/indexing.html#returning-a-view-versus-a-copy\n",
      "  df5_1.drop(columns={'CIC Order Placement Rule'}, inplace=True, axis=1)\n",
      "/tmp/ipykernel_20337/2200613148.py:36: SettingWithCopyWarning: \n",
      "A value is trying to be set on a copy of a slice from a DataFrame\n",
      "\n",
      "See the caveats in the documentation: https://pandas.pydata.org/pandas-docs/stable/user_guide/indexing.html#returning-a-view-versus-a-copy\n",
      "  df5_1.drop(columns={'CIC Order Placement Rule'}, inplace=True, axis=1)\n",
      "/tmp/ipykernel_20337/2200613148.py:41: SettingWithCopyWarning: \n",
      "A value is trying to be set on a copy of a slice from a DataFrame\n",
      "\n",
      "See the caveats in the documentation: https://pandas.pydata.org/pandas-docs/stable/user_guide/indexing.html#returning-a-view-versus-a-copy\n",
      "  df5_1.drop(columns={'CIC Order Placement Rule'}, inplace=True, axis=1)\n",
      "/tmp/ipykernel_20337/2200613148.py:47: SettingWithCopyWarning: \n",
      "A value is trying to be set on a copy of a slice from a DataFrame\n",
      "\n",
      "See the caveats in the documentation: https://pandas.pydata.org/pandas-docs/stable/user_guide/indexing.html#returning-a-view-versus-a-copy\n",
      "  df5_1.drop(columns={'CIC Order Placement Rule'}, inplace=True, axis=1)\n",
      "/tmp/ipykernel_20337/2200613148.py:52: SettingWithCopyWarning: \n",
      "A value is trying to be set on a copy of a slice from a DataFrame\n",
      "\n",
      "See the caveats in the documentation: https://pandas.pydata.org/pandas-docs/stable/user_guide/indexing.html#returning-a-view-versus-a-copy\n",
      "  df5_1.drop(columns={'CIC Order Placement Rule'}, inplace=True, axis=1)\n"
     ]
    }
   ],
   "source": [
    "# Generate CSVs per activity type, and for the 13th and 20th hours\n",
    "# 1ORDERCREATION\n",
    "mask = ((df5['ActivityType'] == '1ORDERCREATION') &  (df5['BaseHour'] == 12))\n",
    "peak_order_hour = df5[mask]\n",
    "peak_order_hour.to_csv('output/15Dec_D365_orders_1ORDERCREATION_12h.csv',index=False)\n",
    "\n",
    "mask = ((df5['ActivityType'] == '1ORDERCREATION') &  (df5['BaseHour'] == 19))\n",
    "peak_settlement_hour = df5[mask]\n",
    "peak_settlement_hour.to_csv('output/15Dec_D365_orders_1ORDERCREATION_19h.csv',index=False)\n",
    "\n",
    "# 2PLAN\n",
    "mask = ((df5['ActivityType'] == '2PLAN') &  (df5['BaseHour'] == 12))\n",
    "df5_1 = df5[mask]\n",
    "df5_1.drop(columns={'CIC Order Placement Rule'}, inplace=True, axis=1)\n",
    "df5_1.to_csv('output/15Dec_D365_orders_2PLAN_12h.csv',index=False)\n",
    "\n",
    "mask = ((df5['ActivityType'] == '2PLAN') &  (df5['BaseHour'] == 19))\n",
    "df5_1 = df5[mask]\n",
    "df5_1.drop(columns={'CIC Order Placement Rule'}, inplace=True, axis=1)\n",
    "df5_1.to_csv('output/15Dec_D365_orders_2PLAN_19h.csv',index=False)\n",
    "\n",
    "# 3DESPATCH\n",
    "mask = ((df5['ActivityType'] == '3DESPATCH') &  (df5['BaseHour'] == 12))\n",
    "df5_1 = df5[mask]\n",
    "df5_1.drop(columns={'CIC Order Placement Rule'}, inplace=True, axis=1)\n",
    "df5_1.to_csv('output/15Dec_D365_orders_3DESPATCH_12h.csv',index=False)\n",
    "\n",
    "mask = ((df5['ActivityType'] == '3DESPATCH') &  (df5['BaseHour'] == 19))\n",
    "df5_1 = df5[mask]\n",
    "df5_1.drop(columns={'CIC Order Placement Rule'}, inplace=True, axis=1)\n",
    "df5_1.to_csv('output/15Dec_D365_orders_3DESPATCH_19h.csv',index=False)\n",
    "\n",
    "# 4SETTLE\n",
    "mask = ((df5['ActivityType'] == '4SETTLE') &  (df5['BaseHour'] == 12))\n",
    "df5_1 = df5[mask]\n",
    "df5_1.drop(columns={'CIC Order Placement Rule'}, inplace=True, axis=1)\n",
    "df5_1.to_csv('output/15Dec_D365_orders_4SETTLE_12h.csv',index=False)\n",
    "\n",
    "mask = ((df5['ActivityType'] == '4SETTLE') &  (df5['BaseHour'] == 19))\n",
    "df5_1 = df5[mask]\n",
    "df5_1.drop(columns={'CIC Order Placement Rule'}, inplace=True, axis=1)\n",
    "df5_1.to_csv('output/15Dec_D365_orders_4SETTLE_19h.csv',index=False)\n",
    "\n",
    "# 5TRADERETURNS\n",
    "mask = ((df5['ActivityType'] == '5TRADERETURNS') &  (df5['BaseHour'] == 12))\n",
    "df5_1 = df5[mask]\n",
    "df5_1.drop(columns={'CIC Order Placement Rule'}, inplace=True, axis=1)\n",
    "df5_1.to_csv('output/15Dec_D365_orders_5TRADERETURNS_12h.csv',index=False)\n",
    "\n",
    "mask = ((df5['ActivityType'] == '5TRADERETURNS') &  (df5['BaseHour'] == 19))\n",
    "df5_1 = df5[mask]\n",
    "df5_1.drop(columns={'CIC Order Placement Rule'}, inplace=True, axis=1)\n",
    "df5_1.to_csv('output/15Dec_D365_orders_5TRADERETURNS_19h.csv',index=False)"
   ]
  },
  {
   "cell_type": "code",
   "execution_count": 125,
   "metadata": {},
   "outputs": [
    {
     "data": {
      "text/plain": [
       "array(['SFA', 'Voice in', 'B2B'], dtype=object)"
      ]
     },
     "execution_count": 125,
     "metadata": {},
     "output_type": "execute_result"
    }
   ],
   "source": [
    "peak_order_hour['Source Channel'].unique()"
   ]
  },
  {
   "cell_type": "code",
   "execution_count": 126,
   "metadata": {},
   "outputs": [],
   "source": [
    "# Generate a CSV for the rest of the hours, that is, excluding the 13th and 20th hours.  This set can be used to do preparation testing.\n",
    "mask = ((df5['BaseHour'] != 12) & (df5['BaseHour'] != 19))\n",
    "df5_1 = df5[mask]\n",
    "df5_1.to_csv('output/15Dec_D365_orders_excluding_12h_19h.csv', index=False)"
   ]
  },
  {
   "cell_type": "code",
   "execution_count": 127,
   "metadata": {},
   "outputs": [
    {
     "data": {
      "text/plain": [
       "1099"
      ]
     },
     "execution_count": 127,
     "metadata": {},
     "output_type": "execute_result"
    }
   ],
   "source": [
    "len(df5_1['D365_Cust_No'].unique())"
   ]
  },
  {
   "cell_type": "code",
   "execution_count": 128,
   "metadata": {},
   "outputs": [
    {
     "name": "stderr",
     "output_type": "stream",
     "text": [
      "/tmp/ipykernel_20337/2635724467.py:2: SettingWithCopyWarning: \n",
      "A value is trying to be set on a copy of a slice from a DataFrame\n",
      "\n",
      "See the caveats in the documentation: https://pandas.pydata.org/pandas-docs/stable/user_guide/indexing.html#returning-a-view-versus-a-copy\n",
      "  df5_1.drop_duplicates(subset=['D365_Cust_No'],keep='first',inplace=True)\n"
     ]
    }
   ],
   "source": [
    "#From above, generate a file that contains just one record per customer, so that we can use this to verify that each customer master record works\n",
    "df5_1.drop_duplicates(subset=['D365_Cust_No'],keep='first',inplace=True)"
   ]
  },
  {
   "cell_type": "code",
   "execution_count": 129,
   "metadata": {},
   "outputs": [],
   "source": [
    "df5_1.to_csv('output/15Dec_D365_single_line_per_customer_excluding_12h_19h.csv', index=False)"
   ]
  },
  {
   "attachments": {},
   "cell_type": "markdown",
   "metadata": {},
   "source": [
    "### Calculate order volumes per cycle"
   ]
  },
  {
   "cell_type": "code",
   "execution_count": 130,
   "metadata": {},
   "outputs": [
    {
     "name": "stdout",
     "output_type": "stream",
     "text": [
      "SFA order lines for 12h-13h = 20008\n",
      "SFA orders for 12h-13h = 1268\n",
      "Voice In order lines for 12h-13h = 0\n",
      "Voice In orders for 12h-13h = 0\n",
      "B2B order lines for 12h-13h = 19601\n",
      "B2B orders for 12h-13h = 505\n",
      "\n",
      "TOTAL order lines for 12h-13h = 43032\n"
     ]
    }
   ],
   "source": [
    "try2 = peak_order_hour.loc[peak_order_hour['Source Channel'] == 'SFA']\n",
    "SFA_order_lines12h = len(try2)\n",
    "SFA_orders12h = len(try2['Order Number'].unique())\n",
    "\n",
    "try2 = peak_order_hour.loc[peak_order_hour['Source Channel'] == 'Voice In']\n",
    "VoiceIn_order_lines12h = len(try2)\n",
    "VoiceIn_orders12h = len(try2['Order Number'].unique())\n",
    "\n",
    "try2 = peak_order_hour.loc[peak_order_hour['Source Channel'] == 'B2B']\n",
    "B2B_order_lines12h = len(try2)\n",
    "B2B_orders12h = len(try2['Order Number'].unique())\n",
    "\n",
    "try2 = peak_settlement_hour.loc[peak_settlement_hour['Source Channel'] == 'SFA']\n",
    "SFA_order_lines19h = len(try2)\n",
    "SFA_orders19h = len(try2['Order Number'].unique())\n",
    "\n",
    "try2 = peak_settlement_hour.loc[peak_settlement_hour['Source Channel'] == 'Voice In']\n",
    "VoiceIn_order_lines19h = len(try2)\n",
    "VoiceIn_orders19h = len(try2['Order Number'].unique())\n",
    "\n",
    "try2 = peak_settlement_hour.loc[peak_settlement_hour['Source Channel'] == 'B2B']\n",
    "B2B_order_lines19h = len(try2)\n",
    "B2B_orders19h = len(try2['Order Number'].unique())\n",
    "\n",
    "print('SFA order lines for 12h-13h = '+str(SFA_order_lines12h))\n",
    "print('SFA orders for 12h-13h = '+str(SFA_orders12h))\n",
    "print('Voice In order lines for 12h-13h = '+str(VoiceIn_order_lines12h))\n",
    "print('Voice In orders for 12h-13h = '+str(VoiceIn_orders12h))\n",
    "print('B2B order lines for 12h-13h = '+str(B2B_order_lines12h))\n",
    "print('B2B orders for 12h-13h = '+str(B2B_orders12h))\n",
    "print('\\nTOTAL order lines for 12h-13h = '+str(len(peak_order_hour)))"
   ]
  },
  {
   "cell_type": "code",
   "execution_count": 131,
   "metadata": {},
   "outputs": [
    {
     "name": "stdout",
     "output_type": "stream",
     "text": [
      "100% test cycle volumes:\n",
      "\n",
      "SFA order lines for 12h-13h = 18007\n",
      "Voice In order lines for 12h-13h = 0\n",
      "B2B order lines for 12h-13h = 17641\n",
      "Service order lines for 12h-13h = 3961\n",
      "TOTAL order lines for 12h-13h = 43032\n",
      "\n",
      "SFA order lines for 19h-20h = 833\n",
      "Voice In order lines for 19h-20h = 0\n",
      "B2B order lines for 19h-20h = 38\n",
      "Service order lines for 19h-20h = 97\n",
      "TOTAL order lines for 19h-20h = 1158\n"
     ]
    }
   ],
   "source": [
    "service_portal_percentage = 0.1\n",
    "print('100% test cycle volumes:\\n')\n",
    "cycle_perc=1\n",
    "print('SFA order lines for 12h-13h = '+str(round(SFA_order_lines12h*(1-service_portal_percentage)*cycle_perc)))\n",
    "print('Voice In order lines for 12h-13h = '+str(round(VoiceIn_order_lines12h*(1-service_portal_percentage)*cycle_perc)))\n",
    "print('B2B order lines for 12h-13h = '+str(round(B2B_order_lines12h*(1-service_portal_percentage)*cycle_perc)))\n",
    "print('Service order lines for 12h-13h = '+str(round((B2B_order_lines12h+VoiceIn_order_lines12h+SFA_order_lines12h)*service_portal_percentage*cycle_perc)))\n",
    "print('TOTAL order lines for 12h-13h = '+str(round(len(peak_order_hour)*cycle_perc)))\n",
    "\n",
    "print('')\n",
    "print('SFA order lines for 19h-20h = '+str(round(SFA_order_lines19h*(1-service_portal_percentage)*cycle_perc)))\n",
    "print('Voice In order lines for 19h-20h = '+str(round(VoiceIn_order_lines19h*(1-service_portal_percentage)*cycle_perc)))\n",
    "print('B2B order lines for 19h-20h = '+str(round(B2B_order_lines19h*(1-service_portal_percentage)*cycle_perc)))\n",
    "print('Service order lines for 19h-20h = '+str(round((B2B_order_lines19h+VoiceIn_order_lines19h+SFA_order_lines19h)*service_portal_percentage*cycle_perc)))\n",
    "print('TOTAL order lines for 19h-20h = '+str(round(len(peak_settlement_hour)*cycle_perc)))"
   ]
  },
  {
   "cell_type": "code",
   "execution_count": 132,
   "metadata": {},
   "outputs": [
    {
     "name": "stdout",
     "output_type": "stream",
     "text": [
      "10% test cycle volumes:\n",
      "\n",
      "SFA order lines for 12h-13h = 1801\n",
      "Voice In order lines for 12h-13h = 0\n",
      "B2B order lines for 12h-13h = 1764\n",
      "Service order lines for 12h-13h = 396\n",
      "TOTAL order lines for 12h-13h = 4303\n",
      "\n",
      "SFA order lines for 19h-20h = 83\n",
      "Voice In order lines for 19h-20h = 0\n",
      "B2B order lines for 19h-20h = 4\n",
      "Service order lines for 19h-20h = 10\n",
      "TOTAL order lines for 19h-20h = 116\n"
     ]
    }
   ],
   "source": [
    "print('10% test cycle volumes:\\n')\n",
    "cycle_perc=0.1\n",
    "print('SFA order lines for 12h-13h = '+str(round(SFA_order_lines12h*(1-service_portal_percentage)*cycle_perc)))\n",
    "print('Voice In order lines for 12h-13h = '+str(round(VoiceIn_order_lines12h*(1-service_portal_percentage)*cycle_perc)))\n",
    "print('B2B order lines for 12h-13h = '+str(round(B2B_order_lines12h*(1-service_portal_percentage)*cycle_perc)))\n",
    "print('Service order lines for 12h-13h = '+str(round((B2B_order_lines12h+VoiceIn_order_lines12h+SFA_order_lines12h)*service_portal_percentage*cycle_perc)))\n",
    "print('TOTAL order lines for 12h-13h = '+str(round(len(peak_order_hour)*cycle_perc)))\n",
    "\n",
    "print('')\n",
    "print('SFA order lines for 19h-20h = '+str(round(SFA_order_lines19h*(1-service_portal_percentage)*cycle_perc)))\n",
    "print('Voice In order lines for 19h-20h = '+str(round(VoiceIn_order_lines19h*(1-service_portal_percentage)*cycle_perc)))\n",
    "print('B2B order lines for 19h-20h = '+str(round(B2B_order_lines19h*(1-service_portal_percentage)*cycle_perc)))\n",
    "print('Service order lines for 19h-20h = '+str(round((B2B_order_lines19h+VoiceIn_order_lines19h+SFA_order_lines19h)*service_portal_percentage*cycle_perc)))\n",
    "print('TOTAL order lines for 19h-20h = '+str(round(len(peak_settlement_hour)*cycle_perc)))"
   ]
  },
  {
   "attachments": {},
   "cell_type": "markdown",
   "metadata": {},
   "source": [
    "# Create file for stock journals"
   ]
  },
  {
   "attachments": {},
   "cell_type": "markdown",
   "metadata": {},
   "source": [
    "### Create a journal line item per item per warehouse, with a replenishment_qty that is 100x the sum of order quantities (Cases) per line"
   ]
  },
  {
   "cell_type": "code",
   "execution_count": 133,
   "metadata": {},
   "outputs": [],
   "source": [
    "# Create this dataframe before dropping columns not needed for order creation\n",
    "stock_journal = df5[['D365_ItemNo', 'D365_Del_Loc','Cases']]\n",
    "stock_journal = stock_journal.groupby(['D365_Del_Loc', 'D365_ItemNo'],as_index=False).sum('Cases')"
   ]
  },
  {
   "cell_type": "code",
   "execution_count": 134,
   "metadata": {},
   "outputs": [],
   "source": [
    "#stock_journal.info()"
   ]
  },
  {
   "cell_type": "code",
   "execution_count": 135,
   "metadata": {},
   "outputs": [],
   "source": [
    "stock_journal['replenishment_qty'] = stock_journal['Cases']*100"
   ]
  },
  {
   "attachments": {},
   "cell_type": "markdown",
   "metadata": {},
   "source": [
    "### Merge with warehouse dataframe to get Financial Dimensions per warehouse"
   ]
  },
  {
   "cell_type": "code",
   "execution_count": 136,
   "metadata": {},
   "outputs": [],
   "source": [
    "stock_journal['INVENTORYSTATUSID'] = 'Available'"
   ]
  },
  {
   "cell_type": "code",
   "execution_count": 137,
   "metadata": {},
   "outputs": [],
   "source": [
    "stock_journal1 = pd.merge(\n",
    "    stock_journal,\n",
    "    warehouses,\n",
    "    how=\"inner\",\n",
    "    on=None,\n",
    "    left_on='D365_Del_Loc',\n",
    "    right_on='D365_Del_Loc',\n",
    "    left_index=False,\n",
    "    right_index=False,\n",
    "    sort=True,\n",
    "    suffixes=(\"_x\", \"_y\"),\n",
    "    copy=True,\n",
    "    indicator=False,\n",
    "    validate=None,\n",
    ")"
   ]
  },
  {
   "cell_type": "code",
   "execution_count": 138,
   "metadata": {},
   "outputs": [],
   "source": [
    "#stock_journal1.info()"
   ]
  },
  {
   "cell_type": "code",
   "execution_count": 139,
   "metadata": {},
   "outputs": [],
   "source": [
    "stock_journal1.rename(columns={'Financial_Dimension': 'DEFAULTLEDGERDIMENSIONDISPLAYVALUE'}, inplace=True)"
   ]
  },
  {
   "cell_type": "code",
   "execution_count": 140,
   "metadata": {},
   "outputs": [],
   "source": [
    "stock_journal1.drop(columns={'Cases', 'D365_WH_NAME', 'SAP_WH_NAME','Cost_Centre'}, inplace=True, axis=1)"
   ]
  },
  {
   "cell_type": "code",
   "execution_count": 141,
   "metadata": {},
   "outputs": [],
   "source": [
    "stock_journal1 = stock_journal1.sort_values(['D365_WH_NO'],ascending=True)"
   ]
  },
  {
   "cell_type": "code",
   "execution_count": 142,
   "metadata": {},
   "outputs": [],
   "source": [
    "# Add a sequential index for LineNumber\n",
    "line_number = range(1,stock_journal1.last_valid_index()+2,1)\n",
    "stock_journal1['LINENUMBER']=line_number"
   ]
  },
  {
   "attachments": {},
   "cell_type": "markdown",
   "metadata": {},
   "source": [
    "### Generate a journal number per warehouse"
   ]
  },
  {
   "cell_type": "code",
   "execution_count": 143,
   "metadata": {},
   "outputs": [],
   "source": [
    "journal_number = pd.DataFrame(stock_journal1['D365_WH_NO'].unique())"
   ]
  },
  {
   "cell_type": "code",
   "execution_count": 144,
   "metadata": {},
   "outputs": [],
   "source": [
    "journal_number.rename(columns={0: 'D365_WH_NO'}, inplace=True)"
   ]
  },
  {
   "cell_type": "code",
   "execution_count": 145,
   "metadata": {},
   "outputs": [],
   "source": [
    "journal_number = journal_number.sort_values(['D365_WH_NO'],ascending=True)"
   ]
  },
  {
   "cell_type": "code",
   "execution_count": 146,
   "metadata": {},
   "outputs": [],
   "source": [
    "first_valid_jnumber = input('Enter first valid journal number (numbers only)')\n",
    "#first_valid_jnumber = '76517'\n",
    "first_valid_jnumber = int(first_valid_jnumber)\n",
    "#ZA10700076636 - 24 Jan 2023"
   ]
  },
  {
   "cell_type": "code",
   "execution_count": 147,
   "metadata": {},
   "outputs": [],
   "source": [
    "index = range(first_valid_jnumber,first_valid_jnumber+journal_number.last_valid_index()+1,1)\n",
    "journal_number['JOURNALNUMBER']=index"
   ]
  },
  {
   "cell_type": "code",
   "execution_count": 148,
   "metadata": {},
   "outputs": [],
   "source": [
    "journal_number['JOURNALNUMBER'] = journal_number['JOURNALNUMBER'].astype(str)\n",
    "journal_number['JOURNALNUMBER'] = 'ZA107000' +  + journal_number['JOURNALNUMBER']\n",
    "#journal_number['JOURNALNUMBER'] = journal_number['D365_WH_NO'].str.slice(0,4) + journal_number['JOURNALNUMBER']"
   ]
  },
  {
   "cell_type": "code",
   "execution_count": 149,
   "metadata": {},
   "outputs": [],
   "source": [
    "stock_journal1 = pd.merge(\n",
    "   stock_journal1,\n",
    "   journal_number,\n",
    "   how=\"inner\",\n",
    "   on=None,\n",
    "   left_on='D365_WH_NO',\n",
    "   right_on='D365_WH_NO',\n",
    "   left_index=False,\n",
    "   right_index=False,\n",
    "   sort=True,\n",
    "   suffixes=(\"_x\", \"_y\"),\n",
    "   copy=True,\n",
    "   indicator=False,\n",
    "   validate=None,\n",
    ")"
   ]
  },
  {
   "cell_type": "code",
   "execution_count": 150,
   "metadata": {},
   "outputs": [],
   "source": [
    "#stock_journal1.info()"
   ]
  },
  {
   "cell_type": "code",
   "execution_count": 151,
   "metadata": {},
   "outputs": [],
   "source": [
    "stock_journal1['ITEMBATCHNUMBER']='1'\n",
    "stock_journal1['JOURNALNAMEID']='ADJ_WHS'\n",
    "stock_journal1['TRANSACTIONDATE']= pd.to_datetime('today').date()"
   ]
  },
  {
   "cell_type": "code",
   "execution_count": 152,
   "metadata": {},
   "outputs": [],
   "source": [
    "stock_journal1.to_csv('output/stock_journal.csv',index=False)"
   ]
  },
  {
   "attachments": {},
   "cell_type": "markdown",
   "metadata": {},
   "source": [
    "# Analyze SAP data to find logic with Delivery N field"
   ]
  },
  {
   "cell_type": "code",
   "execution_count": 153,
   "metadata": {},
   "outputs": [
    {
     "name": "stdout",
     "output_type": "stream",
     "text": [
      "<class 'pandas.core.frame.DataFrame'>\n",
      "RangeIndex: 918658 entries, 0 to 918657\n",
      "Data columns (total 22 columns):\n",
      " #   Column                Non-Null Count   Dtype         \n",
      "---  ------                --------------   -----         \n",
      " 0   Unnamed: 0            918658 non-null  int64         \n",
      " 1   ActivityType          918658 non-null  object        \n",
      " 2   Order Number          918658 non-null  object        \n",
      " 3   Shipment N            918658 non-null  object        \n",
      " 4   Delivery N            918658 non-null  object        \n",
      " 5   DocumentNo            918658 non-null  object        \n",
      " 6   Plant_Type            918658 non-null  object        \n",
      " 7   Plant_WAREHOUSE_NAME  918658 non-null  object        \n",
      " 8   Customer N            918658 non-null  object        \n",
      " 9   Customer Name         918658 non-null  object        \n",
      " 10  Billing Do            918658 non-null  object        \n",
      " 11  Bill I                914493 non-null  object        \n",
      " 12  Description           918658 non-null  object        \n",
      " 13  Driver code           918658 non-null  object        \n",
      " 14  Driver Nam            918658 non-null  object        \n",
      " 15  Material No           918658 non-null  object        \n",
      " 16  Material Description  918658 non-null  object        \n",
      " 17  BaseDate              918658 non-null  datetime64[ns]\n",
      " 18  BaseHour              918658 non-null  int64         \n",
      " 19  Cases                 918658 non-null  int64         \n",
      " 20  Source Channel        918658 non-null  object        \n",
      " 21  Order Category        918658 non-null  object        \n",
      "dtypes: datetime64[ns](1), int64(3), object(18)\n",
      "memory usage: 154.2+ MB\n"
     ]
    }
   ],
   "source": [
    "sap_data.info(verbose=True, show_counts=True)"
   ]
  },
  {
   "cell_type": "code",
   "execution_count": 154,
   "metadata": {},
   "outputs": [],
   "source": [
    "sap_data['delivery_order_check'] = sap_data['Delivery N'] == sap_data['Order Number']"
   ]
  },
  {
   "cell_type": "code",
   "execution_count": 155,
   "metadata": {},
   "outputs": [],
   "source": [
    "mask = (sap_data['delivery_order_check'] == False)\n",
    "sap_data2 = sap_data[mask]"
   ]
  },
  {
   "cell_type": "code",
   "execution_count": 156,
   "metadata": {},
   "outputs": [
    {
     "name": "stderr",
     "output_type": "stream",
     "text": [
      "/tmp/ipykernel_20337/3219347210.py:1: SettingWithCopyWarning: \n",
      "A value is trying to be set on a copy of a slice from a DataFrame\n",
      "\n",
      "See the caveats in the documentation: https://pandas.pydata.org/pandas-docs/stable/user_guide/indexing.html#returning-a-view-versus-a-copy\n",
      "  sap_data2.drop_duplicates(subset=['Delivery N', 'Order Number'],keep='first',inplace=True)\n"
     ]
    }
   ],
   "source": [
    "sap_data2.drop_duplicates(subset=['Delivery N', 'Order Number'],keep='first',inplace=True)"
   ]
  },
  {
   "cell_type": "code",
   "execution_count": 157,
   "metadata": {},
   "outputs": [
    {
     "name": "stdout",
     "output_type": "stream",
     "text": [
      "<class 'pandas.core.frame.DataFrame'>\n",
      "Int64Index: 45721 entries, 0 to 918378\n",
      "Data columns (total 23 columns):\n",
      " #   Column                Non-Null Count  Dtype         \n",
      "---  ------                --------------  -----         \n",
      " 0   Unnamed: 0            45721 non-null  int64         \n",
      " 1   ActivityType          45721 non-null  object        \n",
      " 2   Order Number          45721 non-null  object        \n",
      " 3   Shipment N            45721 non-null  object        \n",
      " 4   Delivery N            45721 non-null  object        \n",
      " 5   DocumentNo            45721 non-null  object        \n",
      " 6   Plant_Type            45721 non-null  object        \n",
      " 7   Plant_WAREHOUSE_NAME  45721 non-null  object        \n",
      " 8   Customer N            45721 non-null  object        \n",
      " 9   Customer Name         45721 non-null  object        \n",
      " 10  Billing Do            45721 non-null  object        \n",
      " 11  Bill I                45424 non-null  object        \n",
      " 12  Description           45721 non-null  object        \n",
      " 13  Driver code           45721 non-null  object        \n",
      " 14  Driver Nam            45721 non-null  object        \n",
      " 15  Material No           45721 non-null  object        \n",
      " 16  Material Description  45721 non-null  object        \n",
      " 17  BaseDate              45721 non-null  datetime64[ns]\n",
      " 18  BaseHour              45721 non-null  int64         \n",
      " 19  Cases                 45721 non-null  int64         \n",
      " 20  Source Channel        45721 non-null  object        \n",
      " 21  Order Category        45721 non-null  object        \n",
      " 22  delivery_order_check  45721 non-null  bool          \n",
      "dtypes: bool(1), datetime64[ns](1), int64(3), object(18)\n",
      "memory usage: 8.1+ MB\n"
     ]
    }
   ],
   "source": [
    "sap_data2.info()"
   ]
  },
  {
   "cell_type": "code",
   "execution_count": 158,
   "metadata": {},
   "outputs": [],
   "source": [
    "sap_data_1 = sap_data.groupby(['ActivityType','Customer N','Order Number','Delivery N'],as_index=False).count()"
   ]
  },
  {
   "cell_type": "code",
   "execution_count": 159,
   "metadata": {},
   "outputs": [
    {
     "data": {
      "text/html": [
       "<div>\n",
       "<style scoped>\n",
       "    .dataframe tbody tr th:only-of-type {\n",
       "        vertical-align: middle;\n",
       "    }\n",
       "\n",
       "    .dataframe tbody tr th {\n",
       "        vertical-align: top;\n",
       "    }\n",
       "\n",
       "    .dataframe thead th {\n",
       "        text-align: right;\n",
       "    }\n",
       "</style>\n",
       "<table border=\"1\" class=\"dataframe\">\n",
       "  <thead>\n",
       "    <tr style=\"text-align: right;\">\n",
       "      <th></th>\n",
       "      <th>ActivityType</th>\n",
       "      <th>Customer N</th>\n",
       "      <th>Order Number</th>\n",
       "      <th>Delivery N</th>\n",
       "      <th>Unnamed: 0</th>\n",
       "      <th>Shipment N</th>\n",
       "      <th>DocumentNo</th>\n",
       "      <th>Plant_Type</th>\n",
       "      <th>Plant_WAREHOUSE_NAME</th>\n",
       "      <th>Customer Name</th>\n",
       "      <th>...</th>\n",
       "      <th>Driver code</th>\n",
       "      <th>Driver Nam</th>\n",
       "      <th>Material No</th>\n",
       "      <th>Material Description</th>\n",
       "      <th>BaseDate</th>\n",
       "      <th>BaseHour</th>\n",
       "      <th>Cases</th>\n",
       "      <th>Source Channel</th>\n",
       "      <th>Order Category</th>\n",
       "      <th>delivery_order_check</th>\n",
       "    </tr>\n",
       "  </thead>\n",
       "  <tbody>\n",
       "    <tr>\n",
       "      <th>0</th>\n",
       "      <td>1ORDERCREATION</td>\n",
       "      <td>247121</td>\n",
       "      <td>72443657</td>\n",
       "      <td>8083193769</td>\n",
       "      <td>2</td>\n",
       "      <td>2</td>\n",
       "      <td>2</td>\n",
       "      <td>2</td>\n",
       "      <td>2</td>\n",
       "      <td>2</td>\n",
       "      <td>...</td>\n",
       "      <td>2</td>\n",
       "      <td>2</td>\n",
       "      <td>2</td>\n",
       "      <td>2</td>\n",
       "      <td>2</td>\n",
       "      <td>2</td>\n",
       "      <td>2</td>\n",
       "      <td>2</td>\n",
       "      <td>2</td>\n",
       "      <td>2</td>\n",
       "    </tr>\n",
       "    <tr>\n",
       "      <th>1</th>\n",
       "      <td>1ORDERCREATION</td>\n",
       "      <td>247131</td>\n",
       "      <td>72445104</td>\n",
       "      <td>-</td>\n",
       "      <td>1</td>\n",
       "      <td>1</td>\n",
       "      <td>1</td>\n",
       "      <td>1</td>\n",
       "      <td>1</td>\n",
       "      <td>1</td>\n",
       "      <td>...</td>\n",
       "      <td>1</td>\n",
       "      <td>1</td>\n",
       "      <td>1</td>\n",
       "      <td>1</td>\n",
       "      <td>1</td>\n",
       "      <td>1</td>\n",
       "      <td>1</td>\n",
       "      <td>1</td>\n",
       "      <td>1</td>\n",
       "      <td>1</td>\n",
       "    </tr>\n",
       "    <tr>\n",
       "      <th>2</th>\n",
       "      <td>1ORDERCREATION</td>\n",
       "      <td>247131</td>\n",
       "      <td>72445104</td>\n",
       "      <td>8083189838</td>\n",
       "      <td>54</td>\n",
       "      <td>54</td>\n",
       "      <td>54</td>\n",
       "      <td>54</td>\n",
       "      <td>54</td>\n",
       "      <td>54</td>\n",
       "      <td>...</td>\n",
       "      <td>54</td>\n",
       "      <td>54</td>\n",
       "      <td>54</td>\n",
       "      <td>54</td>\n",
       "      <td>54</td>\n",
       "      <td>54</td>\n",
       "      <td>54</td>\n",
       "      <td>54</td>\n",
       "      <td>54</td>\n",
       "      <td>54</td>\n",
       "    </tr>\n",
       "    <tr>\n",
       "      <th>3</th>\n",
       "      <td>1ORDERCREATION</td>\n",
       "      <td>247131</td>\n",
       "      <td>72445104</td>\n",
       "      <td>8083207441</td>\n",
       "      <td>2</td>\n",
       "      <td>2</td>\n",
       "      <td>2</td>\n",
       "      <td>2</td>\n",
       "      <td>2</td>\n",
       "      <td>2</td>\n",
       "      <td>...</td>\n",
       "      <td>2</td>\n",
       "      <td>2</td>\n",
       "      <td>2</td>\n",
       "      <td>2</td>\n",
       "      <td>2</td>\n",
       "      <td>2</td>\n",
       "      <td>2</td>\n",
       "      <td>2</td>\n",
       "      <td>2</td>\n",
       "      <td>2</td>\n",
       "    </tr>\n",
       "    <tr>\n",
       "      <th>4</th>\n",
       "      <td>1ORDERCREATION</td>\n",
       "      <td>247140</td>\n",
       "      <td>72447139</td>\n",
       "      <td>-</td>\n",
       "      <td>1</td>\n",
       "      <td>1</td>\n",
       "      <td>1</td>\n",
       "      <td>1</td>\n",
       "      <td>1</td>\n",
       "      <td>1</td>\n",
       "      <td>...</td>\n",
       "      <td>1</td>\n",
       "      <td>1</td>\n",
       "      <td>1</td>\n",
       "      <td>1</td>\n",
       "      <td>1</td>\n",
       "      <td>1</td>\n",
       "      <td>1</td>\n",
       "      <td>1</td>\n",
       "      <td>1</td>\n",
       "      <td>1</td>\n",
       "    </tr>\n",
       "    <tr>\n",
       "      <th>...</th>\n",
       "      <td>...</td>\n",
       "      <td>...</td>\n",
       "      <td>...</td>\n",
       "      <td>...</td>\n",
       "      <td>...</td>\n",
       "      <td>...</td>\n",
       "      <td>...</td>\n",
       "      <td>...</td>\n",
       "      <td>...</td>\n",
       "      <td>...</td>\n",
       "      <td>...</td>\n",
       "      <td>...</td>\n",
       "      <td>...</td>\n",
       "      <td>...</td>\n",
       "      <td>...</td>\n",
       "      <td>...</td>\n",
       "      <td>...</td>\n",
       "      <td>...</td>\n",
       "      <td>...</td>\n",
       "      <td>...</td>\n",
       "      <td>...</td>\n",
       "    </tr>\n",
       "    <tr>\n",
       "      <th>85508</th>\n",
       "      <td>4SETTLE</td>\n",
       "      <td>799723</td>\n",
       "      <td>8083160218</td>\n",
       "      <td>8083160218</td>\n",
       "      <td>1</td>\n",
       "      <td>1</td>\n",
       "      <td>1</td>\n",
       "      <td>1</td>\n",
       "      <td>1</td>\n",
       "      <td>1</td>\n",
       "      <td>...</td>\n",
       "      <td>1</td>\n",
       "      <td>1</td>\n",
       "      <td>1</td>\n",
       "      <td>1</td>\n",
       "      <td>1</td>\n",
       "      <td>1</td>\n",
       "      <td>1</td>\n",
       "      <td>1</td>\n",
       "      <td>1</td>\n",
       "      <td>1</td>\n",
       "    </tr>\n",
       "    <tr>\n",
       "      <th>85509</th>\n",
       "      <td>4SETTLE</td>\n",
       "      <td>799731</td>\n",
       "      <td>72423560</td>\n",
       "      <td>8083157841</td>\n",
       "      <td>13</td>\n",
       "      <td>13</td>\n",
       "      <td>13</td>\n",
       "      <td>13</td>\n",
       "      <td>13</td>\n",
       "      <td>13</td>\n",
       "      <td>...</td>\n",
       "      <td>13</td>\n",
       "      <td>13</td>\n",
       "      <td>13</td>\n",
       "      <td>13</td>\n",
       "      <td>13</td>\n",
       "      <td>13</td>\n",
       "      <td>13</td>\n",
       "      <td>13</td>\n",
       "      <td>13</td>\n",
       "      <td>13</td>\n",
       "    </tr>\n",
       "    <tr>\n",
       "      <th>85510</th>\n",
       "      <td>4SETTLE</td>\n",
       "      <td>799731</td>\n",
       "      <td>8083160219</td>\n",
       "      <td>8083160219</td>\n",
       "      <td>2</td>\n",
       "      <td>2</td>\n",
       "      <td>2</td>\n",
       "      <td>2</td>\n",
       "      <td>2</td>\n",
       "      <td>2</td>\n",
       "      <td>...</td>\n",
       "      <td>2</td>\n",
       "      <td>2</td>\n",
       "      <td>2</td>\n",
       "      <td>2</td>\n",
       "      <td>2</td>\n",
       "      <td>2</td>\n",
       "      <td>2</td>\n",
       "      <td>2</td>\n",
       "      <td>2</td>\n",
       "      <td>2</td>\n",
       "    </tr>\n",
       "    <tr>\n",
       "      <th>85511</th>\n",
       "      <td>4SETTLE</td>\n",
       "      <td>C1000-1401</td>\n",
       "      <td>8083106039</td>\n",
       "      <td>8083106039</td>\n",
       "      <td>2</td>\n",
       "      <td>2</td>\n",
       "      <td>2</td>\n",
       "      <td>2</td>\n",
       "      <td>2</td>\n",
       "      <td>2</td>\n",
       "      <td>...</td>\n",
       "      <td>2</td>\n",
       "      <td>2</td>\n",
       "      <td>2</td>\n",
       "      <td>2</td>\n",
       "      <td>2</td>\n",
       "      <td>2</td>\n",
       "      <td>2</td>\n",
       "      <td>2</td>\n",
       "      <td>2</td>\n",
       "      <td>2</td>\n",
       "    </tr>\n",
       "    <tr>\n",
       "      <th>85512</th>\n",
       "      <td>AP</td>\n",
       "      <td>-</td>\n",
       "      <td>-</td>\n",
       "      <td>-</td>\n",
       "      <td>263</td>\n",
       "      <td>263</td>\n",
       "      <td>263</td>\n",
       "      <td>263</td>\n",
       "      <td>263</td>\n",
       "      <td>263</td>\n",
       "      <td>...</td>\n",
       "      <td>263</td>\n",
       "      <td>263</td>\n",
       "      <td>263</td>\n",
       "      <td>263</td>\n",
       "      <td>263</td>\n",
       "      <td>263</td>\n",
       "      <td>263</td>\n",
       "      <td>263</td>\n",
       "      <td>263</td>\n",
       "      <td>263</td>\n",
       "    </tr>\n",
       "  </tbody>\n",
       "</table>\n",
       "<p>85513 rows × 23 columns</p>\n",
       "</div>"
      ],
      "text/plain": [
       "         ActivityType  Customer N Order Number  Delivery N  Unnamed: 0  \\\n",
       "0      1ORDERCREATION      247121     72443657  8083193769           2   \n",
       "1      1ORDERCREATION      247131     72445104           -           1   \n",
       "2      1ORDERCREATION      247131     72445104  8083189838          54   \n",
       "3      1ORDERCREATION      247131     72445104  8083207441           2   \n",
       "4      1ORDERCREATION      247140     72447139           -           1   \n",
       "...               ...         ...          ...         ...         ...   \n",
       "85508         4SETTLE      799723   8083160218  8083160218           1   \n",
       "85509         4SETTLE      799731     72423560  8083157841          13   \n",
       "85510         4SETTLE      799731   8083160219  8083160219           2   \n",
       "85511         4SETTLE  C1000-1401   8083106039  8083106039           2   \n",
       "85512              AP           -            -           -         263   \n",
       "\n",
       "       Shipment N  DocumentNo  Plant_Type  Plant_WAREHOUSE_NAME  \\\n",
       "0               2           2           2                     2   \n",
       "1               1           1           1                     1   \n",
       "2              54          54          54                    54   \n",
       "3               2           2           2                     2   \n",
       "4               1           1           1                     1   \n",
       "...           ...         ...         ...                   ...   \n",
       "85508           1           1           1                     1   \n",
       "85509          13          13          13                    13   \n",
       "85510           2           2           2                     2   \n",
       "85511           2           2           2                     2   \n",
       "85512         263         263         263                   263   \n",
       "\n",
       "       Customer Name  ...  Driver code  Driver Nam  Material No  \\\n",
       "0                  2  ...            2           2            2   \n",
       "1                  1  ...            1           1            1   \n",
       "2                 54  ...           54          54           54   \n",
       "3                  2  ...            2           2            2   \n",
       "4                  1  ...            1           1            1   \n",
       "...              ...  ...          ...         ...          ...   \n",
       "85508              1  ...            1           1            1   \n",
       "85509             13  ...           13          13           13   \n",
       "85510              2  ...            2           2            2   \n",
       "85511              2  ...            2           2            2   \n",
       "85512            263  ...          263         263          263   \n",
       "\n",
       "       Material Description  BaseDate  BaseHour  Cases  Source Channel  \\\n",
       "0                         2         2         2      2               2   \n",
       "1                         1         1         1      1               1   \n",
       "2                        54        54        54     54              54   \n",
       "3                         2         2         2      2               2   \n",
       "4                         1         1         1      1               1   \n",
       "...                     ...       ...       ...    ...             ...   \n",
       "85508                     1         1         1      1               1   \n",
       "85509                    13        13        13     13              13   \n",
       "85510                     2         2         2      2               2   \n",
       "85511                     2         2         2      2               2   \n",
       "85512                   263       263       263    263             263   \n",
       "\n",
       "       Order Category  delivery_order_check  \n",
       "0                   2                     2  \n",
       "1                   1                     1  \n",
       "2                  54                    54  \n",
       "3                   2                     2  \n",
       "4                   1                     1  \n",
       "...               ...                   ...  \n",
       "85508               1                     1  \n",
       "85509              13                    13  \n",
       "85510               2                     2  \n",
       "85511               2                     2  \n",
       "85512             263                   263  \n",
       "\n",
       "[85513 rows x 23 columns]"
      ]
     },
     "execution_count": 159,
     "metadata": {},
     "output_type": "execute_result"
    }
   ],
   "source": [
    "sap_data_1"
   ]
  },
  {
   "cell_type": "code",
   "execution_count": 160,
   "metadata": {},
   "outputs": [
    {
     "name": "stdout",
     "output_type": "stream",
     "text": [
      "<class 'pandas.core.frame.DataFrame'>\n",
      "RangeIndex: 85513 entries, 0 to 85512\n",
      "Data columns (total 23 columns):\n",
      " #   Column                Non-Null Count  Dtype \n",
      "---  ------                --------------  ----- \n",
      " 0   ActivityType          85513 non-null  object\n",
      " 1   Customer N            85513 non-null  object\n",
      " 2   Order Number          85513 non-null  object\n",
      " 3   Delivery N            85513 non-null  object\n",
      " 4   Unnamed: 0            85513 non-null  int64 \n",
      " 5   Shipment N            85513 non-null  int64 \n",
      " 6   DocumentNo            85513 non-null  int64 \n",
      " 7   Plant_Type            85513 non-null  int64 \n",
      " 8   Plant_WAREHOUSE_NAME  85513 non-null  int64 \n",
      " 9   Customer Name         85513 non-null  int64 \n",
      " 10  Billing Do            85513 non-null  int64 \n",
      " 11  Bill I                85513 non-null  int64 \n",
      " 12  Description           85513 non-null  int64 \n",
      " 13  Driver code           85513 non-null  int64 \n",
      " 14  Driver Nam            85513 non-null  int64 \n",
      " 15  Material No           85513 non-null  int64 \n",
      " 16  Material Description  85513 non-null  int64 \n",
      " 17  BaseDate              85513 non-null  int64 \n",
      " 18  BaseHour              85513 non-null  int64 \n",
      " 19  Cases                 85513 non-null  int64 \n",
      " 20  Source Channel        85513 non-null  int64 \n",
      " 21  Order Category        85513 non-null  int64 \n",
      " 22  delivery_order_check  85513 non-null  int64 \n",
      "dtypes: int64(19), object(4)\n",
      "memory usage: 15.0+ MB\n"
     ]
    }
   ],
   "source": [
    "sap_data_1.info()"
   ]
  },
  {
   "cell_type": "code",
   "execution_count": 161,
   "metadata": {},
   "outputs": [
    {
     "data": {
      "text/plain": [
       "44532"
      ]
     },
     "execution_count": 161,
     "metadata": {},
     "output_type": "execute_result"
    }
   ],
   "source": [
    "len(sap_data['Order Number'].unique())"
   ]
  },
  {
   "cell_type": "code",
   "execution_count": 162,
   "metadata": {},
   "outputs": [],
   "source": [
    "#sap_data_1.rename(columns={0:'A'}, inplace=True)"
   ]
  },
  {
   "cell_type": "code",
   "execution_count": 163,
   "metadata": {},
   "outputs": [],
   "source": [
    "sap_data_1.drop(columns={'Unnamed: 0','BaseHour', 'Cases'}, inplace=True, axis=1)"
   ]
  },
  {
   "cell_type": "code",
   "execution_count": 164,
   "metadata": {},
   "outputs": [
    {
     "data": {
      "text/plain": [
       "57079"
      ]
     },
     "execution_count": 164,
     "metadata": {},
     "output_type": "execute_result"
    }
   ],
   "source": [
    "len(sap_data_1['Delivery N'].unique())"
   ]
  },
  {
   "cell_type": "markdown",
   "metadata": {},
   "source": []
  },
  {
   "cell_type": "code",
   "execution_count": 165,
   "metadata": {},
   "outputs": [],
   "source": [
    "sap_data_1.drop_duplicates(subset=['Delivery N', 'Order Number'],keep='first',inplace=True)"
   ]
  },
  {
   "cell_type": "code",
   "execution_count": 166,
   "metadata": {},
   "outputs": [
    {
     "data": {
      "text/html": [
       "<div>\n",
       "<style scoped>\n",
       "    .dataframe tbody tr th:only-of-type {\n",
       "        vertical-align: middle;\n",
       "    }\n",
       "\n",
       "    .dataframe tbody tr th {\n",
       "        vertical-align: top;\n",
       "    }\n",
       "\n",
       "    .dataframe thead th {\n",
       "        text-align: right;\n",
       "    }\n",
       "</style>\n",
       "<table border=\"1\" class=\"dataframe\">\n",
       "  <thead>\n",
       "    <tr style=\"text-align: right;\">\n",
       "      <th></th>\n",
       "      <th>Unnamed: 0</th>\n",
       "      <th>ActivityType</th>\n",
       "      <th>Order Number</th>\n",
       "      <th>Shipment N</th>\n",
       "      <th>Delivery N</th>\n",
       "      <th>DocumentNo</th>\n",
       "      <th>Plant_Type</th>\n",
       "      <th>Plant_WAREHOUSE_NAME</th>\n",
       "      <th>Customer N</th>\n",
       "      <th>Customer Name</th>\n",
       "      <th>...</th>\n",
       "      <th>Driver code</th>\n",
       "      <th>Driver Nam</th>\n",
       "      <th>Material No</th>\n",
       "      <th>Material Description</th>\n",
       "      <th>BaseDate</th>\n",
       "      <th>BaseHour</th>\n",
       "      <th>Cases</th>\n",
       "      <th>Source Channel</th>\n",
       "      <th>Order Category</th>\n",
       "      <th>delivery_order_check</th>\n",
       "    </tr>\n",
       "  </thead>\n",
       "  <tbody>\n",
       "    <tr>\n",
       "      <th>0</th>\n",
       "      <td>0</td>\n",
       "      <td>1ORDERCREATION</td>\n",
       "      <td>72441313</td>\n",
       "      <td>12704891</td>\n",
       "      <td>8083169544</td>\n",
       "      <td>-</td>\n",
       "      <td>LDP</td>\n",
       "      <td>LDP Acornhoek</td>\n",
       "      <td>247489</td>\n",
       "      <td>CHICKEN LICKEN ACORNHOEK MALL</td>\n",
       "      <td>...</td>\n",
       "      <td>-</td>\n",
       "      <td>-</td>\n",
       "      <td>C6207</td>\n",
       "      <td>FANTA ORANGE 01X24 440 PET</td>\n",
       "      <td>2021-12-15</td>\n",
       "      <td>11</td>\n",
       "      <td>0</td>\n",
       "      <td>Voice in</td>\n",
       "      <td>Sales Local</td>\n",
       "      <td>False</td>\n",
       "    </tr>\n",
       "    <tr>\n",
       "      <th>7</th>\n",
       "      <td>7</td>\n",
       "      <td>1ORDERCREATION</td>\n",
       "      <td>72443937</td>\n",
       "      <td>-</td>\n",
       "      <td>-</td>\n",
       "      <td>-</td>\n",
       "      <td>LDP</td>\n",
       "      <td>LDP Acornhoek</td>\n",
       "      <td>251521</td>\n",
       "      <td>SHOPRITE LIQUOR ACORNHOEK PLAZA</td>\n",
       "      <td>...</td>\n",
       "      <td>-</td>\n",
       "      <td>-</td>\n",
       "      <td>C1481</td>\n",
       "      <td>COKE NO SUGAR 01X24 500 SHR</td>\n",
       "      <td>2021-12-15</td>\n",
       "      <td>12</td>\n",
       "      <td>0</td>\n",
       "      <td>Voice in</td>\n",
       "      <td>Sales Local</td>\n",
       "      <td>False</td>\n",
       "    </tr>\n",
       "    <tr>\n",
       "      <th>41</th>\n",
       "      <td>41</td>\n",
       "      <td>1ORDERCREATION</td>\n",
       "      <td>72451646</td>\n",
       "      <td>12706815</td>\n",
       "      <td>8083188790</td>\n",
       "      <td>-</td>\n",
       "      <td>LDP</td>\n",
       "      <td>LDP Acornhoek</td>\n",
       "      <td>257264</td>\n",
       "      <td>CROSSROAD TUCK SHOP</td>\n",
       "      <td>...</td>\n",
       "      <td>-</td>\n",
       "      <td>-</td>\n",
       "      <td>C1040</td>\n",
       "      <td>COKE 01X06 2000 SHR</td>\n",
       "      <td>2021-12-15</td>\n",
       "      <td>17</td>\n",
       "      <td>0</td>\n",
       "      <td>SFA</td>\n",
       "      <td>Sales Local</td>\n",
       "      <td>False</td>\n",
       "    </tr>\n",
       "    <tr>\n",
       "      <th>50</th>\n",
       "      <td>50</td>\n",
       "      <td>1ORDERCREATION</td>\n",
       "      <td>72437580</td>\n",
       "      <td>12704891</td>\n",
       "      <td>8083169537</td>\n",
       "      <td>-</td>\n",
       "      <td>LDP</td>\n",
       "      <td>LDP Acornhoek</td>\n",
       "      <td>257635</td>\n",
       "      <td>GALITO'S ACORNHOEK</td>\n",
       "      <td>...</td>\n",
       "      <td>-</td>\n",
       "      <td>-</td>\n",
       "      <td>C1040</td>\n",
       "      <td>COKE 01X06 2000 SHR</td>\n",
       "      <td>2021-12-15</td>\n",
       "      <td>9</td>\n",
       "      <td>0</td>\n",
       "      <td>Voice in</td>\n",
       "      <td>Sales Local</td>\n",
       "      <td>False</td>\n",
       "    </tr>\n",
       "    <tr>\n",
       "      <th>56</th>\n",
       "      <td>56</td>\n",
       "      <td>1ORDERCREATION</td>\n",
       "      <td>72437580</td>\n",
       "      <td>12704891</td>\n",
       "      <td>8083191502</td>\n",
       "      <td>-</td>\n",
       "      <td>LDP</td>\n",
       "      <td>LDP Acornhoek</td>\n",
       "      <td>257635</td>\n",
       "      <td>GALITO'S ACORNHOEK</td>\n",
       "      <td>...</td>\n",
       "      <td>-</td>\n",
       "      <td>-</td>\n",
       "      <td>C6571</td>\n",
       "      <td>CAPPY MAN OR ST 04X06 330ML CAN</td>\n",
       "      <td>2021-12-15</td>\n",
       "      <td>9</td>\n",
       "      <td>0</td>\n",
       "      <td>Voice in</td>\n",
       "      <td>Sales Local</td>\n",
       "      <td>False</td>\n",
       "    </tr>\n",
       "    <tr>\n",
       "      <th>...</th>\n",
       "      <td>...</td>\n",
       "      <td>...</td>\n",
       "      <td>...</td>\n",
       "      <td>...</td>\n",
       "      <td>...</td>\n",
       "      <td>...</td>\n",
       "      <td>...</td>\n",
       "      <td>...</td>\n",
       "      <td>...</td>\n",
       "      <td>...</td>\n",
       "      <td>...</td>\n",
       "      <td>...</td>\n",
       "      <td>...</td>\n",
       "      <td>...</td>\n",
       "      <td>...</td>\n",
       "      <td>...</td>\n",
       "      <td>...</td>\n",
       "      <td>...</td>\n",
       "      <td>...</td>\n",
       "      <td>...</td>\n",
       "      <td>...</td>\n",
       "    </tr>\n",
       "    <tr>\n",
       "      <th>918337</th>\n",
       "      <td>918338</td>\n",
       "      <td>4SETTLE</td>\n",
       "      <td>72430257</td>\n",
       "      <td>12702338</td>\n",
       "      <td>8083143873</td>\n",
       "      <td>-</td>\n",
       "      <td>LDP</td>\n",
       "      <td>MLP DSD Benrose</td>\n",
       "      <td>1113527</td>\n",
       "      <td>LOWCOST STORE</td>\n",
       "      <td>...</td>\n",
       "      <td>831452</td>\n",
       "      <td>1214 HC KA</td>\n",
       "      <td>C10194</td>\n",
       "      <td>STONEY 01X12 1250 RGBPL</td>\n",
       "      <td>2021-12-15</td>\n",
       "      <td>19</td>\n",
       "      <td>2</td>\n",
       "      <td>Voice in</td>\n",
       "      <td>Sales Local</td>\n",
       "      <td>False</td>\n",
       "    </tr>\n",
       "    <tr>\n",
       "      <th>918344</th>\n",
       "      <td>918345</td>\n",
       "      <td>4SETTLE</td>\n",
       "      <td>72429287</td>\n",
       "      <td>12702566</td>\n",
       "      <td>8083148469</td>\n",
       "      <td>-</td>\n",
       "      <td>LDP</td>\n",
       "      <td>MLP DSD Centurion</td>\n",
       "      <td>1514102</td>\n",
       "      <td>ENGEN QS CORNWALL VIEW</td>\n",
       "      <td>...</td>\n",
       "      <td>833232</td>\n",
       "      <td>1106 LDP F</td>\n",
       "      <td>C7516</td>\n",
       "      <td>FUZE LEMON 04X06 500 PET</td>\n",
       "      <td>2021-12-15</td>\n",
       "      <td>19</td>\n",
       "      <td>0</td>\n",
       "      <td>Voice in</td>\n",
       "      <td>Sales Local</td>\n",
       "      <td>False</td>\n",
       "    </tr>\n",
       "    <tr>\n",
       "      <th>918345</th>\n",
       "      <td>918346</td>\n",
       "      <td>4SETTLE</td>\n",
       "      <td>72429313</td>\n",
       "      <td>12702567</td>\n",
       "      <td>8083148468</td>\n",
       "      <td>-</td>\n",
       "      <td>LDP</td>\n",
       "      <td>MLP DSD Centurion</td>\n",
       "      <td>1515852</td>\n",
       "      <td>ENGEN QS GARSTKLOOF</td>\n",
       "      <td>...</td>\n",
       "      <td>832464</td>\n",
       "      <td>1106 HC KP</td>\n",
       "      <td>C7516</td>\n",
       "      <td>FUZE LEMON 04X06 500 PET</td>\n",
       "      <td>2021-12-15</td>\n",
       "      <td>20</td>\n",
       "      <td>0</td>\n",
       "      <td>Voice in</td>\n",
       "      <td>Sales Local</td>\n",
       "      <td>False</td>\n",
       "    </tr>\n",
       "    <tr>\n",
       "      <th>918346</th>\n",
       "      <td>918347</td>\n",
       "      <td>4SETTLE</td>\n",
       "      <td>72429019</td>\n",
       "      <td>12702338</td>\n",
       "      <td>8083141683</td>\n",
       "      <td>-</td>\n",
       "      <td>LDP</td>\n",
       "      <td>MLP DSD Benrose</td>\n",
       "      <td>773612</td>\n",
       "      <td>BRAAMFONTEIN SUPERMARKET</td>\n",
       "      <td>...</td>\n",
       "      <td>831452</td>\n",
       "      <td>1214 HC KA</td>\n",
       "      <td>C4307</td>\n",
       "      <td>BONAQUA PUMP STL 04X06 750 PET</td>\n",
       "      <td>2021-12-15</td>\n",
       "      <td>19</td>\n",
       "      <td>1</td>\n",
       "      <td>Voice in</td>\n",
       "      <td>Sales Local</td>\n",
       "      <td>False</td>\n",
       "    </tr>\n",
       "    <tr>\n",
       "      <th>918378</th>\n",
       "      <td>918379</td>\n",
       "      <td>4SETTLE</td>\n",
       "      <td>72425889</td>\n",
       "      <td>12702051</td>\n",
       "      <td>8083143943</td>\n",
       "      <td>-</td>\n",
       "      <td>Depot</td>\n",
       "      <td>External WH (Phoenix)</td>\n",
       "      <td>418695</td>\n",
       "      <td>BOXER SS LIQUOR NQUTU KO</td>\n",
       "      <td>...</td>\n",
       "      <td>833241</td>\n",
       "      <td>1401 HC VB</td>\n",
       "      <td>C7534</td>\n",
       "      <td>APPLETISER 01X12 1250 PT</td>\n",
       "      <td>2021-12-15</td>\n",
       "      <td>17</td>\n",
       "      <td>0</td>\n",
       "      <td>Voice in</td>\n",
       "      <td>Sales Local</td>\n",
       "      <td>False</td>\n",
       "    </tr>\n",
       "  </tbody>\n",
       "</table>\n",
       "<p>45721 rows × 23 columns</p>\n",
       "</div>"
      ],
      "text/plain": [
       "        Unnamed: 0    ActivityType Order Number Shipment N  Delivery N  \\\n",
       "0                0  1ORDERCREATION     72441313   12704891  8083169544   \n",
       "7                7  1ORDERCREATION     72443937          -           -   \n",
       "41              41  1ORDERCREATION     72451646   12706815  8083188790   \n",
       "50              50  1ORDERCREATION     72437580   12704891  8083169537   \n",
       "56              56  1ORDERCREATION     72437580   12704891  8083191502   \n",
       "...            ...             ...          ...        ...         ...   \n",
       "918337      918338         4SETTLE     72430257   12702338  8083143873   \n",
       "918344      918345         4SETTLE     72429287   12702566  8083148469   \n",
       "918345      918346         4SETTLE     72429313   12702567  8083148468   \n",
       "918346      918347         4SETTLE     72429019   12702338  8083141683   \n",
       "918378      918379         4SETTLE     72425889   12702051  8083143943   \n",
       "\n",
       "       DocumentNo Plant_Type   Plant_WAREHOUSE_NAME Customer N  \\\n",
       "0               -        LDP          LDP Acornhoek     247489   \n",
       "7               -        LDP          LDP Acornhoek     251521   \n",
       "41              -        LDP          LDP Acornhoek     257264   \n",
       "50              -        LDP          LDP Acornhoek     257635   \n",
       "56              -        LDP          LDP Acornhoek     257635   \n",
       "...           ...        ...                    ...        ...   \n",
       "918337          -        LDP        MLP DSD Benrose    1113527   \n",
       "918344          -        LDP      MLP DSD Centurion    1514102   \n",
       "918345          -        LDP      MLP DSD Centurion    1515852   \n",
       "918346          -        LDP        MLP DSD Benrose     773612   \n",
       "918378          -      Depot  External WH (Phoenix)     418695   \n",
       "\n",
       "                          Customer Name  ... Driver code  Driver Nam  \\\n",
       "0         CHICKEN LICKEN ACORNHOEK MALL  ...           -           -   \n",
       "7       SHOPRITE LIQUOR ACORNHOEK PLAZA  ...           -           -   \n",
       "41                  CROSSROAD TUCK SHOP  ...           -           -   \n",
       "50                   GALITO'S ACORNHOEK  ...           -           -   \n",
       "56                   GALITO'S ACORNHOEK  ...           -           -   \n",
       "...                                 ...  ...         ...         ...   \n",
       "918337                    LOWCOST STORE  ...      831452  1214 HC KA   \n",
       "918344           ENGEN QS CORNWALL VIEW  ...      833232  1106 LDP F   \n",
       "918345              ENGEN QS GARSTKLOOF  ...      832464  1106 HC KP   \n",
       "918346         BRAAMFONTEIN SUPERMARKET  ...      831452  1214 HC KA   \n",
       "918378         BOXER SS LIQUOR NQUTU KO  ...      833241  1401 HC VB   \n",
       "\n",
       "       Material No             Material Description   BaseDate BaseHour Cases  \\\n",
       "0            C6207       FANTA ORANGE 01X24 440 PET 2021-12-15       11     0   \n",
       "7            C1481      COKE NO SUGAR 01X24 500 SHR 2021-12-15       12     0   \n",
       "41           C1040              COKE 01X06 2000 SHR 2021-12-15       17     0   \n",
       "50           C1040              COKE 01X06 2000 SHR 2021-12-15        9     0   \n",
       "56           C6571  CAPPY MAN OR ST 04X06 330ML CAN 2021-12-15        9     0   \n",
       "...            ...                              ...        ...      ...   ...   \n",
       "918337      C10194          STONEY 01X12 1250 RGBPL 2021-12-15       19     2   \n",
       "918344       C7516         FUZE LEMON 04X06 500 PET 2021-12-15       19     0   \n",
       "918345       C7516         FUZE LEMON 04X06 500 PET 2021-12-15       20     0   \n",
       "918346       C4307   BONAQUA PUMP STL 04X06 750 PET 2021-12-15       19     1   \n",
       "918378       C7534         APPLETISER 01X12 1250 PT 2021-12-15       17     0   \n",
       "\n",
       "       Source Channel  Order Category  delivery_order_check  \n",
       "0            Voice in     Sales Local                 False  \n",
       "7            Voice in     Sales Local                 False  \n",
       "41                SFA     Sales Local                 False  \n",
       "50           Voice in     Sales Local                 False  \n",
       "56           Voice in     Sales Local                 False  \n",
       "...               ...             ...                   ...  \n",
       "918337       Voice in     Sales Local                 False  \n",
       "918344       Voice in     Sales Local                 False  \n",
       "918345       Voice in     Sales Local                 False  \n",
       "918346       Voice in     Sales Local                 False  \n",
       "918378       Voice in     Sales Local                 False  \n",
       "\n",
       "[45721 rows x 23 columns]"
      ]
     },
     "execution_count": 166,
     "metadata": {},
     "output_type": "execute_result"
    }
   ],
   "source": [
    "sap_data2"
   ]
  },
  {
   "cell_type": "code",
   "execution_count": 167,
   "metadata": {},
   "outputs": [],
   "source": [
    "sap_data2.to_csv('data/delivery_numbers.csv')"
   ]
  },
  {
   "cell_type": "code",
   "execution_count": 168,
   "metadata": {},
   "outputs": [
    {
     "name": "stdout",
     "output_type": "stream",
     "text": [
      "         ActivityType  Customer N Order Number  Delivery N  Shipment N  \\\n",
      "0      1ORDERCREATION      247121     72443657  8083193769           2   \n",
      "1      1ORDERCREATION      247131     72445104           -           1   \n",
      "2      1ORDERCREATION      247131     72445104  8083189838          54   \n",
      "3      1ORDERCREATION      247131     72445104  8083207441           2   \n",
      "4      1ORDERCREATION      247140     72447139           -           1   \n",
      "...               ...         ...          ...         ...         ...   \n",
      "85498         4SETTLE      796686    855215821   855215821           1   \n",
      "85499         4SETTLE      796747   8083129716  8083129716           1   \n",
      "85503         4SETTLE      799392     72418717  8083137971           1   \n",
      "85511         4SETTLE  C1000-1401   8083106039  8083106039           2   \n",
      "85512              AP           -            -           -         263   \n",
      "\n",
      "       DocumentNo  Plant_Type  Plant_WAREHOUSE_NAME  Customer Name  \\\n",
      "0               2           2                     2              2   \n",
      "1               1           1                     1              1   \n",
      "2              54          54                    54             54   \n",
      "3               2           2                     2              2   \n",
      "4               1           1                     1              1   \n",
      "...           ...         ...                   ...            ...   \n",
      "85498           1           1                     1              1   \n",
      "85499           1           1                     1              1   \n",
      "85503           1           1                     1              1   \n",
      "85511           2           2                     2              2   \n",
      "85512         263         263                   263            263   \n",
      "\n",
      "       Billing Do  Bill I  Description  Driver code  Driver Nam  Material No  \\\n",
      "0               2       2            2            2           2            2   \n",
      "1               1       1            1            1           1            1   \n",
      "2              54      54           54           54          54           54   \n",
      "3               2       2            2            2           2            2   \n",
      "4               1       1            1            1           1            1   \n",
      "...           ...     ...          ...          ...         ...          ...   \n",
      "85498           1       1            1            1           1            1   \n",
      "85499           1       1            1            1           1            1   \n",
      "85503           1       1            1            1           1            1   \n",
      "85511           2       2            2            2           2            2   \n",
      "85512         263     263          263          263         263          263   \n",
      "\n",
      "       Material Description  BaseDate  Source Channel  Order Category  \\\n",
      "0                         2         2               2               2   \n",
      "1                         1         1               1               1   \n",
      "2                        54        54              54              54   \n",
      "3                         2         2               2               2   \n",
      "4                         1         1               1               1   \n",
      "...                     ...       ...             ...             ...   \n",
      "85498                     1         1               1               1   \n",
      "85499                     1         1               1               1   \n",
      "85503                     1         1               1               1   \n",
      "85511                     2         2               2               2   \n",
      "85512                   263       263             263             263   \n",
      "\n",
      "       delivery_order_check  \n",
      "0                         2  \n",
      "1                         1  \n",
      "2                        54  \n",
      "3                         2  \n",
      "4                         1  \n",
      "...                     ...  \n",
      "85498                     1  \n",
      "85499                     1  \n",
      "85503                     1  \n",
      "85511                     2  \n",
      "85512                   263  \n",
      "\n",
      "[60972 rows x 20 columns]\n"
     ]
    }
   ],
   "source": [
    "print(sap_data_1)"
   ]
  }
 ],
 "metadata": {
  "kernelspec": {
   "display_name": "Python 3",
   "language": "python",
   "name": "python3"
  },
  "language_info": {
   "codemirror_mode": {
    "name": "ipython",
    "version": 3
   },
   "file_extension": ".py",
   "mimetype": "text/x-python",
   "name": "python",
   "nbconvert_exporter": "python",
   "pygments_lexer": "ipython3",
   "version": "3.8.10"
  },
  "orig_nbformat": 4,
  "vscode": {
   "interpreter": {
    "hash": "916dbcbb3f70747c44a77c7bcd40155683ae19c65e1c03b4aa3499c5328201f1"
   }
  }
 },
 "nbformat": 4,
 "nbformat_minor": 2
}
