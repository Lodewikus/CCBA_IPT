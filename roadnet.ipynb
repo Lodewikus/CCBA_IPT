{
 "cells": [
  {
   "cell_type": "code",
   "execution_count": 148,
   "metadata": {},
   "outputs": [],
   "source": [
    "import json\n",
    "import numpy as np\n",
    "import pandas as pd\n",
    "import lxml\n",
    "import re\n",
    "import os\n",
    "from datetime import datetime"
   ]
  },
  {
   "attachments": {},
   "cell_type": "markdown",
   "metadata": {},
   "source": [
    "### Clean up temporary folders"
   ]
  },
  {
   "cell_type": "code",
   "execution_count": 149,
   "metadata": {},
   "outputs": [],
   "source": [
    "# Set filenames\n",
    "consolidated_roadnet_out_file = 'data/roadnet/xml_consolidated/consolidated_roadnet_out.xml'\n",
    "roadnet_inbound_file = 'data/roadnet/inbound/rdnet_in.csv'"
   ]
  },
  {
   "cell_type": "code",
   "execution_count": 150,
   "metadata": {},
   "outputs": [
    {
     "name": "stdout",
     "output_type": "stream",
     "text": [
      "data/roadnet/xml_consolidated/consolidated_roadnet_out.xml not in folder\n",
      "data/roadnet/inbound/rdnet_in.csv not in folder\n"
     ]
    }
   ],
   "source": [
    "try:\n",
    "    os.remove(consolidated_roadnet_out_file)\n",
    "except:\n",
    "    print(consolidated_roadnet_out_file + ' not in folder')\n",
    "\n",
    "try:\n",
    "    os.remove(roadnet_inbound_file)\n",
    "except:\n",
    "    print(roadnet_inbound_file + ' not in folder')    "
   ]
  },
  {
   "cell_type": "code",
   "execution_count": 151,
   "metadata": {},
   "outputs": [],
   "source": [
    "# Clean up the xml_prep folder\n",
    "path = \"data/roadnet/xml_prep/\"\n",
    "dir_list = os.listdir(path)\n",
    "\n",
    "for i in range(0,len(dir_list)):\n",
    "    xml_file = path+dir_list[i]\n",
    "    os.remove(xml_file)\n",
    "\n",
    "# Clean up the xml_consolidated folder\n",
    "path = \"data/roadnet/xml_consolidated/\"\n",
    "dir_list = os.listdir(path)\n",
    "\n",
    "for i in range(0,len(dir_list)):\n",
    "    xml_file = path+dir_list[i]\n",
    "    os.remove(xml_file)    "
   ]
  },
  {
   "attachments": {},
   "cell_type": "markdown",
   "metadata": {},
   "source": [
    "### Convert D365 XML outbound files from a single line (with no newlines) to multiple lines by inserting a newline after evert '>' character\n",
    "- Store the resulting files in the /xml_prep/ folder"
   ]
  },
  {
   "cell_type": "code",
   "execution_count": 152,
   "metadata": {},
   "outputs": [
    {
     "name": "stdout",
     "output_type": "stream",
     "text": [
      "Files and directories in ' data/roadnet/xml_outbound/ ' :\n",
      "['INT_LEW002_SendDataToRoadnet_EXP-Roadnet session composite entity. (16).xml', 'INT_LEW002_SendDataToRoadnet_EXP-Roadnet session composite entity. (15).xml', 'INT_LEW002_SendDataToRoadnet_EXP-Roadnet session composite entity. (20).xml', 'INT_LEW002_SendDataToRoadnet_EXP-Roadnet session composite entity. (54).xml', 'INT_LEW002_SendDataToRoadnet_EXP-Roadnet session composite entity. (17).xml', 'INT_LEW002_SendDataToRoadnet_EXP-Roadnet session composite entity. (26).xml', 'INT_LEW002_SendDataToRoadnet_EXP-Roadnet session composite entity. (19).xml', 'INT_LEW002_SendDataToRoadnet_EXP-Roadnet session composite entity. (55).xml', 'INT_LEW002_SendDataToRoadnet_EXP-Roadnet session composite entity. (41).xml', 'INT_LEW002_SendDataToRoadnet_EXP-Roadnet session composite entity. (39).xml', 'INT_LEW002_SendDataToRoadnet_EXP-Roadnet session composite entity. (56).xml', 'INT_LEW002_SendDataToRoadnet_EXP-Roadnet session composite entity. (58).xml', 'INT_LEW002_SendDataToRoadnet_EXP-Roadnet session composite entity. (33).xml', 'INT_LEW002_SendDataToRoadnet_EXP-Roadnet session composite entity. (48).xml', 'INT_LEW002_SendDataToRoadnet_EXP-Roadnet session composite entity. (23).xml', 'INT_LEW002_SendDataToRoadnet_EXP-Roadnet session composite entity. (49).xml', 'INT_LEW002_SendDataToRoadnet_EXP-Roadnet session composite entity. (51).xml', 'INT_LEW002_SendDataToRoadnet_EXP-Roadnet session composite entity. (30).xml', 'INT_LEW002_SendDataToRoadnet_EXP-Roadnet session composite entity. (31).xml', 'INT_LEW002_SendDataToRoadnet_EXP-Roadnet session composite entity. (47).xml', 'INT_LEW002_SendDataToRoadnet_EXP-Roadnet session composite entity. (43).xml', 'INT_LEW002_SendDataToRoadnet_EXP-Roadnet session composite entity. (29).xml', 'INT_LEW002_SendDataToRoadnet_EXP-Roadnet session composite entity. (37).xml', 'INT_LEW002_SendDataToRoadnet_EXP-Roadnet session composite entity. (50).xml', 'INT_LEW002_SendDataToRoadnet_EXP-Roadnet session composite entity. (14).xml', 'INT_LEW002_SendDataToRoadnet_EXP-Roadnet session composite entity. (45).xml', 'INT_LEW002_SendDataToRoadnet_EXP-Roadnet session composite entity. (36).xml', 'INT_LEW002_SendDataToRoadnet_EXP-Roadnet session composite entity. (24).xml', 'INT_LEW002_SendDataToRoadnet_EXP-Roadnet session composite entity. (35).xml', 'INT_LEW002_SendDataToRoadnet_EXP-Roadnet session composite entity. (21).xml', 'INT_LEW002_SendDataToRoadnet_EXP-Roadnet session composite entity. (40).xml', 'INT_LEW002_SendDataToRoadnet_EXP-Roadnet session composite entity. (60).xml', 'INT_LEW002_SendDataToRoadnet_EXP-Roadnet session composite entity. (53).xml', 'INT_LEW002_SendDataToRoadnet_EXP-Roadnet session composite entity. (32).xml', 'INT_LEW002_SendDataToRoadnet_EXP-Roadnet session composite entity. (44).xml', 'INT_LEW002_SendDataToRoadnet_EXP-Roadnet session composite entity. (42).xml', 'INT_LEW002_SendDataToRoadnet_EXP-Roadnet session composite entity. (61).xml', 'INT_LEW002_SendDataToRoadnet_EXP-Roadnet session composite entity. (22).xml', 'INT_LEW002_SendDataToRoadnet_EXP-Roadnet session composite entity. (25).xml', 'INT_LEW002_SendDataToRoadnet_EXP-Roadnet session composite entity. (34).xml', 'INT_LEW002_SendDataToRoadnet_EXP-Roadnet session composite entity. (52).xml', 'INT_LEW002_SendDataToRoadnet_EXP-Roadnet session composite entity. (27).xml', 'INT_LEW002_SendDataToRoadnet_EXP-Roadnet session composite entity. (38).xml', 'INT_LEW002_SendDataToRoadnet_EXP-Roadnet session composite entity. (13).xml', 'INT_LEW002_SendDataToRoadnet_EXP-Roadnet session composite entity. (57).xml', 'INT_LEW002_SendDataToRoadnet_EXP-Roadnet session composite entity. (18).xml', 'INT_LEW002_SendDataToRoadnet_EXP-Roadnet session composite entity. (46).xml', 'INT_LEW002_SendDataToRoadnet_EXP-Roadnet session composite entity. (59).xml', 'INT_LEW002_SendDataToRoadnet_EXP-Roadnet session composite entity. (28).xml']\n"
     ]
    }
   ],
   "source": [
    "# Get the list of all files and directories\n",
    "path = \"data/roadnet/xml_outbound/\"\n",
    "dir_list = os.listdir(path)\n",
    "\n",
    "print(\"Files and directories in '\", path, \"' :\")\n",
    "\n",
    "# prints all files\n",
    "print(dir_list)"
   ]
  },
  {
   "cell_type": "code",
   "execution_count": 153,
   "metadata": {},
   "outputs": [],
   "source": [
    "def xml_to_multiple_lines(fname, fnum):\n",
    "\n",
    "    with open(fname, 'r') as fr:\n",
    "        # reading line by line\n",
    "        lines = fr.readlines()\n",
    "        last_line = len(lines)\n",
    "        print(last_line)\n",
    "\n",
    "    for line in lines:\n",
    "        replaced_line = re.sub(\">\", \">\\u000A\", line)\n",
    "\n",
    "    outfile = 'data/roadnet/xml_prep/f'+str(fnum)+'.xml'\n",
    "\n",
    "    with open(outfile, 'w') as fw:\n",
    "        fw.write(replaced_line)    \n",
    "\n",
    "    return"
   ]
  },
  {
   "cell_type": "code",
   "execution_count": 154,
   "metadata": {},
   "outputs": [
    {
     "name": "stdout",
     "output_type": "stream",
     "text": [
      "data/roadnet/xml_outbound/INT_LEW002_SendDataToRoadnet_EXP-Roadnet session composite entity. (16).xml\n",
      "1\n",
      "data/roadnet/xml_outbound/INT_LEW002_SendDataToRoadnet_EXP-Roadnet session composite entity. (15).xml\n",
      "1\n",
      "data/roadnet/xml_outbound/INT_LEW002_SendDataToRoadnet_EXP-Roadnet session composite entity. (20).xml\n",
      "1\n",
      "data/roadnet/xml_outbound/INT_LEW002_SendDataToRoadnet_EXP-Roadnet session composite entity. (54).xml\n",
      "1\n",
      "data/roadnet/xml_outbound/INT_LEW002_SendDataToRoadnet_EXP-Roadnet session composite entity. (17).xml\n",
      "1\n",
      "data/roadnet/xml_outbound/INT_LEW002_SendDataToRoadnet_EXP-Roadnet session composite entity. (26).xml\n",
      "1\n",
      "data/roadnet/xml_outbound/INT_LEW002_SendDataToRoadnet_EXP-Roadnet session composite entity. (19).xml\n",
      "1\n",
      "data/roadnet/xml_outbound/INT_LEW002_SendDataToRoadnet_EXP-Roadnet session composite entity. (55).xml\n",
      "1\n",
      "data/roadnet/xml_outbound/INT_LEW002_SendDataToRoadnet_EXP-Roadnet session composite entity. (41).xml\n",
      "1\n",
      "data/roadnet/xml_outbound/INT_LEW002_SendDataToRoadnet_EXP-Roadnet session composite entity. (39).xml\n",
      "1\n",
      "data/roadnet/xml_outbound/INT_LEW002_SendDataToRoadnet_EXP-Roadnet session composite entity. (56).xml\n",
      "1\n",
      "data/roadnet/xml_outbound/INT_LEW002_SendDataToRoadnet_EXP-Roadnet session composite entity. (58).xml\n",
      "1\n",
      "data/roadnet/xml_outbound/INT_LEW002_SendDataToRoadnet_EXP-Roadnet session composite entity. (33).xml\n",
      "1\n",
      "data/roadnet/xml_outbound/INT_LEW002_SendDataToRoadnet_EXP-Roadnet session composite entity. (48).xml\n",
      "1\n",
      "data/roadnet/xml_outbound/INT_LEW002_SendDataToRoadnet_EXP-Roadnet session composite entity. (23).xml\n",
      "1\n",
      "data/roadnet/xml_outbound/INT_LEW002_SendDataToRoadnet_EXP-Roadnet session composite entity. (49).xml\n",
      "1\n",
      "data/roadnet/xml_outbound/INT_LEW002_SendDataToRoadnet_EXP-Roadnet session composite entity. (51).xml\n",
      "1\n",
      "data/roadnet/xml_outbound/INT_LEW002_SendDataToRoadnet_EXP-Roadnet session composite entity. (30).xml\n",
      "1\n",
      "data/roadnet/xml_outbound/INT_LEW002_SendDataToRoadnet_EXP-Roadnet session composite entity. (31).xml\n",
      "1\n",
      "data/roadnet/xml_outbound/INT_LEW002_SendDataToRoadnet_EXP-Roadnet session composite entity. (47).xml\n",
      "1\n",
      "data/roadnet/xml_outbound/INT_LEW002_SendDataToRoadnet_EXP-Roadnet session composite entity. (43).xml\n",
      "1\n",
      "data/roadnet/xml_outbound/INT_LEW002_SendDataToRoadnet_EXP-Roadnet session composite entity. (29).xml\n",
      "1\n",
      "data/roadnet/xml_outbound/INT_LEW002_SendDataToRoadnet_EXP-Roadnet session composite entity. (37).xml\n",
      "1\n",
      "data/roadnet/xml_outbound/INT_LEW002_SendDataToRoadnet_EXP-Roadnet session composite entity. (50).xml\n",
      "1\n",
      "data/roadnet/xml_outbound/INT_LEW002_SendDataToRoadnet_EXP-Roadnet session composite entity. (14).xml\n",
      "1\n",
      "data/roadnet/xml_outbound/INT_LEW002_SendDataToRoadnet_EXP-Roadnet session composite entity. (45).xml\n",
      "1\n",
      "data/roadnet/xml_outbound/INT_LEW002_SendDataToRoadnet_EXP-Roadnet session composite entity. (36).xml\n",
      "1\n",
      "data/roadnet/xml_outbound/INT_LEW002_SendDataToRoadnet_EXP-Roadnet session composite entity. (24).xml\n",
      "1\n",
      "data/roadnet/xml_outbound/INT_LEW002_SendDataToRoadnet_EXP-Roadnet session composite entity. (35).xml\n",
      "1\n",
      "data/roadnet/xml_outbound/INT_LEW002_SendDataToRoadnet_EXP-Roadnet session composite entity. (21).xml\n",
      "1\n",
      "data/roadnet/xml_outbound/INT_LEW002_SendDataToRoadnet_EXP-Roadnet session composite entity. (40).xml\n",
      "1\n",
      "data/roadnet/xml_outbound/INT_LEW002_SendDataToRoadnet_EXP-Roadnet session composite entity. (60).xml\n",
      "1\n",
      "data/roadnet/xml_outbound/INT_LEW002_SendDataToRoadnet_EXP-Roadnet session composite entity. (53).xml\n",
      "1\n",
      "data/roadnet/xml_outbound/INT_LEW002_SendDataToRoadnet_EXP-Roadnet session composite entity. (32).xml\n",
      "1\n",
      "data/roadnet/xml_outbound/INT_LEW002_SendDataToRoadnet_EXP-Roadnet session composite entity. (44).xml\n",
      "1\n",
      "data/roadnet/xml_outbound/INT_LEW002_SendDataToRoadnet_EXP-Roadnet session composite entity. (42).xml\n",
      "1\n",
      "data/roadnet/xml_outbound/INT_LEW002_SendDataToRoadnet_EXP-Roadnet session composite entity. (61).xml\n",
      "1\n",
      "data/roadnet/xml_outbound/INT_LEW002_SendDataToRoadnet_EXP-Roadnet session composite entity. (22).xml\n",
      "1\n",
      "data/roadnet/xml_outbound/INT_LEW002_SendDataToRoadnet_EXP-Roadnet session composite entity. (25).xml\n",
      "1\n",
      "data/roadnet/xml_outbound/INT_LEW002_SendDataToRoadnet_EXP-Roadnet session composite entity. (34).xml\n",
      "1\n",
      "data/roadnet/xml_outbound/INT_LEW002_SendDataToRoadnet_EXP-Roadnet session composite entity. (52).xml\n",
      "1\n",
      "data/roadnet/xml_outbound/INT_LEW002_SendDataToRoadnet_EXP-Roadnet session composite entity. (27).xml\n",
      "1\n",
      "data/roadnet/xml_outbound/INT_LEW002_SendDataToRoadnet_EXP-Roadnet session composite entity. (38).xml\n",
      "1\n",
      "data/roadnet/xml_outbound/INT_LEW002_SendDataToRoadnet_EXP-Roadnet session composite entity. (13).xml\n",
      "1\n",
      "data/roadnet/xml_outbound/INT_LEW002_SendDataToRoadnet_EXP-Roadnet session composite entity. (57).xml\n",
      "1\n",
      "data/roadnet/xml_outbound/INT_LEW002_SendDataToRoadnet_EXP-Roadnet session composite entity. (18).xml\n",
      "1\n",
      "data/roadnet/xml_outbound/INT_LEW002_SendDataToRoadnet_EXP-Roadnet session composite entity. (46).xml\n",
      "1\n",
      "data/roadnet/xml_outbound/INT_LEW002_SendDataToRoadnet_EXP-Roadnet session composite entity. (59).xml\n",
      "1\n",
      "data/roadnet/xml_outbound/INT_LEW002_SendDataToRoadnet_EXP-Roadnet session composite entity. (28).xml\n",
      "1\n"
     ]
    }
   ],
   "source": [
    "# Convert xml from D365 by adding newlines\n",
    "\n",
    "for i in range(0,len(dir_list)):\n",
    "    xml_file = path+dir_list[i]\n",
    "    print(xml_file)\n",
    "    xml_to_multiple_lines(xml_file,i)\n",
    "\n",
    "number_of_xml = len(dir_list)"
   ]
  },
  {
   "attachments": {},
   "cell_type": "markdown",
   "metadata": {},
   "source": [
    "### Consolidate the processed XML outbound files into a single, consolidated xml file\n",
    "- Remove all lines that are not transaction line items"
   ]
  },
  {
   "cell_type": "code",
   "execution_count": 155,
   "metadata": {},
   "outputs": [],
   "source": [
    "# Get the list of all files and directories\n",
    "path = \"data/roadnet/xml_prep/\"\n",
    "prep_dir_list = os.listdir(path)"
   ]
  },
  {
   "cell_type": "code",
   "execution_count": 156,
   "metadata": {},
   "outputs": [],
   "source": [
    "def import_roadnet_files2(fname, fnum, outfile):\n",
    "\n",
    "    try:    \n",
    "        with open(fname, 'r') as fr:\n",
    "            # reading line by line\n",
    "            lines = fr.readlines()\n",
    "\n",
    "            last_line = len(lines)\n",
    "\n",
    "            # opening in writing mode\n",
    "            with open(outfile, 'a') as fw:\n",
    "                for line in lines:      \n",
    "                    substr1 = 'CCBROADNETWORKBENCHSESSIONTABLEENTITY'       \n",
    "                    x1 = re.search(substr1, line)\n",
    "                    substr2 = 'Document>'       \n",
    "                    x2 = re.search(substr2, line)\n",
    "                    substr3 = 'xml version='       \n",
    "                    x3 = re.search(substr3, line)\n",
    "                    #print(x)\n",
    "                    if x1 == None and x2 == None and x3 == None:\n",
    "                        fw.write(line)\n",
    "        print(fname+\" lines deleted\")\n",
    "\n",
    "    except:\n",
    "        print(\"Error importing \"+fname)"
   ]
  },
  {
   "cell_type": "code",
   "execution_count": 157,
   "metadata": {},
   "outputs": [
    {
     "name": "stdout",
     "output_type": "stream",
     "text": [
      "data/roadnet/xml_prep/f41.xml lines deleted\n",
      "data/roadnet/xml_prep/f17.xml lines deleted\n",
      "data/roadnet/xml_prep/f19.xml lines deleted\n",
      "data/roadnet/xml_prep/f8.xml lines deleted\n",
      "data/roadnet/xml_prep/f22.xml lines deleted\n",
      "data/roadnet/xml_prep/f6.xml lines deleted\n",
      "data/roadnet/xml_prep/f28.xml lines deleted\n",
      "data/roadnet/xml_prep/f2.xml lines deleted\n",
      "data/roadnet/xml_prep/f16.xml lines deleted\n",
      "data/roadnet/xml_prep/f15.xml lines deleted\n",
      "data/roadnet/xml_prep/f40.xml lines deleted\n",
      "data/roadnet/xml_prep/f1.xml lines deleted\n",
      "data/roadnet/xml_prep/f43.xml lines deleted\n",
      "data/roadnet/xml_prep/f14.xml lines deleted\n",
      "data/roadnet/xml_prep/f29.xml lines deleted\n",
      "data/roadnet/xml_prep/f30.xml lines deleted\n",
      "data/roadnet/xml_prep/f47.xml lines deleted\n",
      "data/roadnet/xml_prep/f9.xml lines deleted\n",
      "data/roadnet/xml_prep/f5.xml lines deleted\n",
      "data/roadnet/xml_prep/f39.xml lines deleted\n",
      "data/roadnet/xml_prep/f0.xml lines deleted\n",
      "data/roadnet/xml_prep/f36.xml lines deleted\n",
      "data/roadnet/xml_prep/f25.xml lines deleted\n",
      "data/roadnet/xml_prep/f11.xml lines deleted\n",
      "data/roadnet/xml_prep/f18.xml lines deleted\n",
      "data/roadnet/xml_prep/f35.xml lines deleted\n",
      "data/roadnet/xml_prep/f48.xml lines deleted\n",
      "data/roadnet/xml_prep/f21.xml lines deleted\n",
      "data/roadnet/xml_prep/f24.xml lines deleted\n",
      "data/roadnet/xml_prep/f23.xml lines deleted\n",
      "data/roadnet/xml_prep/f7.xml lines deleted\n",
      "data/roadnet/xml_prep/f33.xml lines deleted\n",
      "data/roadnet/xml_prep/f13.xml lines deleted\n",
      "data/roadnet/xml_prep/f32.xml lines deleted\n",
      "data/roadnet/xml_prep/f27.xml lines deleted\n",
      "data/roadnet/xml_prep/f38.xml lines deleted\n",
      "data/roadnet/xml_prep/f45.xml lines deleted\n",
      "data/roadnet/xml_prep/f31.xml lines deleted\n",
      "data/roadnet/xml_prep/f34.xml lines deleted\n",
      "data/roadnet/xml_prep/f4.xml lines deleted\n",
      "data/roadnet/xml_prep/f10.xml lines deleted\n",
      "data/roadnet/xml_prep/f42.xml lines deleted\n",
      "data/roadnet/xml_prep/f12.xml lines deleted\n",
      "data/roadnet/xml_prep/f44.xml lines deleted\n",
      "data/roadnet/xml_prep/f37.xml lines deleted\n",
      "data/roadnet/xml_prep/f26.xml lines deleted\n",
      "data/roadnet/xml_prep/f46.xml lines deleted\n",
      "data/roadnet/xml_prep/f20.xml lines deleted\n",
      "data/roadnet/xml_prep/f3.xml lines deleted\n"
     ]
    }
   ],
   "source": [
    "for i in range(0,len(prep_dir_list)):\n",
    "    xml_file = path+prep_dir_list[i]\n",
    "    #print(i)\n",
    "    #print(xml_file)\n",
    "    import_roadnet_files2(xml_file,i, consolidated_roadnet_out_file)"
   ]
  },
  {
   "attachments": {},
   "cell_type": "markdown",
   "metadata": {},
   "source": [
    "### Split up the consolidated xml file into 10,000 lines or fewer, else they cannot be imported into a Pandas dataframe\n",
    "- Store these files in the same folder as the consolidated xml, and delete the consolidated xml after the split\n",
    "- Add the lines to turn this into a valid XML format"
   ]
  },
  {
   "cell_type": "code",
   "execution_count": 158,
   "metadata": {},
   "outputs": [],
   "source": [
    "fname = consolidated_roadnet_out_file\n",
    "outfile = fname\n",
    "\n",
    "try:    \n",
    "    with open(fname, 'r') as fr:\n",
    "        # reading line by line\n",
    "        lines = fr.readlines()\n",
    "\n",
    "        last_line = len(lines)\n",
    "\n",
    "        line_counter = 1\n",
    "\n",
    "        # opening in writing mode\n",
    "        last_x = 0\n",
    "        for i in range(0,len(lines)):\n",
    "            line = lines[i]\n",
    "            if i == last_line:\n",
    "                print(line)\n",
    "            x = int(i/10000)\n",
    "            with open(outfile[:-4]+str(x)+'.xml', 'a') as fw:        \n",
    "                if i == 0:\n",
    "                    fw.write('<?xml version=\"1.0\" encoding=\"utf-8\"?>\\n')\n",
    "                    fw.write('<Document>\\n')\n",
    "                if x > last_x:\n",
    "                    last_x = x\n",
    "                    fw.write('<?xml version=\"1.0\" encoding=\"utf-8\"?>\\n')\n",
    "                    fw.write('<Document>\\n')\n",
    "                fw.write(line)\n",
    "                if int((i+1)/10000) > x:\n",
    "                    fw.write('</Document>')\n",
    "                if i == len(lines) - 1:\n",
    "                    fw.write('</Document>')\n",
    "    os.remove(consolidated_roadnet_out_file)\n",
    "                \n",
    "except:\n",
    "    print(\"Error importing \"+fname)"
   ]
  },
  {
   "attachments": {},
   "cell_type": "markdown",
   "metadata": {},
   "source": [
    "### Import the transformed XML files into a Pandas dataframe"
   ]
  },
  {
   "cell_type": "code",
   "execution_count": 159,
   "metadata": {},
   "outputs": [
    {
     "name": "stdout",
     "output_type": "stream",
     "text": [
      "Files and directories in ' data/roadnet/xml_consolidated/ ' :\n",
      "['consolidated_roadnet_out0.xml']\n"
     ]
    }
   ],
   "source": [
    "# Get the list of all files and directories\n",
    "path = \"data/roadnet/xml_consolidated/\"\n",
    "dir_list = os.listdir(path)\n",
    "\n",
    "print(\"Files and directories in '\", path, \"' :\")\n",
    "\n",
    "# prints all files\n",
    "print(dir_list)"
   ]
  },
  {
   "cell_type": "code",
   "execution_count": 160,
   "metadata": {},
   "outputs": [],
   "source": [
    "# Import the first file into a dataframe\n",
    "rdnet_out = pd.read_xml(path+dir_list[0])"
   ]
  },
  {
   "cell_type": "code",
   "execution_count": 161,
   "metadata": {},
   "outputs": [],
   "source": [
    "# Import the rest of the files, and append to the dataframe\n",
    "for i in range(1,len(dir_list)):\n",
    "    xml_file = path+dir_list[i]\n",
    "    print(str(i)+xml_file)\n",
    "    temp = pd.read_xml(path+dir_list[i])\n",
    "    rdnet_out = pd.concat([rdnet_out, temp], ignore_index=True)"
   ]
  },
  {
   "attachments": {},
   "cell_type": "markdown",
   "metadata": {},
   "source": [
    "### Create the Roadnet inbound file by copying selected columns as-is from the outbound data"
   ]
  },
  {
   "cell_type": "code",
   "execution_count": 162,
   "metadata": {},
   "outputs": [],
   "source": [
    "rdnet_in = rdnet_out[['QUANTITY','LOCATIONID','INVENTTRANSID','ITEMID','ORDERID','WAREHOUSEID','PRODUCTNAME','ROADNETROUTE','ORDERACCOUNT','ORDERACCOUNTNAME','WEIGHT']]"
   ]
  },
  {
   "cell_type": "code",
   "execution_count": 163,
   "metadata": {},
   "outputs": [
    {
     "name": "stderr",
     "output_type": "stream",
     "text": [
      "/tmp/ipykernel_15268/554851200.py:1: SettingWithCopyWarning: \n",
      "A value is trying to be set on a copy of a slice from a DataFrame\n",
      "\n",
      "See the caveats in the documentation: https://pandas.pydata.org/pandas-docs/stable/user_guide/indexing.html#returning-a-view-versus-a-copy\n",
      "  rdnet_in.rename(columns={'QUANTITY':'CASEQTY','LOCATIONID':'DESTINATIONLOCATIONID','ORDERID':'ORDERNUMBER','WAREHOUSEID':'ORIGINLOCATIONID','ORDERACCOUNT':'STOPLOCATIONID','ORDERACCOUNTNAME':'STOPLOCATIONNAME'}, inplace=True)\n"
     ]
    }
   ],
   "source": [
    "rdnet_in.rename(columns={'QUANTITY':'CASEQTY','LOCATIONID':'DESTINATIONLOCATIONID','ORDERID':'ORDERNUMBER','WAREHOUSEID':'ORIGINLOCATIONID','ORDERACCOUNT':'STOPLOCATIONID','ORDERACCOUNTNAME':'STOPLOCATIONNAME'}, inplace=True)"
   ]
  },
  {
   "attachments": {},
   "cell_type": "markdown",
   "metadata": {},
   "source": [
    "### Create the rest of the fields as per the Roadnet inbound file spec"
   ]
  },
  {
   "cell_type": "code",
   "execution_count": 164,
   "metadata": {},
   "outputs": [],
   "source": [
    "#rdnet_in['DYNAMICSRETRIEVALSESSIONID'] = 'ZA1-000000661'"
   ]
  },
  {
   "cell_type": "code",
   "execution_count": 165,
   "metadata": {},
   "outputs": [
    {
     "name": "stdout",
     "output_type": "stream",
     "text": [
      "Today date is:  20230120-08h13-\n"
     ]
    }
   ],
   "source": [
    "today = str(datetime.now())\n",
    "today = today.replace(':','h')\n",
    "today = today.replace('-','')\n",
    "today = today.replace(' ','-')\n",
    "today = today[0:14] + '-'\n",
    "print(\"Today date is: \", today)"
   ]
  },
  {
   "cell_type": "code",
   "execution_count": 166,
   "metadata": {},
   "outputs": [
    {
     "name": "stderr",
     "output_type": "stream",
     "text": [
      "/tmp/ipykernel_15268/1341196141.py:1: SettingWithCopyWarning: \n",
      "A value is trying to be set on a copy of a slice from a DataFrame.\n",
      "Try using .loc[row_indexer,col_indexer] = value instead\n",
      "\n",
      "See the caveats in the documentation: https://pandas.pydata.org/pandas-docs/stable/user_guide/indexing.html#returning-a-view-versus-a-copy\n",
      "  rdnet_in['ROADNETROUTEINTERNALROUTEID'] = today + rdnet_in['STOPLOCATIONID'].astype(str)\n"
     ]
    }
   ],
   "source": [
    "rdnet_in['ROADNETROUTEINTERNALROUTEID'] = today + rdnet_in['STOPLOCATIONID'].astype(str)"
   ]
  },
  {
   "cell_type": "code",
   "execution_count": 167,
   "metadata": {},
   "outputs": [],
   "source": [
    "no_of_customers = len(rdnet_in['STOPLOCATIONID'].unique())"
   ]
  },
  {
   "cell_type": "code",
   "execution_count": 168,
   "metadata": {},
   "outputs": [
    {
     "name": "stderr",
     "output_type": "stream",
     "text": [
      "/tmp/ipykernel_15268/3345084894.py:1: SettingWithCopyWarning: \n",
      "A value is trying to be set on a copy of a slice from a DataFrame.\n",
      "Try using .loc[row_indexer,col_indexer] = value instead\n",
      "\n",
      "See the caveats in the documentation: https://pandas.pydata.org/pandas-docs/stable/user_guide/indexing.html#returning-a-view-versus-a-copy\n",
      "  rdnet_in['APPTID'] = ''\n",
      "/tmp/ipykernel_15268/3345084894.py:2: SettingWithCopyWarning: \n",
      "A value is trying to be set on a copy of a slice from a DataFrame.\n",
      "Try using .loc[row_indexer,col_indexer] = value instead\n",
      "\n",
      "See the caveats in the documentation: https://pandas.pydata.org/pandas-docs/stable/user_guide/indexing.html#returning-a-view-versus-a-copy\n",
      "  rdnet_in['DESCRIPTION'] = 'BLOEM_PLAN'\n",
      "/tmp/ipykernel_15268/3345084894.py:3: SettingWithCopyWarning: \n",
      "A value is trying to be set on a copy of a slice from a DataFrame.\n",
      "Try using .loc[row_indexer,col_indexer] = value instead\n",
      "\n",
      "See the caveats in the documentation: https://pandas.pydata.org/pandas-docs/stable/user_guide/indexing.html#returning-a-view-versus-a-copy\n",
      "  rdnet_in['ERROR'] = ''\n",
      "/tmp/ipykernel_15268/3345084894.py:4: SettingWithCopyWarning: \n",
      "A value is trying to be set on a copy of a slice from a DataFrame.\n",
      "Try using .loc[row_indexer,col_indexer] = value instead\n",
      "\n",
      "See the caveats in the documentation: https://pandas.pydata.org/pandas-docs/stable/user_guide/indexing.html#returning-a-view-versus-a-copy\n",
      "  rdnet_in['FIRSTDRIVER'] = '825196'\n",
      "/tmp/ipykernel_15268/3345084894.py:5: SettingWithCopyWarning: \n",
      "A value is trying to be set on a copy of a slice from a DataFrame.\n",
      "Try using .loc[row_indexer,col_indexer] = value instead\n",
      "\n",
      "See the caveats in the documentation: https://pandas.pydata.org/pandas-docs/stable/user_guide/indexing.html#returning-a-view-versus-a-copy\n",
      "  rdnet_in['FIRSTTRAILER'] = 'ST29PTAIL'\n",
      "/tmp/ipykernel_15268/3345084894.py:6: SettingWithCopyWarning: \n",
      "A value is trying to be set on a copy of a slice from a DataFrame.\n",
      "Try using .loc[row_indexer,col_indexer] = value instead\n",
      "\n",
      "See the caveats in the documentation: https://pandas.pydata.org/pandas-docs/stable/user_guide/indexing.html#returning-a-view-versus-a-copy\n",
      "  rdnet_in['LASTSTOPISDESTINATION'] = 'No'\n",
      "/tmp/ipykernel_15268/3345084894.py:7: SettingWithCopyWarning: \n",
      "A value is trying to be set on a copy of a slice from a DataFrame.\n",
      "Try using .loc[row_indexer,col_indexer] = value instead\n",
      "\n",
      "See the caveats in the documentation: https://pandas.pydata.org/pandas-docs/stable/user_guide/indexing.html#returning-a-view-versus-a-copy\n",
      "  rdnet_in['LOADID'] = ''\n",
      "/tmp/ipykernel_15268/3345084894.py:8: SettingWithCopyWarning: \n",
      "A value is trying to be set on a copy of a slice from a DataFrame.\n",
      "Try using .loc[row_indexer,col_indexer] = value instead\n",
      "\n",
      "See the caveats in the documentation: https://pandas.pydata.org/pandas-docs/stable/user_guide/indexing.html#returning-a-view-versus-a-copy\n",
      "  rdnet_in['LOADTEMPLATEID'] = ''\n",
      "/tmp/ipykernel_15268/3345084894.py:9: SettingWithCopyWarning: \n",
      "A value is trying to be set on a copy of a slice from a DataFrame.\n",
      "Try using .loc[row_indexer,col_indexer] = value instead\n",
      "\n",
      "See the caveats in the documentation: https://pandas.pydata.org/pandas-docs/stable/user_guide/indexing.html#returning-a-view-versus-a-copy\n",
      "  rdnet_in['ORDERTYPE'] = 'rotOrder'\n",
      "/tmp/ipykernel_15268/3345084894.py:10: SettingWithCopyWarning: \n",
      "A value is trying to be set on a copy of a slice from a DataFrame.\n",
      "Try using .loc[row_indexer,col_indexer] = value instead\n",
      "\n",
      "See the caveats in the documentation: https://pandas.pydata.org/pandas-docs/stable/user_guide/indexing.html#returning-a-view-versus-a-copy\n",
      "  rdnet_in['ORIGINDESTINATION'] = 'Yes'\n",
      "/tmp/ipykernel_15268/3345084894.py:11: SettingWithCopyWarning: \n",
      "A value is trying to be set on a copy of a slice from a DataFrame.\n",
      "Try using .loc[row_indexer,col_indexer] = value instead\n",
      "\n",
      "See the caveats in the documentation: https://pandas.pydata.org/pandas-docs/stable/user_guide/indexing.html#returning-a-view-versus-a-copy\n",
      "  rdnet_in['PALLETQTY'] = '0'\n",
      "/tmp/ipykernel_15268/3345084894.py:12: SettingWithCopyWarning: \n",
      "A value is trying to be set on a copy of a slice from a DataFrame.\n",
      "Try using .loc[row_indexer,col_indexer] = value instead\n",
      "\n",
      "See the caveats in the documentation: https://pandas.pydata.org/pandas-docs/stable/user_guide/indexing.html#returning-a-view-versus-a-copy\n",
      "  rdnet_in['REFERENCECATEGORY'] = 'Sales'\n",
      "/tmp/ipykernel_15268/3345084894.py:13: SettingWithCopyWarning: \n",
      "A value is trying to be set on a copy of a slice from a DataFrame.\n",
      "Try using .loc[row_indexer,col_indexer] = value instead\n",
      "\n",
      "See the caveats in the documentation: https://pandas.pydata.org/pandas-docs/stable/user_guide/indexing.html#returning-a-view-versus-a-copy\n",
      "  rdnet_in['REFERENCEDOCUMENT'] = 'SalesOrder'\n",
      "/tmp/ipykernel_15268/3345084894.py:14: SettingWithCopyWarning: \n",
      "A value is trying to be set on a copy of a slice from a DataFrame.\n",
      "Try using .loc[row_indexer,col_indexer] = value instead\n",
      "\n",
      "See the caveats in the documentation: https://pandas.pydata.org/pandas-docs/stable/user_guide/indexing.html#returning-a-view-versus-a-copy\n",
      "  rdnet_in['ROADNETINTERNALSESSIONID'] = '35411'\n",
      "/tmp/ipykernel_15268/3345084894.py:15: SettingWithCopyWarning: \n",
      "A value is trying to be set on a copy of a slice from a DataFrame.\n",
      "Try using .loc[row_indexer,col_indexer] = value instead\n",
      "\n",
      "See the caveats in the documentation: https://pandas.pydata.org/pandas-docs/stable/user_guide/indexing.html#returning-a-view-versus-a-copy\n",
      "  rdnet_in['ROADNETREGIONID'] = 'ZA1'\n",
      "/tmp/ipykernel_15268/3345084894.py:16: SettingWithCopyWarning: \n",
      "A value is trying to be set on a copy of a slice from a DataFrame.\n",
      "Try using .loc[row_indexer,col_indexer] = value instead\n",
      "\n",
      "See the caveats in the documentation: https://pandas.pydata.org/pandas-docs/stable/user_guide/indexing.html#returning-a-view-versus-a-copy\n",
      "  rdnet_in['ROUTECODE'] = ''\n",
      "/tmp/ipykernel_15268/3345084894.py:17: SettingWithCopyWarning: \n",
      "A value is trying to be set on a copy of a slice from a DataFrame.\n",
      "Try using .loc[row_indexer,col_indexer] = value instead\n",
      "\n",
      "See the caveats in the documentation: https://pandas.pydata.org/pandas-docs/stable/user_guide/indexing.html#returning-a-view-versus-a-copy\n",
      "  rdnet_in['SECONDDRIVER'] = ''\n",
      "/tmp/ipykernel_15268/3345084894.py:18: SettingWithCopyWarning: \n",
      "A value is trying to be set on a copy of a slice from a DataFrame.\n",
      "Try using .loc[row_indexer,col_indexer] = value instead\n",
      "\n",
      "See the caveats in the documentation: https://pandas.pydata.org/pandas-docs/stable/user_guide/indexing.html#returning-a-view-versus-a-copy\n",
      "  rdnet_in['SECONDTRAILER'] = ''\n",
      "/tmp/ipykernel_15268/3345084894.py:19: SettingWithCopyWarning: \n",
      "A value is trying to be set on a copy of a slice from a DataFrame.\n",
      "Try using .loc[row_indexer,col_indexer] = value instead\n",
      "\n",
      "See the caveats in the documentation: https://pandas.pydata.org/pandas-docs/stable/user_guide/indexing.html#returning-a-view-versus-a-copy\n",
      "  rdnet_in['SEQUENCEDISTANCE'] = '.000000'\n",
      "/tmp/ipykernel_15268/3345084894.py:20: SettingWithCopyWarning: \n",
      "A value is trying to be set on a copy of a slice from a DataFrame.\n",
      "Try using .loc[row_indexer,col_indexer] = value instead\n",
      "\n",
      "See the caveats in the documentation: https://pandas.pydata.org/pandas-docs/stable/user_guide/indexing.html#returning-a-view-versus-a-copy\n",
      "  rdnet_in['SEQUENCENUMBER'] = '1'\n",
      "/tmp/ipykernel_15268/3345084894.py:21: SettingWithCopyWarning: \n",
      "A value is trying to be set on a copy of a slice from a DataFrame.\n",
      "Try using .loc[row_indexer,col_indexer] = value instead\n",
      "\n",
      "See the caveats in the documentation: https://pandas.pydata.org/pandas-docs/stable/user_guide/indexing.html#returning-a-view-versus-a-copy\n",
      "  rdnet_in['SEQUENCETRAVELTIME'] = '0'\n",
      "/tmp/ipykernel_15268/3345084894.py:22: SettingWithCopyWarning: \n",
      "A value is trying to be set on a copy of a slice from a DataFrame.\n",
      "Try using .loc[row_indexer,col_indexer] = value instead\n",
      "\n",
      "See the caveats in the documentation: https://pandas.pydata.org/pandas-docs/stable/user_guide/indexing.html#returning-a-view-versus-a-copy\n",
      "  rdnet_in['SHIPPINGCARRIER'] = '0'\n",
      "/tmp/ipykernel_15268/3345084894.py:23: SettingWithCopyWarning: \n",
      "A value is trying to be set on a copy of a slice from a DataFrame.\n",
      "Try using .loc[row_indexer,col_indexer] = value instead\n",
      "\n",
      "See the caveats in the documentation: https://pandas.pydata.org/pandas-docs/stable/user_guide/indexing.html#returning-a-view-versus-a-copy\n",
      "  rdnet_in['STATUS'] = 'Error'\n",
      "/tmp/ipykernel_15268/3345084894.py:24: SettingWithCopyWarning: \n",
      "A value is trying to be set on a copy of a slice from a DataFrame.\n",
      "Try using .loc[row_indexer,col_indexer] = value instead\n",
      "\n",
      "See the caveats in the documentation: https://pandas.pydata.org/pandas-docs/stable/user_guide/indexing.html#returning-a-view-versus-a-copy\n",
      "  rdnet_in['STOPTYPE'] = 'stpStop'\n",
      "/tmp/ipykernel_15268/3345084894.py:25: SettingWithCopyWarning: \n",
      "A value is trying to be set on a copy of a slice from a DataFrame.\n",
      "Try using .loc[row_indexer,col_indexer] = value instead\n",
      "\n",
      "See the caveats in the documentation: https://pandas.pydata.org/pandas-docs/stable/user_guide/indexing.html#returning-a-view-versus-a-copy\n",
      "  rdnet_in['TOTALDISTANCE'] = '.000000'\n"
     ]
    }
   ],
   "source": [
    "rdnet_in['APPTID'] = ''\n",
    "rdnet_in['DESCRIPTION'] = 'BLOEM_PLAN'\n",
    "rdnet_in['ERROR'] = ''\n",
    "rdnet_in['FIRSTDRIVER'] = '825196'\n",
    "rdnet_in['FIRSTTRAILER'] = 'ST29PTAIL'\n",
    "rdnet_in['LASTSTOPISDESTINATION'] = 'No'\n",
    "rdnet_in['LOADID'] = ''\n",
    "rdnet_in['LOADTEMPLATEID'] = ''\n",
    "rdnet_in['ORDERTYPE'] = 'rotOrder'\n",
    "rdnet_in['ORIGINDESTINATION'] = 'Yes'\n",
    "rdnet_in['PALLETQTY'] = '0'\n",
    "rdnet_in['REFERENCECATEGORY'] = 'Sales'\n",
    "rdnet_in['REFERENCEDOCUMENT'] = 'SalesOrder'\n",
    "rdnet_in['ROADNETINTERNALSESSIONID'] = '35411'\n",
    "rdnet_in['ROADNETREGIONID'] = 'ZA1'\n",
    "rdnet_in['ROUTECODE'] = ''\n",
    "rdnet_in['SECONDDRIVER'] = ''\n",
    "rdnet_in['SECONDTRAILER'] = ''\n",
    "rdnet_in['SEQUENCEDISTANCE'] = '.000000'\n",
    "rdnet_in['SEQUENCENUMBER'] = '1'\n",
    "rdnet_in['SEQUENCETRAVELTIME'] = '0'\n",
    "rdnet_in['SHIPPINGCARRIER'] = '0'\n",
    "rdnet_in['STATUS'] = 'Error'\n",
    "rdnet_in['STOPTYPE'] = 'stpStop'\n",
    "rdnet_in['TOTALDISTANCE'] = '.000000'\n",
    "rdnet_in['TOTALROUTEDISTANCE'] = '.000000'\n",
    "rdnet_in['TRUCKANDTRAILERASSIGNED'] = 'No'\n",
    "rdnet_in['UNITID'] = ''\n",
    "rdnet_in['VEHICLEID'] = 'TT4X2TAIL'\n",
    "rdnet_in['STOPSERVICETIME'] = '720'\n",
    "rdnet_in['TOTALSERVICETIME'] = '720'\n",
    "rdnet_in['TOTALTRAVELTIME'] = '0'\n",
    "rdnet_in['LINEREFID'] = rdnet_in['INVENTTRANSID']"
   ]
  },
  {
   "cell_type": "code",
   "execution_count": 169,
   "metadata": {},
   "outputs": [],
   "source": [
    "rdnet_in['ROUTECOMPLETETIME'] = pd.to_datetime('today')\n",
    "rdnet_in['ROUTECOMPLETETIME'] = rdnet_in['ROUTECOMPLETETIME'].dt.normalize() + pd.Timedelta(days=1) + pd.Timedelta(hours=13) + pd.Timedelta(minutes=19)\n",
    "\n",
    "rdnet_in['ROUTESTARTTIME'] = pd.to_datetime('today')\n",
    "rdnet_in['ROUTESTARTTIME'] = rdnet_in['ROUTESTARTTIME'].dt.normalize() + pd.Timedelta(days=1) + pd.Timedelta(hours=4) + pd.Timedelta(minutes=0)\n",
    "\n",
    "rdnet_in['SCHEDULEDARRIVALDATETIME'] = pd.to_datetime('today')\n",
    "rdnet_in['SCHEDULEDARRIVALDATETIME'] = rdnet_in['SCHEDULEDARRIVALDATETIME'].dt.normalize() + pd.Timedelta(days=1) + pd.Timedelta(hours=12) + pd.Timedelta(minutes=59)\n",
    "\n",
    "rdnet_in['SCHEDULEDDELIVERYDATETIME'] = pd.to_datetime('today')\n",
    "rdnet_in['SCHEDULEDDELIVERYDATETIME'] = rdnet_in['SCHEDULEDDELIVERYDATETIME'].dt.normalize() + pd.Timedelta(days=1)\n",
    "\n",
    "rdnet_in['SCHEDULEDSHIPDATETIME'] = pd.to_datetime('today')\n",
    "rdnet_in['SCHEDULEDSHIPDATETIME'] = rdnet_in['SCHEDULEDSHIPDATETIME'].dt.normalize() + pd.Timedelta(days=1) + pd.Timedelta(hours=4) + pd.Timedelta(minutes=10)\n",
    "\n",
    "rdnet_in['STOPARRIVALTIME'] = pd.to_datetime('today')\n",
    "rdnet_in['STOPARRIVALTIME'] = rdnet_in['STOPARRIVALTIME'].dt.normalize() + pd.Timedelta(days=1) + pd.Timedelta(hours=8) + pd.Timedelta(minutes=28)"
   ]
  },
  {
   "attachments": {},
   "cell_type": "markdown",
   "metadata": {},
   "source": [
    "### Get customer master in order to get the postal code"
   ]
  },
  {
   "cell_type": "code",
   "execution_count": 170,
   "metadata": {},
   "outputs": [
    {
     "name": "stderr",
     "output_type": "stream",
     "text": [
      "/tmp/ipykernel_15268/2590905245.py:1: DtypeWarning: Columns (6,18,58,95,104,117,148) have mixed types. Specify dtype option on import or set low_memory=False.\n",
      "  customers=pd.read_csv('data/customer_master.csv')\n"
     ]
    }
   ],
   "source": [
    "customers=pd.read_csv('data/customer_master.csv')\n",
    "customers_short = customers[['ADDRESSZIPCODE','CUSTOMERACCOUNT','ORGANIZATIONNAME']].copy()\n",
    "customers_short['ADDRESSZIPCODE'] = customers_short['ADDRESSZIPCODE'].fillna(0)\n",
    "customers_short['ADDRESSZIPCODE'] = customers_short['ADDRESSZIPCODE'].astype(int)\n",
    "customers_short['ADDRESSZIPCODE'] = customers_short['ADDRESSZIPCODE'].astype(str)"
   ]
  },
  {
   "cell_type": "code",
   "execution_count": 171,
   "metadata": {},
   "outputs": [],
   "source": [
    "rdnet_in = pd.merge(\n",
    "    rdnet_in,\n",
    "    customers_short,\n",
    "    how=\"inner\",\n",
    "    on=None,\n",
    "    left_on='STOPLOCATIONID',\n",
    "    right_on='CUSTOMERACCOUNT',\n",
    "    left_index=False,\n",
    "    right_index=False,\n",
    "    sort=True,\n",
    "    suffixes=(\"_x\", \"_y\"),\n",
    "    copy=True,\n",
    "    indicator=False,\n",
    "    validate=None,\n",
    ")"
   ]
  },
  {
   "cell_type": "code",
   "execution_count": 172,
   "metadata": {},
   "outputs": [],
   "source": [
    "rdnet_in.rename(columns={'ADDRESSZIPCODE':'STOPPOSTALCODE'}, inplace=True)\n",
    "rdnet_in.drop(columns={'CUSTOMERACCOUNT', 'ORGANIZATIONNAME'}, inplace=True, axis=1)"
   ]
  },
  {
   "cell_type": "code",
   "execution_count": 173,
   "metadata": {},
   "outputs": [],
   "source": [
    "# Drop duplicates\n",
    "rdnet_in = rdnet_in.drop_duplicates(keep='first');"
   ]
  },
  {
   "attachments": {},
   "cell_type": "markdown",
   "metadata": {},
   "source": [
    "### Generate the CSV file"
   ]
  },
  {
   "attachments": {},
   "cell_type": "markdown",
   "metadata": {},
   "source": [
    "### Split file into n files, each with a different ORIGINLOCATIONID\n",
    "- Read csv file with ORIGINLOCATIONIDs\n",
    "- Generate a dataframe with the unique list of warehouses\n",
    "- Add a column (Group) to that dataframe where the warehouses are assigned into n groups\n",
    "- Generate n output files, each with ORIGINLOCATIONID as from the csv file"
   ]
  },
  {
   "cell_type": "code",
   "execution_count": 174,
   "metadata": {},
   "outputs": [],
   "source": [
    "sessionids = pd.read_csv('data/roadnet/sessionIDs.csv')"
   ]
  },
  {
   "cell_type": "code",
   "execution_count": 175,
   "metadata": {},
   "outputs": [],
   "source": [
    "groups = np.arange(1,len(sessionids)+1)"
   ]
  },
  {
   "cell_type": "code",
   "execution_count": 176,
   "metadata": {},
   "outputs": [],
   "source": [
    "sessionids['Group'] = groups"
   ]
  },
  {
   "cell_type": "code",
   "execution_count": 177,
   "metadata": {},
   "outputs": [],
   "source": [
    "unique_warehouses_np = rdnet_in['ORIGINLOCATIONID'].unique()\n",
    "unique_warehouses_df = pd.DataFrame(unique_warehouses_np)"
   ]
  },
  {
   "cell_type": "code",
   "execution_count": 178,
   "metadata": {},
   "outputs": [],
   "source": [
    "group_index = 0\n",
    "for i in range(len(unique_warehouses_df)):\n",
    "    g = groups[group_index]\n",
    "    group_index = group_index + 1\n",
    "    if group_index == len(groups):\n",
    "        group_index = 0\n",
    "    unique_warehouses_df.loc[i, 'Group'] = g"
   ]
  },
  {
   "cell_type": "code",
   "execution_count": 179,
   "metadata": {},
   "outputs": [
    {
     "data": {
      "text/plain": [
       "\" repeats = int(len(unique_warehouses_np)/len(groups)+1)\\nnew_array = groups.repeat(repeats)\\ntrim_rows = len(new_array) - len(unique_warehouses_np)\\ntrimmed_array = new_array[:-trim_rows :]\\nunique_warehouses_df['Group'] = trimmed_array.tolist() \""
      ]
     },
     "execution_count": 179,
     "metadata": {},
     "output_type": "execute_result"
    }
   ],
   "source": [
    "\"\"\" repeats = int(len(unique_warehouses_np)/len(groups)+1)\n",
    "new_array = groups.repeat(repeats)\n",
    "trim_rows = len(new_array) - len(unique_warehouses_np)\n",
    "trimmed_array = new_array[:-trim_rows :]\n",
    "unique_warehouses_df['Group'] = trimmed_array.tolist() \"\"\""
   ]
  },
  {
   "cell_type": "code",
   "execution_count": 180,
   "metadata": {},
   "outputs": [],
   "source": [
    "unique_warehouses_df.rename(columns={0:'Warehouse'}, inplace=True)"
   ]
  },
  {
   "attachments": {},
   "cell_type": "markdown",
   "metadata": {},
   "source": [
    "### Merge back the warehouse-based split into the dataframe"
   ]
  },
  {
   "cell_type": "code",
   "execution_count": 181,
   "metadata": {},
   "outputs": [],
   "source": [
    "rdnet_in = pd.merge(\n",
    "    rdnet_in,\n",
    "    unique_warehouses_df,\n",
    "    how=\"inner\",\n",
    "    on=None,\n",
    "    left_on='ORIGINLOCATIONID',\n",
    "    right_on='Warehouse',\n",
    "    left_index=False,\n",
    "    right_index=False,\n",
    "    sort=True,\n",
    "    suffixes=(\"_x\", \"_y\"),\n",
    "    copy=True,\n",
    "    indicator=False,\n",
    "    validate=None,\n",
    ")"
   ]
  },
  {
   "cell_type": "code",
   "execution_count": 182,
   "metadata": {},
   "outputs": [],
   "source": [
    "rdnet_in = pd.merge(\n",
    "    rdnet_in,\n",
    "    sessionids,\n",
    "    how=\"inner\",\n",
    "    on=None,\n",
    "    left_on='Group',\n",
    "    right_on='Group',\n",
    "    left_index=False,\n",
    "    right_index=False,\n",
    "    sort=True,\n",
    "    suffixes=(\"_x\", \"_y\"),\n",
    "    copy=True,\n",
    "    indicator=False,\n",
    "    validate=None,\n",
    ")"
   ]
  },
  {
   "cell_type": "code",
   "execution_count": 183,
   "metadata": {},
   "outputs": [
    {
     "name": "stdout",
     "output_type": "stream",
     "text": [
      "<class 'pandas.core.frame.DataFrame'>\n",
      "Int64Index: 2337 entries, 0 to 2336\n",
      "Data columns (total 55 columns):\n",
      " #   Column                       Non-Null Count  Dtype         \n",
      "---  ------                       --------------  -----         \n",
      " 0   CASEQTY                      2337 non-null   float64       \n",
      " 1   DESTINATIONLOCATIONID        2337 non-null   int64         \n",
      " 2   INVENTTRANSID                2337 non-null   object        \n",
      " 3   ITEMID                       2337 non-null   int64         \n",
      " 4   ORDERNUMBER                  2337 non-null   int64         \n",
      " 5   ORIGINLOCATIONID             2337 non-null   object        \n",
      " 6   PRODUCTNAME                  2337 non-null   object        \n",
      " 7   ROADNETROUTE                 2337 non-null   object        \n",
      " 8   STOPLOCATIONID               2337 non-null   int64         \n",
      " 9   STOPLOCATIONNAME             2337 non-null   object        \n",
      " 10  WEIGHT                       2337 non-null   float64       \n",
      " 11  ROADNETROUTEINTERNALROUTEID  2337 non-null   object        \n",
      " 12  APPTID                       2337 non-null   object        \n",
      " 13  DESCRIPTION                  2337 non-null   object        \n",
      " 14  ERROR                        2337 non-null   object        \n",
      " 15  FIRSTDRIVER                  2337 non-null   object        \n",
      " 16  FIRSTTRAILER                 2337 non-null   object        \n",
      " 17  LASTSTOPISDESTINATION        2337 non-null   object        \n",
      " 18  LOADID                       2337 non-null   object        \n",
      " 19  LOADTEMPLATEID               2337 non-null   object        \n",
      " 20  ORDERTYPE                    2337 non-null   object        \n",
      " 21  ORIGINDESTINATION            2337 non-null   object        \n",
      " 22  PALLETQTY                    2337 non-null   object        \n",
      " 23  REFERENCECATEGORY            2337 non-null   object        \n",
      " 24  REFERENCEDOCUMENT            2337 non-null   object        \n",
      " 25  ROADNETINTERNALSESSIONID     2337 non-null   object        \n",
      " 26  ROADNETREGIONID              2337 non-null   object        \n",
      " 27  ROUTECODE                    2337 non-null   object        \n",
      " 28  SECONDDRIVER                 2337 non-null   object        \n",
      " 29  SECONDTRAILER                2337 non-null   object        \n",
      " 30  SEQUENCEDISTANCE             2337 non-null   object        \n",
      " 31  SEQUENCENUMBER               2337 non-null   object        \n",
      " 32  SEQUENCETRAVELTIME           2337 non-null   object        \n",
      " 33  SHIPPINGCARRIER              2337 non-null   object        \n",
      " 34  STATUS                       2337 non-null   object        \n",
      " 35  STOPTYPE                     2337 non-null   object        \n",
      " 36  TOTALDISTANCE                2337 non-null   object        \n",
      " 37  TOTALROUTEDISTANCE           2337 non-null   object        \n",
      " 38  TRUCKANDTRAILERASSIGNED      2337 non-null   object        \n",
      " 39  UNITID                       2337 non-null   object        \n",
      " 40  VEHICLEID                    2337 non-null   object        \n",
      " 41  STOPSERVICETIME              2337 non-null   object        \n",
      " 42  TOTALSERVICETIME             2337 non-null   object        \n",
      " 43  TOTALTRAVELTIME              2337 non-null   object        \n",
      " 44  LINEREFID                    2337 non-null   object        \n",
      " 45  ROUTECOMPLETETIME            2337 non-null   datetime64[ns]\n",
      " 46  ROUTESTARTTIME               2337 non-null   datetime64[ns]\n",
      " 47  SCHEDULEDARRIVALDATETIME     2337 non-null   datetime64[ns]\n",
      " 48  SCHEDULEDDELIVERYDATETIME    2337 non-null   datetime64[ns]\n",
      " 49  SCHEDULEDSHIPDATETIME        2337 non-null   datetime64[ns]\n",
      " 50  STOPARRIVALTIME              2337 non-null   datetime64[ns]\n",
      " 51  STOPPOSTALCODE               2337 non-null   object        \n",
      " 52  Warehouse                    2337 non-null   object        \n",
      " 53  Group                        2337 non-null   float64       \n",
      " 54  SessionID                    2337 non-null   object        \n",
      "dtypes: datetime64[ns](6), float64(3), int64(4), object(42)\n",
      "memory usage: 1022.4+ KB\n"
     ]
    }
   ],
   "source": [
    "rdnet_in.info()"
   ]
  },
  {
   "cell_type": "code",
   "execution_count": 184,
   "metadata": {},
   "outputs": [],
   "source": [
    "rdnet_in.drop(columns={'Warehouse'}, inplace=True, axis=1)\n",
    "rdnet_in.rename(columns={'SessionID':'DYNAMICSRETRIEVALSESSIONID'}, inplace=True)"
   ]
  },
  {
   "cell_type": "code",
   "execution_count": 185,
   "metadata": {},
   "outputs": [],
   "source": [
    "mask = (rdnet_in['Group'] == 1)\n",
    "file1 = rdnet_in[mask]\n",
    "file1.to_csv('data/roadnet/inbound/rdnet_in_file1.csv',index=False)\n",
    "\n",
    "mask = (rdnet_in['Group'] == 2)\n",
    "file2 = rdnet_in[mask]\n",
    "file2.to_csv('data/roadnet/inbound/rdnet_in_file2.csv',index=False)\n",
    "\n",
    "mask = (rdnet_in['Group'] == 3)\n",
    "file3 = rdnet_in[mask]\n",
    "file3.to_csv('data/roadnet/inbound/rdnet_in_file3.csv',index=False)\n",
    "\n",
    "mask = (rdnet_in['Group'] == 4)\n",
    "file4 = rdnet_in[mask]\n",
    "file4.to_csv('data/roadnet/inbound/rdnet_in_file4.csv',index=False)\n",
    "\n",
    "mask = (rdnet_in['Group'] == 5)\n",
    "file5 = rdnet_in[mask]\n",
    "file5.to_csv('data/roadnet/inbound/rdnet_in_file5.csv',index=False)"
   ]
  },
  {
   "attachments": {},
   "cell_type": "markdown",
   "metadata": {},
   "source": [
    "### Generate CSV files"
   ]
  },
  {
   "cell_type": "code",
   "execution_count": 186,
   "metadata": {},
   "outputs": [],
   "source": [
    "# Clean up the folder where the inbound files are to be stored\n",
    "path = \"data/roadnet/inbound/\"\n",
    "dir_list = os.listdir(path)\n",
    "\n",
    "for i in range(0,len(dir_list)):\n",
    "    xml_file = path+dir_list[i]\n",
    "    os.remove(xml_file)  "
   ]
  },
  {
   "cell_type": "code",
   "execution_count": 187,
   "metadata": {},
   "outputs": [
    {
     "name": "stderr",
     "output_type": "stream",
     "text": [
      "/tmp/ipykernel_15268/3492310403.py:4: SettingWithCopyWarning: \n",
      "A value is trying to be set on a copy of a slice from a DataFrame\n",
      "\n",
      "See the caveats in the documentation: https://pandas.pydata.org/pandas-docs/stable/user_guide/indexing.html#returning-a-view-versus-a-copy\n",
      "  df_temp.drop(columns={'Group'}, inplace=True, axis=1)\n",
      "/tmp/ipykernel_15268/3492310403.py:4: SettingWithCopyWarning: \n",
      "A value is trying to be set on a copy of a slice from a DataFrame\n",
      "\n",
      "See the caveats in the documentation: https://pandas.pydata.org/pandas-docs/stable/user_guide/indexing.html#returning-a-view-versus-a-copy\n",
      "  df_temp.drop(columns={'Group'}, inplace=True, axis=1)\n",
      "/tmp/ipykernel_15268/3492310403.py:4: SettingWithCopyWarning: \n",
      "A value is trying to be set on a copy of a slice from a DataFrame\n",
      "\n",
      "See the caveats in the documentation: https://pandas.pydata.org/pandas-docs/stable/user_guide/indexing.html#returning-a-view-versus-a-copy\n",
      "  df_temp.drop(columns={'Group'}, inplace=True, axis=1)\n",
      "/tmp/ipykernel_15268/3492310403.py:4: SettingWithCopyWarning: \n",
      "A value is trying to be set on a copy of a slice from a DataFrame\n",
      "\n",
      "See the caveats in the documentation: https://pandas.pydata.org/pandas-docs/stable/user_guide/indexing.html#returning-a-view-versus-a-copy\n",
      "  df_temp.drop(columns={'Group'}, inplace=True, axis=1)\n",
      "/tmp/ipykernel_15268/3492310403.py:4: SettingWithCopyWarning: \n",
      "A value is trying to be set on a copy of a slice from a DataFrame\n",
      "\n",
      "See the caveats in the documentation: https://pandas.pydata.org/pandas-docs/stable/user_guide/indexing.html#returning-a-view-versus-a-copy\n",
      "  df_temp.drop(columns={'Group'}, inplace=True, axis=1)\n"
     ]
    }
   ],
   "source": [
    "for g in groups:\n",
    "    mask = (rdnet_in['Group'] == g)\n",
    "    df_temp = rdnet_in[mask]\n",
    "    df_temp.drop(columns={'Group'}, inplace=True, axis=1)\n",
    "    filename = 'data/roadnet/inbound/file'+str(g)+'.csv'\n",
    "    df_temp.to_csv(filename,index=False)"
   ]
  }
 ],
 "metadata": {
  "kernelspec": {
   "display_name": "Python 3",
   "language": "python",
   "name": "python3"
  },
  "language_info": {
   "codemirror_mode": {
    "name": "ipython",
    "version": 3
   },
   "file_extension": ".py",
   "mimetype": "text/x-python",
   "name": "python",
   "nbconvert_exporter": "python",
   "pygments_lexer": "ipython3",
   "version": "3.8.10"
  },
  "orig_nbformat": 4,
  "vscode": {
   "interpreter": {
    "hash": "916dbcbb3f70747c44a77c7bcd40155683ae19c65e1c03b4aa3499c5328201f1"
   }
  }
 },
 "nbformat": 4,
 "nbformat_minor": 2
}
