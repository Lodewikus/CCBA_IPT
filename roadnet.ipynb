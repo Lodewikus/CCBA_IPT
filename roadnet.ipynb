{
 "cells": [
  {
   "cell_type": "code",
   "execution_count": 690,
   "metadata": {},
   "outputs": [],
   "source": [
    "import json\n",
    "import numpy as np\n",
    "import pandas as pd\n",
    "import lxml\n",
    "import re\n",
    "import os\n",
    "from datetime import datetime"
   ]
  },
  {
   "attachments": {},
   "cell_type": "markdown",
   "metadata": {},
   "source": [
    "# Import XML outbound files from Roadnet"
   ]
  },
  {
   "cell_type": "code",
   "execution_count": 691,
   "metadata": {},
   "outputs": [],
   "source": [
    "# Set filenames\n",
    "consolidated_roadnet_out_file = 'data/roadnet/xml_consolidated/consolidated_roadnet_out.xml'\n",
    "roadnet_inbound_file = 'data/roadnet/inbound/rdnet_in.csv'"
   ]
  },
  {
   "cell_type": "code",
   "execution_count": 692,
   "metadata": {},
   "outputs": [],
   "source": [
    "try:\n",
    "    os.remove(consolidated_roadnet_out_file)\n",
    "except:\n",
    "    print(consolidated_roadnet_out_file + ' not in folder')\n",
    "\n",
    "try:\n",
    "    os.remove(roadnet_inbound_file)\n",
    "except:\n",
    "    print(roadnet_inbound_file + ' not in folder')    "
   ]
  },
  {
   "cell_type": "code",
   "execution_count": 693,
   "metadata": {},
   "outputs": [],
   "source": [
    "# Clean up the xml_prep folder\n",
    "path = \"data/roadnet/xml_prep/\"\n",
    "dir_list = os.listdir(path)\n",
    "\n",
    "for i in range(0,len(dir_list)):\n",
    "    xml_file = path+dir_list[i]\n",
    "    os.remove(xml_file)"
   ]
  },
  {
   "cell_type": "code",
   "execution_count": 694,
   "metadata": {},
   "outputs": [
    {
     "name": "stdout",
     "output_type": "stream",
     "text": [
      "Files and directories in ' data/roadnet/xml_outbound/ ' :\n",
      "['Roadnet session composite entity (1).xml', 'Roadnet session composite entity (2).xml', 'Roadnet session composite entity.xml']\n"
     ]
    }
   ],
   "source": [
    "# Get the list of all files and directories\n",
    "path = \"data/roadnet/xml_outbound/\"\n",
    "dir_list = os.listdir(path)\n",
    "\n",
    "print(\"Files and directories in '\", path, \"' :\")\n",
    "\n",
    "# prints all files\n",
    "print(dir_list)"
   ]
  },
  {
   "cell_type": "code",
   "execution_count": 695,
   "metadata": {},
   "outputs": [],
   "source": [
    "# Convert D365 XML output from a single line (with no newlines) to multiple lines by inserting a newline after evert '>' character\n",
    "def xml_to_multiple_lines(fname, fnum):\n",
    "\n",
    "    with open(fname, 'r') as fr:\n",
    "        # reading line by line\n",
    "        lines = fr.readlines()\n",
    "        last_line = len(lines)\n",
    "        print(last_line)\n",
    "\n",
    "    for line in lines:\n",
    "        replaced_line = re.sub(\">\", \">\\u000A\", line)\n",
    "\n",
    "    outfile = 'data/roadnet/xml_prep/f'+str(fnum)+'.xml'\n",
    "\n",
    "    with open(outfile, 'w') as fw:\n",
    "        fw.write(replaced_line)    \n",
    "\n",
    "    return"
   ]
  },
  {
   "cell_type": "code",
   "execution_count": 696,
   "metadata": {},
   "outputs": [
    {
     "name": "stdout",
     "output_type": "stream",
     "text": [
      "data/roadnet/xml_outbound/Roadnet session composite entity (1).xml\n",
      "1\n",
      "data/roadnet/xml_outbound/Roadnet session composite entity (2).xml\n",
      "1\n",
      "data/roadnet/xml_outbound/Roadnet session composite entity.xml\n",
      "1\n"
     ]
    }
   ],
   "source": [
    "# Convert xml from D365 by adding newlines\n",
    "\n",
    "for i in range(0,len(dir_list)):\n",
    "    xml_file = path+dir_list[i]\n",
    "    print(xml_file)\n",
    "    xml_to_multiple_lines(xml_file,i)\n",
    "\n",
    "number_of_xml = len(dir_list)"
   ]
  },
  {
   "cell_type": "code",
   "execution_count": 697,
   "metadata": {},
   "outputs": [],
   "source": [
    "# Get the list of all files and directories\n",
    "path = \"data/roadnet/xml_prep/\"\n",
    "prep_dir_list = os.listdir(path)"
   ]
  },
  {
   "cell_type": "code",
   "execution_count": 698,
   "metadata": {},
   "outputs": [],
   "source": [
    "def import_roadnet_files(fname, fnum, outfile):\n",
    "\n",
    "    if fnum == 0:\n",
    "        print('Import first file')\n",
    "        try:    \n",
    "            with open(fname, 'r') as fr:\n",
    "                # reading line by line\n",
    "                lines = fr.readlines()\n",
    "\n",
    "                last_line = len(lines)\n",
    "\n",
    "                # pointer for position\n",
    "                ptr = 1\n",
    "\n",
    "                # opening in writing mode\n",
    "                with open(outfile, 'a') as fw:\n",
    "                    for line in lines:             \n",
    "                        if ptr != 3 and ptr != last_line-1 and ptr != last_line and len(line) > 1:\n",
    "                            fw.write(line)\n",
    "                            #print(line)\n",
    "                        ptr += 1\n",
    "            print(fname+\" lines deleted\")\n",
    "\n",
    "        except:\n",
    "            print(\"Error importing \"+fname)\n",
    "\n",
    "\n",
    "    # For all files except the first and last\n",
    "    # Last file: delete lines 1,2,3 and the last and 2nd last line in the file\n",
    "    if len(prep_dir_list) > 2 and fnum < len(prep_dir_list)-1 and fnum > 0:\n",
    "        try:    \n",
    "            with open(fname, 'r') as fr:\n",
    "                # reading line by line\n",
    "                lines = fr.readlines()\n",
    "\n",
    "                last_line = len(lines)\n",
    "\n",
    "                # pointer for position\n",
    "                ptr = 1\n",
    "\n",
    "                # opening in writing mode\n",
    "                with open(outfile, 'a') as fw:\n",
    "                    for line in lines:             \n",
    "                        if ptr != 3 and ptr != 1 and ptr != 2 and ptr != last_line-1 and ptr != last_line and len(line) > 1:\n",
    "                            fw.write(line)\n",
    "                            #print(line)\n",
    "                        ptr += 1\n",
    "            print(fname+\" lines deleted\")\n",
    "\n",
    "        except:\n",
    "            print(\"Error importing \"+fname)        \n",
    "\n",
    "\n",
    "    # Last file: delete lines 1,2,3 and the 2nd last line in the file\n",
    "    # if ptr != 3 and ptr != 1 and ptr != 2 and ptr != last_line-1 and len(line) > 1:\n",
    "    if fnum == len(prep_dir_list)-1 and fnum > 0:\n",
    "        print('Import last file')\n",
    "        try:    \n",
    "            with open(fname, 'r') as fr:\n",
    "                # reading line by line\n",
    "                lines = fr.readlines()\n",
    "\n",
    "                last_line = len(lines)\n",
    "\n",
    "                # pointer for position\n",
    "                ptr = 1\n",
    "\n",
    "                # opening in writing mode\n",
    "                with open(outfile, 'a') as fw:\n",
    "                    for line in lines:             \n",
    "                        if ptr != 3 and ptr != 1 and ptr != 2 and ptr != last_line-1:\n",
    "                            fw.write(line)\n",
    "                            #print(line)\n",
    "                        ptr += 1\n",
    "            print(fname+\" lines deleted\")\n",
    "\n",
    "        except:\n",
    "            print(\"Error importing \"+fname)\n",
    "\n"
   ]
  },
  {
   "cell_type": "code",
   "execution_count": 699,
   "metadata": {},
   "outputs": [
    {
     "name": "stdout",
     "output_type": "stream",
     "text": [
      "data/roadnet/xml_prep/f2.xml\n",
      "Import first file\n",
      "data/roadnet/xml_prep/f2.xml lines deleted\n",
      "data/roadnet/xml_prep/f1.xml\n",
      "data/roadnet/xml_prep/f1.xml lines deleted\n",
      "data/roadnet/xml_prep/f0.xml\n",
      "Import last file\n",
      "data/roadnet/xml_prep/f0.xml lines deleted\n"
     ]
    }
   ],
   "source": [
    "# Consolidate the xml files\n",
    "\n",
    "for i in range(0,len(prep_dir_list)):\n",
    "    xml_file = path+prep_dir_list[i]\n",
    "    #print(i)\n",
    "    print(xml_file)\n",
    "    import_roadnet_files(xml_file,i, consolidated_roadnet_out_file)"
   ]
  },
  {
   "cell_type": "code",
   "execution_count": 700,
   "metadata": {},
   "outputs": [],
   "source": [
    "rdnet_out = pd.read_xml(consolidated_roadnet_out_file)"
   ]
  },
  {
   "cell_type": "code",
   "execution_count": 701,
   "metadata": {},
   "outputs": [
    {
     "data": {
      "text/html": [
       "<div>\n",
       "<style scoped>\n",
       "    .dataframe tbody tr th:only-of-type {\n",
       "        vertical-align: middle;\n",
       "    }\n",
       "\n",
       "    .dataframe tbody tr th {\n",
       "        vertical-align: top;\n",
       "    }\n",
       "\n",
       "    .dataframe thead th {\n",
       "        text-align: right;\n",
       "    }\n",
       "</style>\n",
       "<table border=\"1\" class=\"dataframe\">\n",
       "  <thead>\n",
       "    <tr style=\"text-align: right;\">\n",
       "      <th></th>\n",
       "      <th>INVENTTRANSID</th>\n",
       "      <th>BLOCKEDSTATUS</th>\n",
       "      <th>CITY</th>\n",
       "      <th>CREDITRELEASEDATE</th>\n",
       "      <th>CREDITRELEASETIME</th>\n",
       "      <th>DAILYURGENCYINCREASE</th>\n",
       "      <th>DEPENDENCY</th>\n",
       "      <th>DESCRIPTION</th>\n",
       "      <th>DYNAMICSINTERNALSESSIONID</th>\n",
       "      <th>ERROR</th>\n",
       "      <th>...</th>\n",
       "      <th>REFTABLEID</th>\n",
       "      <th>ROADNETROUTE</th>\n",
       "      <th>SALESMANAGER</th>\n",
       "      <th>SHIPDATE</th>\n",
       "      <th>URGENCY</th>\n",
       "      <th>VOLUME</th>\n",
       "      <th>WAREHOUSEDESC</th>\n",
       "      <th>WAREHOUSEID</th>\n",
       "      <th>WEIGHT</th>\n",
       "      <th>WEIGHTUNIT</th>\n",
       "    </tr>\n",
       "  </thead>\n",
       "  <tbody>\n",
       "    <tr>\n",
       "      <th>0</th>\n",
       "      <td>ZA1-007165390</td>\n",
       "      <td>0</td>\n",
       "      <td>Bloemfontein</td>\n",
       "      <td>1900-01-01T00:00:00+00:00</td>\n",
       "      <td>0</td>\n",
       "      <td>0</td>\n",
       "      <td>0</td>\n",
       "      <td>BISMILLAH WHOLESALER</td>\n",
       "      <td>ZA1-000001379</td>\n",
       "      <td>NaN</td>\n",
       "      <td>...</td>\n",
       "      <td>1328</td>\n",
       "      <td>ZA531B01</td>\n",
       "      <td>NaN</td>\n",
       "      <td>2023-01-10T00:00:00+00:00</td>\n",
       "      <td>0</td>\n",
       "      <td>332605000.0</td>\n",
       "      <td>LDP UPINGTON WH</td>\n",
       "      <td>ZA534B</td>\n",
       "      <td>180.348</td>\n",
       "      <td>CS</td>\n",
       "    </tr>\n",
       "    <tr>\n",
       "      <th>1</th>\n",
       "      <td>ZA1-007165387</td>\n",
       "      <td>0</td>\n",
       "      <td>Bloemfontein</td>\n",
       "      <td>1900-01-01T00:00:00+00:00</td>\n",
       "      <td>0</td>\n",
       "      <td>0</td>\n",
       "      <td>0</td>\n",
       "      <td>MANHUBE TUMELO PROJECTS</td>\n",
       "      <td>ZA1-000001377</td>\n",
       "      <td>NaN</td>\n",
       "      <td>...</td>\n",
       "      <td>1328</td>\n",
       "      <td>ZA531B01</td>\n",
       "      <td>NaN</td>\n",
       "      <td>2023-01-10T00:00:00+00:00</td>\n",
       "      <td>0</td>\n",
       "      <td>142545000.0</td>\n",
       "      <td>LDP MAFIKENG WH</td>\n",
       "      <td>ZA537B</td>\n",
       "      <td>77.292</td>\n",
       "      <td>CS</td>\n",
       "    </tr>\n",
       "    <tr>\n",
       "      <th>2</th>\n",
       "      <td>ZA1-007148741</td>\n",
       "      <td>0</td>\n",
       "      <td>Bloemfontein</td>\n",
       "      <td>1900-01-01T00:00:00+00:00</td>\n",
       "      <td>0</td>\n",
       "      <td>0</td>\n",
       "      <td>0</td>\n",
       "      <td>2 FAT COWS</td>\n",
       "      <td>ZA1-000001378</td>\n",
       "      <td>NaN</td>\n",
       "      <td>...</td>\n",
       "      <td>1328</td>\n",
       "      <td>ZA531B01</td>\n",
       "      <td>NaN</td>\n",
       "      <td>2023-01-10T00:00:00+00:00</td>\n",
       "      <td>0</td>\n",
       "      <td>150000000.0</td>\n",
       "      <td>LDP BLOEMFONTEIN WH</td>\n",
       "      <td>ZA531B</td>\n",
       "      <td>80.250</td>\n",
       "      <td>CS</td>\n",
       "    </tr>\n",
       "  </tbody>\n",
       "</table>\n",
       "<p>3 rows × 38 columns</p>\n",
       "</div>"
      ],
      "text/plain": [
       "   INVENTTRANSID  BLOCKEDSTATUS          CITY          CREDITRELEASEDATE  \\\n",
       "0  ZA1-007165390              0  Bloemfontein  1900-01-01T00:00:00+00:00   \n",
       "1  ZA1-007165387              0  Bloemfontein  1900-01-01T00:00:00+00:00   \n",
       "2  ZA1-007148741              0  Bloemfontein  1900-01-01T00:00:00+00:00   \n",
       "\n",
       "   CREDITRELEASETIME  DAILYURGENCYINCREASE  DEPENDENCY  \\\n",
       "0                  0                     0           0   \n",
       "1                  0                     0           0   \n",
       "2                  0                     0           0   \n",
       "\n",
       "               DESCRIPTION DYNAMICSINTERNALSESSIONID  ERROR  ...  REFTABLEID  \\\n",
       "0     BISMILLAH WHOLESALER             ZA1-000001379    NaN  ...        1328   \n",
       "1  MANHUBE TUMELO PROJECTS             ZA1-000001377    NaN  ...        1328   \n",
       "2               2 FAT COWS             ZA1-000001378    NaN  ...        1328   \n",
       "\n",
       "   ROADNETROUTE SALESMANAGER                   SHIPDATE  URGENCY       VOLUME  \\\n",
       "0      ZA531B01          NaN  2023-01-10T00:00:00+00:00        0  332605000.0   \n",
       "1      ZA531B01          NaN  2023-01-10T00:00:00+00:00        0  142545000.0   \n",
       "2      ZA531B01          NaN  2023-01-10T00:00:00+00:00        0  150000000.0   \n",
       "\n",
       "         WAREHOUSEDESC  WAREHOUSEID   WEIGHT WEIGHTUNIT  \n",
       "0      LDP UPINGTON WH       ZA534B  180.348         CS  \n",
       "1      LDP MAFIKENG WH       ZA537B   77.292         CS  \n",
       "2  LDP BLOEMFONTEIN WH       ZA531B   80.250         CS  \n",
       "\n",
       "[3 rows x 38 columns]"
      ]
     },
     "execution_count": 701,
     "metadata": {},
     "output_type": "execute_result"
    }
   ],
   "source": [
    "rdnet_out"
   ]
  },
  {
   "cell_type": "code",
   "execution_count": 702,
   "metadata": {},
   "outputs": [],
   "source": [
    "#rdnet_out.info()"
   ]
  },
  {
   "cell_type": "code",
   "execution_count": 703,
   "metadata": {},
   "outputs": [],
   "source": [
    "rdnet_in = rdnet_out[['QUANTITY','LOCATIONID','INVENTTRANSID','ITEMID','ORDERID','WAREHOUSEID','PRODUCTNAME','ROADNETROUTE','ORDERACCOUNT','ORDERACCOUNTNAME','WEIGHT']]"
   ]
  },
  {
   "cell_type": "code",
   "execution_count": 704,
   "metadata": {},
   "outputs": [
    {
     "name": "stderr",
     "output_type": "stream",
     "text": [
      "/tmp/ipykernel_22834/554851200.py:1: SettingWithCopyWarning: \n",
      "A value is trying to be set on a copy of a slice from a DataFrame\n",
      "\n",
      "See the caveats in the documentation: https://pandas.pydata.org/pandas-docs/stable/user_guide/indexing.html#returning-a-view-versus-a-copy\n",
      "  rdnet_in.rename(columns={'QUANTITY':'CASEQTY','LOCATIONID':'DESTINATIONLOCATIONID','ORDERID':'ORDERNUMBER','WAREHOUSEID':'ORIGINLOCATIONID','ORDERACCOUNT':'STOPLOCATIONID','ORDERACCOUNTNAME':'STOPLOCATIONNAME'}, inplace=True)\n"
     ]
    }
   ],
   "source": [
    "rdnet_in.rename(columns={'QUANTITY':'CASEQTY','LOCATIONID':'DESTINATIONLOCATIONID','ORDERID':'ORDERNUMBER','WAREHOUSEID':'ORIGINLOCATIONID','ORDERACCOUNT':'STOPLOCATIONID','ORDERACCOUNTNAME':'STOPLOCATIONNAME'}, inplace=True)"
   ]
  },
  {
   "cell_type": "code",
   "execution_count": 705,
   "metadata": {},
   "outputs": [
    {
     "name": "stderr",
     "output_type": "stream",
     "text": [
      "/tmp/ipykernel_22834/3570605316.py:1: SettingWithCopyWarning: \n",
      "A value is trying to be set on a copy of a slice from a DataFrame.\n",
      "Try using .loc[row_indexer,col_indexer] = value instead\n",
      "\n",
      "See the caveats in the documentation: https://pandas.pydata.org/pandas-docs/stable/user_guide/indexing.html#returning-a-view-versus-a-copy\n",
      "  rdnet_in['DYNAMICSRETRIEVALSESSIONID'] = 'ZA1-000000661'\n"
     ]
    }
   ],
   "source": [
    "rdnet_in['DYNAMICSRETRIEVALSESSIONID'] = 'ZA1-000000661'"
   ]
  },
  {
   "cell_type": "code",
   "execution_count": 706,
   "metadata": {},
   "outputs": [
    {
     "name": "stdout",
     "output_type": "stream",
     "text": [
      "Today date is:  20230110-17h47-\n"
     ]
    }
   ],
   "source": [
    "today = str(datetime.now())\n",
    "today = today.replace(':','h')\n",
    "today = today.replace('-','')\n",
    "today = today.replace(' ','-')\n",
    "today = today[0:14] + '-'\n",
    "print(\"Today date is: \", today)"
   ]
  },
  {
   "cell_type": "code",
   "execution_count": 707,
   "metadata": {},
   "outputs": [
    {
     "name": "stderr",
     "output_type": "stream",
     "text": [
      "/tmp/ipykernel_22834/1341196141.py:1: SettingWithCopyWarning: \n",
      "A value is trying to be set on a copy of a slice from a DataFrame.\n",
      "Try using .loc[row_indexer,col_indexer] = value instead\n",
      "\n",
      "See the caveats in the documentation: https://pandas.pydata.org/pandas-docs/stable/user_guide/indexing.html#returning-a-view-versus-a-copy\n",
      "  rdnet_in['ROADNETROUTEINTERNALROUTEID'] = today + rdnet_in['STOPLOCATIONID'].astype(str)\n"
     ]
    }
   ],
   "source": [
    "rdnet_in['ROADNETROUTEINTERNALROUTEID'] = today + rdnet_in['STOPLOCATIONID'].astype(str)"
   ]
  },
  {
   "cell_type": "code",
   "execution_count": 708,
   "metadata": {},
   "outputs": [],
   "source": [
    "no_of_customers = len(rdnet_in['STOPLOCATIONID'].unique())"
   ]
  },
  {
   "cell_type": "code",
   "execution_count": 709,
   "metadata": {},
   "outputs": [
    {
     "data": {
      "text/plain": [
       "\"\\nroute_id_df = pd.DataFrame(rdnet_in['STOPLOCATIONID'].unique())\\nindex = range(1,no_of_customers+1,1)\\nroute_id_df['ROADNETROUTEINTERNALROUTEID']=index\\nroute_id_df['ROADNETROUTEINTERNALROUTEID']=route_id_df['ROADNETROUTEINTERNALROUTEID'].astype(str)\\n\""
      ]
     },
     "execution_count": 709,
     "metadata": {},
     "output_type": "execute_result"
    }
   ],
   "source": [
    "'''\n",
    "route_id_df = pd.DataFrame(rdnet_in['STOPLOCATIONID'].unique())\n",
    "index = range(1,no_of_customers+1,1)\n",
    "route_id_df['ROADNETROUTEINTERNALROUTEID']=index\n",
    "route_id_df['ROADNETROUTEINTERNALROUTEID']=route_id_df['ROADNETROUTEINTERNALROUTEID'].astype(str)\n",
    "'''"
   ]
  },
  {
   "cell_type": "code",
   "execution_count": 710,
   "metadata": {},
   "outputs": [
    {
     "data": {
      "text/plain": [
       "\"\\nroute_id_df['ROADNETROUTEINTERNALROUTEID'] = route_id_df['ROADNETROUTEINTERNALROUTEID'].str.zfill(4)\\nroute_id_df['ROADNETROUTEINTERNALROUTEID'] = today + route_id_df['ROADNETROUTEINTERNALROUTEID']\\n\""
      ]
     },
     "execution_count": 710,
     "metadata": {},
     "output_type": "execute_result"
    }
   ],
   "source": [
    "'''\n",
    "route_id_df['ROADNETROUTEINTERNALROUTEID'] = route_id_df['ROADNETROUTEINTERNALROUTEID'].str.zfill(4)\n",
    "route_id_df['ROADNETROUTEINTERNALROUTEID'] = today + route_id_df['ROADNETROUTEINTERNALROUTEID']\n",
    "'''"
   ]
  },
  {
   "cell_type": "code",
   "execution_count": 711,
   "metadata": {},
   "outputs": [
    {
     "name": "stderr",
     "output_type": "stream",
     "text": [
      "/tmp/ipykernel_22834/1580939690.py:1: SettingWithCopyWarning: \n",
      "A value is trying to be set on a copy of a slice from a DataFrame.\n",
      "Try using .loc[row_indexer,col_indexer] = value instead\n",
      "\n",
      "See the caveats in the documentation: https://pandas.pydata.org/pandas-docs/stable/user_guide/indexing.html#returning-a-view-versus-a-copy\n",
      "  rdnet_in['APPTID'] = ''\n",
      "/tmp/ipykernel_22834/1580939690.py:2: SettingWithCopyWarning: \n",
      "A value is trying to be set on a copy of a slice from a DataFrame.\n",
      "Try using .loc[row_indexer,col_indexer] = value instead\n",
      "\n",
      "See the caveats in the documentation: https://pandas.pydata.org/pandas-docs/stable/user_guide/indexing.html#returning-a-view-versus-a-copy\n",
      "  rdnet_in['DESCRIPTION'] = 'BLOEM_PLAN'\n",
      "/tmp/ipykernel_22834/1580939690.py:3: SettingWithCopyWarning: \n",
      "A value is trying to be set on a copy of a slice from a DataFrame.\n",
      "Try using .loc[row_indexer,col_indexer] = value instead\n",
      "\n",
      "See the caveats in the documentation: https://pandas.pydata.org/pandas-docs/stable/user_guide/indexing.html#returning-a-view-versus-a-copy\n",
      "  rdnet_in['ERROR'] = ''\n",
      "/tmp/ipykernel_22834/1580939690.py:4: SettingWithCopyWarning: \n",
      "A value is trying to be set on a copy of a slice from a DataFrame.\n",
      "Try using .loc[row_indexer,col_indexer] = value instead\n",
      "\n",
      "See the caveats in the documentation: https://pandas.pydata.org/pandas-docs/stable/user_guide/indexing.html#returning-a-view-versus-a-copy\n",
      "  rdnet_in['FIRSTDRIVER'] = '825196'\n",
      "/tmp/ipykernel_22834/1580939690.py:5: SettingWithCopyWarning: \n",
      "A value is trying to be set on a copy of a slice from a DataFrame.\n",
      "Try using .loc[row_indexer,col_indexer] = value instead\n",
      "\n",
      "See the caveats in the documentation: https://pandas.pydata.org/pandas-docs/stable/user_guide/indexing.html#returning-a-view-versus-a-copy\n",
      "  rdnet_in['FIRSTTRAILER'] = 'ST29PTAIL'\n",
      "/tmp/ipykernel_22834/1580939690.py:6: SettingWithCopyWarning: \n",
      "A value is trying to be set on a copy of a slice from a DataFrame.\n",
      "Try using .loc[row_indexer,col_indexer] = value instead\n",
      "\n",
      "See the caveats in the documentation: https://pandas.pydata.org/pandas-docs/stable/user_guide/indexing.html#returning-a-view-versus-a-copy\n",
      "  rdnet_in['LASTSTOPISDESTINATION'] = 'No'\n",
      "/tmp/ipykernel_22834/1580939690.py:7: SettingWithCopyWarning: \n",
      "A value is trying to be set on a copy of a slice from a DataFrame.\n",
      "Try using .loc[row_indexer,col_indexer] = value instead\n",
      "\n",
      "See the caveats in the documentation: https://pandas.pydata.org/pandas-docs/stable/user_guide/indexing.html#returning-a-view-versus-a-copy\n",
      "  rdnet_in['LOADID'] = ''\n",
      "/tmp/ipykernel_22834/1580939690.py:8: SettingWithCopyWarning: \n",
      "A value is trying to be set on a copy of a slice from a DataFrame.\n",
      "Try using .loc[row_indexer,col_indexer] = value instead\n",
      "\n",
      "See the caveats in the documentation: https://pandas.pydata.org/pandas-docs/stable/user_guide/indexing.html#returning-a-view-versus-a-copy\n",
      "  rdnet_in['LOADTEMPLATEID'] = ''\n",
      "/tmp/ipykernel_22834/1580939690.py:9: SettingWithCopyWarning: \n",
      "A value is trying to be set on a copy of a slice from a DataFrame.\n",
      "Try using .loc[row_indexer,col_indexer] = value instead\n",
      "\n",
      "See the caveats in the documentation: https://pandas.pydata.org/pandas-docs/stable/user_guide/indexing.html#returning-a-view-versus-a-copy\n",
      "  rdnet_in['ORDERTYPE'] = 'rotOrder'\n",
      "/tmp/ipykernel_22834/1580939690.py:10: SettingWithCopyWarning: \n",
      "A value is trying to be set on a copy of a slice from a DataFrame.\n",
      "Try using .loc[row_indexer,col_indexer] = value instead\n",
      "\n",
      "See the caveats in the documentation: https://pandas.pydata.org/pandas-docs/stable/user_guide/indexing.html#returning-a-view-versus-a-copy\n",
      "  rdnet_in['ORIGINDESTINATION'] = 'Yes'\n",
      "/tmp/ipykernel_22834/1580939690.py:11: SettingWithCopyWarning: \n",
      "A value is trying to be set on a copy of a slice from a DataFrame.\n",
      "Try using .loc[row_indexer,col_indexer] = value instead\n",
      "\n",
      "See the caveats in the documentation: https://pandas.pydata.org/pandas-docs/stable/user_guide/indexing.html#returning-a-view-versus-a-copy\n",
      "  rdnet_in['PALLETQTY'] = '0'\n",
      "/tmp/ipykernel_22834/1580939690.py:12: SettingWithCopyWarning: \n",
      "A value is trying to be set on a copy of a slice from a DataFrame.\n",
      "Try using .loc[row_indexer,col_indexer] = value instead\n",
      "\n",
      "See the caveats in the documentation: https://pandas.pydata.org/pandas-docs/stable/user_guide/indexing.html#returning-a-view-versus-a-copy\n",
      "  rdnet_in['REFERENCECATEGORY'] = 'Sales'\n",
      "/tmp/ipykernel_22834/1580939690.py:13: SettingWithCopyWarning: \n",
      "A value is trying to be set on a copy of a slice from a DataFrame.\n",
      "Try using .loc[row_indexer,col_indexer] = value instead\n",
      "\n",
      "See the caveats in the documentation: https://pandas.pydata.org/pandas-docs/stable/user_guide/indexing.html#returning-a-view-versus-a-copy\n",
      "  rdnet_in['REFERENCEDOCUMENT'] = 'SalesOrder'\n",
      "/tmp/ipykernel_22834/1580939690.py:14: SettingWithCopyWarning: \n",
      "A value is trying to be set on a copy of a slice from a DataFrame.\n",
      "Try using .loc[row_indexer,col_indexer] = value instead\n",
      "\n",
      "See the caveats in the documentation: https://pandas.pydata.org/pandas-docs/stable/user_guide/indexing.html#returning-a-view-versus-a-copy\n",
      "  rdnet_in['ROADNETINTERNALSESSIONID'] = '35411'\n",
      "/tmp/ipykernel_22834/1580939690.py:15: SettingWithCopyWarning: \n",
      "A value is trying to be set on a copy of a slice from a DataFrame.\n",
      "Try using .loc[row_indexer,col_indexer] = value instead\n",
      "\n",
      "See the caveats in the documentation: https://pandas.pydata.org/pandas-docs/stable/user_guide/indexing.html#returning-a-view-versus-a-copy\n",
      "  rdnet_in['ROADNETREGIONID'] = 'ZA1'\n",
      "/tmp/ipykernel_22834/1580939690.py:16: SettingWithCopyWarning: \n",
      "A value is trying to be set on a copy of a slice from a DataFrame.\n",
      "Try using .loc[row_indexer,col_indexer] = value instead\n",
      "\n",
      "See the caveats in the documentation: https://pandas.pydata.org/pandas-docs/stable/user_guide/indexing.html#returning-a-view-versus-a-copy\n",
      "  rdnet_in['ROUTECODE'] = ''\n",
      "/tmp/ipykernel_22834/1580939690.py:17: SettingWithCopyWarning: \n",
      "A value is trying to be set on a copy of a slice from a DataFrame.\n",
      "Try using .loc[row_indexer,col_indexer] = value instead\n",
      "\n",
      "See the caveats in the documentation: https://pandas.pydata.org/pandas-docs/stable/user_guide/indexing.html#returning-a-view-versus-a-copy\n",
      "  rdnet_in['SECONDDRIVER'] = ''\n",
      "/tmp/ipykernel_22834/1580939690.py:18: SettingWithCopyWarning: \n",
      "A value is trying to be set on a copy of a slice from a DataFrame.\n",
      "Try using .loc[row_indexer,col_indexer] = value instead\n",
      "\n",
      "See the caveats in the documentation: https://pandas.pydata.org/pandas-docs/stable/user_guide/indexing.html#returning-a-view-versus-a-copy\n",
      "  rdnet_in['SECONDTRAILER'] = ''\n",
      "/tmp/ipykernel_22834/1580939690.py:19: SettingWithCopyWarning: \n",
      "A value is trying to be set on a copy of a slice from a DataFrame.\n",
      "Try using .loc[row_indexer,col_indexer] = value instead\n",
      "\n",
      "See the caveats in the documentation: https://pandas.pydata.org/pandas-docs/stable/user_guide/indexing.html#returning-a-view-versus-a-copy\n",
      "  rdnet_in['SEQUENCEDISTANCE'] = '.000000'\n",
      "/tmp/ipykernel_22834/1580939690.py:20: SettingWithCopyWarning: \n",
      "A value is trying to be set on a copy of a slice from a DataFrame.\n",
      "Try using .loc[row_indexer,col_indexer] = value instead\n",
      "\n",
      "See the caveats in the documentation: https://pandas.pydata.org/pandas-docs/stable/user_guide/indexing.html#returning-a-view-versus-a-copy\n",
      "  rdnet_in['SEQUENCENUMBER'] = '1'\n",
      "/tmp/ipykernel_22834/1580939690.py:21: SettingWithCopyWarning: \n",
      "A value is trying to be set on a copy of a slice from a DataFrame.\n",
      "Try using .loc[row_indexer,col_indexer] = value instead\n",
      "\n",
      "See the caveats in the documentation: https://pandas.pydata.org/pandas-docs/stable/user_guide/indexing.html#returning-a-view-versus-a-copy\n",
      "  rdnet_in['SEQUENCETRAVELTIME'] = '0'\n",
      "/tmp/ipykernel_22834/1580939690.py:22: SettingWithCopyWarning: \n",
      "A value is trying to be set on a copy of a slice from a DataFrame.\n",
      "Try using .loc[row_indexer,col_indexer] = value instead\n",
      "\n",
      "See the caveats in the documentation: https://pandas.pydata.org/pandas-docs/stable/user_guide/indexing.html#returning-a-view-versus-a-copy\n",
      "  rdnet_in['SHIPPINGCARRIER'] = '0'\n",
      "/tmp/ipykernel_22834/1580939690.py:23: SettingWithCopyWarning: \n",
      "A value is trying to be set on a copy of a slice from a DataFrame.\n",
      "Try using .loc[row_indexer,col_indexer] = value instead\n",
      "\n",
      "See the caveats in the documentation: https://pandas.pydata.org/pandas-docs/stable/user_guide/indexing.html#returning-a-view-versus-a-copy\n",
      "  rdnet_in['STATUS'] = 'Error'\n",
      "/tmp/ipykernel_22834/1580939690.py:24: SettingWithCopyWarning: \n",
      "A value is trying to be set on a copy of a slice from a DataFrame.\n",
      "Try using .loc[row_indexer,col_indexer] = value instead\n",
      "\n",
      "See the caveats in the documentation: https://pandas.pydata.org/pandas-docs/stable/user_guide/indexing.html#returning-a-view-versus-a-copy\n",
      "  rdnet_in['STOPTYPE'] = 'stpStop'\n"
     ]
    }
   ],
   "source": [
    "rdnet_in['APPTID'] = ''\n",
    "rdnet_in['DESCRIPTION'] = 'BLOEM_PLAN'\n",
    "rdnet_in['ERROR'] = ''\n",
    "rdnet_in['FIRSTDRIVER'] = '825196'\n",
    "rdnet_in['FIRSTTRAILER'] = 'ST29PTAIL'\n",
    "rdnet_in['LASTSTOPISDESTINATION'] = 'No'\n",
    "rdnet_in['LOADID'] = ''\n",
    "rdnet_in['LOADTEMPLATEID'] = ''\n",
    "rdnet_in['ORDERTYPE'] = 'rotOrder'\n",
    "rdnet_in['ORIGINDESTINATION'] = 'Yes'\n",
    "rdnet_in['PALLETQTY'] = '0'\n",
    "rdnet_in['REFERENCECATEGORY'] = 'Sales'\n",
    "rdnet_in['REFERENCEDOCUMENT'] = 'SalesOrder'\n",
    "rdnet_in['ROADNETINTERNALSESSIONID'] = '35411'\n",
    "rdnet_in['ROADNETREGIONID'] = 'ZA1'\n",
    "rdnet_in['ROUTECODE'] = ''\n",
    "rdnet_in['SECONDDRIVER'] = ''\n",
    "rdnet_in['SECONDTRAILER'] = ''\n",
    "rdnet_in['SEQUENCEDISTANCE'] = '.000000'\n",
    "rdnet_in['SEQUENCENUMBER'] = '1'\n",
    "rdnet_in['SEQUENCETRAVELTIME'] = '0'\n",
    "rdnet_in['SHIPPINGCARRIER'] = '0'\n",
    "rdnet_in['STATUS'] = 'Error'\n",
    "rdnet_in['STOPTYPE'] = 'stpStop'\n",
    "rdnet_in['TOTALDISTANCE'] = '.000000'\n",
    "rdnet_in['TOTALROUTEDISTANCE'] = '.000000'\n",
    "rdnet_in['TRUCKANDTRAILERASSIGNED'] = 'No'\n",
    "rdnet_in['UNITID'] = ''\n",
    "rdnet_in['VEHICLEID'] = 'TT4X2TAIL'\n",
    "rdnet_in['STOPSERVICETIME'] = '720'\n",
    "rdnet_in['TOTALSERVICETIME'] = '720'\n",
    "rdnet_in['TOTALTRAVELTIME'] = '0'\n",
    "rdnet_in['LINEREFID'] = rdnet_in['INVENTTRANSID']\n"
   ]
  },
  {
   "cell_type": "code",
   "execution_count": 712,
   "metadata": {},
   "outputs": [],
   "source": [
    "#rdnet_in.info()"
   ]
  },
  {
   "cell_type": "code",
   "execution_count": 713,
   "metadata": {},
   "outputs": [],
   "source": [
    "rdnet_in['ROUTECOMPLETETIME'] = pd.to_datetime('today')\n",
    "rdnet_in['ROUTECOMPLETETIME'] = rdnet_in['ROUTECOMPLETETIME'].dt.normalize() + pd.Timedelta(days=1) + pd.Timedelta(hours=13) + pd.Timedelta(minutes=19)\n",
    "\n",
    "rdnet_in['ROUTESTARTTIME'] = pd.to_datetime('today')\n",
    "rdnet_in['ROUTESTARTTIME'] = rdnet_in['ROUTESTARTTIME'].dt.normalize() + pd.Timedelta(days=1) + pd.Timedelta(hours=4) + pd.Timedelta(minutes=0)\n",
    "\n",
    "rdnet_in['SCHEDULEDARRIVALDATETIME'] = pd.to_datetime('today')\n",
    "rdnet_in['SCHEDULEDARRIVALDATETIME'] = rdnet_in['SCHEDULEDARRIVALDATETIME'].dt.normalize() + pd.Timedelta(days=1) + pd.Timedelta(hours=12) + pd.Timedelta(minutes=59)\n",
    "\n",
    "rdnet_in['SCHEDULEDDELIVERYDATETIME'] = pd.to_datetime('today')\n",
    "rdnet_in['SCHEDULEDDELIVERYDATETIME'] = rdnet_in['SCHEDULEDDELIVERYDATETIME'].dt.normalize() + pd.Timedelta(days=1)\n",
    "\n",
    "rdnet_in['SCHEDULEDSHIPDATETIME'] = pd.to_datetime('today')\n",
    "rdnet_in['SCHEDULEDSHIPDATETIME'] = rdnet_in['SCHEDULEDSHIPDATETIME'].dt.normalize() + pd.Timedelta(days=1) + pd.Timedelta(hours=4) + pd.Timedelta(minutes=10)\n",
    "\n",
    "rdnet_in['STOPARRIVALTIME'] = pd.to_datetime('today')\n",
    "rdnet_in['STOPARRIVALTIME'] = rdnet_in['STOPARRIVALTIME'].dt.normalize() + pd.Timedelta(days=1) + pd.Timedelta(hours=8) + pd.Timedelta(minutes=28)"
   ]
  },
  {
   "attachments": {},
   "cell_type": "markdown",
   "metadata": {},
   "source": [
    "### Get customer master in order to get the postal code"
   ]
  },
  {
   "cell_type": "code",
   "execution_count": 714,
   "metadata": {},
   "outputs": [
    {
     "name": "stderr",
     "output_type": "stream",
     "text": [
      "/tmp/ipykernel_22834/2590905245.py:1: DtypeWarning: Columns (6,18,58,95,104,117,148) have mixed types. Specify dtype option on import or set low_memory=False.\n",
      "  customers=pd.read_csv('data/customer_master.csv')\n"
     ]
    }
   ],
   "source": [
    "customers=pd.read_csv('data/customer_master.csv')\n",
    "customers_short = customers[['ADDRESSZIPCODE','CUSTOMERACCOUNT','ORGANIZATIONNAME']].copy()\n",
    "customers_short['ADDRESSZIPCODE'] = customers_short['ADDRESSZIPCODE'].fillna(0)\n",
    "customers_short['ADDRESSZIPCODE'] = customers_short['ADDRESSZIPCODE'].astype(int)\n",
    "customers_short['ADDRESSZIPCODE'] = customers_short['ADDRESSZIPCODE'].astype(str)"
   ]
  },
  {
   "cell_type": "code",
   "execution_count": 715,
   "metadata": {},
   "outputs": [],
   "source": [
    "rdnet_in = pd.merge(\n",
    "    rdnet_in,\n",
    "    customers_short,\n",
    "    how=\"inner\",\n",
    "    on=None,\n",
    "    left_on='STOPLOCATIONID',\n",
    "    right_on='CUSTOMERACCOUNT',\n",
    "    left_index=False,\n",
    "    right_index=False,\n",
    "    sort=True,\n",
    "    suffixes=(\"_x\", \"_y\"),\n",
    "    copy=True,\n",
    "    indicator=False,\n",
    "    validate=None,\n",
    ")"
   ]
  },
  {
   "cell_type": "code",
   "execution_count": 716,
   "metadata": {},
   "outputs": [],
   "source": [
    "rdnet_in.rename(columns={'ADDRESSZIPCODE':'STOPPOSTALCODE'}, inplace=True)\n",
    "rdnet_in.drop(columns={'CUSTOMERACCOUNT', 'ORGANIZATIONNAME'}, inplace=True, axis=1)"
   ]
  },
  {
   "cell_type": "code",
   "execution_count": 717,
   "metadata": {},
   "outputs": [],
   "source": [
    "rdnet_in.to_csv(roadnet_inbound_file,index=False)"
   ]
  }
 ],
 "metadata": {
  "kernelspec": {
   "display_name": "Python 3",
   "language": "python",
   "name": "python3"
  },
  "language_info": {
   "codemirror_mode": {
    "name": "ipython",
    "version": 3
   },
   "file_extension": ".py",
   "mimetype": "text/x-python",
   "name": "python",
   "nbconvert_exporter": "python",
   "pygments_lexer": "ipython3",
   "version": "3.8.10"
  },
  "orig_nbformat": 4,
  "vscode": {
   "interpreter": {
    "hash": "916dbcbb3f70747c44a77c7bcd40155683ae19c65e1c03b4aa3499c5328201f1"
   }
  }
 },
 "nbformat": 4,
 "nbformat_minor": 2
}
