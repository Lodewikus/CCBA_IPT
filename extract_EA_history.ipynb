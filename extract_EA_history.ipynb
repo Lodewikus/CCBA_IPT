{
 "cells": [
  {
   "cell_type": "code",
   "execution_count": 48,
   "metadata": {},
   "outputs": [],
   "source": [
    "import json\n",
    "import numpy as np\n",
    "import pandas as pd\n",
    "import lxml\n",
    "import re\n",
    "import os\n",
    "from datetime import datetime, date, time\n",
    "import pyodbc\n",
    "import requests"
   ]
  },
  {
   "cell_type": "markdown",
   "metadata": {},
   "source": [
    "### Get EA script history in JSON format via the API"
   ]
  },
  {
   "cell_type": "code",
   "execution_count": 49,
   "metadata": {},
   "outputs": [
    {
     "name": "stderr",
     "output_type": "stream",
     "text": [
      "/usr/lib/python3/dist-packages/urllib3/connectionpool.py:999: InsecureRequestWarning: Unverified HTTPS request is being made to host 'ea.executive.automats.app'. Adding certificate verification is strongly advised. See: https://urllib3.readthedocs.io/en/latest/advanced-usage.html#ssl-warnings\n",
      "  warnings.warn(\n"
     ]
    },
    {
     "name": "stdout",
     "output_type": "stream",
     "text": [
      "200\n"
     ]
    }
   ],
   "source": [
    "custom_headers  = {\"Authorization\": \"Gt4qkl1ahFDcFyQwfjMBYT0utbLD4STHQjWdIXzsYH8v3w29M6Tm6tVKI0uMj6Qh\", \"Content-Type\": \"application/json\"}\n",
    "url = 'https://ea.executive.automats.app/api/bi/scripts?withHistory=true'\n",
    "\n",
    "resp = requests.get(url, headers = custom_headers, verify=False)\n",
    "print(resp.status_code)"
   ]
  },
  {
   "cell_type": "code",
   "execution_count": 50,
   "metadata": {},
   "outputs": [],
   "source": [
    "json_data = json.loads(resp.text)\n",
    "json_text = json.dumps(json_data, indent=4)"
   ]
  },
  {
   "cell_type": "code",
   "execution_count": 51,
   "metadata": {},
   "outputs": [],
   "source": [
    "try:\n",
    "    os.remove('data/execution/try.json')\n",
    "except:\n",
    "    print('File does not exist')\n",
    "\n",
    "with open('data/execution/try.json', 'w') as fw:\n",
    "    fw.write(json_text)"
   ]
  },
  {
   "cell_type": "markdown",
   "metadata": {},
   "source": [
    "### Remove invalid characters from the inbound JSON data"
   ]
  },
  {
   "cell_type": "code",
   "execution_count": 52,
   "metadata": {},
   "outputs": [
    {
     "name": "stdout",
     "output_type": "stream",
     "text": [
      "3384934\n"
     ]
    }
   ],
   "source": [
    "try:\n",
    "    os.remove('data/execution/script_history_fixed.json')\n",
    "except:\n",
    "    print('File does not exist')\n",
    "\n",
    "#with open('data/execution/script_history.json', 'r') as fr:\n",
    "with open('data/execution/try.json', 'r') as fr:    \n",
    "    # reading line by line\n",
    "    lines = fr.readlines()\n",
    "    last_line = len(lines)\n",
    "    print(len(lines))\n",
    "    \n",
    "    for line in lines:\n",
    "        line = re.sub(\"\\u0003\", \"\", line)\n",
    "        with open('data/execution/script_history_fixed.json', 'a') as fw:\n",
    "            fw.write(line) \n",
    "\n",
    "# Previous runtime = 1m 4s"
   ]
  },
  {
   "attachments": {},
   "cell_type": "markdown",
   "metadata": {},
   "source": [
    "### Parse the multilevel JSON into a CSV file"
   ]
  },
  {
   "cell_type": "code",
   "execution_count": 53,
   "metadata": {},
   "outputs": [],
   "source": [
    "f = open('data/execution/script_history_fixed.json')\n",
    "data = json.loads(f.read())"
   ]
  },
  {
   "cell_type": "code",
   "execution_count": 137,
   "metadata": {},
   "outputs": [],
   "source": [
    "try:\n",
    "    os.remove('data/execution/check_structure.csv')\n",
    "except:\n",
    "    print('File does not exist')\n",
    "with open('data/execution/check_structure.csv', 'a') as fw:\n",
    "    line = 'topProjectName,name,sessionId,executionLogsId,scriptId,scriptName,script_status,label,step_state,step_status,startTime,endTime,duration,lineNum,StepLogsId,lastIssues\\n'\n",
    "    #line = 'isn,topProjectName,name,sessionId,executionLogsId,scriptId,scriptName,script_status,label,step_state,step_status,startTime,endTime,duration,lineNum,StepLogsId,\\n'\n",
    "    fw.write(line)\n",
    "    i = 0\n",
    "    for level1 in data:\n",
    "        # for key, value in level1.items():\n",
    "        #     #if i == 100: break\n",
    "                     \n",
    "        try:\n",
    "            executionLogs_str = json.dumps(level1['executionLogs'])\n",
    "            executionLogs_json = json.loads(executionLogs_str)\n",
    "            for level2 in executionLogs_json:\n",
    "                for key2, value2 in level2.items():\n",
    "                    #try:\n",
    "                    startTime_str = str(level2['startTime'])\n",
    "                    startTime_str = startTime_str[0:10]\n",
    "                    startTime = datetime.strptime(startTime_str, '%Y-%m-%d')\n",
    "                    oldestHistory = datetime.strptime('2023-01-30', '%Y-%m-%d')\n",
    "                    executionStepLogs_str = json.dumps(level2['executionStepLogs'])\n",
    "                    executionStepLogs_json = json.loads(executionStepLogs_str)\n",
    "                    if key2 == 'executionStepLogs' and startTime >= oldestHistory:\n",
    "\n",
    "                        topProjectName = str(level1['topProjectName'])\n",
    "                        name_str = str(level1['name'])\n",
    "                        # Remove any commas from name \n",
    "                        check = (',' in name_str)\n",
    "                        if check == True:\n",
    "                            name_str = re.sub(',', ';', name_str)                            \n",
    "                        sessionId_str = str(level2['sessionId'])\n",
    "                        id_str = str(level2['id'])\n",
    "                        scriptId_str = str(level2['scriptId'])\n",
    "                        scriptName_str = str(level2['scriptName'])\n",
    "                        # Remove any commas from scriptName \n",
    "                        check = (',' in scriptName_str)\n",
    "                        if check == True:\n",
    "                            scriptName_str = re.sub(',', ';', scriptName_str)                             \n",
    "                        state_str = str(level2['state'])\n",
    "                        status2_str = str(level2['status'])\n",
    "                        lastIssues_str = str(level2['lastIssues'])\n",
    "                        # Remove any commas from lastIssues_str\n",
    "                        check = (',' in lastIssues_str)\n",
    "                        if check == True:\n",
    "                            lastIssues_str = re.sub(',', '~', lastIssues_str)\n",
    "                        check = ('\\n' in lastIssues_str)\n",
    "                        if check == True:\n",
    "                            lastIssues_str = re.sub('\\n', '|', lastIssues_str)                             \n",
    "\n",
    "\n",
    "                        for level3 in executionStepLogs_json:\n",
    "                            \n",
    "                            #for key3, value3 in level3.items():\n",
    "                            status3_str = str(level3['status'])\n",
    "                            label_str = str(level3['label'])\n",
    "                            \n",
    "                            # These lines replace long text test step labels with short text (that does not wrap)\n",
    "                            check = ('Click Dynamics 365' in label_str)\n",
    "                            if check == True:\n",
    "                                label_str = 'Click Dynamics 365'\n",
    "                            check = ('Click Sales Hub' in label_str)\n",
    "                            if check == True:\n",
    "                                label_str = 'Click Sales Hub'\n",
    "                            check = ('Type value function eaExecuteVariableValue()' in label_str)\n",
    "                            if check == True:\n",
    "                                label_str = 'Type value function eaExecuteVariableValue()'\n",
    "                            check = ('Select from function eaExecuteVariableValue()' in label_str)\n",
    "                            if check == True:\n",
    "                                label_str = 'Select from function eaExecuteVariableValue()'                                    \n",
    "                            check = ('Select lookup values function eaExecuteVariableValue()' in label_str)\n",
    "                            if check == True:\n",
    "                                label_str = 'Select lookup values function eaExecuteVariableValue()'\n",
    "                            # Remove any commas from label_str \n",
    "                            check = (',' in label_str)\n",
    "                            if check == True:\n",
    "                                label_str = re.sub(',', ';', label_str)\n",
    "                            # Now replace all newlines that remain in label_str\n",
    "                            check = ('\\n' in label_str)\n",
    "                            if check == True:\n",
    "                                label_str = re.sub('\\n', '/nl/', label_str)\n",
    "                            # Done with replacing text\n",
    "\n",
    "                            startTime_str = str(level3['startTime'])\n",
    "                            endTime_str = str(level3['endTime'])\n",
    "                            duration_str = str(level3['duration'])\n",
    "                            lineNum_str = str(level3['lineNum'])\n",
    "                            StepLogs_id_str = str(level3['id'])\n",
    "\n",
    "                            i = i + 1\n",
    "\n",
    "                            line = topProjectName+','+name_str+','+sessionId_str+','+id_str+','+scriptId_str+','+scriptName_str+','+status2_str+','+label_str+','+state_str+','+status3_str+','+startTime_str+','+endTime_str+','+duration_str+','+lineNum_str+','+StepLogs_id_str+','+lastIssues_str+'\\n'\n",
    "                            fw.write(line)\n",
    "                            if level3['id'] == 2:\n",
    "                                print(line)                                \n",
    "                        # except:\n",
    "                        #     print('Exception on Level2 for Level1 item '+str(i))\n",
    "        except:\n",
    "            #print('Exception for Level1 item '+str(i))\n",
    "            pass       \n",
    "\n",
    "    # Previous runtime = 25.7s   "
   ]
  },
  {
   "cell_type": "markdown",
   "metadata": {},
   "source": [
    "### Read the denormalized CSV file into a Pandas dataframe"
   ]
  },
  {
   "cell_type": "code",
   "execution_count": 386,
   "metadata": {},
   "outputs": [],
   "source": [
    "df = pd.read_csv('data/execution/check_structure.csv')\n",
    "\n",
    "# Previous runtime = 2.2s"
   ]
  },
  {
   "cell_type": "code",
   "execution_count": 387,
   "metadata": {},
   "outputs": [],
   "source": [
    "df = df.drop_duplicates()\n",
    "df = df.reset_index(drop=True)\n",
    "df.rename(columns={'label':'StepLabel'}, inplace=True)\n",
    "df.rename(columns={'name':'testName'}, inplace=True)"
   ]
  },
  {
   "cell_type": "code",
   "execution_count": 388,
   "metadata": {},
   "outputs": [],
   "source": [
    "df['lastIssues'] = df['lastIssues'].str.replace('|','\\n', regex=False)\n",
    "df['lastIssues'] = df['lastIssues'].str.replace('~',',', regex=False)"
   ]
  },
  {
   "cell_type": "code",
   "execution_count": 389,
   "metadata": {},
   "outputs": [],
   "source": [
    "df = df.dropna(subset = ['testName']).copy()"
   ]
  },
  {
   "cell_type": "code",
   "execution_count": 390,
   "metadata": {},
   "outputs": [],
   "source": [
    "mask = (df['startTime'] == 'None') \n",
    "df['startTime'].mask(mask,'2022-01-01T00:00:00.000Z',inplace=True)\n",
    "#df['startTime'] = pd.to_datetime(df['startTime'])"
   ]
  },
  {
   "cell_type": "code",
   "execution_count": 391,
   "metadata": {},
   "outputs": [],
   "source": [
    "mask = (df['endTime'] == 'None') \n",
    "df['endTime'].mask(mask,'2022-01-01T00:00:00.000Z',inplace=True)\n",
    "# df['endTime'] = pd.to_datetime(df['endTime'])"
   ]
  },
  {
   "cell_type": "code",
   "execution_count": 392,
   "metadata": {},
   "outputs": [],
   "source": [
    "mask = (df['duration'] == 'None') \n",
    "df['duration'].mask(mask,'0',inplace=True)\n",
    "df['duration'] = pd.to_numeric(df['duration'])"
   ]
  },
  {
   "cell_type": "code",
   "execution_count": 393,
   "metadata": {},
   "outputs": [],
   "source": [
    "df['duration_sec'] = df.duration/1000\n",
    "df['duration_mins'] = df.duration/1000/60"
   ]
  },
  {
   "cell_type": "code",
   "execution_count": 394,
   "metadata": {},
   "outputs": [],
   "source": [
    "df['date'] = pd.to_datetime(df['startTime'], format='%Y-%m-%d').dt.date\n",
    "df['date'] = pd.to_datetime(df['date'])\n"
   ]
  },
  {
   "cell_type": "code",
   "execution_count": 357,
   "metadata": {},
   "outputs": [
    {
     "name": "stdout",
     "output_type": "stream",
     "text": [
      "<class 'pandas.core.frame.DataFrame'>\n",
      "RangeIndex: 140906 entries, 0 to 140905\n",
      "Data columns (total 19 columns):\n",
      " #   Column           Non-Null Count   Dtype         \n",
      "---  ------           --------------   -----         \n",
      " 0   topProjectName   140906 non-null  object        \n",
      " 1   testName         140906 non-null  object        \n",
      " 2   sessionId        140906 non-null  object        \n",
      " 3   executionLogsId  140906 non-null  int64         \n",
      " 4   scriptId         140906 non-null  int64         \n",
      " 5   scriptName       140906 non-null  object        \n",
      " 6   script_status    140906 non-null  object        \n",
      " 7   StepLabel        140906 non-null  object        \n",
      " 8   step_state       140906 non-null  object        \n",
      " 9   step_status      140906 non-null  object        \n",
      " 10  startTime        140906 non-null  object        \n",
      " 11  endTime          140906 non-null  object        \n",
      " 12  duration         140906 non-null  int64         \n",
      " 13  lineNum          140906 non-null  int64         \n",
      " 14  StepLogsId       140906 non-null  int64         \n",
      " 15  lastIssues       106733 non-null  object        \n",
      " 16  duration_sec     140906 non-null  float64       \n",
      " 17  duration_mins    140906 non-null  float64       \n",
      " 18  date             140906 non-null  datetime64[ns]\n",
      "dtypes: datetime64[ns](1), float64(2), int64(5), object(11)\n",
      "memory usage: 20.4+ MB\n"
     ]
    }
   ],
   "source": [
    "df.info()"
   ]
  },
  {
   "cell_type": "code",
   "execution_count": 358,
   "metadata": {},
   "outputs": [],
   "source": [
    "# df['startTime'] = pd.to_datetime(df['startTime']).dt.time\n",
    "# df['endTime'] = pd.to_datetime(df['endTime']).dt.time"
   ]
  },
  {
   "cell_type": "code",
   "execution_count": 395,
   "metadata": {},
   "outputs": [],
   "source": [
    "df['time'] = pd.to_datetime(df['startTime']).dt.time"
   ]
  },
  {
   "cell_type": "code",
   "execution_count": 396,
   "metadata": {},
   "outputs": [
    {
     "data": {
      "text/plain": [
       "0         10:55:29.314000\n",
       "1         10:55:47.021000\n",
       "2         10:55:51.372000\n",
       "3         10:55:54.350000\n",
       "4         10:55:57.499000\n",
       "               ...       \n",
       "140901    09:44:06.471000\n",
       "140902    09:44:09.511000\n",
       "140903    09:44:12.114000\n",
       "140904    09:46:48.165000\n",
       "140905    09:46:49.394000\n",
       "Name: time, Length: 140906, dtype: object"
      ]
     },
     "execution_count": 396,
     "metadata": {},
     "output_type": "execute_result"
    }
   ],
   "source": [
    "df['time']"
   ]
  },
  {
   "cell_type": "code",
   "execution_count": 397,
   "metadata": {},
   "outputs": [],
   "source": [
    "df['time_dec'] = df['time'].astype(str)\n",
    "df['time_dec'] = df['time_dec'].str[:5]\n",
    "df['time_dec'] = df['time_dec'].str.replace(':','.')\n",
    "df['time_dec'] = df['time_dec'].astype(float)"
   ]
  },
  {
   "cell_type": "code",
   "execution_count": 398,
   "metadata": {},
   "outputs": [
    {
     "data": {
      "text/html": [
       "<div>\n",
       "<style scoped>\n",
       "    .dataframe tbody tr th:only-of-type {\n",
       "        vertical-align: middle;\n",
       "    }\n",
       "\n",
       "    .dataframe tbody tr th {\n",
       "        vertical-align: top;\n",
       "    }\n",
       "\n",
       "    .dataframe thead th {\n",
       "        text-align: right;\n",
       "    }\n",
       "</style>\n",
       "<table border=\"1\" class=\"dataframe\">\n",
       "  <thead>\n",
       "    <tr style=\"text-align: right;\">\n",
       "      <th></th>\n",
       "      <th>time_dec</th>\n",
       "      <th>time</th>\n",
       "    </tr>\n",
       "  </thead>\n",
       "  <tbody>\n",
       "    <tr>\n",
       "      <th>0</th>\n",
       "      <td>10.55</td>\n",
       "      <td>10:55:29.314000</td>\n",
       "    </tr>\n",
       "    <tr>\n",
       "      <th>1</th>\n",
       "      <td>10.55</td>\n",
       "      <td>10:55:47.021000</td>\n",
       "    </tr>\n",
       "    <tr>\n",
       "      <th>2</th>\n",
       "      <td>10.55</td>\n",
       "      <td>10:55:51.372000</td>\n",
       "    </tr>\n",
       "    <tr>\n",
       "      <th>3</th>\n",
       "      <td>10.55</td>\n",
       "      <td>10:55:54.350000</td>\n",
       "    </tr>\n",
       "    <tr>\n",
       "      <th>4</th>\n",
       "      <td>10.55</td>\n",
       "      <td>10:55:57.499000</td>\n",
       "    </tr>\n",
       "    <tr>\n",
       "      <th>...</th>\n",
       "      <td>...</td>\n",
       "      <td>...</td>\n",
       "    </tr>\n",
       "    <tr>\n",
       "      <th>140901</th>\n",
       "      <td>9.44</td>\n",
       "      <td>09:44:06.471000</td>\n",
       "    </tr>\n",
       "    <tr>\n",
       "      <th>140902</th>\n",
       "      <td>9.44</td>\n",
       "      <td>09:44:09.511000</td>\n",
       "    </tr>\n",
       "    <tr>\n",
       "      <th>140903</th>\n",
       "      <td>9.44</td>\n",
       "      <td>09:44:12.114000</td>\n",
       "    </tr>\n",
       "    <tr>\n",
       "      <th>140904</th>\n",
       "      <td>9.46</td>\n",
       "      <td>09:46:48.165000</td>\n",
       "    </tr>\n",
       "    <tr>\n",
       "      <th>140905</th>\n",
       "      <td>9.46</td>\n",
       "      <td>09:46:49.394000</td>\n",
       "    </tr>\n",
       "  </tbody>\n",
       "</table>\n",
       "<p>140906 rows × 2 columns</p>\n",
       "</div>"
      ],
      "text/plain": [
       "        time_dec             time\n",
       "0          10.55  10:55:29.314000\n",
       "1          10.55  10:55:47.021000\n",
       "2          10.55  10:55:51.372000\n",
       "3          10.55  10:55:54.350000\n",
       "4          10.55  10:55:57.499000\n",
       "...          ...              ...\n",
       "140901      9.44  09:44:06.471000\n",
       "140902      9.44  09:44:09.511000\n",
       "140903      9.44  09:44:12.114000\n",
       "140904      9.46  09:46:48.165000\n",
       "140905      9.46  09:46:49.394000\n",
       "\n",
       "[140906 rows x 2 columns]"
      ]
     },
     "execution_count": 398,
     "metadata": {},
     "output_type": "execute_result"
    }
   ],
   "source": [
    "df[['time_dec','time']]"
   ]
  },
  {
   "attachments": {},
   "cell_type": "markdown",
   "metadata": {},
   "source": [
    "### Add a column to indicate Runs of each test script\n",
    "As there is no other field available via the API, this field is generated each time the lineNum == 1.  This assumes that there will always be a step 1 in every test case.\n",
    "Before this can be done, first sort the whole dataframe"
   ]
  },
  {
   "cell_type": "code",
   "execution_count": 399,
   "metadata": {},
   "outputs": [],
   "source": [
    "df.sort_values(by=['executionLogsId','StepLogsId'], inplace=True)\n",
    "df = df.reset_index(drop=True)"
   ]
  },
  {
   "cell_type": "code",
   "execution_count": 400,
   "metadata": {},
   "outputs": [
    {
     "name": "stderr",
     "output_type": "stream",
     "text": [
      "/tmp/ipykernel_258/2700126038.py:6: SettingWithCopyWarning: \n",
      "A value is trying to be set on a copy of a slice from a DataFrame\n",
      "\n",
      "See the caveats in the documentation: https://pandas.pydata.org/pandas-docs/stable/user_guide/indexing.html#returning-a-view-versus-a-copy\n",
      "  df['run'][idx] = run\n"
     ]
    }
   ],
   "source": [
    "df['run'] = 0\n",
    "run = 0\n",
    "for idx in df.index:\n",
    "    if df['lineNum'][idx] == 1:\n",
    "        run = run + 1\n",
    "    df['run'][idx] = run\n",
    "\n",
    " # Previous runtime = 23.9s    "
   ]
  },
  {
   "attachments": {},
   "cell_type": "markdown",
   "metadata": {},
   "source": [
    "### Generate a field to indicate where test scripts have run to the last step of the script\n",
    "This assumes that the last step is \"End script\"\n",
    "First sort the dataframe by Runs\n",
    "Then add a new text field that is a concatenation of all the step labels for each run\n",
    "Finally, check which of those strings contain the text \"End script\""
   ]
  },
  {
   "cell_type": "code",
   "execution_count": 401,
   "metadata": {},
   "outputs": [],
   "source": [
    "runs_np = df.run.unique()\n",
    "end_script_dict = {}\n",
    "for i in runs_np:\n",
    "    end_script_dict[i] = 'Script stopped'\n",
    "step_error_dict = {}\n",
    "for i in runs_np:\n",
    "    step_error_dict[i] = 'No step errors'"
   ]
  },
  {
   "cell_type": "code",
   "execution_count": 402,
   "metadata": {},
   "outputs": [],
   "source": [
    "df.sort_values(by=['run'], inplace=True)\n",
    "df = df.reset_index(drop=True)"
   ]
  },
  {
   "cell_type": "code",
   "execution_count": 403,
   "metadata": {},
   "outputs": [],
   "source": [
    "for idx in df.index:\n",
    "    #if run == 10: break\n",
    "    run = df['run'][idx]\n",
    "    if df['StepLabel'][idx] == 'End script':\n",
    "        end_script_dict[run] = 'Script completed'\n",
    "    if df['step_status'][idx] == 'ERROR':\n",
    "        step_error_dict[run] = 'One or more step errors'"
   ]
  },
  {
   "cell_type": "code",
   "execution_count": 404,
   "metadata": {},
   "outputs": [],
   "source": [
    "end_script_df = pd.DataFrame.from_dict(end_script_dict,orient ='index',columns=['script_completion'])\n",
    "end_script_df.reset_index(inplace=True)\n",
    "end_script_df.rename(columns={'index':'run'}, inplace=True)"
   ]
  },
  {
   "cell_type": "code",
   "execution_count": 405,
   "metadata": {},
   "outputs": [],
   "source": [
    "step_error_df = pd.DataFrame.from_dict(step_error_dict,orient ='index',columns=['step_error'])\n",
    "step_error_df.reset_index(inplace=True)\n",
    "step_error_df.rename(columns={'index':'run'}, inplace=True)"
   ]
  },
  {
   "cell_type": "code",
   "execution_count": 406,
   "metadata": {},
   "outputs": [],
   "source": [
    "df = pd.merge(\n",
    "    df,\n",
    "    end_script_df,\n",
    "    how=\"inner\",\n",
    "    on=None,\n",
    "    left_on='run',\n",
    "    right_on='run',\n",
    "    left_index=False,\n",
    "    right_index=False,\n",
    "    sort=True,\n",
    "    suffixes=(\"_x\", \"_y\"),\n",
    "    copy=True,\n",
    "    indicator=False,\n",
    "    validate=None,\n",
    ")"
   ]
  },
  {
   "cell_type": "code",
   "execution_count": 407,
   "metadata": {},
   "outputs": [],
   "source": [
    "df = pd.merge(\n",
    "    df,\n",
    "    step_error_df,\n",
    "    how=\"inner\",\n",
    "    on=None,\n",
    "    left_on='run',\n",
    "    right_on='run',\n",
    "    left_index=False,\n",
    "    right_index=False,\n",
    "    sort=True,\n",
    "    suffixes=(\"_x\", \"_y\"),\n",
    "    copy=True,\n",
    "    indicator=False,\n",
    "    validate=None,\n",
    ")"
   ]
  },
  {
   "cell_type": "code",
   "execution_count": 408,
   "metadata": {},
   "outputs": [],
   "source": [
    "df.rename(columns={'script_status': 'EA_script_status','step_state': 'EA_step_state','step_status': 'EA_step_status','step_error': 'IPT_step_error','script_completion': 'IPT_script_completion'}, inplace=True)"
   ]
  },
  {
   "cell_type": "code",
   "execution_count": 409,
   "metadata": {},
   "outputs": [],
   "source": [
    "df['KPI'] = 'Not mapped'"
   ]
  },
  {
   "cell_type": "code",
   "execution_count": 410,
   "metadata": {},
   "outputs": [],
   "source": [
    "# K1\n",
    "mask = (df['scriptName'].str.contains('Place a sales local order'))\n",
    "df['KPI'].mask(mask,'K01 Place a sales local order',inplace=True)\n",
    "\n",
    "# K2\n",
    "mask = (df['scriptName'].str.contains('Place a B2B local order'))\n",
    "df['KPI'].mask(mask,'K02 Place a B2B/EDI order and Send Confirmation',inplace=True)\n",
    "\n",
    "# K3 Place Service Portal Order\n",
    "# No test script\n",
    "\n",
    "# K4\n",
    "mask = (df['scriptName'].str.contains('Amend an existing sales order'))\n",
    "df['KPI'].mask(mask,'K04 Amend an existing sales order',inplace=True)\n",
    "\n",
    "# K5\n",
    "mask = (df['scriptName'].str.contains('Trade Returns Order'))\n",
    "df['KPI'].mask(mask,'K05 Place a Trade Returns Order',inplace=True)\n",
    "\n",
    "# K6\n",
    "mask = (df['scriptName'].str.contains('Submit a B2B Remittance'))\n",
    "df['KPI'].mask(mask,'K06 B2B Remittance',inplace=True)\n",
    "\n",
    "# K7 B2B Remittance Adjustment\n",
    "# No test script\n",
    "\n",
    "#K8\n",
    "mask = (df['scriptName'].str.contains('Receipted payment processing'))\n",
    "df['KPI'].mask(mask,'K08 Receipted payment processing SA Only at the moment',inplace=True)\n",
    "\n",
    "# K9 aDSD Batch Job posting invoice for HHD billing document \n",
    "# No test script\n",
    "\n",
    "# K10\n",
    "mask = (df['scriptName'].str.contains('Credit status check'))\n",
    "df['KPI'].mask(mask,'K10 Credit status check',inplace=True)\n",
    "\n",
    "# K11\n",
    "mask = (df['scriptName'].str.contains('Send Load to Roadnet'))\n",
    "df['KPI'].mask(mask,'K11 Send Load to Roadnet load for Planning',inplace=True)\n",
    "\n",
    "# K12\n",
    "mask = (df['scriptName'].str.contains('Receive load from Roadnet'))\n",
    "df['KPI'].mask(mask,'K12 Receive load from Roadnet into D365',inplace=True)\n",
    "\n",
    "# K13b\n",
    "mask = (df['scriptName'].str.contains('Release to warehouse') & df['scriptName'].str.contains('Roadnet loads'))\n",
    "df['KPI'].mask(mask,'K13b Release to Warehouse (Roadnet loads)',inplace=True)\n",
    "\n",
    "# K13\n",
    "mask = ((df['scriptName'].str.contains('Release to Warehouse') | df['scriptName'].str.contains('Release to warehouse')) & df['scriptName'].str.contains('manual'))\n",
    "df['KPI'].mask(mask,'K13 Release to Warehouse (manually planned loads)',inplace=True)\n",
    "\n",
    "# K14 Complete Picking Work & Process OOS \n",
    "# Not mapped??\n",
    "\n",
    "# K14b\n",
    "mask = (df['scriptName'].str.contains('Complete Picking Work') & df['scriptName'].str.contains('manual loads'))\n",
    "df['KPI'].mask(mask,'K14b Complete Picking Work & Process OOS (manually planned loads)',inplace=True)\n",
    "\n",
    "# K15\n",
    "mask = (df['scriptName'].str.contains('aDSD Load confirmation'))\n",
    "df['KPI'].mask(mask,'K15 aDSD Load confirmation',inplace=True)\n",
    "\n",
    "# K16\n",
    "mask = (df['scriptName'].str.contains('Load upload') & df['scriptName'].str.contains('Settlement'))\n",
    "df['KPI'].mask(mask,'K16 Load upload & Settlement',inplace=True)\n",
    "\n",
    "# K17\n",
    "mask = (df['scriptName'].str.contains('Create a cost estimate'))\n",
    "df['KPI'].mask(mask,'K17 Create a cost estimate for all standard costed procured materials',inplace=True)\n",
    "\n",
    "# K18\n",
    "mask = (df['scriptName'].str.contains('Imported Statistical'))\n",
    "df['KPI'].mask(mask,'K18 Import Actual Statistical entries, into Cost Accounting',inplace=True)\n",
    "\n",
    "# K19\n",
    "mask = (df['scriptName'].str.contains('Distribute the range of items pending prices'))\n",
    "df['KPI'].mask(mask,'K19 Distribute the range of items pending prices to another site',inplace=True)\n",
    "\n",
    "# K20\n",
    "mask = ((df['scriptName'].str.contains('Cost Rollup') & df['scriptName'].str.contains('Cost Allocation')) | df['scriptName'].str.contains('Maintain cost distribution table'))\n",
    "df['KPI'].mask(mask,'K20 Run Cost Rollup and Cost Allocation Policies',inplace=True)\n",
    "\n",
    "# K21\n",
    "mask = (df['scriptName'].str.contains('Place SFA order'))\n",
    "df['KPI'].mask(mask,'K21 Place SFA order and Send Confirmation',inplace=True)"
   ]
  },
  {
   "cell_type": "code",
   "execution_count": 411,
   "metadata": {},
   "outputs": [],
   "source": [
    "df.sort_values(by=['KPI', 'scriptId', 'scriptName', 'sessionId', 'run', 'lineNum'], inplace=True)\n",
    "df = df.reset_index(drop=True)"
   ]
  },
  {
   "cell_type": "code",
   "execution_count": 412,
   "metadata": {},
   "outputs": [],
   "source": [
    "df.drop(columns={'topProjectName'}, inplace=True, axis=1)"
   ]
  },
  {
   "cell_type": "code",
   "execution_count": 421,
   "metadata": {},
   "outputs": [],
   "source": [
    "df = df.reindex(columns=['KPI', 'scriptId', 'scriptName', 'sessionId', 'run', 'EA_script_status', 'IPT_script_completion', 'IPT_step_error', 'lineNum', 'StepLabel', 'EA_step_state', 'EA_step_status', 'startTime', 'endTime', 'duration', 'duration_sec', 'duration_mins', 'date', 'time_dec','lastIssues'])"
   ]
  },
  {
   "cell_type": "code",
   "execution_count": 422,
   "metadata": {},
   "outputs": [
    {
     "data": {
      "text/html": [
       "<div>\n",
       "<style scoped>\n",
       "    .dataframe tbody tr th:only-of-type {\n",
       "        vertical-align: middle;\n",
       "    }\n",
       "\n",
       "    .dataframe tbody tr th {\n",
       "        vertical-align: top;\n",
       "    }\n",
       "\n",
       "    .dataframe thead th {\n",
       "        text-align: right;\n",
       "    }\n",
       "</style>\n",
       "<table border=\"1\" class=\"dataframe\">\n",
       "  <thead>\n",
       "    <tr style=\"text-align: right;\">\n",
       "      <th></th>\n",
       "      <th>KPI</th>\n",
       "      <th>scriptId</th>\n",
       "      <th>scriptName</th>\n",
       "      <th>sessionId</th>\n",
       "      <th>run</th>\n",
       "      <th>EA_script_status</th>\n",
       "      <th>IPT_script_completion</th>\n",
       "      <th>IPT_step_error</th>\n",
       "      <th>lineNum</th>\n",
       "      <th>StepLabel</th>\n",
       "      <th>EA_step_state</th>\n",
       "      <th>EA_step_status</th>\n",
       "      <th>startTime</th>\n",
       "      <th>endTime</th>\n",
       "      <th>duration</th>\n",
       "      <th>duration_sec</th>\n",
       "      <th>duration_mins</th>\n",
       "      <th>date</th>\n",
       "      <th>time_dec</th>\n",
       "      <th>lastIssues</th>\n",
       "    </tr>\n",
       "  </thead>\n",
       "  <tbody>\n",
       "    <tr>\n",
       "      <th>0</th>\n",
       "      <td>K01 Place a sales local order</td>\n",
       "      <td>90</td>\n",
       "      <td>[CE] 08.03.01.01 Place a sales local order</td>\n",
       "      <td>0AzwCZ2JXc</td>\n",
       "      <td>180</td>\n",
       "      <td>WARNING</td>\n",
       "      <td>Script completed</td>\n",
       "      <td>No step errors</td>\n",
       "      <td>1</td>\n",
       "      <td>Start script</td>\n",
       "      <td>FINISHED</td>\n",
       "      <td>SUCCESS</td>\n",
       "      <td>2023-01-30T09:01:43.039Z</td>\n",
       "      <td>2023-01-30T09:01:57.657Z</td>\n",
       "      <td>14618</td>\n",
       "      <td>14.618</td>\n",
       "      <td>0.243633</td>\n",
       "      <td>2023-01-30</td>\n",
       "      <td>9.01</td>\n",
       "      <td>[ERROR] Step 15. Click Discard changes - Unabl...</td>\n",
       "    </tr>\n",
       "    <tr>\n",
       "      <th>1</th>\n",
       "      <td>K01 Place a sales local order</td>\n",
       "      <td>90</td>\n",
       "      <td>[CE] 08.03.01.01 Place a sales local order</td>\n",
       "      <td>0AzwCZ2JXc</td>\n",
       "      <td>180</td>\n",
       "      <td>WARNING</td>\n",
       "      <td>Script completed</td>\n",
       "      <td>No step errors</td>\n",
       "      <td>2</td>\n",
       "      <td>Start Delay (wait for XRM)</td>\n",
       "      <td>FINISHED</td>\n",
       "      <td>SUCCESS</td>\n",
       "      <td>2023-01-30T09:02:01.184Z</td>\n",
       "      <td>2023-01-30T09:02:34.744Z</td>\n",
       "      <td>33560</td>\n",
       "      <td>33.560</td>\n",
       "      <td>0.559333</td>\n",
       "      <td>2023-01-30</td>\n",
       "      <td>9.02</td>\n",
       "      <td>[ERROR] Step 15. Click Discard changes - Unabl...</td>\n",
       "    </tr>\n",
       "    <tr>\n",
       "      <th>2</th>\n",
       "      <td>K01 Place a sales local order</td>\n",
       "      <td>90</td>\n",
       "      <td>[CE] 08.03.01.01 Place a sales local order</td>\n",
       "      <td>0AzwCZ2JXc</td>\n",
       "      <td>180</td>\n",
       "      <td>WARNING</td>\n",
       "      <td>Script completed</td>\n",
       "      <td>No step errors</td>\n",
       "      <td>3</td>\n",
       "      <td>Get DataSource</td>\n",
       "      <td>FINISHED</td>\n",
       "      <td>SUCCESS</td>\n",
       "      <td>2023-01-30T09:02:38.529Z</td>\n",
       "      <td>2023-01-30T09:02:42.344Z</td>\n",
       "      <td>3815</td>\n",
       "      <td>3.815</td>\n",
       "      <td>0.063583</td>\n",
       "      <td>2023-01-30</td>\n",
       "      <td>9.02</td>\n",
       "      <td>[ERROR] Step 15. Click Discard changes - Unabl...</td>\n",
       "    </tr>\n",
       "    <tr>\n",
       "      <th>3</th>\n",
       "      <td>K01 Place a sales local order</td>\n",
       "      <td>90</td>\n",
       "      <td>[CE] 08.03.01.01 Place a sales local order</td>\n",
       "      <td>0AzwCZ2JXc</td>\n",
       "      <td>180</td>\n",
       "      <td>WARNING</td>\n",
       "      <td>Script completed</td>\n",
       "      <td>No step errors</td>\n",
       "      <td>4</td>\n",
       "      <td>Initialise Wait</td>\n",
       "      <td>FINISHED</td>\n",
       "      <td>SUCCESS</td>\n",
       "      <td>2023-01-30T09:02:46.144Z</td>\n",
       "      <td>2023-01-30T09:02:49.690Z</td>\n",
       "      <td>3546</td>\n",
       "      <td>3.546</td>\n",
       "      <td>0.059100</td>\n",
       "      <td>2023-01-30</td>\n",
       "      <td>9.02</td>\n",
       "      <td>[ERROR] Step 15. Click Discard changes - Unabl...</td>\n",
       "    </tr>\n",
       "    <tr>\n",
       "      <th>4</th>\n",
       "      <td>K01 Place a sales local order</td>\n",
       "      <td>90</td>\n",
       "      <td>[CE] 08.03.01.01 Place a sales local order</td>\n",
       "      <td>0AzwCZ2JXc</td>\n",
       "      <td>180</td>\n",
       "      <td>WARNING</td>\n",
       "      <td>Script completed</td>\n",
       "      <td>No step errors</td>\n",
       "      <td>5</td>\n",
       "      <td>Check Wait</td>\n",
       "      <td>FINISHED</td>\n",
       "      <td>SUCCESS</td>\n",
       "      <td>2023-01-30T09:02:55.377Z</td>\n",
       "      <td>2023-01-30T09:03:56.955Z</td>\n",
       "      <td>61578</td>\n",
       "      <td>61.578</td>\n",
       "      <td>1.026300</td>\n",
       "      <td>2023-01-30</td>\n",
       "      <td>9.02</td>\n",
       "      <td>[ERROR] Step 15. Click Discard changes - Unabl...</td>\n",
       "    </tr>\n",
       "    <tr>\n",
       "      <th>...</th>\n",
       "      <td>...</td>\n",
       "      <td>...</td>\n",
       "      <td>...</td>\n",
       "      <td>...</td>\n",
       "      <td>...</td>\n",
       "      <td>...</td>\n",
       "      <td>...</td>\n",
       "      <td>...</td>\n",
       "      <td>...</td>\n",
       "      <td>...</td>\n",
       "      <td>...</td>\n",
       "      <td>...</td>\n",
       "      <td>...</td>\n",
       "      <td>...</td>\n",
       "      <td>...</td>\n",
       "      <td>...</td>\n",
       "      <td>...</td>\n",
       "      <td>...</td>\n",
       "      <td>...</td>\n",
       "      <td>...</td>\n",
       "    </tr>\n",
       "    <tr>\n",
       "      <th>140901</th>\n",
       "      <td>Not mapped</td>\n",
       "      <td>549</td>\n",
       "      <td>User 28 - Release to Warehouse (Roadnet loads)...</td>\n",
       "      <td>Jp0LB1pEiL</td>\n",
       "      <td>1054</td>\n",
       "      <td>SUCCESS</td>\n",
       "      <td>Script completed</td>\n",
       "      <td>No step errors</td>\n",
       "      <td>59</td>\n",
       "      <td>Click Close</td>\n",
       "      <td>FINISHED</td>\n",
       "      <td>SUCCESS</td>\n",
       "      <td>2023-02-01T09:12:25.684Z</td>\n",
       "      <td>2023-02-01T09:12:27.065Z</td>\n",
       "      <td>1381</td>\n",
       "      <td>1.381</td>\n",
       "      <td>0.023017</td>\n",
       "      <td>2023-02-01</td>\n",
       "      <td>9.12</td>\n",
       "      <td>[WARNING] Step 39. Click Unblock work - Work w...</td>\n",
       "    </tr>\n",
       "    <tr>\n",
       "      <th>140902</th>\n",
       "      <td>Not mapped</td>\n",
       "      <td>549</td>\n",
       "      <td>User 28 - Release to Warehouse (Roadnet loads)...</td>\n",
       "      <td>Jp0LB1pEiL</td>\n",
       "      <td>1054</td>\n",
       "      <td>SUCCESS</td>\n",
       "      <td>Script completed</td>\n",
       "      <td>No step errors</td>\n",
       "      <td>60</td>\n",
       "      <td>Excel loop</td>\n",
       "      <td>FINISHED</td>\n",
       "      <td>SUCCESS</td>\n",
       "      <td>2023-02-01T09:22:46.937Z</td>\n",
       "      <td>2023-02-01T09:22:47.872Z</td>\n",
       "      <td>935</td>\n",
       "      <td>0.935</td>\n",
       "      <td>0.015583</td>\n",
       "      <td>2023-02-01</td>\n",
       "      <td>9.22</td>\n",
       "      <td>[WARNING] Step 39. Click Unblock work - Work w...</td>\n",
       "    </tr>\n",
       "    <tr>\n",
       "      <th>140903</th>\n",
       "      <td>Not mapped</td>\n",
       "      <td>549</td>\n",
       "      <td>User 28 - Release to Warehouse (Roadnet loads)...</td>\n",
       "      <td>Jp0LB1pEiL</td>\n",
       "      <td>1054</td>\n",
       "      <td>SUCCESS</td>\n",
       "      <td>Script completed</td>\n",
       "      <td>No step errors</td>\n",
       "      <td>60</td>\n",
       "      <td>Excel loop</td>\n",
       "      <td>FINISHED</td>\n",
       "      <td>SUCCESS</td>\n",
       "      <td>2023-02-01T09:31:03.278Z</td>\n",
       "      <td>2023-02-01T09:31:03.856Z</td>\n",
       "      <td>578</td>\n",
       "      <td>0.578</td>\n",
       "      <td>0.009633</td>\n",
       "      <td>2023-02-01</td>\n",
       "      <td>9.31</td>\n",
       "      <td>[WARNING] Step 39. Click Unblock work - Work w...</td>\n",
       "    </tr>\n",
       "    <tr>\n",
       "      <th>140904</th>\n",
       "      <td>Not mapped</td>\n",
       "      <td>549</td>\n",
       "      <td>User 28 - Release to Warehouse (Roadnet loads)...</td>\n",
       "      <td>Jp0LB1pEiL</td>\n",
       "      <td>1054</td>\n",
       "      <td>SUCCESS</td>\n",
       "      <td>Script completed</td>\n",
       "      <td>No step errors</td>\n",
       "      <td>60</td>\n",
       "      <td>Excel loop</td>\n",
       "      <td>FINISHED</td>\n",
       "      <td>SUCCESS</td>\n",
       "      <td>2023-02-01T09:12:37.939Z</td>\n",
       "      <td>2023-02-01T09:12:38.910Z</td>\n",
       "      <td>971</td>\n",
       "      <td>0.971</td>\n",
       "      <td>0.016183</td>\n",
       "      <td>2023-02-01</td>\n",
       "      <td>9.12</td>\n",
       "      <td>[WARNING] Step 39. Click Unblock work - Work w...</td>\n",
       "    </tr>\n",
       "    <tr>\n",
       "      <th>140905</th>\n",
       "      <td>Not mapped</td>\n",
       "      <td>549</td>\n",
       "      <td>User 28 - Release to Warehouse (Roadnet loads)...</td>\n",
       "      <td>Jp0LB1pEiL</td>\n",
       "      <td>1054</td>\n",
       "      <td>SUCCESS</td>\n",
       "      <td>Script completed</td>\n",
       "      <td>No step errors</td>\n",
       "      <td>61</td>\n",
       "      <td>End script</td>\n",
       "      <td>FINISHED</td>\n",
       "      <td>SUCCESS</td>\n",
       "      <td>2023-02-01T09:31:04.856Z</td>\n",
       "      <td>2023-02-01T09:31:05.410Z</td>\n",
       "      <td>554</td>\n",
       "      <td>0.554</td>\n",
       "      <td>0.009233</td>\n",
       "      <td>2023-02-01</td>\n",
       "      <td>9.31</td>\n",
       "      <td>[WARNING] Step 39. Click Unblock work - Work w...</td>\n",
       "    </tr>\n",
       "  </tbody>\n",
       "</table>\n",
       "<p>140906 rows × 20 columns</p>\n",
       "</div>"
      ],
      "text/plain": [
       "                                  KPI  scriptId  \\\n",
       "0       K01 Place a sales local order        90   \n",
       "1       K01 Place a sales local order        90   \n",
       "2       K01 Place a sales local order        90   \n",
       "3       K01 Place a sales local order        90   \n",
       "4       K01 Place a sales local order        90   \n",
       "...                               ...       ...   \n",
       "140901                     Not mapped       549   \n",
       "140902                     Not mapped       549   \n",
       "140903                     Not mapped       549   \n",
       "140904                     Not mapped       549   \n",
       "140905                     Not mapped       549   \n",
       "\n",
       "                                               scriptName   sessionId   run  \\\n",
       "0              [CE] 08.03.01.01 Place a sales local order  0AzwCZ2JXc   180   \n",
       "1              [CE] 08.03.01.01 Place a sales local order  0AzwCZ2JXc   180   \n",
       "2              [CE] 08.03.01.01 Place a sales local order  0AzwCZ2JXc   180   \n",
       "3              [CE] 08.03.01.01 Place a sales local order  0AzwCZ2JXc   180   \n",
       "4              [CE] 08.03.01.01 Place a sales local order  0AzwCZ2JXc   180   \n",
       "...                                                   ...         ...   ...   \n",
       "140901  User 28 - Release to Warehouse (Roadnet loads)...  Jp0LB1pEiL  1054   \n",
       "140902  User 28 - Release to Warehouse (Roadnet loads)...  Jp0LB1pEiL  1054   \n",
       "140903  User 28 - Release to Warehouse (Roadnet loads)...  Jp0LB1pEiL  1054   \n",
       "140904  User 28 - Release to Warehouse (Roadnet loads)...  Jp0LB1pEiL  1054   \n",
       "140905  User 28 - Release to Warehouse (Roadnet loads)...  Jp0LB1pEiL  1054   \n",
       "\n",
       "       EA_script_status IPT_script_completion  IPT_step_error  lineNum  \\\n",
       "0               WARNING      Script completed  No step errors        1   \n",
       "1               WARNING      Script completed  No step errors        2   \n",
       "2               WARNING      Script completed  No step errors        3   \n",
       "3               WARNING      Script completed  No step errors        4   \n",
       "4               WARNING      Script completed  No step errors        5   \n",
       "...                 ...                   ...             ...      ...   \n",
       "140901          SUCCESS      Script completed  No step errors       59   \n",
       "140902          SUCCESS      Script completed  No step errors       60   \n",
       "140903          SUCCESS      Script completed  No step errors       60   \n",
       "140904          SUCCESS      Script completed  No step errors       60   \n",
       "140905          SUCCESS      Script completed  No step errors       61   \n",
       "\n",
       "                         StepLabel EA_step_state EA_step_status  \\\n",
       "0                     Start script      FINISHED        SUCCESS   \n",
       "1       Start Delay (wait for XRM)      FINISHED        SUCCESS   \n",
       "2                   Get DataSource      FINISHED        SUCCESS   \n",
       "3                  Initialise Wait      FINISHED        SUCCESS   \n",
       "4                       Check Wait      FINISHED        SUCCESS   \n",
       "...                            ...           ...            ...   \n",
       "140901                 Click Close      FINISHED        SUCCESS   \n",
       "140902                  Excel loop      FINISHED        SUCCESS   \n",
       "140903                  Excel loop      FINISHED        SUCCESS   \n",
       "140904                  Excel loop      FINISHED        SUCCESS   \n",
       "140905                  End script      FINISHED        SUCCESS   \n",
       "\n",
       "                       startTime                   endTime  duration  \\\n",
       "0       2023-01-30T09:01:43.039Z  2023-01-30T09:01:57.657Z     14618   \n",
       "1       2023-01-30T09:02:01.184Z  2023-01-30T09:02:34.744Z     33560   \n",
       "2       2023-01-30T09:02:38.529Z  2023-01-30T09:02:42.344Z      3815   \n",
       "3       2023-01-30T09:02:46.144Z  2023-01-30T09:02:49.690Z      3546   \n",
       "4       2023-01-30T09:02:55.377Z  2023-01-30T09:03:56.955Z     61578   \n",
       "...                          ...                       ...       ...   \n",
       "140901  2023-02-01T09:12:25.684Z  2023-02-01T09:12:27.065Z      1381   \n",
       "140902  2023-02-01T09:22:46.937Z  2023-02-01T09:22:47.872Z       935   \n",
       "140903  2023-02-01T09:31:03.278Z  2023-02-01T09:31:03.856Z       578   \n",
       "140904  2023-02-01T09:12:37.939Z  2023-02-01T09:12:38.910Z       971   \n",
       "140905  2023-02-01T09:31:04.856Z  2023-02-01T09:31:05.410Z       554   \n",
       "\n",
       "        duration_sec  duration_mins       date  time_dec  \\\n",
       "0             14.618       0.243633 2023-01-30      9.01   \n",
       "1             33.560       0.559333 2023-01-30      9.02   \n",
       "2              3.815       0.063583 2023-01-30      9.02   \n",
       "3              3.546       0.059100 2023-01-30      9.02   \n",
       "4             61.578       1.026300 2023-01-30      9.02   \n",
       "...              ...            ...        ...       ...   \n",
       "140901         1.381       0.023017 2023-02-01      9.12   \n",
       "140902         0.935       0.015583 2023-02-01      9.22   \n",
       "140903         0.578       0.009633 2023-02-01      9.31   \n",
       "140904         0.971       0.016183 2023-02-01      9.12   \n",
       "140905         0.554       0.009233 2023-02-01      9.31   \n",
       "\n",
       "                                               lastIssues  \n",
       "0       [ERROR] Step 15. Click Discard changes - Unabl...  \n",
       "1       [ERROR] Step 15. Click Discard changes - Unabl...  \n",
       "2       [ERROR] Step 15. Click Discard changes - Unabl...  \n",
       "3       [ERROR] Step 15. Click Discard changes - Unabl...  \n",
       "4       [ERROR] Step 15. Click Discard changes - Unabl...  \n",
       "...                                                   ...  \n",
       "140901  [WARNING] Step 39. Click Unblock work - Work w...  \n",
       "140902  [WARNING] Step 39. Click Unblock work - Work w...  \n",
       "140903  [WARNING] Step 39. Click Unblock work - Work w...  \n",
       "140904  [WARNING] Step 39. Click Unblock work - Work w...  \n",
       "140905  [WARNING] Step 39. Click Unblock work - Work w...  \n",
       "\n",
       "[140906 rows x 20 columns]"
      ]
     },
     "execution_count": 422,
     "metadata": {},
     "output_type": "execute_result"
    }
   ],
   "source": [
    "df"
   ]
  },
  {
   "cell_type": "markdown",
   "metadata": {},
   "source": [
    "### Filter the dataset for output on a specific test cycle"
   ]
  },
  {
   "cell_type": "code",
   "execution_count": 377,
   "metadata": {},
   "outputs": [
    {
     "ename": "SystemExit",
     "evalue": "Stop right here!",
     "output_type": "error",
     "traceback": [
      "An exception has occurred, use %tb to see the full traceback.\n",
      "\u001b[0;31mSystemExit\u001b[0m\u001b[0;31m:\u001b[0m Stop right here!\n"
     ]
    },
    {
     "name": "stderr",
     "output_type": "stream",
     "text": [
      "/home/wo/.local/lib/python3.8/site-packages/IPython/core/interactiveshell.py:3441: UserWarning: To exit: use 'exit', 'quit', or Ctrl-D.\n",
      "  warn(\"To exit: use 'exit', 'quit', or Ctrl-D.\", stacklevel=1)\n"
     ]
    }
   ],
   "source": [
    "raise SystemExit(\"Stop right here!\")"
   ]
  },
  {
   "cell_type": "code",
   "execution_count": 423,
   "metadata": {},
   "outputs": [],
   "source": [
    "exclude_scripts = ['TEST TIMINGS','Test - 10 sessions', 'Gary Test']"
   ]
  },
  {
   "cell_type": "code",
   "execution_count": 424,
   "metadata": {},
   "outputs": [],
   "source": [
    "df1 = df.query(\"date == '2023-02-02' and time_dec > 0.0 and scriptName not in @exclude_scripts\").copy()  # Remember time is UTC"
   ]
  },
  {
   "cell_type": "code",
   "execution_count": null,
   "metadata": {},
   "outputs": [],
   "source": [
    "# Alternative way to filter for time\n",
    "\n",
    "# mask = ((df.date == '2023-01-30'))  # Query does not work with the second part of this boolean expression\n",
    "# df1 = df[mask]\n",
    "# #df1 = df1.query(\"testName not in @exclude_scripts\")  # This does not work in the filter above, so apply them seperately"
   ]
  },
  {
   "cell_type": "code",
   "execution_count": 418,
   "metadata": {},
   "outputs": [],
   "source": [
    "df1 = df1.reset_index(drop=True)"
   ]
  },
  {
   "cell_type": "code",
   "execution_count": 419,
   "metadata": {},
   "outputs": [],
   "source": [
    "for i in range(len(df1)):\n",
    "    ln = str(df1.loc[i, 'lineNum'])\n",
    "    lastIssue_str = str(df1.loc[i, 'lastIssues'])\n",
    "    string1 = '[ERROR] Step '+ln+'.'\n",
    "    check = (string1 in lastIssue_str)\n",
    "    if check != True:\n",
    "        df1.loc[i, 'lastIssues'] = ''"
   ]
  },
  {
   "cell_type": "code",
   "execution_count": 420,
   "metadata": {},
   "outputs": [],
   "source": [
    "df1.to_csv('data/execution/results_filtered.csv',index=False)\n",
    "#df.to_csv('data/execution/results_unfiltered.csv',index=False)"
   ]
  },
  {
   "cell_type": "code",
   "execution_count": null,
   "metadata": {},
   "outputs": [],
   "source": [
    "df2 = df.query(\"date == '2023-01-30' and time > 12.30 and testName not in @exclude_scripts and IPT_script_completion != 'Script stopped' and IPT_step_error != 'One or more step errors'\").copy()"
   ]
  },
  {
   "cell_type": "code",
   "execution_count": null,
   "metadata": {},
   "outputs": [],
   "source": [
    "df2 = df2.drop_duplicates(keep='first')\n",
    "df2 = df2.reset_index(drop=True)"
   ]
  },
  {
   "cell_type": "code",
   "execution_count": null,
   "metadata": {},
   "outputs": [],
   "source": [
    "z = df2.groupby(['testName','run']).agg({'scriptId': {'first'}, 'duration_sec': {'sum'}}).reset_index()"
   ]
  },
  {
   "cell_type": "code",
   "execution_count": null,
   "metadata": {},
   "outputs": [],
   "source": [
    "z.sort_values(by=['testName'], inplace=True)\n",
    "z = z.reset_index(drop=True)\n",
    "z.columns = ['_'.join(col) for col in z.columns]"
   ]
  },
  {
   "cell_type": "code",
   "execution_count": null,
   "metadata": {},
   "outputs": [],
   "source": [
    "z.rename(columns={'testName_': 'testName', 'run_': 'run', 'scriptId_first': 'scriptId', 'duration_sec_sum': 'duration_sec'}, inplace=True)"
   ]
  },
  {
   "cell_type": "code",
   "execution_count": null,
   "metadata": {},
   "outputs": [],
   "source": [
    "z['90percQ'] = 0"
   ]
  },
  {
   "cell_type": "code",
   "execution_count": null,
   "metadata": {},
   "outputs": [],
   "source": [
    "scriptID_np = z['scriptId'].unique()"
   ]
  },
  {
   "cell_type": "code",
   "execution_count": null,
   "metadata": {},
   "outputs": [],
   "source": [
    "def calculate_outliers(x, scr_id):\n",
    "    mask = (x['scriptId'] == scr_id)\n",
    "    y = x[mask]\n",
    "    q09= y.quantile(.9, numeric_only=True)\n",
    "    #print(q09['duration_sec_sum'])\n",
    "    x['90percQ'].mask(mask,q09['duration_sec'],inplace=True)"
   ]
  },
  {
   "cell_type": "code",
   "execution_count": null,
   "metadata": {},
   "outputs": [],
   "source": [
    "for scriptId in scriptID_np:\n",
    "    calculate_outliers(z,scriptId)"
   ]
  },
  {
   "cell_type": "code",
   "execution_count": null,
   "metadata": {},
   "outputs": [],
   "source": [
    "mask = (z['duration_sec'] <= z['90percQ'])\n",
    "z[mask]"
   ]
  },
  {
   "cell_type": "code",
   "execution_count": null,
   "metadata": {},
   "outputs": [],
   "source": [
    "z1 = df2.groupby(['KPI','run']).agg({'scriptId': {'first'}, 'duration_sec': {'sum'}}).reset_index()\n",
    "z1.sort_values(by=['KPI'], inplace=True)\n",
    "z1 = z1.reset_index(drop=True)\n",
    "z1.columns = ['_'.join(col) for col in z1.columns]\n",
    "z1.rename(columns={'KPI_': 'KPI', 'run_': 'run', 'scriptId_first': 'scriptId', 'duration_sec_sum': 'duration_sec'}, inplace=True)\n",
    "z1['90percQ'] = 0\n",
    "scriptID_np = z1['scriptId'].unique()\n",
    "def calculate_outliers(x, scr_id):\n",
    "    mask = (x['scriptId'] == scr_id)\n",
    "    y = x[mask]\n",
    "    q09= y.quantile(.9, numeric_only=True)\n",
    "    #print(q09['duration_sec_sum'])\n",
    "    x['90percQ'].mask(mask,q09['duration_sec'],inplace=True)\n",
    "for scriptId in scriptID_np:\n",
    "    calculate_outliers(z1,scriptId)"
   ]
  },
  {
   "cell_type": "code",
   "execution_count": null,
   "metadata": {},
   "outputs": [],
   "source": [
    "#z1.groupby(['KPI']).agg({'duration_sec': {'mean'}, 'run': {'count'}}).reset_index().sort_values(by=['KPI']).to_csv('data/execution/KPIs.csv',index=False)\n",
    "z1.groupby(['KPI']).agg({'duration_sec': {'mean'}, 'run': {'count'}}).reset_index().sort_values(by=['KPI'])"
   ]
  },
  {
   "attachments": {},
   "cell_type": "markdown",
   "metadata": {},
   "source": [
    "### Generate an output file in CSV format"
   ]
  },
  {
   "cell_type": "code",
   "execution_count": null,
   "metadata": {},
   "outputs": [],
   "source": [
    "df2.to_csv('data/execution/results_passed.csv',index=False)"
   ]
  },
  {
   "cell_type": "markdown",
   "metadata": {},
   "source": [
    "### Aggregate to extract measures"
   ]
  },
  {
   "cell_type": "code",
   "execution_count": null,
   "metadata": {},
   "outputs": [],
   "source": [
    "def summary(x):\n",
    "    runs = x['executionLogsId'].nunique()\n",
    "    runs = float(runs)\n",
    "    duration = x['duration'].sum()/1000\n",
    "    duration_90 = x['duration'].quantile(0.9).sum()/1000\n",
    "    mean_s = x['duration'].mean()/1000\n",
    "    mean_90 = x['duration'].quantile(0.9).mean()/1000\n",
    "    count = duration/mean_s\n",
    "    result = {\n",
    "        #'aggr_duration': duration,\n",
    "        #'aggr_duration_minutes': duration/60,\n",
    "        #'runs': runs,\n",
    "        'mean': mean_s,\n",
    "        'mean_90': mean_90,\n",
    "        'mean_minutes': duration/runs/60\n",
    "        #'steps': count\n",
    "    }\n",
    "    return pd.Series(result).round(1)\n",
    "\n",
    "#df2.groupby(['scriptName','sessionId']).apply(summary).to_html('data/execution/result.html')\n",
    "df2.groupby(['testName', 'executionLogsId']).apply(summary).to_html('data/execution/result.html')\n",
    "#df2.groupby(['testName', 'executionLogsId']).quantile(.90).apply(summary).to_html('data/execution/result.html')\n",
    "#df2.groupby(['testName', 'executionLogsId']).apply(summary).to_excel('data/execution/result_groupby.xlsx')\n",
    "#df2.groupby(['testName', 'executionLogsId']).agg({'executionLogsId': {'nunique'}, 'duration' : {'sum'}})\n",
    "#df2.groupby(['testName']).apply(summary).to_html('data/execution/result.html')"
   ]
  },
  {
   "attachments": {},
   "cell_type": "markdown",
   "metadata": {},
   "source": [
    "### From here on the script is disabled."
   ]
  },
  {
   "cell_type": "code",
   "execution_count": null,
   "metadata": {},
   "outputs": [],
   "source": [
    "# Insert this to prevent the cells below from trying to write to the sql table\n",
    "raise SystemExit(\"Stop right here!\")"
   ]
  },
  {
   "attachments": {},
   "cell_type": "markdown",
   "metadata": {},
   "source": [
    "### Get ready to export to SQL"
   ]
  },
  {
   "cell_type": "code",
   "execution_count": null,
   "metadata": {},
   "outputs": [],
   "source": [
    "mask = (df['date'] > '2023-01-10')\n",
    "#df.loc[(df['date'] > '2023-01-10')]\n",
    "df = df[mask]"
   ]
  },
  {
   "cell_type": "code",
   "execution_count": null,
   "metadata": {},
   "outputs": [],
   "source": [
    "# https://learn.microsoft.com/en-us/sql/machine-learning/data-exploration/python-dataframe-pandas?view=sql-server-ver16\n",
    "# Some other example server values are\n",
    "# server = 'localhost\\sqlexpress' # for a named instance\n",
    "# server = 'myserver,port' # to specify an alternate port\n",
    "server = 'tcp:csazniptlsql01.database.windows.net,1433' \n",
    "database = 'CSAZN-INT-IPT-L-DSQ-01' \n",
    "username = 'ccbaadmin' \n",
    "password = '@FireBase123' \n",
    "# ENCRYPT defaults to yes starting in ODBC Driver 18. It's good to always specify ENCRYPT=yes on the client side to avoid MITM attacks.\n",
    "cnxn = pyodbc.connect('DRIVER={ODBC Driver 18 for SQL Server};SERVER='+server+';DATABASE='+database+';ENCRYPT=yes;UID='+username+';PWD='+ password)\n",
    "cursor = cnxn.cursor()"
   ]
  },
  {
   "cell_type": "code",
   "execution_count": null,
   "metadata": {},
   "outputs": [],
   "source": [
    "# cursor = cnxn.cursor()\n",
    "\n",
    "# cursor.execute('''\n",
    "# \t\tCREATE TABLE ea_script_history (\n",
    "# \t\t\trecords_no int,\n",
    "#             topProjectName nvarchar(255),\n",
    "#             testName nvarchar(255),\n",
    "#             sessionId nvarchar(255),\n",
    "#             id int,\n",
    "#             scriptId int,\n",
    "#             scriptName nvarchar(255),\n",
    "#             state nvarchar(255),\n",
    "#             status nvarchar(255),\n",
    "#             StepLabel nvarchar(255),\n",
    "#             startTime datetime,\n",
    "#             endTime datetime,\n",
    "#             duration int,\n",
    "#             lineNum int,\n",
    "#             StepLogs_id int\n",
    "# \t\t\t)\n",
    "#                ''')\n",
    "\n",
    "# cnxn.commit()"
   ]
  },
  {
   "cell_type": "code",
   "execution_count": null,
   "metadata": {},
   "outputs": [],
   "source": [
    "cnxn = pyodbc.connect('DRIVER={ODBC Driver 18 for SQL Server};SERVER='+server+';DATABASE='+database+';ENCRYPT=yes;UID='+username+';PWD='+ password)\n",
    "cursor = cnxn.cursor()\n",
    "# Insert Dataframe into SQL Server:\n",
    "i = 0\n",
    "for index, row in df.iterrows():\n",
    "     cursor.execute(\"INSERT INTO ea_script_history (records_no,topProjectName,testName,sessionId,id,scriptId,scriptName,state,status,StepLabel,startTime,endTime,duration,lineNum,StepLogs_id) values(?,?,?,?,?,?,?,?,?,?,?,?,?,?,?)\", row.records_no, row.topProjectName, row.testName, row.sessionId, row.id, row.scriptId, row.scriptName, row.state, row.status, row.StepLabel, row.startTime, row.endTime, row.duration, row.lineNum, row.StepLogs_id)\n",
    "     i = i + 1\n",
    "     if i == 1000:\n",
    "          i = 0\n",
    "          cnxn.commit()          \n",
    "cnxn.commit()\n",
    "cursor.close()"
   ]
  },
  {
   "cell_type": "code",
   "execution_count": null,
   "metadata": {},
   "outputs": [],
   "source": [
    "# cnxn = pyodbc.connect('DRIVER={ODBC Driver 18 for SQL Server};SERVER='+server+';DATABASE='+database+';ENCRYPT=yes;UID='+username+';PWD='+ password)\n",
    "# cursor = cnxn.cursor()\n",
    "# # Insert Dataframe into SQL Server:\n",
    "# for index, row in df.iterrows():\n",
    "#      cursor.execute(\"INSERT INTO ea_script_history (startTime) values(?)\", row.startTime)\n",
    "# cnxn.commit()\n",
    "# cursor.close()"
   ]
  },
  {
   "cell_type": "code",
   "execution_count": null,
   "metadata": {},
   "outputs": [],
   "source": [
    "# Delete all the rows in the SQl script history table\n",
    "cursor = cnxn.cursor()\n",
    "cursor.execute(\"DELETE FROM ea_script_history\")\n",
    "cnxn.commit()\n",
    "cursor.close()"
   ]
  },
  {
   "cell_type": "code",
   "execution_count": null,
   "metadata": {},
   "outputs": [],
   "source": [
    "# Drop the SQl script history table (it must be re-created)\n",
    "cursor = cnxn.cursor()\n",
    "cursor.execute(\"DROP Table ea_script_history\")\n",
    "#cursor.execute(\"DROP Table temp_table\")\n",
    "cnxn.commit()\n",
    "cursor.close()"
   ]
  },
  {
   "cell_type": "code",
   "execution_count": null,
   "metadata": {},
   "outputs": [],
   "source": [
    "a = [12, 15]"
   ]
  },
  {
   "cell_type": "code",
   "execution_count": null,
   "metadata": {},
   "outputs": [],
   "source": [
    "print(type(a))"
   ]
  },
  {
   "cell_type": "code",
   "execution_count": null,
   "metadata": {},
   "outputs": [],
   "source": [
    "15 in a"
   ]
  },
  {
   "cell_type": "markdown",
   "metadata": {},
   "source": [
    "### Mark those Test Script Steps that must be included in the time measurement"
   ]
  },
  {
   "cell_type": "code",
   "execution_count": null,
   "metadata": {},
   "outputs": [],
   "source": [
    "testStepstoMeasure = {90: [12, 15], 100: [14]}"
   ]
  },
  {
   "cell_type": "code",
   "execution_count": null,
   "metadata": {},
   "outputs": [],
   "source": [
    "df1['Include_in_measure'] = False"
   ]
  },
  {
   "cell_type": "code",
   "execution_count": null,
   "metadata": {},
   "outputs": [],
   "source": [
    "i = 0\n",
    "for idx in df1.index:\n",
    "    i = i + 1\n",
    "    #if i == 1000: break\n",
    "    scriptid = df1['scriptId'][idx]\n",
    "    try:\n",
    "        linenum = df['lineNum'][idx]\n",
    "        if linenum in testStepstoMeasure[scriptid]:\n",
    "            # print(b[scriptid])\n",
    "            df1['Include_in_measure'] = True\n",
    "    except:\n",
    "        pass"
   ]
  },
  {
   "attachments": {},
   "cell_type": "markdown",
   "metadata": {},
   "source": [
    "### Mark Test Runs where the test outcome must be overridden to Include them in the test results"
   ]
  },
  {
   "cell_type": "code",
   "execution_count": null,
   "metadata": {},
   "outputs": [],
   "source": [
    "df1['Override failed status'] = False"
   ]
  },
  {
   "cell_type": "code",
   "execution_count": null,
   "metadata": {},
   "outputs": [],
   "source": [
    "testRunstoOverride = [879,880]"
   ]
  },
  {
   "cell_type": "code",
   "execution_count": null,
   "metadata": {},
   "outputs": [],
   "source": [
    "i = 0\n",
    "for idx in df1.index:\n",
    "    i = i + 1\n",
    "    #if i == 1000: break\n",
    "    runid = df1['run'][idx]\n",
    "    try:\n",
    "        if runid in testRunstoOverride:\n",
    "            df1['Override failed status'] = True\n",
    "    except:\n",
    "        pass"
   ]
  },
  {
   "cell_type": "code",
   "execution_count": null,
   "metadata": {},
   "outputs": [],
   "source": [
    "df1['scriptId'].unique()"
   ]
  }
 ],
 "metadata": {
  "kernelspec": {
   "display_name": "Python 3",
   "language": "python",
   "name": "python3"
  },
  "language_info": {
   "codemirror_mode": {
    "name": "ipython",
    "version": 3
   },
   "file_extension": ".py",
   "mimetype": "text/x-python",
   "name": "python",
   "nbconvert_exporter": "python",
   "pygments_lexer": "ipython3",
   "version": "3.8.10"
  },
  "orig_nbformat": 4,
  "vscode": {
   "interpreter": {
    "hash": "916dbcbb3f70747c44a77c7bcd40155683ae19c65e1c03b4aa3499c5328201f1"
   }
  }
 },
 "nbformat": 4,
 "nbformat_minor": 2
}
