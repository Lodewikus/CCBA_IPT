{
 "cells": [
  {
   "cell_type": "code",
   "execution_count": 2,
   "metadata": {},
   "outputs": [],
   "source": [
    "import json\n",
    "import numpy as np\n",
    "import pandas as pd\n",
    "import lxml\n",
    "import re\n",
    "import os\n",
    "from datetime import datetime, date, time\n",
    "import pyodbc\n",
    "import requests"
   ]
  },
  {
   "cell_type": "markdown",
   "metadata": {},
   "source": [
    "### Get EA script history in JSON format via the API"
   ]
  },
  {
   "cell_type": "code",
   "execution_count": 78,
   "metadata": {},
   "outputs": [
    {
     "name": "stderr",
     "output_type": "stream",
     "text": [
      "/usr/lib/python3/dist-packages/urllib3/connectionpool.py:999: InsecureRequestWarning: Unverified HTTPS request is being made to host 'ea.executive.automats.app'. Adding certificate verification is strongly advised. See: https://urllib3.readthedocs.io/en/latest/advanced-usage.html#ssl-warnings\n",
      "  warnings.warn(\n"
     ]
    },
    {
     "name": "stdout",
     "output_type": "stream",
     "text": [
      "200\n"
     ]
    }
   ],
   "source": [
    "custom_headers  = {\"Authorization\": \"Gt4qkl1ahFDcFyQwfjMBYT0utbLD4STHQjWdIXzsYH8v3w29M6Tm6tVKI0uMj6Qh\", \"Content-Type\": \"application/json\"}\n",
    "url = 'https://ea.executive.automats.app/api/bi/scripts?withHistory=true'\n",
    "\n",
    "resp = requests.get(url, headers = custom_headers, verify=False)\n",
    "print(resp.status_code)"
   ]
  },
  {
   "cell_type": "code",
   "execution_count": 79,
   "metadata": {},
   "outputs": [],
   "source": [
    "json_data = json.loads(resp.text)\n",
    "json_text = json.dumps(json_data, indent=4)"
   ]
  },
  {
   "cell_type": "code",
   "execution_count": 80,
   "metadata": {},
   "outputs": [],
   "source": [
    "try:\n",
    "    os.remove('data/execution/try.json')\n",
    "except:\n",
    "    print('File does not exist')\n",
    "\n",
    "with open('data/execution/try.json', 'w') as fw:\n",
    "    fw.write(json_text)"
   ]
  },
  {
   "cell_type": "markdown",
   "metadata": {},
   "source": [
    "### Remove invalid characters from the inbound JSON data"
   ]
  },
  {
   "cell_type": "code",
   "execution_count": 81,
   "metadata": {},
   "outputs": [
    {
     "name": "stdout",
     "output_type": "stream",
     "text": [
      "4196839\n"
     ]
    }
   ],
   "source": [
    "try:\n",
    "    os.remove('data/execution/script_history_fixed.json')\n",
    "except:\n",
    "    print('File does not exist')\n",
    "\n",
    "#with open('data/execution/script_history.json', 'r') as fr:\n",
    "with open('data/execution/try.json', 'r') as fr:    \n",
    "    # reading line by line\n",
    "    lines = fr.readlines()\n",
    "    last_line = len(lines)\n",
    "    print(len(lines))\n",
    "    \n",
    "    for line in lines:\n",
    "        line = re.sub(\"\\u0003\", \"\", line)\n",
    "        with open('data/execution/script_history_fixed.json', 'a') as fw:\n",
    "            fw.write(line) \n",
    "\n",
    "# Previous runtime = 1m 4s"
   ]
  },
  {
   "attachments": {},
   "cell_type": "markdown",
   "metadata": {},
   "source": [
    "### Parse the multilevel JSON into a CSV file"
   ]
  },
  {
   "cell_type": "code",
   "execution_count": 82,
   "metadata": {},
   "outputs": [],
   "source": [
    "f = open('data/execution/script_history_fixed.json')\n",
    "data = json.loads(f.read())"
   ]
  },
  {
   "cell_type": "code",
   "execution_count": 83,
   "metadata": {},
   "outputs": [],
   "source": [
    "try:\n",
    "    os.remove('data/execution/check_structure.csv')\n",
    "except:\n",
    "    print('File does not exist')\n",
    "with open('data/execution/check_structure.csv', 'a') as fw:\n",
    "    line = 'topProjectName,name,sessionId,executionLogsId,scriptId,scriptName,script_status,label,step_state,step_status,startTime,endTime,duration,lineNum,StepLogsId,lastIssues\\n'\n",
    "    #line = 'isn,topProjectName,name,sessionId,executionLogsId,scriptId,scriptName,script_status,label,step_state,step_status,startTime,endTime,duration,lineNum,StepLogsId,\\n'\n",
    "    fw.write(line)\n",
    "    i = 0\n",
    "    for level1 in data:\n",
    "        # for key, value in level1.items():\n",
    "        #     #if i == 100: break\n",
    "                     \n",
    "        try:\n",
    "            executionLogs_str = json.dumps(level1['executionLogs'])\n",
    "            executionLogs_json = json.loads(executionLogs_str)\n",
    "            for level2 in executionLogs_json:\n",
    "                for key2, value2 in level2.items():\n",
    "                    #try:\n",
    "                    startTime_str = str(level2['startTime'])\n",
    "                    startTime_str = startTime_str[0:10]\n",
    "                    startTime = datetime.strptime(startTime_str, '%Y-%m-%d')\n",
    "                    oldestHistory = datetime.strptime('2023-01-30', '%Y-%m-%d')\n",
    "                    executionStepLogs_str = json.dumps(level2['executionStepLogs'])\n",
    "                    executionStepLogs_json = json.loads(executionStepLogs_str)\n",
    "                    if key2 == 'executionStepLogs' and startTime >= oldestHistory:\n",
    "\n",
    "                        topProjectName = str(level1['topProjectName'])\n",
    "                        name_str = str(level1['name'])\n",
    "                        # Remove any commas from name \n",
    "                        check = (',' in name_str)\n",
    "                        if check == True:\n",
    "                            name_str = re.sub(',', ';', name_str)                            \n",
    "                        sessionId_str = str(level2['sessionId'])\n",
    "                        id_str = str(level2['id'])\n",
    "                        scriptId_str = str(level2['scriptId'])\n",
    "                        scriptName_str = str(level2['scriptName'])\n",
    "                        # Remove any commas from scriptName \n",
    "                        check = (',' in scriptName_str)\n",
    "                        if check == True:\n",
    "                            scriptName_str = re.sub(',', ';', scriptName_str)                             \n",
    "                        state_str = str(level2['state'])\n",
    "                        status2_str = str(level2['status'])\n",
    "                        lastIssues_str = str(level2['lastIssues'])\n",
    "                        # Remove any commas from lastIssues_str\n",
    "                        check = (',' in lastIssues_str)\n",
    "                        if check == True:\n",
    "                            lastIssues_str = re.sub(',', '~', lastIssues_str)\n",
    "                        check = ('\\n' in lastIssues_str)\n",
    "                        if check == True:\n",
    "                            lastIssues_str = re.sub('\\n', '|', lastIssues_str)                             \n",
    "\n",
    "\n",
    "                        for level3 in executionStepLogs_json:\n",
    "                            \n",
    "                            #for key3, value3 in level3.items():\n",
    "                            status3_str = str(level3['status'])\n",
    "                            label_str = str(level3['label'])\n",
    "                            \n",
    "                            # These lines replace long text test step labels with short text (that does not wrap)\n",
    "                            check = ('Click Dynamics 365' in label_str)\n",
    "                            if check == True:\n",
    "                                label_str = 'Click Dynamics 365'\n",
    "                            check = ('Click Sales Hub' in label_str)\n",
    "                            if check == True:\n",
    "                                label_str = 'Click Sales Hub'\n",
    "                            check = ('Type value function eaExecuteVariableValue()' in label_str)\n",
    "                            if check == True:\n",
    "                                label_str = 'Type value function eaExecuteVariableValue()'\n",
    "                            check = ('Select from function eaExecuteVariableValue()' in label_str)\n",
    "                            if check == True:\n",
    "                                label_str = 'Select from function eaExecuteVariableValue()'                                    \n",
    "                            check = ('Select lookup values function eaExecuteVariableValue()' in label_str)\n",
    "                            if check == True:\n",
    "                                label_str = 'Select lookup values function eaExecuteVariableValue()'\n",
    "                            # Remove any commas from label_str \n",
    "                            check = (',' in label_str)\n",
    "                            if check == True:\n",
    "                                label_str = re.sub(',', ';', label_str)\n",
    "                            # Now replace all newlines that remain in label_str\n",
    "                            check = ('\\n' in label_str)\n",
    "                            if check == True:\n",
    "                                label_str = re.sub('\\n', '/nl/', label_str)\n",
    "                            # Done with replacing text\n",
    "\n",
    "                            startTime_str = str(level3['startTime'])\n",
    "                            endTime_str = str(level3['endTime'])\n",
    "                            duration_str = str(level3['duration'])\n",
    "                            lineNum_str = str(level3['lineNum'])\n",
    "                            StepLogs_id_str = str(level3['id'])\n",
    "\n",
    "                            i = i + 1\n",
    "\n",
    "                            line = topProjectName+','+name_str+','+sessionId_str+','+id_str+','+scriptId_str+','+scriptName_str+','+status2_str+','+label_str+','+state_str+','+status3_str+','+startTime_str+','+endTime_str+','+duration_str+','+lineNum_str+','+StepLogs_id_str+','+lastIssues_str+'\\n'\n",
    "                            fw.write(line)\n",
    "                            if level3['id'] == 2:\n",
    "                                print(line)                                \n",
    "                        # except:\n",
    "                        #     print('Exception on Level2 for Level1 item '+str(i))\n",
    "        except:\n",
    "            #print('Exception for Level1 item '+str(i))\n",
    "            pass       \n",
    "\n",
    "    # Previous runtime = 25.7s   "
   ]
  },
  {
   "cell_type": "markdown",
   "metadata": {},
   "source": [
    "### Read the denormalized CSV file into a Pandas dataframe"
   ]
  },
  {
   "cell_type": "code",
   "execution_count": 258,
   "metadata": {},
   "outputs": [
    {
     "name": "stderr",
     "output_type": "stream",
     "text": [
      "/tmp/ipykernel_11070/1179239172.py:1: DtypeWarning: Columns (12) have mixed types. Specify dtype option on import or set low_memory=False.\n",
      "  df = pd.read_csv('data/execution/check_structure.csv')\n"
     ]
    }
   ],
   "source": [
    "df = pd.read_csv('data/execution/check_structure.csv')\n",
    "\n",
    "# Previous runtime = 2.2s"
   ]
  },
  {
   "cell_type": "code",
   "execution_count": 259,
   "metadata": {},
   "outputs": [],
   "source": [
    "df = df.drop_duplicates()\n",
    "df = df.reset_index(drop=True)\n",
    "df.rename(columns={'label':'StepLabel'}, inplace=True)\n",
    "df.rename(columns={'name':'testName'}, inplace=True)"
   ]
  },
  {
   "cell_type": "code",
   "execution_count": 260,
   "metadata": {},
   "outputs": [],
   "source": [
    "df['lastIssues'] = df['lastIssues'].str.replace('|','\\n', regex=False)\n",
    "df['lastIssues'] = df['lastIssues'].str.replace('~',',', regex=False)"
   ]
  },
  {
   "cell_type": "code",
   "execution_count": 261,
   "metadata": {},
   "outputs": [],
   "source": [
    "df = df.dropna(subset = ['testName']).copy()"
   ]
  },
  {
   "cell_type": "code",
   "execution_count": 262,
   "metadata": {},
   "outputs": [],
   "source": [
    "mask = (df['startTime'] == 'None') \n",
    "df['startTime'].mask(mask,'2022-01-01T00:00:00.000Z',inplace=True)"
   ]
  },
  {
   "cell_type": "code",
   "execution_count": 263,
   "metadata": {},
   "outputs": [],
   "source": [
    "mask = (df['endTime'] == 'None') \n",
    "df['endTime'].mask(mask,'2022-01-01T00:00:00.000Z',inplace=True)"
   ]
  },
  {
   "cell_type": "code",
   "execution_count": 264,
   "metadata": {},
   "outputs": [],
   "source": [
    "mask = (df['duration'] == 'None') \n",
    "df['duration'].mask(mask,'0',inplace=True)\n",
    "df['duration'] = pd.to_numeric(df['duration'])"
   ]
  },
  {
   "cell_type": "code",
   "execution_count": 265,
   "metadata": {},
   "outputs": [],
   "source": [
    "df['duration_sec'] = df.duration/1000\n",
    "df['duration_mins'] = df.duration/1000/60"
   ]
  },
  {
   "cell_type": "code",
   "execution_count": 266,
   "metadata": {},
   "outputs": [],
   "source": [
    "df['date'] = pd.to_datetime(df['startTime'], format='%Y-%m-%d').dt.date\n",
    "df['date'] = pd.to_datetime(df['date'])\n"
   ]
  },
  {
   "cell_type": "code",
   "execution_count": 267,
   "metadata": {},
   "outputs": [],
   "source": [
    "df['time'] = pd.to_datetime(df['startTime']).dt.time"
   ]
  },
  {
   "cell_type": "code",
   "execution_count": 268,
   "metadata": {},
   "outputs": [],
   "source": [
    "df['time_dec'] = df['time'].astype(str)\n",
    "df['time_dec'] = df['time_dec'].str[:5]\n",
    "df['time_dec'] = df['time_dec'].str.replace(':','.')\n",
    "df['time_dec'] = df['time_dec'].astype(float)"
   ]
  },
  {
   "attachments": {},
   "cell_type": "markdown",
   "metadata": {},
   "source": [
    "### Add a column to indicate Runs of each test script\n",
    "As there is no other field available via the API, this field is generated each time the lineNum == 1.  This assumes that there will always be a step 1 in every test case.\n",
    "Before this can be done, first sort the whole dataframe"
   ]
  },
  {
   "cell_type": "code",
   "execution_count": 269,
   "metadata": {},
   "outputs": [],
   "source": [
    "df.sort_values(by=['executionLogsId','StepLogsId'], inplace=True)\n",
    "df = df.reset_index(drop=True)"
   ]
  },
  {
   "cell_type": "code",
   "execution_count": 270,
   "metadata": {},
   "outputs": [],
   "source": [
    "# This is old code to allocate a 'run' number and increment it every time the lineNum == 1\n",
    "\n",
    "# df['run'] = 0\n",
    "# run = 0\n",
    "# for idx in df.index:\n",
    "#     if df['lineNum'][idx] == 1:\n",
    "#         run = run + 1\n",
    "#     df['run'][idx] = run\n",
    "\n",
    " # Previous runtime = 31.4s    "
   ]
  },
  {
   "cell_type": "code",
   "execution_count": 271,
   "metadata": {},
   "outputs": [],
   "source": [
    "# This is the new code to allocate a 'run' number and increment it every time the lineNum == 1.  This was generated by ChatGPT based on the code above :-)\n",
    "\n",
    "df['run'] = (df['lineNum'] == 1).cumsum()"
   ]
  },
  {
   "attachments": {},
   "cell_type": "markdown",
   "metadata": {},
   "source": [
    "### Generate a field to indicate where test scripts have run to the last step of the script\n",
    "This assumes that the last step is \"End script\"\n",
    "First sort the dataframe by Runs\n",
    "Then add a new text field that is a concatenation of all the step labels for each run\n",
    "Finally, check which of those strings contain the text \"End script\""
   ]
  },
  {
   "cell_type": "code",
   "execution_count": 272,
   "metadata": {},
   "outputs": [],
   "source": [
    "runs_np = df.run.unique()\n",
    "end_script_dict = {}\n",
    "for i in runs_np:\n",
    "    end_script_dict[i] = 'Script stopped'\n",
    "step_error_dict = {}\n",
    "for i in runs_np:\n",
    "    step_error_dict[i] = 'No step errors'"
   ]
  },
  {
   "cell_type": "code",
   "execution_count": 273,
   "metadata": {},
   "outputs": [],
   "source": [
    "df.sort_values(by=['run'], inplace=True)\n",
    "df = df.reset_index(drop=True)"
   ]
  },
  {
   "cell_type": "code",
   "execution_count": 275,
   "metadata": {},
   "outputs": [],
   "source": [
    "for idx in df.index:\n",
    "    #if run == 10: break\n",
    "    run = df['run'][idx]\n",
    "    if df['StepLabel'][idx] == 'End script':\n",
    "        end_script_dict[run] = 'Script completed'\n",
    "    if df['step_status'][idx] == 'ERROR':\n",
    "        step_error_dict[run] = 'One or more step errors'"
   ]
  },
  {
   "cell_type": "code",
   "execution_count": 276,
   "metadata": {},
   "outputs": [],
   "source": [
    "end_script_df = pd.DataFrame.from_dict(end_script_dict,orient ='index',columns=['script_completion'])\n",
    "end_script_df.reset_index(inplace=True)\n",
    "end_script_df.rename(columns={'index':'run'}, inplace=True)"
   ]
  },
  {
   "cell_type": "code",
   "execution_count": 277,
   "metadata": {},
   "outputs": [],
   "source": [
    "step_error_df = pd.DataFrame.from_dict(step_error_dict,orient ='index',columns=['step_error'])\n",
    "step_error_df.reset_index(inplace=True)\n",
    "step_error_df.rename(columns={'index':'run'}, inplace=True)"
   ]
  },
  {
   "cell_type": "code",
   "execution_count": 278,
   "metadata": {},
   "outputs": [],
   "source": [
    "df = pd.merge(\n",
    "    df,\n",
    "    end_script_df,\n",
    "    how=\"inner\",\n",
    "    on=None,\n",
    "    left_on='run',\n",
    "    right_on='run',\n",
    "    left_index=False,\n",
    "    right_index=False,\n",
    "    sort=True,\n",
    "    suffixes=(\"_x\", \"_y\"),\n",
    "    copy=True,\n",
    "    indicator=False,\n",
    "    validate=None,\n",
    ")"
   ]
  },
  {
   "cell_type": "code",
   "execution_count": 279,
   "metadata": {},
   "outputs": [],
   "source": [
    "df = pd.merge(\n",
    "    df,\n",
    "    step_error_df,\n",
    "    how=\"inner\",\n",
    "    on=None,\n",
    "    left_on='run',\n",
    "    right_on='run',\n",
    "    left_index=False,\n",
    "    right_index=False,\n",
    "    sort=True,\n",
    "    suffixes=(\"_x\", \"_y\"),\n",
    "    copy=True,\n",
    "    indicator=False,\n",
    "    validate=None,\n",
    ")"
   ]
  },
  {
   "cell_type": "code",
   "execution_count": 280,
   "metadata": {},
   "outputs": [],
   "source": [
    "df.rename(columns={'script_status': 'EA_script_status','step_state': 'EA_step_state','step_status': 'EA_step_status','step_error': 'IPT_step_error','script_completion': 'IPT_script_completion'}, inplace=True)"
   ]
  },
  {
   "cell_type": "code",
   "execution_count": 281,
   "metadata": {},
   "outputs": [],
   "source": [
    "df['KPI'] = 'Not mapped'"
   ]
  },
  {
   "cell_type": "code",
   "execution_count": 282,
   "metadata": {},
   "outputs": [],
   "source": [
    "# K1\n",
    "mask = (df['scriptName'].str.contains('Place a sales local order',case=False))\n",
    "df['KPI'].mask(mask,'K01 Place a sales local order',inplace=True)\n",
    "\n",
    "# K2\n",
    "mask = (df['scriptName'].str.contains('Place a B2B local order',case=False))\n",
    "df['KPI'].mask(mask,'K02 Place a B2B/EDI order and Send Confirmation',inplace=True)\n",
    "\n",
    "# K3 Place Service Portal Order\n",
    "# No test script\n",
    "\n",
    "# K4\n",
    "mask = (df['scriptName'].str.contains('Amend an existing sales order',case=False))\n",
    "df['KPI'].mask(mask,'K04 Amend an existing sales order',inplace=True)\n",
    "\n",
    "# K5\n",
    "mask = (df['scriptName'].str.contains('Trade Returns Order',case=False))\n",
    "df['KPI'].mask(mask,'K05 Place a Trade Returns Order',inplace=True)\n",
    "\n",
    "# K6\n",
    "mask = (df['scriptName'].str.contains('Submit a B2B Remittance',case=False))\n",
    "df['KPI'].mask(mask,'K06 B2B Remittance',inplace=True)\n",
    "\n",
    "# K7 B2B Remittance Adjustment\n",
    "# No test script\n",
    "\n",
    "#K8\n",
    "mask = (df['scriptName'].str.contains('Receipted payment processing',case=False))\n",
    "df['KPI'].mask(mask,'K08 Receipted payment processing SA Only at the moment',inplace=True)\n",
    "\n",
    "# K9 aDSD Batch Job posting invoice for HHD billing document \n",
    "# No test script\n",
    "\n",
    "# K10\n",
    "mask = (df['scriptName'].str.contains('Credit status check',case=False))\n",
    "df['KPI'].mask(mask,'K10 Credit status check',inplace=True)\n",
    "\n",
    "# K11\n",
    "mask = (df['scriptName'].str.contains('Send Load to Roadnet',case=False))\n",
    "df['KPI'].mask(mask,'K11 Send Load to Roadnet load for Planning',inplace=True)\n",
    "\n",
    "# K12\n",
    "mask = (df['scriptName'].str.contains('Receive load from Roadnet',case=False))\n",
    "df['KPI'].mask(mask,'K12 Receive load from Roadnet into D365',inplace=True)\n",
    "\n",
    "# K13b\n",
    "mask = (df['scriptName'].str.contains('Release to warehouse',case=False) & df['scriptName'].str.contains('Roadnet loads',case=False))\n",
    "df['KPI'].mask(mask,'K13b Release to Warehouse (Roadnet loads)',inplace=True)\n",
    "# Release to Warehouse (Roadnet loads) & Complete Picking Work & Process OOS\n",
    "\n",
    "# K13\n",
    "mask = ((df['scriptName'].str.contains('Release to Warehouse',case=False) | df['scriptName'].str.contains('Release to warehouse',case=False)) & df['scriptName'].str.contains('manual',case=False))\n",
    "df['KPI'].mask(mask,'K13 Release to Warehouse (manually planned loads)',inplace=True)\n",
    "\n",
    "# K14 Complete Picking Work & Process OOS \n",
    "# Not mapped??\n",
    "\n",
    "# K14b\n",
    "mask = (df['scriptName'].str.contains('Complete Picking Work',case=False) & df['scriptName'].str.contains('manual loads',case=False))\n",
    "df['KPI'].mask(mask,'K14b Complete Picking Work & Process OOS (manually planned loads)',inplace=True)\n",
    "\n",
    "# K15\n",
    "mask = (df['scriptName'].str.contains('aDSD Load confirmation',case=False))\n",
    "df['KPI'].mask(mask,'K15 aDSD Load confirmation',inplace=True)\n",
    "\n",
    "# K16\n",
    "mask = (df['scriptName'].str.contains('Load upload',case=False) & df['scriptName'].str.contains('Settlement',case=False))\n",
    "df['KPI'].mask(mask,'K16 Load upload & Settlement',inplace=True)\n",
    "\n",
    "# K17\n",
    "mask = (df['scriptName'].str.contains('Create a cost estimate',case=False))\n",
    "df['KPI'].mask(mask,'K17 Create a cost estimate for all standard costed procured materials',inplace=True)\n",
    "\n",
    "# K18\n",
    "mask = (df['scriptName'].str.contains('Imported Statistical',case=False))\n",
    "df['KPI'].mask(mask,'K18 Import Actual Statistical entries, into Cost Accounting',inplace=True)\n",
    "\n",
    "# K19\n",
    "mask = (df['scriptName'].str.contains('Distribute the range of items pending prices',case=False))\n",
    "df['KPI'].mask(mask,'K19 Distribute the range of items pending prices to another site',inplace=True)\n",
    "\n",
    "# K20\n",
    "mask = ((df['scriptName'].str.contains('Cost Rollup',case=False) & df['scriptName'].str.contains('Cost Allocation',case=False)) | df['scriptName'].str.contains('Maintain cost distribution table',case=False))\n",
    "df['KPI'].mask(mask,'K20 Run Cost Rollup and Cost Allocation Policies',inplace=True)\n",
    "\n",
    "# K21\n",
    "mask = (df['scriptName'].str.contains('Place SFA order',case=False))\n",
    "df['KPI'].mask(mask,'K21 Place SFA order and Send Confirmation',inplace=True)"
   ]
  },
  {
   "cell_type": "code",
   "execution_count": 283,
   "metadata": {},
   "outputs": [],
   "source": [
    "df.sort_values(by=['KPI', 'scriptId', 'scriptName', 'sessionId', 'run', 'lineNum'], inplace=True)\n",
    "df = df.reset_index(drop=True)"
   ]
  },
  {
   "cell_type": "code",
   "execution_count": 284,
   "metadata": {},
   "outputs": [],
   "source": [
    "df.drop(columns={'topProjectName'}, inplace=True, axis=1)"
   ]
  },
  {
   "cell_type": "code",
   "execution_count": 285,
   "metadata": {},
   "outputs": [],
   "source": [
    "df = df.reindex(columns=['KPI', 'scriptId', 'scriptName', 'sessionId', 'run', 'EA_script_status', 'IPT_script_completion', 'IPT_step_error', 'lineNum', 'StepLabel', 'EA_step_state', 'EA_step_status', 'startTime', 'endTime', 'duration', 'duration_sec', 'duration_mins', 'date', 'time_dec','lastIssues'])"
   ]
  },
  {
   "cell_type": "markdown",
   "metadata": {},
   "source": [
    "### Filter the dataset for output on a specific test cycle"
   ]
  },
  {
   "cell_type": "code",
   "execution_count": 286,
   "metadata": {},
   "outputs": [],
   "source": [
    "exclude_scripts = ['TEST TIMINGS','Test - 10 sessions', 'Gary Test']"
   ]
  },
  {
   "cell_type": "code",
   "execution_count": 287,
   "metadata": {},
   "outputs": [],
   "source": [
    "df1 = df.query(\"date == '2023-02-02' and time_dec > 0.0 and scriptName not in @exclude_scripts\").copy()  # Remember time is UTC"
   ]
  },
  {
   "cell_type": "code",
   "execution_count": 288,
   "metadata": {},
   "outputs": [],
   "source": [
    "df1 = df1.reset_index(drop=True)"
   ]
  },
  {
   "cell_type": "code",
   "execution_count": 289,
   "metadata": {},
   "outputs": [],
   "source": [
    "# New code to keep lastIssues only for those lineNums with a corresponding number - generated by ChatGPT :-)\n",
    "\n",
    "df1['lastIssues'].fillna(value='', inplace=True)\n",
    "mask = df1.apply(lambda x: '[ERROR] Step {}.'.format(str(int(x['lineNum']))) in x['lastIssues'], axis=1)\n",
    "df1.loc[~mask, 'lastIssues'] = ''"
   ]
  },
  {
   "cell_type": "code",
   "execution_count": 290,
   "metadata": {},
   "outputs": [],
   "source": [
    "# Old code to keep lastIssues only for those lineNums with a corresponding number\n",
    "\n",
    "# for i in range(len(df1)):\n",
    "#     ln = str(df1.loc[i, 'lineNum'])\n",
    "#     lastIssue_str = str(df1.loc[i, 'lastIssues'])\n",
    "#     string1 = '[ERROR] Step '+ln+'.'\n",
    "#     check = (string1 in lastIssue_str)\n",
    "#     if check != True:\n",
    "#         df1.loc[i, 'lastIssues'] = ''\n",
    "\n",
    "# Previous runtime = 30.4s "
   ]
  },
  {
   "cell_type": "code",
   "execution_count": 291,
   "metadata": {},
   "outputs": [],
   "source": [
    "df1.to_csv('data/execution/results_filtered.csv',index=False)"
   ]
  },
  {
   "cell_type": "code",
   "execution_count": 292,
   "metadata": {},
   "outputs": [
    {
     "ename": "SystemExit",
     "evalue": "Stop right here!",
     "output_type": "error",
     "traceback": [
      "An exception has occurred, use %tb to see the full traceback.\n",
      "\u001b[0;31mSystemExit\u001b[0m\u001b[0;31m:\u001b[0m Stop right here!\n"
     ]
    },
    {
     "name": "stderr",
     "output_type": "stream",
     "text": [
      "/home/wo/.local/lib/python3.8/site-packages/IPython/core/interactiveshell.py:3441: UserWarning: To exit: use 'exit', 'quit', or Ctrl-D.\n",
      "  warn(\"To exit: use 'exit', 'quit', or Ctrl-D.\", stacklevel=1)\n"
     ]
    }
   ],
   "source": [
    "#raise SystemExit(\"Stop right here!\")"
   ]
  },
  {
   "cell_type": "markdown",
   "metadata": {},
   "source": [
    "### Mark those Test Script Steps that must be included in the time measurement"
   ]
  },
  {
   "cell_type": "code",
   "execution_count": 293,
   "metadata": {},
   "outputs": [],
   "source": [
    "testStepstoMeasure = {406: ['K11', 21], 407: ['K11', 21], 408: ['K11', 21], 409: ['K11', 21], 410: ['K11', 21], 411: ['K11', 21], 412: ['K11', 21], 413: ['K11', 21], \n",
    "        401: ['K12', 25], 402: ['K12', 25], 403: ['K12', 25], 404: ['K12', 25], 405: ['K12', 25],\n",
    "        522: ['K13b', 20, 'K14b', 57], 523: ['K13b', 20, 'K14b', 57], 524: ['K13b', 20, 'K14b', 57], 525: ['K13b', 20, 'K14b', 57], 526: ['K13b', 20, 'K14b', 57], 527: ['K13b', 20, 'K14b', 57], 528: ['K13b', 20, 'K14b', 57], 529: ['K13b', 20, 'K14b', 57], 530: ['K13b', 20, 'K14b', 57],\n",
    "        531: ['K13b', 20, 'K14b', 57], 532: ['K13b', 20, 'K14b', 57], 533: ['K13b', 20, 'K14b', 57], 534: ['K13b', 20, 'K14b', 57], 535: ['K13b', 20, 'K14b', 57], 536: ['K13b', 20, 'K14b', 57], 537: ['K13b', 20, 'K14b', 57], 538: ['K13b', 20, 'K14b', 57], 539: ['K13b', 20, 'K14b', 57],  \n",
    "        521: ['K15', 16], 550: ['K15', 16], 551: ['K15', 16], 552: ['K15', 16], 553: ['K15', 16], 554: ['K15', 16], 555: ['K15', 16], 556: ['K15', 16], 557: ['K15', 16], 558: ['K15', 16], 559: ['K15', 16], 560: ['K15', 16], 561: ['K15', 16], \n",
    "        562: ['K15', 16], 563: ['K15', 16], 564: ['K15', 16], 565: ['K15', 16], 566: ['K15', 16], 567: ['K15', 16], 568: ['K15', 16], 569: ['K15', 16], 570: ['K15', 16], 571: ['K15', 16], 572: ['K15', 16], 573: ['K15', 16], 574: ['K15', 16], 575: ['K15', 16], 576: ['K15', 16],\n",
    "        327: ['K20', 9], 328: ['K20', 9],\n",
    "        399: ['K14', 22], 263: ['K18', 39], 59: ['K17', 31]\n",
    "}"
   ]
  },
  {
   "cell_type": "code",
   "execution_count": 294,
   "metadata": {},
   "outputs": [],
   "source": [
    "df1['KPI_no'] = ''"
   ]
  },
  {
   "cell_type": "code",
   "execution_count": 295,
   "metadata": {},
   "outputs": [],
   "source": [
    "df1['Include_in_measure'] = False"
   ]
  },
  {
   "cell_type": "code",
   "execution_count": 296,
   "metadata": {},
   "outputs": [
    {
     "name": "stderr",
     "output_type": "stream",
     "text": [
      "/tmp/ipykernel_11070/3423581323.py:10: SettingWithCopyWarning: \n",
      "A value is trying to be set on a copy of a slice from a DataFrame\n",
      "\n",
      "See the caveats in the documentation: https://pandas.pydata.org/pandas-docs/stable/user_guide/indexing.html#returning-a-view-versus-a-copy\n",
      "  df1['Include_in_measure'][idx] = True\n",
      "/tmp/ipykernel_11070/3423581323.py:13: SettingWithCopyWarning: \n",
      "A value is trying to be set on a copy of a slice from a DataFrame\n",
      "\n",
      "See the caveats in the documentation: https://pandas.pydata.org/pandas-docs/stable/user_guide/indexing.html#returning-a-view-versus-a-copy\n",
      "  df1['KPI_no'][idx] = testStepstoMeasure[scriptid][j[0]-1]\n",
      "/tmp/ipykernel_11070/3423581323.py:18: SettingWithCopyWarning: \n",
      "A value is trying to be set on a copy of a slice from a DataFrame\n",
      "\n",
      "See the caveats in the documentation: https://pandas.pydata.org/pandas-docs/stable/user_guide/indexing.html#returning-a-view-versus-a-copy\n",
      "  df1['KPI_no'][idx] = 'K13'\n"
     ]
    }
   ],
   "source": [
    "i = 0\n",
    "for idx in df1.index:\n",
    "    i = i + 1\n",
    "    #if i == 1000: break\n",
    "    scriptid = df1['scriptId'][idx]    \n",
    "    try:\n",
    "        linenum = df1['lineNum'][idx]\n",
    "        if linenum in testStepstoMeasure[scriptid]:\n",
    "            #print(linenum,testStepstoMeasure[scriptid])\n",
    "            df1['Include_in_measure'][idx] = True\n",
    "            j = [index for index, listItem in enumerate(testStepstoMeasure[scriptid]) if listItem == linenum]\n",
    "            #print(j[0])            \n",
    "            df1['KPI_no'][idx] = testStepstoMeasure[scriptid][j[0]-1]\n",
    "    except:\n",
    "        pass\n",
    "    # Exception below    \n",
    "    if scriptid == 399 and linenum == 17 and df1['StepLabel'][idx] == 'Click OK':\n",
    "        df1['KPI_no'][idx] = 'K13'"
   ]
  },
  {
   "cell_type": "code",
   "execution_count": 297,
   "metadata": {},
   "outputs": [],
   "source": [
    "df2 = df1.query(\"Include_in_measure == True and EA_step_status != 'WARNING' and EA_step_status != 'ERROR'\").copy()"
   ]
  },
  {
   "cell_type": "code",
   "execution_count": 298,
   "metadata": {},
   "outputs": [],
   "source": [
    "df2 = df2.drop_duplicates(keep='first')\n",
    "df2 = df2.reset_index(drop=True)"
   ]
  },
  {
   "cell_type": "code",
   "execution_count": 299,
   "metadata": {},
   "outputs": [],
   "source": [
    "df2.to_csv('data/execution/filtered_for_averageCalc.csv',index=False)"
   ]
  },
  {
   "cell_type": "code",
   "execution_count": 300,
   "metadata": {},
   "outputs": [],
   "source": [
    "z = df2.groupby(['KPI_no']).agg({'duration_sec': {'mean', 'max'},'run': 'count'}).reset_index()"
   ]
  },
  {
   "cell_type": "code",
   "execution_count": 301,
   "metadata": {},
   "outputs": [
    {
     "data": {
      "text/html": [
       "<div>\n",
       "<style scoped>\n",
       "    .dataframe tbody tr th:only-of-type {\n",
       "        vertical-align: middle;\n",
       "    }\n",
       "\n",
       "    .dataframe tbody tr th {\n",
       "        vertical-align: top;\n",
       "    }\n",
       "\n",
       "    .dataframe thead tr th {\n",
       "        text-align: left;\n",
       "    }\n",
       "</style>\n",
       "<table border=\"1\" class=\"dataframe\">\n",
       "  <thead>\n",
       "    <tr>\n",
       "      <th></th>\n",
       "      <th>KPI_no</th>\n",
       "      <th colspan=\"2\" halign=\"left\">duration_sec</th>\n",
       "      <th>run</th>\n",
       "    </tr>\n",
       "    <tr>\n",
       "      <th></th>\n",
       "      <th></th>\n",
       "      <th>max</th>\n",
       "      <th>mean</th>\n",
       "      <th>count</th>\n",
       "    </tr>\n",
       "  </thead>\n",
       "  <tbody>\n",
       "    <tr>\n",
       "      <th>0</th>\n",
       "      <td>K11</td>\n",
       "      <td>612.255</td>\n",
       "      <td>416.011483</td>\n",
       "      <td>120</td>\n",
       "    </tr>\n",
       "    <tr>\n",
       "      <th>1</th>\n",
       "      <td>K12</td>\n",
       "      <td>603.405</td>\n",
       "      <td>380.843333</td>\n",
       "      <td>3</td>\n",
       "    </tr>\n",
       "    <tr>\n",
       "      <th>2</th>\n",
       "      <td>K13b</td>\n",
       "      <td>172.022</td>\n",
       "      <td>17.085296</td>\n",
       "      <td>98</td>\n",
       "    </tr>\n",
       "    <tr>\n",
       "      <th>3</th>\n",
       "      <td>K14</td>\n",
       "      <td>21.730</td>\n",
       "      <td>10.786900</td>\n",
       "      <td>10</td>\n",
       "    </tr>\n",
       "    <tr>\n",
       "      <th>4</th>\n",
       "      <td>K14b</td>\n",
       "      <td>223.031</td>\n",
       "      <td>21.125821</td>\n",
       "      <td>151</td>\n",
       "    </tr>\n",
       "    <tr>\n",
       "      <th>5</th>\n",
       "      <td>K15</td>\n",
       "      <td>79.099</td>\n",
       "      <td>55.200780</td>\n",
       "      <td>132</td>\n",
       "    </tr>\n",
       "    <tr>\n",
       "      <th>6</th>\n",
       "      <td>K17</td>\n",
       "      <td>10.562</td>\n",
       "      <td>10.562000</td>\n",
       "      <td>1</td>\n",
       "    </tr>\n",
       "    <tr>\n",
       "      <th>7</th>\n",
       "      <td>K20</td>\n",
       "      <td>4.409</td>\n",
       "      <td>2.595000</td>\n",
       "      <td>5</td>\n",
       "    </tr>\n",
       "  </tbody>\n",
       "</table>\n",
       "</div>"
      ],
      "text/plain": [
       "  KPI_no duration_sec               run\n",
       "                  max        mean count\n",
       "0    K11      612.255  416.011483   120\n",
       "1    K12      603.405  380.843333     3\n",
       "2   K13b      172.022   17.085296    98\n",
       "3    K14       21.730   10.786900    10\n",
       "4   K14b      223.031   21.125821   151\n",
       "5    K15       79.099   55.200780   132\n",
       "6    K17       10.562   10.562000     1\n",
       "7    K20        4.409    2.595000     5"
      ]
     },
     "execution_count": 301,
     "metadata": {},
     "output_type": "execute_result"
    }
   ],
   "source": [
    "z"
   ]
  },
  {
   "cell_type": "code",
   "execution_count": null,
   "metadata": {},
   "outputs": [
    {
     "ename": "SystemExit",
     "evalue": "Stop right here!",
     "output_type": "error",
     "traceback": [
      "An exception has occurred, use %tb to see the full traceback.\n",
      "\u001b[0;31mSystemExit\u001b[0m\u001b[0;31m:\u001b[0m Stop right here!\n"
     ]
    },
    {
     "name": "stderr",
     "output_type": "stream",
     "text": [
      "/home/wo/.local/lib/python3.8/site-packages/IPython/core/interactiveshell.py:3441: UserWarning: To exit: use 'exit', 'quit', or Ctrl-D.\n",
      "  warn(\"To exit: use 'exit', 'quit', or Ctrl-D.\", stacklevel=1)\n"
     ]
    }
   ],
   "source": [
    "raise SystemExit(\"Stop right here!\")"
   ]
  },
  {
   "cell_type": "markdown",
   "metadata": {},
   "source": [
    "### Experimental from here on"
   ]
  },
  {
   "cell_type": "code",
   "execution_count": null,
   "metadata": {},
   "outputs": [],
   "source": [
    "z.sort_values(by=['KPI_no'], inplace=True)\n",
    "z = z.reset_index(drop=True)\n",
    "z.columns = ['_'.join(col) for col in z.columns]"
   ]
  },
  {
   "cell_type": "code",
   "execution_count": null,
   "metadata": {},
   "outputs": [],
   "source": [
    "z.rename(columns={'KPI_no_': 'KPI', 'run_count': 'run'}, inplace=True)"
   ]
  },
  {
   "cell_type": "code",
   "execution_count": null,
   "metadata": {},
   "outputs": [],
   "source": [
    "z['90percQ'] = 0"
   ]
  },
  {
   "cell_type": "code",
   "execution_count": null,
   "metadata": {},
   "outputs": [],
   "source": [
    "run_np = z['run'].unique()"
   ]
  },
  {
   "cell_type": "code",
   "execution_count": null,
   "metadata": {},
   "outputs": [],
   "source": [
    "def calculate_outliers(x, scr_id):\n",
    "    mask = (x['run'] == scr_id)\n",
    "    y = x[mask]\n",
    "    q09= y.quantile(1, numeric_only=True)\n",
    "    #print(q09['duration_sec_sum'])\n",
    "    x['90percQ'].mask(mask,q09['duration_sec'],inplace=True)"
   ]
  },
  {
   "cell_type": "code",
   "execution_count": null,
   "metadata": {},
   "outputs": [
    {
     "ename": "KeyError",
     "evalue": "'run_count'",
     "output_type": "error",
     "traceback": [
      "\u001b[0;31m---------------------------------------------------------------------------\u001b[0m",
      "\u001b[0;31mKeyError\u001b[0m                                  Traceback (most recent call last)",
      "File \u001b[0;32m~/.local/lib/python3.8/site-packages/pandas/core/indexes/base.py:3803\u001b[0m, in \u001b[0;36mIndex.get_loc\u001b[0;34m(self, key, method, tolerance)\u001b[0m\n\u001b[1;32m   3802\u001b[0m \u001b[39mtry\u001b[39;00m:\n\u001b[0;32m-> 3803\u001b[0m     \u001b[39mreturn\u001b[39;00m \u001b[39mself\u001b[39;49m\u001b[39m.\u001b[39;49m_engine\u001b[39m.\u001b[39;49mget_loc(casted_key)\n\u001b[1;32m   3804\u001b[0m \u001b[39mexcept\u001b[39;00m \u001b[39mKeyError\u001b[39;00m \u001b[39mas\u001b[39;00m err:\n",
      "File \u001b[0;32m~/.local/lib/python3.8/site-packages/pandas/_libs/index.pyx:138\u001b[0m, in \u001b[0;36mpandas._libs.index.IndexEngine.get_loc\u001b[0;34m()\u001b[0m\n",
      "File \u001b[0;32m~/.local/lib/python3.8/site-packages/pandas/_libs/index.pyx:165\u001b[0m, in \u001b[0;36mpandas._libs.index.IndexEngine.get_loc\u001b[0;34m()\u001b[0m\n",
      "File \u001b[0;32mpandas/_libs/hashtable_class_helper.pxi:5745\u001b[0m, in \u001b[0;36mpandas._libs.hashtable.PyObjectHashTable.get_item\u001b[0;34m()\u001b[0m\n",
      "File \u001b[0;32mpandas/_libs/hashtable_class_helper.pxi:5753\u001b[0m, in \u001b[0;36mpandas._libs.hashtable.PyObjectHashTable.get_item\u001b[0;34m()\u001b[0m\n",
      "\u001b[0;31mKeyError\u001b[0m: 'run_count'",
      "\nThe above exception was the direct cause of the following exception:\n",
      "\u001b[0;31mKeyError\u001b[0m                                  Traceback (most recent call last)",
      "Cell \u001b[0;32mIn [279], line 2\u001b[0m\n\u001b[1;32m      1\u001b[0m \u001b[39mfor\u001b[39;00m scriptId \u001b[39min\u001b[39;00m run_np:\n\u001b[0;32m----> 2\u001b[0m     calculate_outliers(z,scriptId)\n",
      "Cell \u001b[0;32mIn [278], line 2\u001b[0m, in \u001b[0;36mcalculate_outliers\u001b[0;34m(x, scr_id)\u001b[0m\n\u001b[1;32m      1\u001b[0m \u001b[39mdef\u001b[39;00m \u001b[39mcalculate_outliers\u001b[39m(x, scr_id):\n\u001b[0;32m----> 2\u001b[0m     mask \u001b[39m=\u001b[39m (x[\u001b[39m'\u001b[39;49m\u001b[39mrun_count\u001b[39;49m\u001b[39m'\u001b[39;49m] \u001b[39m==\u001b[39m scr_id)\n\u001b[1;32m      3\u001b[0m     y \u001b[39m=\u001b[39m x[mask]\n\u001b[1;32m      4\u001b[0m     q09\u001b[39m=\u001b[39m y\u001b[39m.\u001b[39mquantile(\u001b[39m1\u001b[39m, numeric_only\u001b[39m=\u001b[39m\u001b[39mTrue\u001b[39;00m)\n",
      "File \u001b[0;32m~/.local/lib/python3.8/site-packages/pandas/core/frame.py:3805\u001b[0m, in \u001b[0;36mDataFrame.__getitem__\u001b[0;34m(self, key)\u001b[0m\n\u001b[1;32m   3803\u001b[0m \u001b[39mif\u001b[39;00m \u001b[39mself\u001b[39m\u001b[39m.\u001b[39mcolumns\u001b[39m.\u001b[39mnlevels \u001b[39m>\u001b[39m \u001b[39m1\u001b[39m:\n\u001b[1;32m   3804\u001b[0m     \u001b[39mreturn\u001b[39;00m \u001b[39mself\u001b[39m\u001b[39m.\u001b[39m_getitem_multilevel(key)\n\u001b[0;32m-> 3805\u001b[0m indexer \u001b[39m=\u001b[39m \u001b[39mself\u001b[39;49m\u001b[39m.\u001b[39;49mcolumns\u001b[39m.\u001b[39;49mget_loc(key)\n\u001b[1;32m   3806\u001b[0m \u001b[39mif\u001b[39;00m is_integer(indexer):\n\u001b[1;32m   3807\u001b[0m     indexer \u001b[39m=\u001b[39m [indexer]\n",
      "File \u001b[0;32m~/.local/lib/python3.8/site-packages/pandas/core/indexes/base.py:3805\u001b[0m, in \u001b[0;36mIndex.get_loc\u001b[0;34m(self, key, method, tolerance)\u001b[0m\n\u001b[1;32m   3803\u001b[0m     \u001b[39mreturn\u001b[39;00m \u001b[39mself\u001b[39m\u001b[39m.\u001b[39m_engine\u001b[39m.\u001b[39mget_loc(casted_key)\n\u001b[1;32m   3804\u001b[0m \u001b[39mexcept\u001b[39;00m \u001b[39mKeyError\u001b[39;00m \u001b[39mas\u001b[39;00m err:\n\u001b[0;32m-> 3805\u001b[0m     \u001b[39mraise\u001b[39;00m \u001b[39mKeyError\u001b[39;00m(key) \u001b[39mfrom\u001b[39;00m \u001b[39merr\u001b[39;00m\n\u001b[1;32m   3806\u001b[0m \u001b[39mexcept\u001b[39;00m \u001b[39mTypeError\u001b[39;00m:\n\u001b[1;32m   3807\u001b[0m     \u001b[39m# If we have a listlike key, _check_indexing_error will raise\u001b[39;00m\n\u001b[1;32m   3808\u001b[0m     \u001b[39m#  InvalidIndexError. Otherwise we fall through and re-raise\u001b[39;00m\n\u001b[1;32m   3809\u001b[0m     \u001b[39m#  the TypeError.\u001b[39;00m\n\u001b[1;32m   3810\u001b[0m     \u001b[39mself\u001b[39m\u001b[39m.\u001b[39m_check_indexing_error(key)\n",
      "\u001b[0;31mKeyError\u001b[0m: 'run_count'"
     ]
    }
   ],
   "source": [
    "for run in run_np:\n",
    "    calculate_outliers(z,run)"
   ]
  },
  {
   "cell_type": "code",
   "execution_count": null,
   "metadata": {},
   "outputs": [],
   "source": [
    "scriptID_np = z['scriptId'].unique()"
   ]
  },
  {
   "cell_type": "code",
   "execution_count": null,
   "metadata": {},
   "outputs": [],
   "source": [
    "def calculate_outliers(x, scr_id):\n",
    "    mask = (x['scriptId'] == scr_id)\n",
    "    y = x[mask]\n",
    "    q09= y.quantile(1, numeric_only=True)\n",
    "    #print(q09['duration_sec_sum'])\n",
    "    x['90percQ'].mask(mask,q09['duration_sec'],inplace=True)"
   ]
  },
  {
   "cell_type": "code",
   "execution_count": null,
   "metadata": {},
   "outputs": [],
   "source": [
    "for scriptId in scriptID_np:\n",
    "    calculate_outliers(z,scriptId)"
   ]
  },
  {
   "cell_type": "code",
   "execution_count": null,
   "metadata": {},
   "outputs": [
    {
     "data": {
      "text/html": [
       "<div>\n",
       "<style scoped>\n",
       "    .dataframe tbody tr th:only-of-type {\n",
       "        vertical-align: middle;\n",
       "    }\n",
       "\n",
       "    .dataframe tbody tr th {\n",
       "        vertical-align: top;\n",
       "    }\n",
       "\n",
       "    .dataframe thead th {\n",
       "        text-align: right;\n",
       "    }\n",
       "</style>\n",
       "<table border=\"1\" class=\"dataframe\">\n",
       "  <thead>\n",
       "    <tr style=\"text-align: right;\">\n",
       "      <th></th>\n",
       "      <th>KPI_no</th>\n",
       "      <th>run</th>\n",
       "      <th>scriptId</th>\n",
       "      <th>duration_sec</th>\n",
       "      <th>90percQ</th>\n",
       "    </tr>\n",
       "  </thead>\n",
       "  <tbody>\n",
       "    <tr>\n",
       "      <th>0</th>\n",
       "      <td>K11</td>\n",
       "      <td>1157</td>\n",
       "      <td>409</td>\n",
       "      <td>8016.975</td>\n",
       "      <td>8016.975</td>\n",
       "    </tr>\n",
       "    <tr>\n",
       "      <th>1</th>\n",
       "      <td>K11</td>\n",
       "      <td>1158</td>\n",
       "      <td>408</td>\n",
       "      <td>7705.841</td>\n",
       "      <td>7705.841</td>\n",
       "    </tr>\n",
       "    <tr>\n",
       "      <th>2</th>\n",
       "      <td>K11</td>\n",
       "      <td>1159</td>\n",
       "      <td>407</td>\n",
       "      <td>8350.474</td>\n",
       "      <td>8350.474</td>\n",
       "    </tr>\n",
       "    <tr>\n",
       "      <th>3</th>\n",
       "      <td>K11</td>\n",
       "      <td>1160</td>\n",
       "      <td>406</td>\n",
       "      <td>7201.884</td>\n",
       "      <td>7201.884</td>\n",
       "    </tr>\n",
       "    <tr>\n",
       "      <th>4</th>\n",
       "      <td>K12</td>\n",
       "      <td>1161</td>\n",
       "      <td>401</td>\n",
       "      <td>362.139</td>\n",
       "      <td>362.139</td>\n",
       "    </tr>\n",
       "    <tr>\n",
       "      <th>...</th>\n",
       "      <td>...</td>\n",
       "      <td>...</td>\n",
       "      <td>...</td>\n",
       "      <td>...</td>\n",
       "      <td>...</td>\n",
       "    </tr>\n",
       "    <tr>\n",
       "      <th>68</th>\n",
       "      <td>K15</td>\n",
       "      <td>1222</td>\n",
       "      <td>521</td>\n",
       "      <td>272.067</td>\n",
       "      <td>272.067</td>\n",
       "    </tr>\n",
       "    <tr>\n",
       "      <th>69</th>\n",
       "      <td>K15</td>\n",
       "      <td>1236</td>\n",
       "      <td>554</td>\n",
       "      <td>257.405</td>\n",
       "      <td>257.405</td>\n",
       "    </tr>\n",
       "    <tr>\n",
       "      <th>70</th>\n",
       "      <td>K20</td>\n",
       "      <td>1137</td>\n",
       "      <td>327</td>\n",
       "      <td>1.013</td>\n",
       "      <td>5.319</td>\n",
       "    </tr>\n",
       "    <tr>\n",
       "      <th>71</th>\n",
       "      <td>K20</td>\n",
       "      <td>1136</td>\n",
       "      <td>327</td>\n",
       "      <td>5.319</td>\n",
       "      <td>5.319</td>\n",
       "    </tr>\n",
       "    <tr>\n",
       "      <th>72</th>\n",
       "      <td>K20</td>\n",
       "      <td>1138</td>\n",
       "      <td>328</td>\n",
       "      <td>6.643</td>\n",
       "      <td>6.643</td>\n",
       "    </tr>\n",
       "  </tbody>\n",
       "</table>\n",
       "<p>73 rows × 5 columns</p>\n",
       "</div>"
      ],
      "text/plain": [
       "   KPI_no   run  scriptId  duration_sec   90percQ\n",
       "0     K11  1157       409      8016.975  8016.975\n",
       "1     K11  1158       408      7705.841  7705.841\n",
       "2     K11  1159       407      8350.474  8350.474\n",
       "3     K11  1160       406      7201.884  7201.884\n",
       "4     K12  1161       401       362.139   362.139\n",
       "..    ...   ...       ...           ...       ...\n",
       "68    K15  1222       521       272.067   272.067\n",
       "69    K15  1236       554       257.405   257.405\n",
       "70    K20  1137       327         1.013     5.319\n",
       "71    K20  1136       327         5.319     5.319\n",
       "72    K20  1138       328         6.643     6.643\n",
       "\n",
       "[73 rows x 5 columns]"
      ]
     },
     "execution_count": 239,
     "metadata": {},
     "output_type": "execute_result"
    }
   ],
   "source": [
    "mask = (z['duration_sec'] <= z['90percQ'])\n",
    "z[mask]"
   ]
  },
  {
   "cell_type": "code",
   "execution_count": null,
   "metadata": {},
   "outputs": [],
   "source": [
    "z1 = df2.groupby(['KPI_no','run']).agg({'scriptId': {'first'}, 'duration_sec': {'sum'}}).reset_index()\n",
    "z1.sort_values(by=['KPI_no'], inplace=True)\n",
    "z1 = z1.reset_index(drop=True)\n",
    "z1.columns = ['_'.join(col) for col in z1.columns]\n",
    "z1.rename(columns={'KPI_no_': 'KPI_no', 'run_': 'run', 'scriptId_first': 'scriptId', 'duration_sec_sum': 'duration_sec'}, inplace=True)\n",
    "z1['90percQ'] = 0\n",
    "scriptID_np = z1['scriptId'].unique()\n",
    "def calculate_outliers(x, scr_id):\n",
    "    mask = (x['scriptId'] == scr_id)\n",
    "    y = x[mask]\n",
    "    q09= y.quantile(.9, numeric_only=True)\n",
    "    #print(q09['duration_sec_sum'])\n",
    "    x['90percQ'].mask(mask,q09['duration_sec'],inplace=True)\n",
    "for scriptId in scriptID_np:\n",
    "    calculate_outliers(z1,scriptId)"
   ]
  },
  {
   "cell_type": "code",
   "execution_count": null,
   "metadata": {},
   "outputs": [
    {
     "data": {
      "text/html": [
       "<div>\n",
       "<style scoped>\n",
       "    .dataframe tbody tr th:only-of-type {\n",
       "        vertical-align: middle;\n",
       "    }\n",
       "\n",
       "    .dataframe tbody tr th {\n",
       "        vertical-align: top;\n",
       "    }\n",
       "\n",
       "    .dataframe thead th {\n",
       "        text-align: right;\n",
       "    }\n",
       "</style>\n",
       "<table border=\"1\" class=\"dataframe\">\n",
       "  <thead>\n",
       "    <tr style=\"text-align: right;\">\n",
       "      <th></th>\n",
       "      <th>run</th>\n",
       "      <th>scriptId</th>\n",
       "      <th>duration_sec</th>\n",
       "      <th>90percQ</th>\n",
       "    </tr>\n",
       "    <tr>\n",
       "      <th>KPI_no</th>\n",
       "      <th></th>\n",
       "      <th></th>\n",
       "      <th></th>\n",
       "      <th></th>\n",
       "    </tr>\n",
       "  </thead>\n",
       "  <tbody>\n",
       "    <tr>\n",
       "      <th>K11</th>\n",
       "      <td>1158.500000</td>\n",
       "      <td>407.500000</td>\n",
       "      <td>7818.793500</td>\n",
       "      <td>7818.793500</td>\n",
       "    </tr>\n",
       "    <tr>\n",
       "      <th>K12</th>\n",
       "      <td>1199.000000</td>\n",
       "      <td>403.250000</td>\n",
       "      <td>327.266000</td>\n",
       "      <td>327.266000</td>\n",
       "    </tr>\n",
       "    <tr>\n",
       "      <th>K13b</th>\n",
       "      <td>1197.058824</td>\n",
       "      <td>531.000000</td>\n",
       "      <td>100.896000</td>\n",
       "      <td>180.585600</td>\n",
       "    </tr>\n",
       "    <tr>\n",
       "      <th>K14b</th>\n",
       "      <td>1197.058824</td>\n",
       "      <td>531.000000</td>\n",
       "      <td>179.507765</td>\n",
       "      <td>180.585600</td>\n",
       "    </tr>\n",
       "    <tr>\n",
       "      <th>K15</th>\n",
       "      <td>1236.428571</td>\n",
       "      <td>561.500000</td>\n",
       "      <td>261.015893</td>\n",
       "      <td>261.015893</td>\n",
       "    </tr>\n",
       "    <tr>\n",
       "      <th>K20</th>\n",
       "      <td>1137.000000</td>\n",
       "      <td>327.333333</td>\n",
       "      <td>4.325000</td>\n",
       "      <td>5.473267</td>\n",
       "    </tr>\n",
       "  </tbody>\n",
       "</table>\n",
       "</div>"
      ],
      "text/plain": [
       "                run    scriptId  duration_sec      90percQ\n",
       "KPI_no                                                    \n",
       "K11     1158.500000  407.500000   7818.793500  7818.793500\n",
       "K12     1199.000000  403.250000    327.266000   327.266000\n",
       "K13b    1197.058824  531.000000    100.896000   180.585600\n",
       "K14b    1197.058824  531.000000    179.507765   180.585600\n",
       "K15     1236.428571  561.500000    261.015893   261.015893\n",
       "K20     1137.000000  327.333333      4.325000     5.473267"
      ]
     },
     "execution_count": 244,
     "metadata": {},
     "output_type": "execute_result"
    }
   ],
   "source": [
    "#z1.groupby(['KPI']).agg({'duration_sec': {'mean'}, 'run': {'count'}}).reset_index().sort_values(by=['KPI']).to_csv('data/execution/KPIs.csv',index=False)\n",
    "z1.groupby(['KPI_no']).agg({'duration_sec': {'mean'}, 'run': {'count'}}).reset_index().sort_values(by=['KPI_no'])\n",
    "z1.groupby(['KPI_no']).mean()"
   ]
  },
  {
   "cell_type": "markdown",
   "metadata": {},
   "source": [
    "### Aggregate to extract measures"
   ]
  },
  {
   "cell_type": "code",
   "execution_count": null,
   "metadata": {},
   "outputs": [
    {
     "data": {
      "text/plain": [
       "\" def summary(x):\\n    runs = x['executionLogsId'].nunique()\\n    runs = float(runs)\\n    duration = x['duration'].sum()/1000\\n    duration_90 = x['duration'].quantile(0.9).sum()/1000\\n    mean_s = x['duration'].mean()/1000\\n    mean_90 = x['duration'].quantile(0.9).mean()/1000\\n    count = duration/mean_s\\n    result = {\\n        #'aggr_duration': duration,\\n        #'aggr_duration_minutes': duration/60,\\n        #'runs': runs,\\n        'mean': mean_s,\\n        'mean_90': mean_90,\\n        'mean_minutes': duration/runs/60\\n        #'steps': count\\n    }\\n    return pd.Series(result).round(1)\\n\\n#df2.groupby(['scriptName','sessionId']).apply(summary).to_html('data/execution/result.html')\\ndf2.groupby(['testName', 'executionLogsId']).apply(summary).to_html('data/execution/result.html')\\n#df2.groupby(['testName', 'executionLogsId']).quantile(.90).apply(summary).to_html('data/execution/result.html')\\n#df2.groupby(['testName', 'executionLogsId']).apply(summary).to_excel('data/execution/result_groupby.xlsx')\\n#df2.groupby(['testName', 'executionLogsId']).agg({'executionLogsId': {'nunique'}, 'duration' : {'sum'}})\\n#df2.groupby(['testName']).apply(summary).to_html('data/execution/result.html') \""
      ]
     },
     "execution_count": 73,
     "metadata": {},
     "output_type": "execute_result"
    }
   ],
   "source": [
    "\"\"\" def summary(x):\n",
    "    runs = x['executionLogsId'].nunique()\n",
    "    runs = float(runs)\n",
    "    duration = x['duration'].sum()/1000\n",
    "    duration_90 = x['duration'].quantile(0.9).sum()/1000\n",
    "    mean_s = x['duration'].mean()/1000\n",
    "    mean_90 = x['duration'].quantile(0.9).mean()/1000\n",
    "    count = duration/mean_s\n",
    "    result = {\n",
    "        #'aggr_duration': duration,\n",
    "        #'aggr_duration_minutes': duration/60,\n",
    "        #'runs': runs,\n",
    "        'mean': mean_s,\n",
    "        'mean_90': mean_90,\n",
    "        'mean_minutes': duration/runs/60\n",
    "        #'steps': count\n",
    "    }\n",
    "    return pd.Series(result).round(1)\n",
    "\n",
    "#df2.groupby(['scriptName','sessionId']).apply(summary).to_html('data/execution/result.html')\n",
    "df2.groupby(['testName', 'executionLogsId']).apply(summary).to_html('data/execution/result.html')\n",
    "#df2.groupby(['testName', 'executionLogsId']).quantile(.90).apply(summary).to_html('data/execution/result.html')\n",
    "#df2.groupby(['testName', 'executionLogsId']).apply(summary).to_excel('data/execution/result_groupby.xlsx')\n",
    "#df2.groupby(['testName', 'executionLogsId']).agg({'executionLogsId': {'nunique'}, 'duration' : {'sum'}})\n",
    "#df2.groupby(['testName']).apply(summary).to_html('data/execution/result.html') \"\"\""
   ]
  },
  {
   "attachments": {},
   "cell_type": "markdown",
   "metadata": {},
   "source": [
    "### From here on the script is disabled."
   ]
  },
  {
   "cell_type": "code",
   "execution_count": null,
   "metadata": {},
   "outputs": [],
   "source": [
    "# Insert this to prevent the cells below from trying to write to the sql table\n",
    "raise SystemExit(\"Stop right here!\")"
   ]
  },
  {
   "attachments": {},
   "cell_type": "markdown",
   "metadata": {},
   "source": [
    "### Get ready to export to SQL"
   ]
  },
  {
   "cell_type": "code",
   "execution_count": null,
   "metadata": {},
   "outputs": [],
   "source": [
    "mask = (df['date'] > '2023-01-10')\n",
    "#df.loc[(df['date'] > '2023-01-10')]\n",
    "df = df[mask]"
   ]
  },
  {
   "cell_type": "code",
   "execution_count": null,
   "metadata": {},
   "outputs": [],
   "source": [
    "# https://learn.microsoft.com/en-us/sql/machine-learning/data-exploration/python-dataframe-pandas?view=sql-server-ver16\n",
    "# Some other example server values are\n",
    "# server = 'localhost\\sqlexpress' # for a named instance\n",
    "# server = 'myserver,port' # to specify an alternate port\n",
    "server = 'tcp:csazniptlsql01.database.windows.net,1433' \n",
    "database = 'CSAZN-INT-IPT-L-DSQ-01' \n",
    "username = 'ccbaadmin' \n",
    "password = '@FireBase123' \n",
    "# ENCRYPT defaults to yes starting in ODBC Driver 18. It's good to always specify ENCRYPT=yes on the client side to avoid MITM attacks.\n",
    "cnxn = pyodbc.connect('DRIVER={ODBC Driver 18 for SQL Server};SERVER='+server+';DATABASE='+database+';ENCRYPT=yes;UID='+username+';PWD='+ password)\n",
    "cursor = cnxn.cursor()"
   ]
  },
  {
   "cell_type": "code",
   "execution_count": null,
   "metadata": {},
   "outputs": [],
   "source": [
    "# cursor = cnxn.cursor()\n",
    "\n",
    "# cursor.execute('''\n",
    "# \t\tCREATE TABLE ea_script_history (\n",
    "# \t\t\trecords_no int,\n",
    "#             topProjectName nvarchar(255),\n",
    "#             testName nvarchar(255),\n",
    "#             sessionId nvarchar(255),\n",
    "#             id int,\n",
    "#             scriptId int,\n",
    "#             scriptName nvarchar(255),\n",
    "#             state nvarchar(255),\n",
    "#             status nvarchar(255),\n",
    "#             StepLabel nvarchar(255),\n",
    "#             startTime datetime,\n",
    "#             endTime datetime,\n",
    "#             duration int,\n",
    "#             lineNum int,\n",
    "#             StepLogs_id int\n",
    "# \t\t\t)\n",
    "#                ''')\n",
    "\n",
    "# cnxn.commit()"
   ]
  },
  {
   "cell_type": "code",
   "execution_count": null,
   "metadata": {},
   "outputs": [],
   "source": [
    "cnxn = pyodbc.connect('DRIVER={ODBC Driver 18 for SQL Server};SERVER='+server+';DATABASE='+database+';ENCRYPT=yes;UID='+username+';PWD='+ password)\n",
    "cursor = cnxn.cursor()\n",
    "# Insert Dataframe into SQL Server:\n",
    "i = 0\n",
    "for index, row in df.iterrows():\n",
    "     cursor.execute(\"INSERT INTO ea_script_history (records_no,topProjectName,testName,sessionId,id,scriptId,scriptName,state,status,StepLabel,startTime,endTime,duration,lineNum,StepLogs_id) values(?,?,?,?,?,?,?,?,?,?,?,?,?,?,?)\", row.records_no, row.topProjectName, row.testName, row.sessionId, row.id, row.scriptId, row.scriptName, row.state, row.status, row.StepLabel, row.startTime, row.endTime, row.duration, row.lineNum, row.StepLogs_id)\n",
    "     i = i + 1\n",
    "     if i == 1000:\n",
    "          i = 0\n",
    "          cnxn.commit()          \n",
    "cnxn.commit()\n",
    "cursor.close()"
   ]
  },
  {
   "cell_type": "code",
   "execution_count": null,
   "metadata": {},
   "outputs": [],
   "source": [
    "# cnxn = pyodbc.connect('DRIVER={ODBC Driver 18 for SQL Server};SERVER='+server+';DATABASE='+database+';ENCRYPT=yes;UID='+username+';PWD='+ password)\n",
    "# cursor = cnxn.cursor()\n",
    "# # Insert Dataframe into SQL Server:\n",
    "# for index, row in df.iterrows():\n",
    "#      cursor.execute(\"INSERT INTO ea_script_history (startTime) values(?)\", row.startTime)\n",
    "# cnxn.commit()\n",
    "# cursor.close()"
   ]
  },
  {
   "cell_type": "code",
   "execution_count": null,
   "metadata": {},
   "outputs": [],
   "source": [
    "# Delete all the rows in the SQl script history table\n",
    "cursor = cnxn.cursor()\n",
    "cursor.execute(\"DELETE FROM ea_script_history\")\n",
    "cnxn.commit()\n",
    "cursor.close()"
   ]
  },
  {
   "cell_type": "code",
   "execution_count": null,
   "metadata": {},
   "outputs": [],
   "source": [
    "# Drop the SQl script history table (it must be re-created)\n",
    "cursor = cnxn.cursor()\n",
    "cursor.execute(\"DROP Table ea_script_history\")\n",
    "#cursor.execute(\"DROP Table temp_table\")\n",
    "cnxn.commit()\n",
    "cursor.close()"
   ]
  },
  {
   "cell_type": "code",
   "execution_count": null,
   "metadata": {},
   "outputs": [],
   "source": [
    "a = [12, 15]"
   ]
  },
  {
   "cell_type": "code",
   "execution_count": null,
   "metadata": {},
   "outputs": [],
   "source": [
    "print(type(a))"
   ]
  },
  {
   "cell_type": "code",
   "execution_count": null,
   "metadata": {},
   "outputs": [],
   "source": [
    "15 in a"
   ]
  },
  {
   "cell_type": "code",
   "execution_count": null,
   "metadata": {},
   "outputs": [],
   "source": [
    "#No step errors\n",
    "#IPT_step_error"
   ]
  },
  {
   "cell_type": "code",
   "execution_count": null,
   "metadata": {},
   "outputs": [],
   "source": [
    "df1['scriptId'].unique()"
   ]
  },
  {
   "cell_type": "code",
   "execution_count": null,
   "metadata": {},
   "outputs": [],
   "source": [
    "try1 = {406: ['K11', 21],\n",
    "        522: ['K13b', 20, 'K14b', 57]\n",
    "}"
   ]
  },
  {
   "cell_type": "code",
   "execution_count": null,
   "metadata": {},
   "outputs": [
    {
     "data": {
      "text/plain": [
       "[3]"
      ]
     },
     "execution_count": 175,
     "metadata": {},
     "output_type": "execute_result"
    }
   ],
   "source": [
    "[index for index, listItem in enumerate(try1[522]) if listItem == 57]"
   ]
  },
  {
   "cell_type": "code",
   "execution_count": null,
   "metadata": {},
   "outputs": [],
   "source": [
    "try1 = {406: ['K11',21], 407: ['K11',21]}"
   ]
  },
  {
   "cell_type": "code",
   "execution_count": null,
   "metadata": {},
   "outputs": [
    {
     "data": {
      "text/plain": [
       "True"
      ]
     },
     "execution_count": 152,
     "metadata": {},
     "output_type": "execute_result"
    }
   ],
   "source": [
    "21 in try1[406]"
   ]
  },
  {
   "cell_type": "code",
   "execution_count": null,
   "metadata": {},
   "outputs": [
    {
     "data": {
      "text/plain": [
       "'K11'"
      ]
     },
     "execution_count": 153,
     "metadata": {},
     "output_type": "execute_result"
    }
   ],
   "source": [
    "try1[406][0]"
   ]
  }
 ],
 "metadata": {
  "kernelspec": {
   "display_name": "Python 3",
   "language": "python",
   "name": "python3"
  },
  "language_info": {
   "codemirror_mode": {
    "name": "ipython",
    "version": 3
   },
   "file_extension": ".py",
   "mimetype": "text/x-python",
   "name": "python",
   "nbconvert_exporter": "python",
   "pygments_lexer": "ipython3",
   "version": "3.8.10"
  },
  "orig_nbformat": 4,
  "vscode": {
   "interpreter": {
    "hash": "916dbcbb3f70747c44a77c7bcd40155683ae19c65e1c03b4aa3499c5328201f1"
   }
  }
 },
 "nbformat": 4,
 "nbformat_minor": 2
}
