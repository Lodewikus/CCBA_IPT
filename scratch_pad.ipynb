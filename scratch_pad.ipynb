{
 "cells": [
  {
   "cell_type": "code",
   "execution_count": 2,
   "metadata": {},
   "outputs": [],
   "source": [
    "import json\n",
    "import numpy as np\n",
    "import pandas as pd\n",
    "import lxml\n",
    "import re\n",
    "import os\n",
    "from datetime import datetime"
   ]
  },
  {
   "cell_type": "code",
   "execution_count": 5,
   "metadata": {},
   "outputs": [],
   "source": [
    "df = pd.read_csv('data/roadnet/rdnet_in_file3.csv')"
   ]
  },
  {
   "cell_type": "code",
   "execution_count": 6,
   "metadata": {},
   "outputs": [
    {
     "name": "stdout",
     "output_type": "stream",
     "text": [
      "<class 'pandas.core.frame.DataFrame'>\n",
      "RangeIndex: 601 entries, 0 to 600\n",
      "Data columns (total 55 columns):\n",
      " #   Column                       Non-Null Count  Dtype  \n",
      "---  ------                       --------------  -----  \n",
      " 0   CASEQTY                      601 non-null    float64\n",
      " 1   DESTINATIONLOCATIONID        601 non-null    int64  \n",
      " 2   INVENTTRANSID                601 non-null    object \n",
      " 3   ITEMID                       601 non-null    int64  \n",
      " 4   ORDERNUMBER                  601 non-null    int64  \n",
      " 5   ORIGINLOCATIONID             601 non-null    object \n",
      " 6   PRODUCTNAME                  601 non-null    object \n",
      " 7   ROADNETROUTE                 601 non-null    object \n",
      " 8   STOPLOCATIONID               601 non-null    int64  \n",
      " 9   STOPLOCATIONNAME             601 non-null    object \n",
      " 10  WEIGHT                       601 non-null    float64\n",
      " 11  DYNAMICSRETRIEVALSESSIONID   601 non-null    object \n",
      " 12  ROADNETROUTEINTERNALROUTEID  601 non-null    object \n",
      " 13  APPTID                       0 non-null      float64\n",
      " 14  DESCRIPTION                  601 non-null    object \n",
      " 15  ERROR                        0 non-null      float64\n",
      " 16  FIRSTDRIVER                  601 non-null    int64  \n",
      " 17  FIRSTTRAILER                 601 non-null    object \n",
      " 18  LASTSTOPISDESTINATION        601 non-null    object \n",
      " 19  LOADID                       0 non-null      float64\n",
      " 20  LOADTEMPLATEID               0 non-null      float64\n",
      " 21  ORDERTYPE                    601 non-null    object \n",
      " 22  ORIGINDESTINATION            601 non-null    object \n",
      " 23  PALLETQTY                    601 non-null    int64  \n",
      " 24  REFERENCECATEGORY            601 non-null    object \n",
      " 25  REFERENCEDOCUMENT            601 non-null    object \n",
      " 26  ROADNETINTERNALSESSIONID     601 non-null    int64  \n",
      " 27  ROADNETREGIONID              601 non-null    object \n",
      " 28  ROUTECODE                    0 non-null      float64\n",
      " 29  SECONDDRIVER                 0 non-null      float64\n",
      " 30  SECONDTRAILER                0 non-null      float64\n",
      " 31  SEQUENCEDISTANCE             601 non-null    float64\n",
      " 32  SEQUENCENUMBER               601 non-null    int64  \n",
      " 33  SEQUENCETRAVELTIME           601 non-null    int64  \n",
      " 34  SHIPPINGCARRIER              601 non-null    int64  \n",
      " 35  STATUS                       601 non-null    object \n",
      " 36  STOPTYPE                     601 non-null    object \n",
      " 37  TOTALDISTANCE                601 non-null    float64\n",
      " 38  TOTALROUTEDISTANCE           601 non-null    float64\n",
      " 39  TRUCKANDTRAILERASSIGNED      601 non-null    object \n",
      " 40  UNITID                       0 non-null      float64\n",
      " 41  VEHICLEID                    601 non-null    object \n",
      " 42  STOPSERVICETIME              601 non-null    int64  \n",
      " 43  TOTALSERVICETIME             601 non-null    int64  \n",
      " 44  TOTALTRAVELTIME              601 non-null    int64  \n",
      " 45  LINEREFID                    601 non-null    object \n",
      " 46  ROUTECOMPLETETIME            601 non-null    object \n",
      " 47  ROUTESTARTTIME               601 non-null    object \n",
      " 48  SCHEDULEDARRIVALDATETIME     601 non-null    object \n",
      " 49  SCHEDULEDDELIVERYDATETIME    601 non-null    object \n",
      " 50  SCHEDULEDSHIPDATETIME        601 non-null    object \n",
      " 51  STOPARRIVALTIME              601 non-null    object \n",
      " 52  STOPPOSTALCODE               601 non-null    int64  \n",
      " 53  Warehouse                    601 non-null    object \n",
      " 54  Group                        601 non-null    int64  \n",
      "dtypes: float64(13), int64(15), object(27)\n",
      "memory usage: 258.4+ KB\n"
     ]
    }
   ],
   "source": [
    "df.info()"
   ]
  },
  {
   "cell_type": "code",
   "execution_count": 7,
   "metadata": {},
   "outputs": [],
   "source": [
    "df1 = df.drop_duplicates(keep='first')"
   ]
  },
  {
   "cell_type": "code",
   "execution_count": 10,
   "metadata": {},
   "outputs": [],
   "source": [
    "df1.to_csv('data/roadnet/rdnet_in_file3_nodups.csv', index=False)"
   ]
  },
  {
   "cell_type": "code",
   "execution_count": 8,
   "metadata": {},
   "outputs": [
    {
     "name": "stdout",
     "output_type": "stream",
     "text": [
      "<class 'pandas.core.frame.DataFrame'>\n",
      "Int64Index: 549 entries, 0 to 580\n",
      "Data columns (total 55 columns):\n",
      " #   Column                       Non-Null Count  Dtype  \n",
      "---  ------                       --------------  -----  \n",
      " 0   CASEQTY                      549 non-null    float64\n",
      " 1   DESTINATIONLOCATIONID        549 non-null    int64  \n",
      " 2   INVENTTRANSID                549 non-null    object \n",
      " 3   ITEMID                       549 non-null    int64  \n",
      " 4   ORDERNUMBER                  549 non-null    int64  \n",
      " 5   ORIGINLOCATIONID             549 non-null    object \n",
      " 6   PRODUCTNAME                  549 non-null    object \n",
      " 7   ROADNETROUTE                 549 non-null    object \n",
      " 8   STOPLOCATIONID               549 non-null    int64  \n",
      " 9   STOPLOCATIONNAME             549 non-null    object \n",
      " 10  WEIGHT                       549 non-null    float64\n",
      " 11  DYNAMICSRETRIEVALSESSIONID   549 non-null    object \n",
      " 12  ROADNETROUTEINTERNALROUTEID  549 non-null    object \n",
      " 13  APPTID                       0 non-null      float64\n",
      " 14  DESCRIPTION                  549 non-null    object \n",
      " 15  ERROR                        0 non-null      float64\n",
      " 16  FIRSTDRIVER                  549 non-null    int64  \n",
      " 17  FIRSTTRAILER                 549 non-null    object \n",
      " 18  LASTSTOPISDESTINATION        549 non-null    object \n",
      " 19  LOADID                       0 non-null      float64\n",
      " 20  LOADTEMPLATEID               0 non-null      float64\n",
      " 21  ORDERTYPE                    549 non-null    object \n",
      " 22  ORIGINDESTINATION            549 non-null    object \n",
      " 23  PALLETQTY                    549 non-null    int64  \n",
      " 24  REFERENCECATEGORY            549 non-null    object \n",
      " 25  REFERENCEDOCUMENT            549 non-null    object \n",
      " 26  ROADNETINTERNALSESSIONID     549 non-null    int64  \n",
      " 27  ROADNETREGIONID              549 non-null    object \n",
      " 28  ROUTECODE                    0 non-null      float64\n",
      " 29  SECONDDRIVER                 0 non-null      float64\n",
      " 30  SECONDTRAILER                0 non-null      float64\n",
      " 31  SEQUENCEDISTANCE             549 non-null    float64\n",
      " 32  SEQUENCENUMBER               549 non-null    int64  \n",
      " 33  SEQUENCETRAVELTIME           549 non-null    int64  \n",
      " 34  SHIPPINGCARRIER              549 non-null    int64  \n",
      " 35  STATUS                       549 non-null    object \n",
      " 36  STOPTYPE                     549 non-null    object \n",
      " 37  TOTALDISTANCE                549 non-null    float64\n",
      " 38  TOTALROUTEDISTANCE           549 non-null    float64\n",
      " 39  TRUCKANDTRAILERASSIGNED      549 non-null    object \n",
      " 40  UNITID                       0 non-null      float64\n",
      " 41  VEHICLEID                    549 non-null    object \n",
      " 42  STOPSERVICETIME              549 non-null    int64  \n",
      " 43  TOTALSERVICETIME             549 non-null    int64  \n",
      " 44  TOTALTRAVELTIME              549 non-null    int64  \n",
      " 45  LINEREFID                    549 non-null    object \n",
      " 46  ROUTECOMPLETETIME            549 non-null    object \n",
      " 47  ROUTESTARTTIME               549 non-null    object \n",
      " 48  SCHEDULEDARRIVALDATETIME     549 non-null    object \n",
      " 49  SCHEDULEDDELIVERYDATETIME    549 non-null    object \n",
      " 50  SCHEDULEDSHIPDATETIME        549 non-null    object \n",
      " 51  STOPARRIVALTIME              549 non-null    object \n",
      " 52  STOPPOSTALCODE               549 non-null    int64  \n",
      " 53  Warehouse                    549 non-null    object \n",
      " 54  Group                        549 non-null    int64  \n",
      "dtypes: float64(13), int64(15), object(27)\n",
      "memory usage: 240.2+ KB\n"
     ]
    }
   ],
   "source": [
    "df1.info()"
   ]
  }
 ],
 "metadata": {
  "kernelspec": {
   "display_name": "Python 3",
   "language": "python",
   "name": "python3"
  },
  "language_info": {
   "codemirror_mode": {
    "name": "ipython",
    "version": 3
   },
   "file_extension": ".py",
   "mimetype": "text/x-python",
   "name": "python",
   "nbconvert_exporter": "python",
   "pygments_lexer": "ipython3",
   "version": "3.8.10"
  },
  "orig_nbformat": 4,
  "vscode": {
   "interpreter": {
    "hash": "916dbcbb3f70747c44a77c7bcd40155683ae19c65e1c03b4aa3499c5328201f1"
   }
  }
 },
 "nbformat": 4,
 "nbformat_minor": 2
}
