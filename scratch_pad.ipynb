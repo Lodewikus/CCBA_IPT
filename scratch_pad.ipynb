{
 "cells": [
  {
   "cell_type": "code",
   "execution_count": 133,
   "metadata": {},
   "outputs": [],
   "source": [
    "import json\n",
    "import numpy as np\n",
    "import pandas as pd\n",
    "import lxml\n",
    "import re\n",
    "import os\n",
    "from datetime import datetime\n",
    "import pyodbc\n",
    "import requests"
   ]
  },
  {
   "cell_type": "markdown",
   "metadata": {},
   "source": [
    "### Get EA script history in JSON format via the API"
   ]
  },
  {
   "cell_type": "code",
   "execution_count": 134,
   "metadata": {},
   "outputs": [
    {
     "name": "stderr",
     "output_type": "stream",
     "text": [
      "/usr/lib/python3/dist-packages/urllib3/connectionpool.py:999: InsecureRequestWarning: Unverified HTTPS request is being made to host 'ea.executive.automats.app'. Adding certificate verification is strongly advised. See: https://urllib3.readthedocs.io/en/latest/advanced-usage.html#ssl-warnings\n",
      "  warnings.warn(\n"
     ]
    },
    {
     "name": "stdout",
     "output_type": "stream",
     "text": [
      "200\n"
     ]
    }
   ],
   "source": [
    "custom_headers  = {\"Authorization\": \"Gt4qkl1ahFDcFyQwfjMBYT0utbLD4STHQjWdIXzsYH8v3w29M6Tm6tVKI0uMj6Qh\", \"Content-Type\": \"application/json\"}\n",
    "url = 'https://ea.executive.automats.app/api/bi/scripts?withHistory=true'\n",
    "\n",
    "resp = requests.get(url, headers = custom_headers, verify=False)\n",
    "print(resp.status_code)"
   ]
  },
  {
   "cell_type": "code",
   "execution_count": 135,
   "metadata": {},
   "outputs": [],
   "source": [
    "json_data = json.loads(resp.text)\n",
    "json_text = json.dumps(json_data, indent=4)"
   ]
  },
  {
   "cell_type": "code",
   "execution_count": 136,
   "metadata": {},
   "outputs": [],
   "source": [
    "try:\n",
    "    os.remove('data/execution/try.json')\n",
    "except:\n",
    "    print('File does not exist')\n",
    "\n",
    "with open('data/execution/try.json', 'w') as fw:\n",
    "    fw.write(json_text)"
   ]
  },
  {
   "cell_type": "markdown",
   "metadata": {},
   "source": [
    "### Remove invalid characters from the inbound JSON data"
   ]
  },
  {
   "cell_type": "code",
   "execution_count": 137,
   "metadata": {},
   "outputs": [
    {
     "name": "stdout",
     "output_type": "stream",
     "text": [
      "1344041\n"
     ]
    }
   ],
   "source": [
    "try:\n",
    "    os.remove('data/execution/script_history_fixed.json')\n",
    "except:\n",
    "    print('File does not exist')\n",
    "\n",
    "#with open('data/execution/script_history.json', 'r') as fr:\n",
    "with open('data/execution/try.json', 'r') as fr:    \n",
    "    # reading line by line\n",
    "    lines = fr.readlines()\n",
    "    last_line = len(lines)\n",
    "    print(len(lines))\n",
    "    \n",
    "    for line in lines:\n",
    "        line = re.sub(\"\\u0003\", \"\", line)\n",
    "        with open('data/execution/script_history_fixed.json', 'a') as fw:\n",
    "            fw.write(line) \n",
    "\n",
    "# Previous runtime = 13.8s"
   ]
  },
  {
   "attachments": {},
   "cell_type": "markdown",
   "metadata": {},
   "source": [
    "### Parse the multilevel JSON into a CSV file"
   ]
  },
  {
   "cell_type": "code",
   "execution_count": 138,
   "metadata": {},
   "outputs": [],
   "source": [
    "f = open('data/execution/script_history_fixed.json')\n",
    "data = json.loads(f.read())"
   ]
  },
  {
   "cell_type": "code",
   "execution_count": 139,
   "metadata": {},
   "outputs": [
    {
     "name": "stdout",
     "output_type": "stream",
     "text": [
      "Processed 10530 items\n"
     ]
    }
   ],
   "source": [
    "try:\n",
    "    os.remove('data/execution/check_structure.csv')\n",
    "except:\n",
    "    print('File does not exist')\n",
    "with open('data/execution/check_structure.csv', 'a') as fw:\n",
    "    #line = 'topProjectName,name,sessionId,executionLogsId,scriptId,scriptName,script_status,label,step_state,step_status,startTime,endTime,duration,lineNum,StepLogsId,takeScreenshots,screenshotsOnlyOnInterruption\\n'\n",
    "    line = 'topProjectName,name,sessionId,executionLogsId,scriptId,scriptName,script_status,label,step_state,step_status,startTime,endTime,duration,lineNum,StepLogsId\\n'\n",
    "    fw.write(line)\n",
    "    i = 0\n",
    "    for level1 in data:\n",
    "        for key, value in level1.items():\n",
    "            #if i == 100: break\n",
    "            i = i + 1\n",
    "            #takeScreenshots_str = str(level1['takeScreenshots'])\n",
    "            #screenshotsOnlyOnInterruption_str = str(level1['screenshotsOnlyOnInterruption'])            \n",
    "            try:\n",
    "                executionLogs_str = json.dumps(level1['executionLogs'])\n",
    "                executionLogs_json = json.loads(executionLogs_str)\n",
    "                for level2 in executionLogs_json:\n",
    "                    for key2, value2 in level2.items():\n",
    "                        #try:\n",
    "                        executionStepLogs_str = json.dumps(level2['executionStepLogs'])\n",
    "                        executionStepLogs_json = json.loads(executionStepLogs_str)\n",
    "                        if key2 == 'executionStepLogs':\n",
    "                            records_no_str = str(i)\n",
    "                            topProjectName = str(level1['topProjectName'])\n",
    "                            name_str = str(level1['name'])\n",
    "                            # Remove any commas from name \n",
    "                            check = (',' in name_str)\n",
    "                            if check == True:\n",
    "                                name_str = re.sub(',', ';', name_str)                            \n",
    "                            sessionId_str = str(level2['sessionId'])\n",
    "                            id_str = str(level2['id'])\n",
    "                            scriptId_str = str(level2['scriptId'])\n",
    "                            scriptName_str = str(level2['scriptName'])\n",
    "                            # Remove any commas from scriptName \n",
    "                            check = (',' in scriptName_str)\n",
    "                            if check == True:\n",
    "                                scriptName_str = re.sub(',', ';', scriptName_str)                             \n",
    "                            state_str = str(level2['state'])\n",
    "                            status2_str = str(level2['status'])\n",
    "                            lastIssues_str = str(level2['lastIssues'])\n",
    "                            # Remove any commas from lastIssues_str\n",
    "                            check = (',' in lastIssues_str)\n",
    "                            if check == True:\n",
    "                                lastIssues_str = re.sub(',', ';', lastIssues_str)\n",
    "\n",
    "\n",
    "                            for level3 in executionStepLogs_json:\n",
    "                                #for key3, value3 in level3.items():\n",
    "                                status3_str = str(level3['status'])\n",
    "                                label_str = str(level3['label'])\n",
    "                                \n",
    "                                # These lines replace long text test step labels with short text (that does not wrap)\n",
    "                                check = ('Click Dynamics 365' in label_str)\n",
    "                                if check == True:\n",
    "                                    label_str = 'Click Dynamics 365'\n",
    "                                check = ('Click Sales Hub' in label_str)\n",
    "                                if check == True:\n",
    "                                    label_str = 'Click Sales Hub'\n",
    "                                check = ('Type value function eaExecuteVariableValue()' in label_str)\n",
    "                                if check == True:\n",
    "                                    label_str = 'Type value function eaExecuteVariableValue()'\n",
    "                                check = ('Select from function eaExecuteVariableValue()' in label_str)\n",
    "                                if check == True:\n",
    "                                    label_str = 'Select from function eaExecuteVariableValue()'                                    \n",
    "                                check = ('Select lookup values function eaExecuteVariableValue()' in label_str)\n",
    "                                if check == True:\n",
    "                                    label_str = 'Select lookup values function eaExecuteVariableValue()'\n",
    "                                # Remove any commas from label_str \n",
    "                                check = (',' in label_str)\n",
    "                                if check == True:\n",
    "                                    label_str = re.sub(',', ';', label_str)\n",
    "                                # Now replace all newlines that remain in label_str\n",
    "                                check = ('\\n' in label_str)\n",
    "                                if check == True:\n",
    "                                    label_str = re.sub('\\n', '/nl/', label_str)\n",
    "                                # Done with replacing text\n",
    "\n",
    "                                startTime_str = str(level3['startTime'])\n",
    "                                endTime_str = str(level3['endTime'])\n",
    "                                duration_str = str(level3['duration'])\n",
    "                                lineNum_str = str(level3['lineNum'])\n",
    "                                StepLogs_id_str = str(level3['id'])\n",
    "\n",
    "                                #line = topProjectName+','+name_str+','+sessionId_str+','+id_str+','+scriptId_str+','+scriptName_str+','+status2_str+','+label_str+','+state_str+','+status3_str+','+startTime_str+','+endTime_str+','+duration_str+','+lineNum_str+','+StepLogs_id_str+','+takeScreenshots_str+','+screenshotsOnlyOnInterruption_str+'\\n'\n",
    "                                line = topProjectName+','+name_str+','+sessionId_str+','+id_str+','+scriptId_str+','+scriptName_str+','+status2_str+','+label_str+','+state_str+','+status3_str+','+startTime_str+','+endTime_str+','+duration_str+','+lineNum_str+','+StepLogs_id_str+'\\n'\n",
    "                                fw.write(line)\n",
    "                            # except:\n",
    "                            #     print('Exception on Level2 for Level1 item '+str(i))\n",
    "            except:\n",
    "                #print('Exception for Level1 item '+str(i))\n",
    "                pass\n",
    "    print('Processed '+str(i)+' items')           \n",
    "\n",
    "    # Previous runtime = 4m 19.5s     \n"
   ]
  },
  {
   "cell_type": "markdown",
   "metadata": {},
   "source": [
    "### Read the denormalized CSV file into a Pandas dataframe"
   ]
  },
  {
   "cell_type": "code",
   "execution_count": 193,
   "metadata": {},
   "outputs": [],
   "source": [
    "df = pd.read_csv('data/execution/check_structure.csv')"
   ]
  },
  {
   "cell_type": "code",
   "execution_count": 212,
   "metadata": {},
   "outputs": [
    {
     "name": "stdout",
     "output_type": "stream",
     "text": [
      "<class 'pandas.core.frame.DataFrame'>\n",
      "RangeIndex: 88572 entries, 0 to 88571\n",
      "Data columns (total 19 columns):\n",
      " #   Column           Non-Null Count  Dtype         \n",
      "---  ------           --------------  -----         \n",
      " 0   topProjectName   88572 non-null  object        \n",
      " 1   testName         88572 non-null  object        \n",
      " 2   sessionId        88572 non-null  object        \n",
      " 3   executionLogsId  88572 non-null  int64         \n",
      " 4   scriptId         88572 non-null  int64         \n",
      " 5   scriptName       88572 non-null  object        \n",
      " 6   script_status    88572 non-null  object        \n",
      " 7   StepLabel        88572 non-null  object        \n",
      " 8   step_state       88572 non-null  object        \n",
      " 9   step_status      88572 non-null  object        \n",
      " 10  startTime        88572 non-null  object        \n",
      " 11  endTime          88572 non-null  object        \n",
      " 12  duration         88572 non-null  int64         \n",
      " 13  lineNum          88572 non-null  int64         \n",
      " 14  StepLogsId       88572 non-null  int64         \n",
      " 15  duration_sec     88572 non-null  float64       \n",
      " 16  duration_mins    88572 non-null  float64       \n",
      " 17  date             88572 non-null  datetime64[ns]\n",
      " 18  run              88572 non-null  int64         \n",
      "dtypes: datetime64[ns](1), float64(2), int64(6), object(10)\n",
      "memory usage: 12.8+ MB\n"
     ]
    }
   ],
   "source": [
    "df.info(verbose=True, show_counts=True)"
   ]
  },
  {
   "cell_type": "code",
   "execution_count": 195,
   "metadata": {},
   "outputs": [],
   "source": [
    "df = df.drop_duplicates()\n",
    "df = df.reset_index(drop=True)\n",
    "df.rename(columns={'label':'StepLabel'}, inplace=True)\n",
    "df.rename(columns={'name':'testName'}, inplace=True)"
   ]
  },
  {
   "cell_type": "code",
   "execution_count": 197,
   "metadata": {},
   "outputs": [],
   "source": [
    "mask = (df['startTime'] == 'None') \n",
    "df['startTime'].mask(mask,'2022-01-01T00:00:00.000Z',inplace=True)\n",
    "df['startTime'] = pd.to_datetime(df['startTime'])"
   ]
  },
  {
   "cell_type": "code",
   "execution_count": 198,
   "metadata": {},
   "outputs": [],
   "source": [
    "mask = (df['endTime'] == 'None') \n",
    "df['endTime'].mask(mask,'2022-01-01T00:00:00.000Z',inplace=True)\n",
    "df['endTime'] = pd.to_datetime(df['endTime'])"
   ]
  },
  {
   "cell_type": "code",
   "execution_count": 199,
   "metadata": {},
   "outputs": [],
   "source": [
    "mask = (df['duration'] == 'None') \n",
    "df['duration'].mask(mask,'0',inplace=True)\n",
    "df['duration'] = pd.to_numeric(df['duration'])"
   ]
  },
  {
   "cell_type": "code",
   "execution_count": 200,
   "metadata": {},
   "outputs": [],
   "source": [
    "df['duration_sec'] = df.duration/1000\n",
    "df['duration_mins'] = df.duration/1000/60"
   ]
  },
  {
   "cell_type": "code",
   "execution_count": 201,
   "metadata": {},
   "outputs": [],
   "source": [
    "df['date'] = pd.to_datetime(df['startTime'], format='%Y-%m-%d').dt.date\n",
    "df['date'] = pd.to_datetime(df['date'])\n"
   ]
  },
  {
   "cell_type": "code",
   "execution_count": 202,
   "metadata": {},
   "outputs": [],
   "source": [
    "df['startTime'] = pd.to_datetime(df['startTime']).dt.time\n",
    "df['endTime'] = pd.to_datetime(df['endTime']).dt.time"
   ]
  },
  {
   "cell_type": "code",
   "execution_count": 203,
   "metadata": {},
   "outputs": [],
   "source": [
    "# Filter out all history from before the first run\n",
    "df = df.query(\"date > '2023-01-18'\").copy()"
   ]
  },
  {
   "attachments": {},
   "cell_type": "markdown",
   "metadata": {},
   "source": [
    "### Add a column to indicate Runs of each test script\n",
    "As there is no other field available via the API, this field is generated each time the lineNum == 1.  This assumes that there will always be a step 1 in every test case.\n",
    "Before this can be done, first sort the whole dataframe"
   ]
  },
  {
   "cell_type": "code",
   "execution_count": 205,
   "metadata": {},
   "outputs": [],
   "source": [
    "df.sort_values(by=['executionLogsId','StepLogsId'], inplace=True)\n",
    "df = df.reset_index(drop=True)"
   ]
  },
  {
   "cell_type": "code",
   "execution_count": 206,
   "metadata": {},
   "outputs": [
    {
     "name": "stderr",
     "output_type": "stream",
     "text": [
      "/tmp/ipykernel_307/3212998482.py:6: SettingWithCopyWarning: \n",
      "A value is trying to be set on a copy of a slice from a DataFrame\n",
      "\n",
      "See the caveats in the documentation: https://pandas.pydata.org/pandas-docs/stable/user_guide/indexing.html#returning-a-view-versus-a-copy\n",
      "  df['run'][idx] = run\n"
     ]
    }
   ],
   "source": [
    "df['run'] = 0\n",
    "run = 0\n",
    "for idx in df.index:\n",
    "    if df['lineNum'][idx] == 1:\n",
    "        run = run + 1\n",
    "    df['run'][idx] = run\n",
    "\n",
    " # Previous runtime = 48.3s    "
   ]
  },
  {
   "attachments": {},
   "cell_type": "markdown",
   "metadata": {},
   "source": [
    "### Generate a field to indicate where test scripts have run to the last step of the script\n",
    "This assumes that the last step is \"End script\"\n",
    "First sort the dataframe by Runs\n",
    "Then add a new text field that is a concatenation of all the step labels for each run\n",
    "Finally, check which of those strings contain the text \"End script\""
   ]
  },
  {
   "cell_type": "code",
   "execution_count": 207,
   "metadata": {},
   "outputs": [],
   "source": [
    "runs_np = df.run.unique()\n",
    "end_script_dict = {}\n",
    "for i in runs_np:\n",
    "    end_script_dict[i] = 'Script stopped'\n",
    "step_error_dict = {}\n",
    "for i in runs_np:\n",
    "    step_error_dict[i] = 'No step errors'"
   ]
  },
  {
   "cell_type": "code",
   "execution_count": 208,
   "metadata": {},
   "outputs": [],
   "source": [
    "df.sort_values(by=['run'], inplace=True)\n",
    "df = df.reset_index(drop=True)"
   ]
  },
  {
   "cell_type": "code",
   "execution_count": 209,
   "metadata": {},
   "outputs": [],
   "source": [
    "for idx in df.index:\n",
    "    #if run == 10: break\n",
    "    run = df['run'][idx]\n",
    "    if df['StepLabel'][idx] == 'End script':\n",
    "        end_script_dict[run] = 'Script completed'\n",
    "    if df['step_status'][idx] == 'ERROR':\n",
    "        step_error_dict[run] = 'One or more step errors'"
   ]
  },
  {
   "cell_type": "code",
   "execution_count": 210,
   "metadata": {},
   "outputs": [],
   "source": [
    "end_script_df = pd.DataFrame.from_dict(end_script_dict,orient ='index',columns=['script_completion'])\n",
    "end_script_df.reset_index(inplace=True)\n",
    "end_script_df.rename(columns={'index':'run'}, inplace=True)"
   ]
  },
  {
   "cell_type": "code",
   "execution_count": 211,
   "metadata": {},
   "outputs": [],
   "source": [
    "step_error_df = pd.DataFrame.from_dict(step_error_dict,orient ='index',columns=['step_error'])\n",
    "step_error_df.reset_index(inplace=True)\n",
    "step_error_df.rename(columns={'index':'run'}, inplace=True)"
   ]
  },
  {
   "cell_type": "code",
   "execution_count": 217,
   "metadata": {},
   "outputs": [
    {
     "data": {
      "text/plain": [
       "88572"
      ]
     },
     "execution_count": 217,
     "metadata": {},
     "output_type": "execute_result"
    }
   ],
   "source": [
    "len(df)"
   ]
  },
  {
   "cell_type": "code",
   "execution_count": 214,
   "metadata": {},
   "outputs": [],
   "source": [
    "df = pd.merge(\n",
    "    df,\n",
    "    end_script_df,\n",
    "    how=\"inner\",\n",
    "    on=None,\n",
    "    left_on='run',\n",
    "    right_on='run',\n",
    "    left_index=False,\n",
    "    right_index=False,\n",
    "    sort=True,\n",
    "    suffixes=(\"_x\", \"_y\"),\n",
    "    copy=True,\n",
    "    indicator=False,\n",
    "    validate=None,\n",
    ")"
   ]
  },
  {
   "cell_type": "code",
   "execution_count": 216,
   "metadata": {},
   "outputs": [],
   "source": [
    "df = pd.merge(\n",
    "    df,\n",
    "    step_error_df,\n",
    "    how=\"inner\",\n",
    "    on=None,\n",
    "    left_on='run',\n",
    "    right_on='run',\n",
    "    left_index=False,\n",
    "    right_index=False,\n",
    "    sort=True,\n",
    "    suffixes=(\"_x\", \"_y\"),\n",
    "    copy=True,\n",
    "    indicator=False,\n",
    "    validate=None,\n",
    ")"
   ]
  },
  {
   "cell_type": "code",
   "execution_count": 218,
   "metadata": {},
   "outputs": [],
   "source": [
    "df.rename(columns={'script_status': 'EA_script_status','step_state': 'EA_step_state','step_status': 'EA_step_status','step_error': 'IPT_step_error','script_completion': 'IPT_script_completion'}, inplace=True)"
   ]
  },
  {
   "cell_type": "code",
   "execution_count": 428,
   "metadata": {},
   "outputs": [],
   "source": [
    "df['KPI'] = 'Not mapped'"
   ]
  },
  {
   "cell_type": "code",
   "execution_count": 501,
   "metadata": {},
   "outputs": [],
   "source": [
    "# K1\n",
    "mask = (df['scriptName'].str.contains('Place a sales local order'))\n",
    "df['KPI'].mask(mask,'K01 Place a sales local order',inplace=True)\n",
    "\n",
    "# K2\n",
    "mask = (df['scriptName'].str.contains('Place a B2B local order'))\n",
    "df['KPI'].mask(mask,'K02 Place a B2B/EDI order and Send Confirmation',inplace=True)\n",
    "\n",
    "# K3 Place Service Portal Order\n",
    "# No test script\n",
    "\n",
    "# K4\n",
    "mask = (df['scriptName'].str.contains('Amend an existing sales order'))\n",
    "df['KPI'].mask(mask,'K04 Amend an existing sales order',inplace=True)\n",
    "\n",
    "# K5\n",
    "mask = (df['scriptName'].str.contains('Trade Returns Order'))\n",
    "df['KPI'].mask(mask,'K05 Place a Trade Returns Order',inplace=True)\n",
    "\n",
    "# K6\n",
    "mask = (df['scriptName'].str.contains('Submit a B2B Remittance'))\n",
    "df['KPI'].mask(mask,'K06 B2B Remittance',inplace=True)\n",
    "\n",
    "# K7 B2B Remittance Adjustment\n",
    "# No test script\n",
    "\n",
    "#K8\n",
    "mask = (df['scriptName'].str.contains('Receipted payment processing'))\n",
    "df['KPI'].mask(mask,'K08 Receipted payment processing SA Only at the moment',inplace=True)\n",
    "\n",
    "# K9 aDSD Batch Job posting invoice for HHD billing document \n",
    "# No test script\n",
    "\n",
    "# K10\n",
    "mask = (df['scriptName'].str.contains('Credit status check'))\n",
    "df['KPI'].mask(mask,'K10 Credit status check',inplace=True)\n",
    "\n",
    "# K11\n",
    "mask = (df['scriptName'].str.contains('Send Load to Roadnet'))\n",
    "df['KPI'].mask(mask,'K11 Send Load to Roadnet load for Planning',inplace=True)\n",
    "\n",
    "# K12\n",
    "mask = (df['scriptName'].str.contains('Receive load from Roadnet'))\n",
    "df['KPI'].mask(mask,'K12 Receive load from Roadnet into D365',inplace=True)\n",
    "\n",
    "# K12b\n",
    "mask = (df['scriptName'].str.contains('Release to warehouse') & df['scriptName'].str.contains('Roadnet loads'))\n",
    "df['KPI'].mask(mask,'K12b Release to Warehouse (Roadnet loads)',inplace=True)\n",
    "\n",
    "# K13\n",
    "mask = (df['scriptName'].str.contains('Release to Warehouse') & df['scriptName'].str.contains('manual loads'))\n",
    "df['KPI'].mask(mask,'K13 Release to Warehouse (manually planned loads)',inplace=True)\n",
    "\n",
    "# K14 Complete Picking Work & Process OOS \n",
    "# Not mapped??\n",
    "\n",
    "# K14b\n",
    "mask = (df['scriptName'].str.contains('Complete Picking Work') & df['scriptName'].str.contains('manual loads'))\n",
    "df['KPI'].mask(mask,'K14b Complete Picking Work & Process OOS (manually planned loads)',inplace=True)\n",
    "\n",
    "# K15\n",
    "mask = (df['scriptName'].str.contains('aDSD Load confirmation'))\n",
    "df['KPI'].mask(mask,'K15 aDSD Load confirmation',inplace=True)\n",
    "\n",
    "# K16\n",
    "mask = (df['scriptName'].str.contains('Load upload') & df['scriptName'].str.contains('Settlement'))\n",
    "df['KPI'].mask(mask,'K16 Load upload & Settlement',inplace=True)\n",
    "\n",
    "# K17\n",
    "mask = (df['scriptName'].str.contains('Create a cost estimate'))\n",
    "df['KPI'].mask(mask,'K17 Create a cost estimate for all standard costed procured materials',inplace=True)\n",
    "\n",
    "# K18\n",
    "mask = (df['scriptName'].str.contains('Imported Statistical'))\n",
    "df['KPI'].mask(mask,'K18 Import Actual Statistical entries, into Cost Accounting',inplace=True)\n",
    "\n",
    "# K19\n",
    "mask = (df['scriptName'].str.contains('Distribute the range of items pending prices'))\n",
    "df['KPI'].mask(mask,'K19 Distribute the range of items pending prices to another site',inplace=True)\n",
    "\n",
    "# K20\n",
    "mask = ((df['scriptName'].str.contains('Cost Rollup') & df['scriptName'].str.contains('Cost Allocation')) | df['scriptName'].str.contains('Maintain cost distribution table'))\n",
    "df['KPI'].mask(mask,'K20 Run Cost Rollup and Cost Allocation Policies',inplace=True)\n",
    "\n",
    "# K21\n",
    "mask = (df['scriptName'].str.contains('Place SFA order'))\n",
    "df['KPI'].mask(mask,'K21 Place SFA order and Send Confirmation',inplace=True)"
   ]
  },
  {
   "cell_type": "code",
   "execution_count": 430,
   "metadata": {},
   "outputs": [
    {
     "data": {
      "text/plain": [
       "array(['K20 Run Cost Rollup and Cost Allocation Policies',\n",
       "       'K18 Import Actual Statistical entries, into Cost Accounting',\n",
       "       'Not mapped', 'K11 Send Load to Roadnet load for Planning',\n",
       "       'K17 Create a cost estimate for all standard costed procured materials',\n",
       "       'K12 Receive load from Roadnet into D365',\n",
       "       'K1 Place a sales local order',\n",
       "       'K13 Release to Warehouse (manually planned loads)',\n",
       "       'K12b Release to Warehouse (Roadnet loads)',\n",
       "       'K5 Place a Trade Returns Order',\n",
       "       'K2 Place a B2B/EDI order and Send Confirmation',\n",
       "       'K21 Place SFA order and Send Confirmation',\n",
       "       'K16 Load upload & Settlement',\n",
       "       'K8 Receipted payment processing SA Only at the moment',\n",
       "       'K4 Amend an existing sales order', 'K15 aDSD Load confirmation',\n",
       "       'K14b Complete Picking Work & Process OOS (manually planned loads)',\n",
       "       'K6 B2B Remittance',\n",
       "       'K19 Distribute the range of items pending prices to another site'],\n",
       "      dtype=object)"
      ]
     },
     "execution_count": 430,
     "metadata": {},
     "output_type": "execute_result"
    }
   ],
   "source": [
    "df['KPI'].unique()"
   ]
  },
  {
   "cell_type": "markdown",
   "metadata": {},
   "source": [
    "### Filter the dataset for output on a specific test cycle"
   ]
  },
  {
   "cell_type": "code",
   "execution_count": 447,
   "metadata": {},
   "outputs": [],
   "source": [
    "exclude_scripts = ['TEST TIMINGS','Test - 10 sessions']"
   ]
  },
  {
   "cell_type": "code",
   "execution_count": 502,
   "metadata": {},
   "outputs": [],
   "source": [
    "df1 = df.query(\"date == '2023-01-26' and (IPT_script_completion == 'Script stopped' or IPT_step_error == 'One or more step errors') and testName not in @exclude_scripts\").copy()"
   ]
  },
  {
   "cell_type": "code",
   "execution_count": 434,
   "metadata": {},
   "outputs": [
    {
     "data": {
      "text/plain": [
       "245"
      ]
     },
     "execution_count": 434,
     "metadata": {},
     "output_type": "execute_result"
    }
   ],
   "source": [
    "len(df1['run'].unique())"
   ]
  },
  {
   "cell_type": "code",
   "execution_count": 503,
   "metadata": {},
   "outputs": [],
   "source": [
    "df2 = df.query(\"date == '2023-01-26' and IPT_script_completion != 'Script stopped' and IPT_step_error != 'One or more step errors' and testName not in @exclude_scripts\").copy()"
   ]
  },
  {
   "cell_type": "code",
   "execution_count": 437,
   "metadata": {},
   "outputs": [
    {
     "data": {
      "text/plain": [
       "231"
      ]
     },
     "execution_count": 437,
     "metadata": {},
     "output_type": "execute_result"
    }
   ],
   "source": [
    "len(df2['run'].unique())"
   ]
  },
  {
   "cell_type": "code",
   "execution_count": 504,
   "metadata": {},
   "outputs": [],
   "source": [
    "df2 = df2.drop_duplicates(keep='first')\n",
    "df2 = df2.reset_index(drop=True)"
   ]
  },
  {
   "cell_type": "code",
   "execution_count": 476,
   "metadata": {},
   "outputs": [],
   "source": [
    "z = df2.groupby(['testName','run']).agg({'scriptId': {'first'}, 'duration_sec': {'sum'}}).reset_index()"
   ]
  },
  {
   "cell_type": "code",
   "execution_count": 477,
   "metadata": {},
   "outputs": [],
   "source": [
    "z.sort_values(by=['testName'], inplace=True)\n",
    "z = z.reset_index(drop=True)\n",
    "z.columns = ['_'.join(col) for col in z.columns]"
   ]
  },
  {
   "cell_type": "code",
   "execution_count": 478,
   "metadata": {},
   "outputs": [],
   "source": [
    "z.rename(columns={'testName_': 'testName', 'run_': 'run', 'scriptId_first': 'scriptId', 'duration_sec_sum': 'duration_sec'}, inplace=True)"
   ]
  },
  {
   "cell_type": "code",
   "execution_count": 479,
   "metadata": {},
   "outputs": [],
   "source": [
    "z['90percQ'] = 0"
   ]
  },
  {
   "cell_type": "code",
   "execution_count": 480,
   "metadata": {},
   "outputs": [],
   "source": [
    "scriptID_np = z['scriptId'].unique()"
   ]
  },
  {
   "cell_type": "code",
   "execution_count": 481,
   "metadata": {},
   "outputs": [],
   "source": [
    "def calculate_outliers(x, scr_id):\n",
    "    mask = (x['scriptId'] == scr_id)\n",
    "    y = x[mask]\n",
    "    q09= y.quantile(.9, numeric_only=True)\n",
    "    #print(q09['duration_sec_sum'])\n",
    "    x['90percQ'].mask(mask,q09['duration_sec'],inplace=True)"
   ]
  },
  {
   "cell_type": "code",
   "execution_count": 482,
   "metadata": {},
   "outputs": [],
   "source": [
    "for scriptId in scriptID_np:\n",
    "    calculate_outliers(z,scriptId)"
   ]
  },
  {
   "cell_type": "code",
   "execution_count": 496,
   "metadata": {},
   "outputs": [
    {
     "data": {
      "text/html": [
       "<div>\n",
       "<style scoped>\n",
       "    .dataframe tbody tr th:only-of-type {\n",
       "        vertical-align: middle;\n",
       "    }\n",
       "\n",
       "    .dataframe tbody tr th {\n",
       "        vertical-align: top;\n",
       "    }\n",
       "\n",
       "    .dataframe thead th {\n",
       "        text-align: right;\n",
       "    }\n",
       "</style>\n",
       "<table border=\"1\" class=\"dataframe\">\n",
       "  <thead>\n",
       "    <tr style=\"text-align: right;\">\n",
       "      <th></th>\n",
       "      <th>testName</th>\n",
       "      <th>run</th>\n",
       "      <th>scriptId</th>\n",
       "      <th>duration_sec</th>\n",
       "      <th>90percQ</th>\n",
       "    </tr>\n",
       "  </thead>\n",
       "  <tbody>\n",
       "    <tr>\n",
       "      <th>0</th>\n",
       "      <td>10.04.09.07 Create a cost estimate for all sta...</td>\n",
       "      <td>924</td>\n",
       "      <td>59</td>\n",
       "      <td>99.223</td>\n",
       "      <td>99.2230</td>\n",
       "    </tr>\n",
       "    <tr>\n",
       "      <th>1</th>\n",
       "      <td>Copy 10 - Receipted payment processing : SA On...</td>\n",
       "      <td>823</td>\n",
       "      <td>423</td>\n",
       "      <td>130.641</td>\n",
       "      <td>130.6410</td>\n",
       "    </tr>\n",
       "    <tr>\n",
       "      <th>2</th>\n",
       "      <td>Copy 11 - Receipted payment processing : SA On...</td>\n",
       "      <td>821</td>\n",
       "      <td>424</td>\n",
       "      <td>127.571</td>\n",
       "      <td>127.5710</td>\n",
       "    </tr>\n",
       "    <tr>\n",
       "      <th>3</th>\n",
       "      <td>Copy 12 - Receipted payment processing : SA On...</td>\n",
       "      <td>820</td>\n",
       "      <td>425</td>\n",
       "      <td>131.240</td>\n",
       "      <td>131.2400</td>\n",
       "    </tr>\n",
       "    <tr>\n",
       "      <th>4</th>\n",
       "      <td>Copy 16 - Receipted payment processing : SA On...</td>\n",
       "      <td>815</td>\n",
       "      <td>429</td>\n",
       "      <td>126.703</td>\n",
       "      <td>126.7030</td>\n",
       "    </tr>\n",
       "    <tr>\n",
       "      <th>...</th>\n",
       "      <td>...</td>\n",
       "      <td>...</td>\n",
       "      <td>...</td>\n",
       "      <td>...</td>\n",
       "      <td>...</td>\n",
       "    </tr>\n",
       "    <tr>\n",
       "      <th>225</th>\n",
       "      <td>[CE} 08.03.01.02 Place a Trade Returns Order</td>\n",
       "      <td>851</td>\n",
       "      <td>100</td>\n",
       "      <td>3681.347</td>\n",
       "      <td>3790.5274</td>\n",
       "    </tr>\n",
       "    <tr>\n",
       "      <th>226</th>\n",
       "      <td>[CE} 08.03.01.02 Place a Trade Returns Order</td>\n",
       "      <td>878</td>\n",
       "      <td>100</td>\n",
       "      <td>3506.054</td>\n",
       "      <td>3790.5274</td>\n",
       "    </tr>\n",
       "    <tr>\n",
       "      <th>227</th>\n",
       "      <td>[E2E] Maintain cost distribution table + New -...</td>\n",
       "      <td>834</td>\n",
       "      <td>388</td>\n",
       "      <td>65.472</td>\n",
       "      <td>155.6811</td>\n",
       "    </tr>\n",
       "    <tr>\n",
       "      <th>228</th>\n",
       "      <td>[E2E] Maintain cost distribution table + New -...</td>\n",
       "      <td>977</td>\n",
       "      <td>388</td>\n",
       "      <td>152.585</td>\n",
       "      <td>155.6811</td>\n",
       "    </tr>\n",
       "    <tr>\n",
       "      <th>230</th>\n",
       "      <td>[E2E] Maintain cost distribution table + New -...</td>\n",
       "      <td>978</td>\n",
       "      <td>388</td>\n",
       "      <td>61.664</td>\n",
       "      <td>155.6811</td>\n",
       "    </tr>\n",
       "  </tbody>\n",
       "</table>\n",
       "<p>202 rows × 5 columns</p>\n",
       "</div>"
      ],
      "text/plain": [
       "                                              testName  run  scriptId  \\\n",
       "0    10.04.09.07 Create a cost estimate for all sta...  924        59   \n",
       "1    Copy 10 - Receipted payment processing : SA On...  823       423   \n",
       "2    Copy 11 - Receipted payment processing : SA On...  821       424   \n",
       "3    Copy 12 - Receipted payment processing : SA On...  820       425   \n",
       "4    Copy 16 - Receipted payment processing : SA On...  815       429   \n",
       "..                                                 ...  ...       ...   \n",
       "225       [CE} 08.03.01.02 Place a Trade Returns Order  851       100   \n",
       "226       [CE} 08.03.01.02 Place a Trade Returns Order  878       100   \n",
       "227  [E2E] Maintain cost distribution table + New -...  834       388   \n",
       "228  [E2E] Maintain cost distribution table + New -...  977       388   \n",
       "230  [E2E] Maintain cost distribution table + New -...  978       388   \n",
       "\n",
       "     duration_sec    90percQ  \n",
       "0          99.223    99.2230  \n",
       "1         130.641   130.6410  \n",
       "2         127.571   127.5710  \n",
       "3         131.240   131.2400  \n",
       "4         126.703   126.7030  \n",
       "..            ...        ...  \n",
       "225      3681.347  3790.5274  \n",
       "226      3506.054  3790.5274  \n",
       "227        65.472   155.6811  \n",
       "228       152.585   155.6811  \n",
       "230        61.664   155.6811  \n",
       "\n",
       "[202 rows x 5 columns]"
      ]
     },
     "execution_count": 496,
     "metadata": {},
     "output_type": "execute_result"
    }
   ],
   "source": [
    "mask = (z['duration_sec'] <= z['90percQ'])\n",
    "z[mask]"
   ]
  },
  {
   "cell_type": "code",
   "execution_count": 505,
   "metadata": {},
   "outputs": [],
   "source": [
    "z1 = df2.groupby(['KPI','run']).agg({'scriptId': {'first'}, 'duration_sec': {'sum'}}).reset_index()\n",
    "z1.sort_values(by=['KPI'], inplace=True)\n",
    "z1 = z1.reset_index(drop=True)\n",
    "z1.columns = ['_'.join(col) for col in z1.columns]\n",
    "z1.rename(columns={'KPI_': 'KPI', 'run_': 'run', 'scriptId_first': 'scriptId', 'duration_sec_sum': 'duration_sec'}, inplace=True)\n",
    "z1['90percQ'] = 0\n",
    "scriptID_np = z1['scriptId'].unique()\n",
    "def calculate_outliers(x, scr_id):\n",
    "    mask = (x['scriptId'] == scr_id)\n",
    "    y = x[mask]\n",
    "    q09= y.quantile(.9, numeric_only=True)\n",
    "    #print(q09['duration_sec_sum'])\n",
    "    x['90percQ'].mask(mask,q09['duration_sec'],inplace=True)\n",
    "for scriptId in scriptID_np:\n",
    "    calculate_outliers(z1,scriptId)"
   ]
  },
  {
   "cell_type": "code",
   "execution_count": 510,
   "metadata": {},
   "outputs": [
    {
     "data": {
      "text/html": [
       "<div>\n",
       "<style scoped>\n",
       "    .dataframe tbody tr th:only-of-type {\n",
       "        vertical-align: middle;\n",
       "    }\n",
       "\n",
       "    .dataframe tbody tr th {\n",
       "        vertical-align: top;\n",
       "    }\n",
       "\n",
       "    .dataframe thead th {\n",
       "        text-align: right;\n",
       "    }\n",
       "</style>\n",
       "<table border=\"1\" class=\"dataframe\">\n",
       "  <thead>\n",
       "    <tr style=\"text-align: right;\">\n",
       "      <th></th>\n",
       "      <th>KPI</th>\n",
       "      <th>run</th>\n",
       "      <th>scriptId</th>\n",
       "      <th>duration_sec</th>\n",
       "      <th>90percQ</th>\n",
       "    </tr>\n",
       "  </thead>\n",
       "  <tbody>\n",
       "    <tr>\n",
       "      <th>0</th>\n",
       "      <td>K01 Place a sales local order</td>\n",
       "      <td>879</td>\n",
       "      <td>90</td>\n",
       "      <td>3859.097</td>\n",
       "      <td>4238.7900</td>\n",
       "    </tr>\n",
       "    <tr>\n",
       "      <th>1</th>\n",
       "      <td>K01 Place a sales local order</td>\n",
       "      <td>907</td>\n",
       "      <td>90</td>\n",
       "      <td>3341.162</td>\n",
       "      <td>4238.7900</td>\n",
       "    </tr>\n",
       "    <tr>\n",
       "      <th>2</th>\n",
       "      <td>K01 Place a sales local order</td>\n",
       "      <td>906</td>\n",
       "      <td>90</td>\n",
       "      <td>3207.278</td>\n",
       "      <td>4238.7900</td>\n",
       "    </tr>\n",
       "    <tr>\n",
       "      <th>3</th>\n",
       "      <td>K01 Place a sales local order</td>\n",
       "      <td>905</td>\n",
       "      <td>90</td>\n",
       "      <td>3072.661</td>\n",
       "      <td>4238.7900</td>\n",
       "    </tr>\n",
       "    <tr>\n",
       "      <th>4</th>\n",
       "      <td>K01 Place a sales local order</td>\n",
       "      <td>904</td>\n",
       "      <td>90</td>\n",
       "      <td>3953.545</td>\n",
       "      <td>4238.7900</td>\n",
       "    </tr>\n",
       "    <tr>\n",
       "      <th>...</th>\n",
       "      <td>...</td>\n",
       "      <td>...</td>\n",
       "      <td>...</td>\n",
       "      <td>...</td>\n",
       "      <td>...</td>\n",
       "    </tr>\n",
       "    <tr>\n",
       "      <th>226</th>\n",
       "      <td>K21 Place SFA order and Send Confirmation</td>\n",
       "      <td>704</td>\n",
       "      <td>94</td>\n",
       "      <td>3778.442</td>\n",
       "      <td>4000.2873</td>\n",
       "    </tr>\n",
       "    <tr>\n",
       "      <th>227</th>\n",
       "      <td>K21 Place SFA order and Send Confirmation</td>\n",
       "      <td>703</td>\n",
       "      <td>94</td>\n",
       "      <td>3777.665</td>\n",
       "      <td>4000.2873</td>\n",
       "    </tr>\n",
       "    <tr>\n",
       "      <th>228</th>\n",
       "      <td>K21 Place SFA order and Send Confirmation</td>\n",
       "      <td>702</td>\n",
       "      <td>94</td>\n",
       "      <td>3709.816</td>\n",
       "      <td>4000.2873</td>\n",
       "    </tr>\n",
       "    <tr>\n",
       "      <th>229</th>\n",
       "      <td>K21 Place SFA order and Send Confirmation</td>\n",
       "      <td>708</td>\n",
       "      <td>94</td>\n",
       "      <td>3704.802</td>\n",
       "      <td>4000.2873</td>\n",
       "    </tr>\n",
       "    <tr>\n",
       "      <th>230</th>\n",
       "      <td>K21 Place SFA order and Send Confirmation</td>\n",
       "      <td>780</td>\n",
       "      <td>94</td>\n",
       "      <td>3817.933</td>\n",
       "      <td>4000.2873</td>\n",
       "    </tr>\n",
       "  </tbody>\n",
       "</table>\n",
       "<p>231 rows × 5 columns</p>\n",
       "</div>"
      ],
      "text/plain": [
       "                                           KPI  run  scriptId  duration_sec  \\\n",
       "0                K01 Place a sales local order  879        90      3859.097   \n",
       "1                K01 Place a sales local order  907        90      3341.162   \n",
       "2                K01 Place a sales local order  906        90      3207.278   \n",
       "3                K01 Place a sales local order  905        90      3072.661   \n",
       "4                K01 Place a sales local order  904        90      3953.545   \n",
       "..                                         ...  ...       ...           ...   \n",
       "226  K21 Place SFA order and Send Confirmation  704        94      3778.442   \n",
       "227  K21 Place SFA order and Send Confirmation  703        94      3777.665   \n",
       "228  K21 Place SFA order and Send Confirmation  702        94      3709.816   \n",
       "229  K21 Place SFA order and Send Confirmation  708        94      3704.802   \n",
       "230  K21 Place SFA order and Send Confirmation  780        94      3817.933   \n",
       "\n",
       "       90percQ  \n",
       "0    4238.7900  \n",
       "1    4238.7900  \n",
       "2    4238.7900  \n",
       "3    4238.7900  \n",
       "4    4238.7900  \n",
       "..         ...  \n",
       "226  4000.2873  \n",
       "227  4000.2873  \n",
       "228  4000.2873  \n",
       "229  4000.2873  \n",
       "230  4000.2873  \n",
       "\n",
       "[231 rows x 5 columns]"
      ]
     },
     "execution_count": 510,
     "metadata": {},
     "output_type": "execute_result"
    }
   ],
   "source": [
    "z1"
   ]
  },
  {
   "cell_type": "code",
   "execution_count": 511,
   "metadata": {},
   "outputs": [
    {
     "data": {
      "text/html": [
       "<div>\n",
       "<style scoped>\n",
       "    .dataframe tbody tr th:only-of-type {\n",
       "        vertical-align: middle;\n",
       "    }\n",
       "\n",
       "    .dataframe tbody tr th {\n",
       "        vertical-align: top;\n",
       "    }\n",
       "\n",
       "    .dataframe thead tr th {\n",
       "        text-align: left;\n",
       "    }\n",
       "</style>\n",
       "<table border=\"1\" class=\"dataframe\">\n",
       "  <thead>\n",
       "    <tr>\n",
       "      <th></th>\n",
       "      <th>KPI</th>\n",
       "      <th>duration_sec</th>\n",
       "      <th>run</th>\n",
       "    </tr>\n",
       "    <tr>\n",
       "      <th></th>\n",
       "      <th></th>\n",
       "      <th>mean</th>\n",
       "      <th>count</th>\n",
       "    </tr>\n",
       "  </thead>\n",
       "  <tbody>\n",
       "    <tr>\n",
       "      <th>0</th>\n",
       "      <td>K01 Place a sales local order</td>\n",
       "      <td>3555.849522</td>\n",
       "      <td>23</td>\n",
       "    </tr>\n",
       "    <tr>\n",
       "      <th>1</th>\n",
       "      <td>K02 Place a B2B/EDI order and Send Confirmation</td>\n",
       "      <td>3930.784460</td>\n",
       "      <td>50</td>\n",
       "    </tr>\n",
       "    <tr>\n",
       "      <th>2</th>\n",
       "      <td>K05 Place a Trade Returns Order</td>\n",
       "      <td>3437.480000</td>\n",
       "      <td>23</td>\n",
       "    </tr>\n",
       "    <tr>\n",
       "      <th>3</th>\n",
       "      <td>K06 B2B Remittance</td>\n",
       "      <td>237.088500</td>\n",
       "      <td>2</td>\n",
       "    </tr>\n",
       "    <tr>\n",
       "      <th>4</th>\n",
       "      <td>K08 Receipted payment processing SA Only at th...</td>\n",
       "      <td>128.271857</td>\n",
       "      <td>7</td>\n",
       "    </tr>\n",
       "    <tr>\n",
       "      <th>5</th>\n",
       "      <td>K11 Send Load to Roadnet load for Planning</td>\n",
       "      <td>1945.755273</td>\n",
       "      <td>11</td>\n",
       "    </tr>\n",
       "    <tr>\n",
       "      <th>6</th>\n",
       "      <td>K12 Receive load from Roadnet into D365</td>\n",
       "      <td>160.740500</td>\n",
       "      <td>10</td>\n",
       "    </tr>\n",
       "    <tr>\n",
       "      <th>7</th>\n",
       "      <td>K12b Release to Warehouse (Roadnet loads)</td>\n",
       "      <td>2372.012185</td>\n",
       "      <td>27</td>\n",
       "    </tr>\n",
       "    <tr>\n",
       "      <th>8</th>\n",
       "      <td>K16 Load upload &amp; Settlement</td>\n",
       "      <td>26.953000</td>\n",
       "      <td>2</td>\n",
       "    </tr>\n",
       "    <tr>\n",
       "      <th>9</th>\n",
       "      <td>K17 Create a cost estimate for all standard co...</td>\n",
       "      <td>99.223000</td>\n",
       "      <td>1</td>\n",
       "    </tr>\n",
       "    <tr>\n",
       "      <th>10</th>\n",
       "      <td>K18 Import Actual Statistical entries, into Co...</td>\n",
       "      <td>136.355000</td>\n",
       "      <td>1</td>\n",
       "    </tr>\n",
       "    <tr>\n",
       "      <th>11</th>\n",
       "      <td>K20 Run Cost Rollup and Cost Allocation Policies</td>\n",
       "      <td>109.182250</td>\n",
       "      <td>4</td>\n",
       "    </tr>\n",
       "    <tr>\n",
       "      <th>12</th>\n",
       "      <td>K21 Place SFA order and Send Confirmation</td>\n",
       "      <td>3824.103029</td>\n",
       "      <td>70</td>\n",
       "    </tr>\n",
       "  </tbody>\n",
       "</table>\n",
       "</div>"
      ],
      "text/plain": [
       "                                                  KPI duration_sec   run\n",
       "                                                              mean count\n",
       "0                       K01 Place a sales local order  3555.849522    23\n",
       "1     K02 Place a B2B/EDI order and Send Confirmation  3930.784460    50\n",
       "2                     K05 Place a Trade Returns Order  3437.480000    23\n",
       "3                                  K06 B2B Remittance   237.088500     2\n",
       "4   K08 Receipted payment processing SA Only at th...   128.271857     7\n",
       "5          K11 Send Load to Roadnet load for Planning  1945.755273    11\n",
       "6             K12 Receive load from Roadnet into D365   160.740500    10\n",
       "7           K12b Release to Warehouse (Roadnet loads)  2372.012185    27\n",
       "8                        K16 Load upload & Settlement    26.953000     2\n",
       "9   K17 Create a cost estimate for all standard co...    99.223000     1\n",
       "10  K18 Import Actual Statistical entries, into Co...   136.355000     1\n",
       "11   K20 Run Cost Rollup and Cost Allocation Policies   109.182250     4\n",
       "12          K21 Place SFA order and Send Confirmation  3824.103029    70"
      ]
     },
     "execution_count": 511,
     "metadata": {},
     "output_type": "execute_result"
    }
   ],
   "source": [
    "# mask = (z1['duration_sec'] <= z['90percQ'])\n",
    "# z1[mask].groupby(['KPI']).agg({'duration_sec': {'mean'}}).reset_index().sort_values(by=['KPI'])\n",
    "z1.groupby(['KPI']).agg({'duration_sec': {'mean'}, 'run': {'count'}}).reset_index().sort_values(by=['KPI'])"
   ]
  },
  {
   "cell_type": "code",
   "execution_count": null,
   "metadata": {},
   "outputs": [],
   "source": []
  },
  {
   "attachments": {},
   "cell_type": "markdown",
   "metadata": {},
   "source": [
    "### Generate an output file in CSV format"
   ]
  },
  {
   "cell_type": "code",
   "execution_count": 225,
   "metadata": {},
   "outputs": [],
   "source": [
    "df2.to_csv('data/execution/result.csv',index=False)"
   ]
  },
  {
   "cell_type": "markdown",
   "metadata": {},
   "source": [
    "### Aggregate to extract measures"
   ]
  },
  {
   "cell_type": "code",
   "execution_count": 243,
   "metadata": {},
   "outputs": [],
   "source": [
    "def summary(x):\n",
    "    runs = x['executionLogsId'].nunique()\n",
    "    runs = float(runs)\n",
    "    duration = x['duration'].sum()/1000\n",
    "    duration_90 = x['duration'].quantile(0.9).sum()/1000\n",
    "    mean_s = x['duration'].mean()/1000\n",
    "    mean_90 = x['duration'].quantile(0.9).mean()/1000\n",
    "    count = duration/mean_s\n",
    "    result = {\n",
    "        #'aggr_duration': duration,\n",
    "        #'aggr_duration_minutes': duration/60,\n",
    "        #'runs': runs,\n",
    "        'mean': mean_s,\n",
    "        'mean_90': mean_90,\n",
    "        'mean_minutes': duration/runs/60\n",
    "        #'steps': count\n",
    "    }\n",
    "    return pd.Series(result).round(1)\n",
    "\n",
    "#df2.groupby(['scriptName','sessionId']).apply(summary).to_html('data/execution/result.html')\n",
    "df2.groupby(['testName', 'executionLogsId']).apply(summary).to_html('data/execution/result.html')\n",
    "#df2.groupby(['testName', 'executionLogsId']).quantile(.90).apply(summary).to_html('data/execution/result.html')\n",
    "#df2.groupby(['testName', 'executionLogsId']).apply(summary).to_excel('data/execution/result_groupby.xlsx')\n",
    "#df2.groupby(['testName', 'executionLogsId']).agg({'executionLogsId': {'nunique'}, 'duration' : {'sum'}})\n",
    "#df2.groupby(['testName']).apply(summary).to_html('data/execution/result.html')"
   ]
  },
  {
   "attachments": {},
   "cell_type": "markdown",
   "metadata": {},
   "source": [
    "### From here on the script is disabled."
   ]
  },
  {
   "cell_type": "code",
   "execution_count": 162,
   "metadata": {},
   "outputs": [
    {
     "ename": "SystemExit",
     "evalue": "Stop right here!",
     "output_type": "error",
     "traceback": [
      "An exception has occurred, use %tb to see the full traceback.\n",
      "\u001b[0;31mSystemExit\u001b[0m\u001b[0;31m:\u001b[0m Stop right here!\n"
     ]
    },
    {
     "name": "stderr",
     "output_type": "stream",
     "text": [
      "/home/wo/.local/lib/python3.8/site-packages/IPython/core/interactiveshell.py:3441: UserWarning: To exit: use 'exit', 'quit', or Ctrl-D.\n",
      "  warn(\"To exit: use 'exit', 'quit', or Ctrl-D.\", stacklevel=1)\n"
     ]
    }
   ],
   "source": [
    "# Insert this to prevent the cells below from trying to write to the sql table\n",
    "raise SystemExit(\"Stop right here!\")"
   ]
  },
  {
   "attachments": {},
   "cell_type": "markdown",
   "metadata": {},
   "source": [
    "### Get ready to export to SQL"
   ]
  },
  {
   "cell_type": "code",
   "execution_count": null,
   "metadata": {},
   "outputs": [],
   "source": [
    "mask = (df['date'] > '2023-01-10')\n",
    "#df.loc[(df['date'] > '2023-01-10')]\n",
    "df = df[mask]"
   ]
  },
  {
   "cell_type": "code",
   "execution_count": null,
   "metadata": {},
   "outputs": [],
   "source": [
    "# https://learn.microsoft.com/en-us/sql/machine-learning/data-exploration/python-dataframe-pandas?view=sql-server-ver16\n",
    "# Some other example server values are\n",
    "# server = 'localhost\\sqlexpress' # for a named instance\n",
    "# server = 'myserver,port' # to specify an alternate port\n",
    "server = 'tcp:csazniptlsql01.database.windows.net,1433' \n",
    "database = 'CSAZN-INT-IPT-L-DSQ-01' \n",
    "username = 'ccbaadmin' \n",
    "password = '@FireBase123' \n",
    "# ENCRYPT defaults to yes starting in ODBC Driver 18. It's good to always specify ENCRYPT=yes on the client side to avoid MITM attacks.\n",
    "cnxn = pyodbc.connect('DRIVER={ODBC Driver 18 for SQL Server};SERVER='+server+';DATABASE='+database+';ENCRYPT=yes;UID='+username+';PWD='+ password)\n",
    "cursor = cnxn.cursor()"
   ]
  },
  {
   "cell_type": "code",
   "execution_count": null,
   "metadata": {},
   "outputs": [],
   "source": [
    "# cursor = cnxn.cursor()\n",
    "\n",
    "# cursor.execute('''\n",
    "# \t\tCREATE TABLE ea_script_history (\n",
    "# \t\t\trecords_no int,\n",
    "#             topProjectName nvarchar(255),\n",
    "#             testName nvarchar(255),\n",
    "#             sessionId nvarchar(255),\n",
    "#             id int,\n",
    "#             scriptId int,\n",
    "#             scriptName nvarchar(255),\n",
    "#             state nvarchar(255),\n",
    "#             status nvarchar(255),\n",
    "#             StepLabel nvarchar(255),\n",
    "#             startTime datetime,\n",
    "#             endTime datetime,\n",
    "#             duration int,\n",
    "#             lineNum int,\n",
    "#             StepLogs_id int\n",
    "# \t\t\t)\n",
    "#                ''')\n",
    "\n",
    "# cnxn.commit()"
   ]
  },
  {
   "cell_type": "code",
   "execution_count": null,
   "metadata": {},
   "outputs": [],
   "source": [
    "cnxn = pyodbc.connect('DRIVER={ODBC Driver 18 for SQL Server};SERVER='+server+';DATABASE='+database+';ENCRYPT=yes;UID='+username+';PWD='+ password)\n",
    "cursor = cnxn.cursor()\n",
    "# Insert Dataframe into SQL Server:\n",
    "i = 0\n",
    "for index, row in df.iterrows():\n",
    "     cursor.execute(\"INSERT INTO ea_script_history (records_no,topProjectName,testName,sessionId,id,scriptId,scriptName,state,status,StepLabel,startTime,endTime,duration,lineNum,StepLogs_id) values(?,?,?,?,?,?,?,?,?,?,?,?,?,?,?)\", row.records_no, row.topProjectName, row.testName, row.sessionId, row.id, row.scriptId, row.scriptName, row.state, row.status, row.StepLabel, row.startTime, row.endTime, row.duration, row.lineNum, row.StepLogs_id)\n",
    "     i = i + 1\n",
    "     if i == 1000:\n",
    "          i = 0\n",
    "          cnxn.commit()          \n",
    "cnxn.commit()\n",
    "cursor.close()"
   ]
  },
  {
   "cell_type": "code",
   "execution_count": null,
   "metadata": {},
   "outputs": [],
   "source": [
    "# cnxn = pyodbc.connect('DRIVER={ODBC Driver 18 for SQL Server};SERVER='+server+';DATABASE='+database+';ENCRYPT=yes;UID='+username+';PWD='+ password)\n",
    "# cursor = cnxn.cursor()\n",
    "# # Insert Dataframe into SQL Server:\n",
    "# for index, row in df.iterrows():\n",
    "#      cursor.execute(\"INSERT INTO ea_script_history (startTime) values(?)\", row.startTime)\n",
    "# cnxn.commit()\n",
    "# cursor.close()"
   ]
  },
  {
   "cell_type": "code",
   "execution_count": null,
   "metadata": {},
   "outputs": [],
   "source": [
    "# Delete all the rows in the SQl script history table\n",
    "cursor = cnxn.cursor()\n",
    "cursor.execute(\"DELETE FROM ea_script_history\")\n",
    "cnxn.commit()\n",
    "cursor.close()"
   ]
  },
  {
   "cell_type": "code",
   "execution_count": null,
   "metadata": {},
   "outputs": [],
   "source": [
    "# Drop the SQl script history table (it must be re-created)\n",
    "cursor = cnxn.cursor()\n",
    "cursor.execute(\"DROP Table ea_script_history\")\n",
    "#cursor.execute(\"DROP Table temp_table\")\n",
    "cnxn.commit()\n",
    "cursor.close()"
   ]
  }
 ],
 "metadata": {
  "kernelspec": {
   "display_name": "Python 3",
   "language": "python",
   "name": "python3"
  },
  "language_info": {
   "codemirror_mode": {
    "name": "ipython",
    "version": 3
   },
   "file_extension": ".py",
   "mimetype": "text/x-python",
   "name": "python",
   "nbconvert_exporter": "python",
   "pygments_lexer": "ipython3",
   "version": "3.8.10"
  },
  "orig_nbformat": 4,
  "vscode": {
   "interpreter": {
    "hash": "916dbcbb3f70747c44a77c7bcd40155683ae19c65e1c03b4aa3499c5328201f1"
   }
  }
 },
 "nbformat": 4,
 "nbformat_minor": 2
}
