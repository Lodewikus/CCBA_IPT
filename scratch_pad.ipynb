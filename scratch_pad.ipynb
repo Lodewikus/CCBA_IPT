{
 "cells": [
  {
   "cell_type": "code",
   "execution_count": 1,
   "metadata": {},
   "outputs": [],
   "source": [
    "import json\n",
    "import numpy as np\n",
    "import pandas as pd\n",
    "import lxml\n",
    "import re\n",
    "import os\n",
    "from datetime import datetime\n",
    "import pyodbc\n",
    "import requests"
   ]
  },
  {
   "cell_type": "code",
   "execution_count": 12,
   "metadata": {},
   "outputs": [
    {
     "name": "stderr",
     "output_type": "stream",
     "text": [
      "/usr/lib/python3/dist-packages/urllib3/connectionpool.py:999: InsecureRequestWarning: Unverified HTTPS request is being made to host 'ea.executive.automats.app'. Adding certificate verification is strongly advised. See: https://urllib3.readthedocs.io/en/latest/advanced-usage.html#ssl-warnings\n",
      "  warnings.warn(\n"
     ]
    },
    {
     "name": "stdout",
     "output_type": "stream",
     "text": [
      "200\n"
     ]
    }
   ],
   "source": [
    "custom_headers  = {\"Authorization\": \"Gt4qkl1ahFDcFyQwfjMBYT0utbLD4STHQjWdIXzsYH8v3w29M6Tm6tVKI0uMj6Qh\", \"Content-Type\": \"application/json\"}\n",
    "url = 'https://ea.executive.automats.app/api/bi/scripts?withHistory=true'\n",
    "\n",
    "resp = requests.get(url, headers = custom_headers, verify=False)\n",
    "print(resp.status_code)"
   ]
  },
  {
   "cell_type": "code",
   "execution_count": 13,
   "metadata": {},
   "outputs": [],
   "source": [
    "json_data = json.loads(resp.text)\n",
    "json_text = json.dumps(json_data, indent=4)"
   ]
  },
  {
   "cell_type": "code",
   "execution_count": 14,
   "metadata": {},
   "outputs": [],
   "source": [
    "try:\n",
    "    os.remove('data/execution/try.json')\n",
    "except:\n",
    "    print('File does not exist')\n",
    "\n",
    "with open('data/execution/try.json', 'w') as fw:\n",
    "    fw.write(json_text)"
   ]
  },
  {
   "cell_type": "code",
   "execution_count": 15,
   "metadata": {},
   "outputs": [
    {
     "name": "stdout",
     "output_type": "stream",
     "text": [
      "652355\n"
     ]
    }
   ],
   "source": [
    "try:\n",
    "    os.remove('data/execution/script_history_fixed.json')\n",
    "except:\n",
    "    print('File does not exist')\n",
    "\n",
    "#with open('data/execution/script_history.json', 'r') as fr:\n",
    "with open('data/execution/try.json', 'r') as fr:    \n",
    "    # reading line by line\n",
    "    lines = fr.readlines()\n",
    "    last_line = len(lines)\n",
    "    print(len(lines))\n",
    "    \n",
    "    for line in lines:\n",
    "        line = re.sub(\"\\u0003\", \"\", line)\n",
    "        with open('data/execution/script_history_fixed.json', 'a') as fw:\n",
    "            fw.write(line) "
   ]
  },
  {
   "cell_type": "code",
   "execution_count": 2,
   "metadata": {},
   "outputs": [],
   "source": [
    "f = open('data/execution/script_history_fixed.json')\n",
    "data = json.loads(f.read())"
   ]
  },
  {
   "cell_type": "code",
   "execution_count": 3,
   "metadata": {},
   "outputs": [
    {
     "name": "stdout",
     "output_type": "stream",
     "text": [
      "Processed 7934 of 7899 items\n"
     ]
    }
   ],
   "source": [
    "try:\n",
    "    os.remove('data/execution/check_structure.csv')\n",
    "except:\n",
    "    print('File does not exist')\n",
    "with open('data/execution/check_structure.csv', 'a') as fw:\n",
    "    line = 'records_no,topProjectName,name,sessionId,id,scriptId,scriptName,state,status,label,startTime,endTime,duration,lineNum,StepLogs_id\\n'\n",
    "    fw.write(line)\n",
    "    i = 0\n",
    "    for level1 in data:\n",
    "        for key, value in level1.items():\n",
    "            #if i == 100: break\n",
    "            i = i + 1\n",
    "            try:\n",
    "                executionLogs_str = json.dumps(level1['executionLogs'])\n",
    "                executionLogs_json = json.loads(executionLogs_str)\n",
    "                for level2 in executionLogs_json:\n",
    "                    for key2, value2 in level2.items():\n",
    "                        #try:\n",
    "                        executionStepLogs_str = json.dumps(level2['executionStepLogs'])\n",
    "                        executionStepLogs_json = json.loads(executionStepLogs_str)\n",
    "                        if key2 == 'executionStepLogs':\n",
    "                            records_no_str = str(i)\n",
    "                            topProjectName = str(level1['topProjectName'])\n",
    "                            name_str = str(level1['name'])\n",
    "                            # Remove any commas from name \n",
    "                            check = (',' in name_str)\n",
    "                            if check == True:\n",
    "                                name_str = re.sub(',', ';', name_str)                            \n",
    "                            sessionId_str = str(level2['sessionId'])\n",
    "                            id_str = str(level2['id'])\n",
    "                            scriptId_str = str(level2['scriptId'])\n",
    "                            scriptName_str = str(level2['scriptName'])\n",
    "                            # Remove any commas from scriptName \n",
    "                            check = (',' in scriptName_str)\n",
    "                            if check == True:\n",
    "                                scriptName_str = re.sub(',', ';', scriptName_str)                             \n",
    "                            state_str = str(level2['state'])\n",
    "                            status_str = str(level2['status'])\n",
    "                            lastIssues_str = str(level2['lastIssues'])\n",
    "                            # Remove any commas from lastIssues_str\n",
    "                            check = (',' in lastIssues_str)\n",
    "                            if check == True:\n",
    "                                lastIssues_str = re.sub(',', ';', lastIssues_str)\n",
    "\n",
    "\n",
    "                            for level3 in executionStepLogs_json:\n",
    "                                #for key3, value3 in level3.items():\n",
    "                                status_str = str(level3['status'])\n",
    "                                label_str = str(level3['label'])\n",
    "                                \n",
    "                                # These lines replace long text test step labels with short text (that does not wrap)\n",
    "                                check = ('Click Dynamics 365' in label_str)\n",
    "                                if check == True:\n",
    "                                    label_str = 'Click Dynamics 365'\n",
    "                                check = ('Click Sales Hub' in label_str)\n",
    "                                if check == True:\n",
    "                                    label_str = 'Click Sales Hub'\n",
    "                                check = ('Type value function eaExecuteVariableValue()' in label_str)\n",
    "                                if check == True:\n",
    "                                    label_str = 'Type value function eaExecuteVariableValue()'\n",
    "                                check = ('Select from function eaExecuteVariableValue()' in label_str)\n",
    "                                if check == True:\n",
    "                                    label_str = 'Select from function eaExecuteVariableValue()'                                    \n",
    "                                check = ('Select lookup values function eaExecuteVariableValue()' in label_str)\n",
    "                                if check == True:\n",
    "                                    label_str = 'Select lookup values function eaExecuteVariableValue()'\n",
    "                                # Remove any commas from label_str \n",
    "                                check = (',' in label_str)\n",
    "                                if check == True:\n",
    "                                    label_str = re.sub(',', ';', label_str)\n",
    "                                # Now replace all newlines that remain in label_str\n",
    "                                check = ('\\n' in label_str)\n",
    "                                if check == True:\n",
    "                                    label_str = re.sub('\\n', '/nl/', label_str)\n",
    "                                # Done with replacing text\n",
    "\n",
    "                                startTime_str = str(level3['startTime'])\n",
    "                                endTime_str = str(level3['endTime'])\n",
    "                                duration_str = str(level3['duration'])\n",
    "                                lineNum_str = str(level3['lineNum'])\n",
    "                                StepLogs_id_str = str(level3['id'])\n",
    "\n",
    "                                line = records_no_str+','+topProjectName+','+name_str+','+sessionId_str+','+id_str+','+scriptId_str+','+scriptName_str+','+state_str+','+status_str+','+label_str+','+startTime_str+','+endTime_str+','+duration_str+','+lineNum_str+','+StepLogs_id_str+'\\n'\n",
    "                                fw.write(line)\n",
    "                            # except:\n",
    "                            #     print('Exception on Level2 for Level1 item '+str(i))\n",
    "            except:\n",
    "                #print('Exception for Level1 item '+str(i))\n",
    "                pass\n",
    "    print('Processed '+str(i)+' of 7899 items')                \n"
   ]
  },
  {
   "cell_type": "code",
   "execution_count": 4,
   "metadata": {},
   "outputs": [],
   "source": [
    "df = pd.read_csv('data/execution/check_structure.csv')"
   ]
  },
  {
   "cell_type": "code",
   "execution_count": 5,
   "metadata": {},
   "outputs": [],
   "source": [
    "#df.drop_duplicates(keep='first',inplace=True)\n",
    "df.rename(columns={'label':'StepLabel'}, inplace=True)\n",
    "df.rename(columns={'name':'testName'}, inplace=True)"
   ]
  },
  {
   "cell_type": "code",
   "execution_count": 6,
   "metadata": {},
   "outputs": [],
   "source": [
    "mask = (df['startTime'] == 'None') \n",
    "df['startTime'].mask(mask,'2022-01-01T00:00:00.000Z',inplace=True)\n",
    "df['startTime'] = pd.to_datetime(df['startTime'])"
   ]
  },
  {
   "cell_type": "code",
   "execution_count": 7,
   "metadata": {},
   "outputs": [],
   "source": [
    "mask = (df['endTime'] == 'None') \n",
    "df['endTime'].mask(mask,'2022-01-01T00:00:00.000Z',inplace=True)\n",
    "df['endTime'] = pd.to_datetime(df['endTime'])"
   ]
  },
  {
   "cell_type": "code",
   "execution_count": 8,
   "metadata": {},
   "outputs": [],
   "source": [
    "df['duration_ms'] = df['endTime'] - df['startTime']"
   ]
  },
  {
   "cell_type": "code",
   "execution_count": 9,
   "metadata": {},
   "outputs": [],
   "source": [
    "mask = (df['duration'] == 'None') \n",
    "df['duration'].mask(mask,'0',inplace=True)\n",
    "df['duration'] = pd.to_numeric(df['duration'])"
   ]
  },
  {
   "cell_type": "code",
   "execution_count": null,
   "metadata": {},
   "outputs": [],
   "source": [
    "df.info()"
   ]
  },
  {
   "cell_type": "code",
   "execution_count": 10,
   "metadata": {},
   "outputs": [],
   "source": [
    "df['date'] = pd.to_datetime(df['endTime'], format='%Y-%m-%d').dt.date\n",
    "df['date'] = pd.to_datetime(df['date'])"
   ]
  },
  {
   "cell_type": "code",
   "execution_count": 11,
   "metadata": {},
   "outputs": [],
   "source": [
    "mask = (df['date'] > '2023-01-10')\n",
    "#df.loc[(df['date'] > '2023-01-10')]\n",
    "df = df[mask]"
   ]
  },
  {
   "cell_type": "code",
   "execution_count": null,
   "metadata": {},
   "outputs": [],
   "source": [
    "# https://learn.microsoft.com/en-us/sql/machine-learning/data-exploration/python-dataframe-pandas?view=sql-server-ver16\n",
    "# Some other example server values are\n",
    "# server = 'localhost\\sqlexpress' # for a named instance\n",
    "# server = 'myserver,port' # to specify an alternate port\n",
    "server = 'tcp:csazniptlsql01.database.windows.net,1433' \n",
    "database = 'CSAZN-INT-IPT-L-DSQ-01' \n",
    "username = 'ccbaadmin' \n",
    "password = '@FireBase123' \n",
    "# ENCRYPT defaults to yes starting in ODBC Driver 18. It's good to always specify ENCRYPT=yes on the client side to avoid MITM attacks.\n",
    "cnxn = pyodbc.connect('DRIVER={ODBC Driver 18 for SQL Server};SERVER='+server+';DATABASE='+database+';ENCRYPT=yes;UID='+username+';PWD='+ password)\n",
    "cursor = cnxn.cursor()"
   ]
  },
  {
   "cell_type": "code",
   "execution_count": null,
   "metadata": {},
   "outputs": [],
   "source": [
    "cursor = cnxn.cursor()\n",
    "\n",
    "cursor.execute('''\n",
    "\t\tCREATE TABLE ea_script_history (\n",
    "\t\t\trecords_no int,\n",
    "            topProjectName nvarchar(255),\n",
    "            testName nvarchar(255),\n",
    "            sessionId nvarchar(255),\n",
    "            id int,\n",
    "            scriptId int,\n",
    "            scriptName nvarchar(255),\n",
    "            state nvarchar(255),\n",
    "            status nvarchar(255),\n",
    "            StepLabel nvarchar(255),\n",
    "            startTime datetime,\n",
    "            endTime datetime,\n",
    "            duration int,\n",
    "            lineNum int,\n",
    "            StepLogs_id int\n",
    "\t\t\t)\n",
    "               ''')\n",
    "\n",
    "cnxn.commit()"
   ]
  },
  {
   "cell_type": "code",
   "execution_count": null,
   "metadata": {},
   "outputs": [],
   "source": [
    "cnxn = pyodbc.connect('DRIVER={ODBC Driver 18 for SQL Server};SERVER='+server+';DATABASE='+database+';ENCRYPT=yes;UID='+username+';PWD='+ password)\n",
    "cursor = cnxn.cursor()\n",
    "# Insert Dataframe into SQL Server:\n",
    "i = 0\n",
    "for index, row in df.iterrows():\n",
    "     cursor.execute(\"INSERT INTO ea_script_history (records_no,topProjectName,testName,sessionId,id,scriptId,scriptName,state,status,StepLabel,startTime,endTime,duration,lineNum,StepLogs_id) values(?,?,?,?,?,?,?,?,?,?,?,?,?,?,?)\", row.records_no, row.topProjectName, row.testName, row.sessionId, row.id, row.scriptId, row.scriptName, row.state, row.status, row.StepLabel, row.startTime, row.endTime, row.duration, row.lineNum, row.StepLogs_id)\n",
    "     i = i + 1\n",
    "     if i == 1000:\n",
    "          i = 0\n",
    "          cnxn.commit()          \n",
    "cnxn.commit()\n",
    "cursor.close()"
   ]
  },
  {
   "cell_type": "code",
   "execution_count": null,
   "metadata": {},
   "outputs": [],
   "source": [
    "# cnxn = pyodbc.connect('DRIVER={ODBC Driver 18 for SQL Server};SERVER='+server+';DATABASE='+database+';ENCRYPT=yes;UID='+username+';PWD='+ password)\n",
    "# cursor = cnxn.cursor()\n",
    "# # Insert Dataframe into SQL Server:\n",
    "# for index, row in df.iterrows():\n",
    "#      cursor.execute(\"INSERT INTO ea_script_history (startTime) values(?)\", row.startTime)\n",
    "# cnxn.commit()\n",
    "# cursor.close()"
   ]
  },
  {
   "cell_type": "code",
   "execution_count": null,
   "metadata": {},
   "outputs": [],
   "source": [
    "# Delete all the rows in the SQl script history table\n",
    "cursor = cnxn.cursor()\n",
    "cursor.execute(\"DELETE FROM ea_script_history\")\n",
    "cnxn.commit()\n",
    "cursor.close()"
   ]
  },
  {
   "cell_type": "code",
   "execution_count": null,
   "metadata": {},
   "outputs": [],
   "source": [
    "# Drop the SQl script history table (it must be re-created)\n",
    "cursor = cnxn.cursor()\n",
    "cursor.execute(\"DROP Table ea_script_history\")\n",
    "#cursor.execute(\"DROP Table temp_table\")\n",
    "cnxn.commit()\n",
    "cursor.close()"
   ]
  },
  {
   "cell_type": "code",
   "execution_count": null,
   "metadata": {},
   "outputs": [],
   "source": [
    "line = '},        \"tags\": [],        \"useDefaultEnvironment\": true, }abc        \"tags\": []abc        \"useDefaultEnvironment\": true,'\n",
    "\n",
    "line = re.sub(r\"\\},[^,]\", \"},\\n\", line) # OK\n",
    "line = re.sub(r\"\\],[^,]\", \"],\\n\", line) # OK\n",
    "line = re.sub(r\"\\}[^,]\", \"}\\n\", line) # OK\n",
    "line = re.sub(r\"\\][^,]\", \"]\\n\", line) # OK\n"
   ]
  },
  {
   "cell_type": "code",
   "execution_count": null,
   "metadata": {},
   "outputs": [],
   "source": [
    "print(line)"
   ]
  }
 ],
 "metadata": {
  "kernelspec": {
   "display_name": "Python 3",
   "language": "python",
   "name": "python3"
  },
  "language_info": {
   "codemirror_mode": {
    "name": "ipython",
    "version": 3
   },
   "file_extension": ".py",
   "mimetype": "text/x-python",
   "name": "python",
   "nbconvert_exporter": "python",
   "pygments_lexer": "ipython3",
   "version": "3.8.10"
  },
  "orig_nbformat": 4,
  "vscode": {
   "interpreter": {
    "hash": "916dbcbb3f70747c44a77c7bcd40155683ae19c65e1c03b4aa3499c5328201f1"
   }
  }
 },
 "nbformat": 4,
 "nbformat_minor": 2
}
