{
 "cells": [
  {
   "cell_type": "code",
   "execution_count": 554,
   "metadata": {},
   "outputs": [],
   "source": [
    "import json\n",
    "import numpy as np\n",
    "import pandas as pd\n",
    "import lxml\n",
    "import re\n",
    "import os\n",
    "from datetime import datetime\n",
    "import pyodbc\n",
    "import requests"
   ]
  },
  {
   "cell_type": "markdown",
   "metadata": {},
   "source": [
    "### Get EA script history in JSON format via the API"
   ]
  },
  {
   "cell_type": "code",
   "execution_count": 555,
   "metadata": {},
   "outputs": [
    {
     "name": "stderr",
     "output_type": "stream",
     "text": [
      "/usr/lib/python3/dist-packages/urllib3/connectionpool.py:999: InsecureRequestWarning: Unverified HTTPS request is being made to host 'ea.executive.automats.app'. Adding certificate verification is strongly advised. See: https://urllib3.readthedocs.io/en/latest/advanced-usage.html#ssl-warnings\n",
      "  warnings.warn(\n"
     ]
    },
    {
     "name": "stdout",
     "output_type": "stream",
     "text": [
      "200\n"
     ]
    }
   ],
   "source": [
    "custom_headers  = {\"Authorization\": \"Gt4qkl1ahFDcFyQwfjMBYT0utbLD4STHQjWdIXzsYH8v3w29M6Tm6tVKI0uMj6Qh\", \"Content-Type\": \"application/json\"}\n",
    "url = 'https://ea.executive.automats.app/api/bi/scripts?withHistory=true'\n",
    "\n",
    "resp = requests.get(url, headers = custom_headers, verify=False)\n",
    "print(resp.status_code)"
   ]
  },
  {
   "cell_type": "code",
   "execution_count": 556,
   "metadata": {},
   "outputs": [],
   "source": [
    "json_data = json.loads(resp.text)\n",
    "json_text = json.dumps(json_data, indent=4)"
   ]
  },
  {
   "cell_type": "code",
   "execution_count": 557,
   "metadata": {},
   "outputs": [],
   "source": [
    "try:\n",
    "    os.remove('data/execution/try.json')\n",
    "except:\n",
    "    print('File does not exist')\n",
    "\n",
    "with open('data/execution/try.json', 'w') as fw:\n",
    "    fw.write(json_text)"
   ]
  },
  {
   "cell_type": "markdown",
   "metadata": {},
   "source": [
    "### Remove invalid characters from the inbound JSON data"
   ]
  },
  {
   "cell_type": "code",
   "execution_count": 558,
   "metadata": {},
   "outputs": [
    {
     "name": "stdout",
     "output_type": "stream",
     "text": [
      "1297177\n"
     ]
    }
   ],
   "source": [
    "try:\n",
    "    os.remove('data/execution/script_history_fixed.json')\n",
    "except:\n",
    "    print('File does not exist')\n",
    "\n",
    "#with open('data/execution/script_history.json', 'r') as fr:\n",
    "with open('data/execution/try.json', 'r') as fr:    \n",
    "    # reading line by line\n",
    "    lines = fr.readlines()\n",
    "    last_line = len(lines)\n",
    "    print(len(lines))\n",
    "    \n",
    "    for line in lines:\n",
    "        line = re.sub(\"\\u0003\", \"\", line)\n",
    "        with open('data/execution/script_history_fixed.json', 'a') as fw:\n",
    "            fw.write(line) \n",
    "\n",
    "# Previous runtime = 13.8s"
   ]
  },
  {
   "attachments": {},
   "cell_type": "markdown",
   "metadata": {},
   "source": [
    "### Parse the multilevel JSON into a CSV file"
   ]
  },
  {
   "cell_type": "code",
   "execution_count": null,
   "metadata": {},
   "outputs": [],
   "source": [
    "f = open('data/execution/script_history_fixed.json')\n",
    "data = json.loads(f.read())"
   ]
  },
  {
   "cell_type": "code",
   "execution_count": null,
   "metadata": {},
   "outputs": [
    {
     "name": "stdout",
     "output_type": "stream",
     "text": [
      "Processed 10528 items\n"
     ]
    }
   ],
   "source": [
    "try:\n",
    "    os.remove('data/execution/check_structure.csv')\n",
    "except:\n",
    "    print('File does not exist')\n",
    "with open('data/execution/check_structure.csv', 'a') as fw:\n",
    "    line = 'topProjectName,name,sessionId,executionLogsId,scriptId,scriptName,script_status,label,step_state,step_status,startTime,endTime,duration,lineNum,StepLogsId,takeScreenshots,screenshotsOnlyOnInterruption\\n'\n",
    "    #line = 'topProjectName,name,sessionId,executionLogsId,scriptId,scriptName,script_status,label,step_state,step_status,startTime,endTime,duration,lineNum,StepLogsId\\n'\n",
    "    fw.write(line)\n",
    "    i = 0\n",
    "    for level1 in data:\n",
    "        for key, value in level1.items():\n",
    "            #if i == 100: break\n",
    "            i = i + 1\n",
    "            takeScreenshots_str = str(level1['takeScreenshots'])\n",
    "            screenshotsOnlyOnInterruption_str = str(level1['screenshotsOnlyOnInterruption'])            \n",
    "            try:\n",
    "                executionLogs_str = json.dumps(level1['executionLogs'])\n",
    "                executionLogs_json = json.loads(executionLogs_str)\n",
    "                for level2 in executionLogs_json:\n",
    "                    for key2, value2 in level2.items():\n",
    "                        #try:\n",
    "                        executionStepLogs_str = json.dumps(level2['executionStepLogs'])\n",
    "                        executionStepLogs_json = json.loads(executionStepLogs_str)\n",
    "                        if key2 == 'executionStepLogs':\n",
    "                            records_no_str = str(i)\n",
    "                            topProjectName = str(level1['topProjectName'])\n",
    "                            name_str = str(level1['name'])\n",
    "                            # Remove any commas from name \n",
    "                            check = (',' in name_str)\n",
    "                            if check == True:\n",
    "                                name_str = re.sub(',', ';', name_str)                            \n",
    "                            sessionId_str = str(level2['sessionId'])\n",
    "                            id_str = str(level2['id'])\n",
    "                            scriptId_str = str(level2['scriptId'])\n",
    "                            scriptName_str = str(level2['scriptName'])\n",
    "                            # Remove any commas from scriptName \n",
    "                            check = (',' in scriptName_str)\n",
    "                            if check == True:\n",
    "                                scriptName_str = re.sub(',', ';', scriptName_str)                             \n",
    "                            state_str = str(level2['state'])\n",
    "                            status2_str = str(level2['status'])\n",
    "                            lastIssues_str = str(level2['lastIssues'])\n",
    "                            # Remove any commas from lastIssues_str\n",
    "                            check = (',' in lastIssues_str)\n",
    "                            if check == True:\n",
    "                                lastIssues_str = re.sub(',', ';', lastIssues_str)\n",
    "\n",
    "\n",
    "                            for level3 in executionStepLogs_json:\n",
    "                                #for key3, value3 in level3.items():\n",
    "                                status3_str = str(level3['status'])\n",
    "                                label_str = str(level3['label'])\n",
    "                                \n",
    "                                # These lines replace long text test step labels with short text (that does not wrap)\n",
    "                                check = ('Click Dynamics 365' in label_str)\n",
    "                                if check == True:\n",
    "                                    label_str = 'Click Dynamics 365'\n",
    "                                check = ('Click Sales Hub' in label_str)\n",
    "                                if check == True:\n",
    "                                    label_str = 'Click Sales Hub'\n",
    "                                check = ('Type value function eaExecuteVariableValue()' in label_str)\n",
    "                                if check == True:\n",
    "                                    label_str = 'Type value function eaExecuteVariableValue()'\n",
    "                                check = ('Select from function eaExecuteVariableValue()' in label_str)\n",
    "                                if check == True:\n",
    "                                    label_str = 'Select from function eaExecuteVariableValue()'                                    \n",
    "                                check = ('Select lookup values function eaExecuteVariableValue()' in label_str)\n",
    "                                if check == True:\n",
    "                                    label_str = 'Select lookup values function eaExecuteVariableValue()'\n",
    "                                # Remove any commas from label_str \n",
    "                                check = (',' in label_str)\n",
    "                                if check == True:\n",
    "                                    label_str = re.sub(',', ';', label_str)\n",
    "                                # Now replace all newlines that remain in label_str\n",
    "                                check = ('\\n' in label_str)\n",
    "                                if check == True:\n",
    "                                    label_str = re.sub('\\n', '/nl/', label_str)\n",
    "                                # Done with replacing text\n",
    "\n",
    "                                startTime_str = str(level3['startTime'])\n",
    "                                endTime_str = str(level3['endTime'])\n",
    "                                duration_str = str(level3['duration'])\n",
    "                                lineNum_str = str(level3['lineNum'])\n",
    "                                StepLogs_id_str = str(level3['id'])\n",
    "\n",
    "                                line = topProjectName+','+name_str+','+sessionId_str+','+id_str+','+scriptId_str+','+scriptName_str+','+status2_str+','+label_str+','+state_str+','+status3_str+','+startTime_str+','+endTime_str+','+duration_str+','+lineNum_str+','+StepLogs_id_str+','+takeScreenshots_str+','+screenshotsOnlyOnInterruption_str+'\\n'\n",
    "                                #line = topProjectName+','+name_str+','+sessionId_str+','+id_str+','+scriptId_str+','+scriptName_str+','+status2_str+','+label_str+','+state_str+','+status3_str+','+startTime_str+','+endTime_str+','+duration_str+','+lineNum_str+','+StepLogs_id_str+'\\n'\n",
    "                                fw.write(line)\n",
    "                            # except:\n",
    "                            #     print('Exception on Level2 for Level1 item '+str(i))\n",
    "            except:\n",
    "                #print('Exception for Level1 item '+str(i))\n",
    "                pass\n",
    "    print('Processed '+str(i)+' items')           \n",
    "\n",
    "    # Previous runtime = 2m 47.1s     \n"
   ]
  },
  {
   "cell_type": "markdown",
   "metadata": {},
   "source": [
    "### Read the denormalized CSV file into a Pandas dataframe"
   ]
  },
  {
   "cell_type": "code",
   "execution_count": null,
   "metadata": {},
   "outputs": [
    {
     "name": "stderr",
     "output_type": "stream",
     "text": [
      "/tmp/ipykernel_267/2960382116.py:1: DtypeWarning: Columns (12,15,16) have mixed types. Specify dtype option on import or set low_memory=False.\n",
      "  df = pd.read_csv('data/execution/check_structure.csv')\n"
     ]
    }
   ],
   "source": [
    "df = pd.read_csv('data/execution/check_structure.csv')"
   ]
  },
  {
   "cell_type": "code",
   "execution_count": null,
   "metadata": {},
   "outputs": [
    {
     "name": "stdout",
     "output_type": "stream",
     "text": [
      "<class 'pandas.core.frame.DataFrame'>\n",
      "RangeIndex: 2496326 entries, 0 to 2496325\n",
      "Data columns (total 17 columns):\n",
      " #   Column                         Non-Null Count    Dtype \n",
      "---  ------                         --------------    ----- \n",
      " 0   topProjectName                 2496326 non-null  object\n",
      " 1   name                           2496326 non-null  object\n",
      " 2   sessionId                      2496326 non-null  object\n",
      " 3   executionLogsId                2496326 non-null  int64 \n",
      " 4   scriptId                       2496326 non-null  int64 \n",
      " 5   scriptName                     2496326 non-null  object\n",
      " 6   script_status                  2496326 non-null  object\n",
      " 7   label                          2496326 non-null  object\n",
      " 8   step_state                     2496326 non-null  object\n",
      " 9   step_status                    2496326 non-null  object\n",
      " 10  startTime                      2496326 non-null  object\n",
      " 11  endTime                        2496326 non-null  object\n",
      " 12  duration                       2496326 non-null  object\n",
      " 13  lineNum                        2496326 non-null  int64 \n",
      " 14  StepLogsId                     2496326 non-null  int64 \n",
      " 15  takeScreenshots                2496326 non-null  object\n",
      " 16  screenshotsOnlyOnInterruption  2496326 non-null  object\n",
      "dtypes: int64(4), object(13)\n",
      "memory usage: 323.8+ MB\n"
     ]
    }
   ],
   "source": [
    "df.info(verbose=True, show_counts=True)"
   ]
  },
  {
   "cell_type": "code",
   "execution_count": null,
   "metadata": {},
   "outputs": [],
   "source": [
    "df.drop_duplicates(keep='first',inplace=True)\n",
    "df.rename(columns={'label':'StepLabel'}, inplace=True)\n",
    "df.rename(columns={'name':'testName'}, inplace=True)"
   ]
  },
  {
   "cell_type": "code",
   "execution_count": null,
   "metadata": {},
   "outputs": [],
   "source": [
    "mask = (df['startTime'] == 'None') \n",
    "df['startTime'].mask(mask,'2022-01-01T00:00:00.000Z',inplace=True)\n",
    "df['startTime'] = pd.to_datetime(df['startTime'])"
   ]
  },
  {
   "cell_type": "code",
   "execution_count": null,
   "metadata": {},
   "outputs": [],
   "source": [
    "mask = (df['endTime'] == 'None') \n",
    "df['endTime'].mask(mask,'2022-01-01T00:00:00.000Z',inplace=True)\n",
    "df['endTime'] = pd.to_datetime(df['endTime'])"
   ]
  },
  {
   "cell_type": "code",
   "execution_count": null,
   "metadata": {},
   "outputs": [],
   "source": [
    "mask = (df['duration'] == 'None') \n",
    "df['duration'].mask(mask,'0',inplace=True)\n",
    "df['duration'] = pd.to_numeric(df['duration'])"
   ]
  },
  {
   "cell_type": "code",
   "execution_count": null,
   "metadata": {},
   "outputs": [],
   "source": [
    "df['duration_sec'] = df.duration/1000\n",
    "df['duration_mins'] = df.duration/1000/60"
   ]
  },
  {
   "cell_type": "code",
   "execution_count": null,
   "metadata": {},
   "outputs": [],
   "source": [
    "df['date'] = pd.to_datetime(df['endTime'], format='%Y-%m-%d').dt.date\n",
    "df['date'] = pd.to_datetime(df['date'])"
   ]
  },
  {
   "cell_type": "code",
   "execution_count": null,
   "metadata": {},
   "outputs": [
    {
     "name": "stdout",
     "output_type": "stream",
     "text": [
      "<class 'pandas.core.frame.DataFrame'>\n",
      "Int64Index: 163935 entries, 0 to 2495685\n",
      "Data columns (total 20 columns):\n",
      " #   Column                         Non-Null Count   Dtype              \n",
      "---  ------                         --------------   -----              \n",
      " 0   topProjectName                 163935 non-null  object             \n",
      " 1   testName                       163935 non-null  object             \n",
      " 2   sessionId                      163935 non-null  object             \n",
      " 3   executionLogsId                163935 non-null  int64              \n",
      " 4   scriptId                       163935 non-null  int64              \n",
      " 5   scriptName                     163935 non-null  object             \n",
      " 6   script_status                  163935 non-null  object             \n",
      " 7   StepLabel                      163935 non-null  object             \n",
      " 8   step_state                     163935 non-null  object             \n",
      " 9   step_status                    163935 non-null  object             \n",
      " 10  startTime                      163935 non-null  datetime64[ns, UTC]\n",
      " 11  endTime                        163935 non-null  datetime64[ns, UTC]\n",
      " 12  duration                       163935 non-null  int64              \n",
      " 13  lineNum                        163935 non-null  int64              \n",
      " 14  StepLogsId                     163935 non-null  int64              \n",
      " 15  takeScreenshots                163935 non-null  object             \n",
      " 16  screenshotsOnlyOnInterruption  163935 non-null  object             \n",
      " 17  duration_sec                   163935 non-null  float64            \n",
      " 18  duration_mins                  163935 non-null  float64            \n",
      " 19  date                           163935 non-null  datetime64[ns]     \n",
      "dtypes: datetime64[ns, UTC](2), datetime64[ns](1), float64(2), int64(5), object(10)\n",
      "memory usage: 26.3+ MB\n"
     ]
    }
   ],
   "source": [
    "df.info()"
   ]
  },
  {
   "cell_type": "markdown",
   "metadata": {},
   "source": [
    "### Filter the dataset for the relevant date(s)"
   ]
  },
  {
   "cell_type": "code",
   "execution_count": null,
   "metadata": {},
   "outputs": [],
   "source": [
    "df2 = df.query(\"date == '2023-01-26'\").copy()"
   ]
  },
  {
   "cell_type": "code",
   "execution_count": null,
   "metadata": {},
   "outputs": [
    {
     "data": {
      "text/plain": [
       "\" def summary(x):\\n    runs = x['executionLogsId'].nunique()\\n    runs = float(runs)\\n    duration = x['duration'].sum()/1000\\n    mean_s = x['duration'].mean()/1000\\n    count = duration/mean_s\\n    result = {\\n        'aggr_duration': duration,\\n        'aggr_duration_minutes': duration/60,\\n        'runs': runs,\\n        'mean_sec': duration/runs,\\n        'mean_minutes': duration/runs/60 ,\\n        'steps': count\\n    }\\n    return pd.Series(result).round(1)\\n\\n#df2.groupby(['scriptName','sessionId']).apply(summary).to_html('data/execution/result.html')\\ndf2.groupby(['testName', 'executionLogsId']).apply(summary).to_html('data/execution/result.html')\\ndf2.groupby(['testName', 'executionLogsId']).apply(summary).to_excel('data/execution/result_groupby.xlsx')\\ndf2.groupby(['testName', 'executionLogsId']).agg({'executionLogsId': {'nunique'}, 'duration' : {'sum'}})\\n#df2.groupby(['testName']).apply(summary).to_html('data/execution/result.html') \""
      ]
     },
     "execution_count": 539,
     "metadata": {},
     "output_type": "execute_result"
    }
   ],
   "source": [
    "\"\"\" def summary(x):\n",
    "    runs = x['executionLogsId'].nunique()\n",
    "    runs = float(runs)\n",
    "    duration = x['duration'].sum()/1000\n",
    "    mean_s = x['duration'].mean()/1000\n",
    "    count = duration/mean_s\n",
    "    result = {\n",
    "        'aggr_duration': duration,\n",
    "        'aggr_duration_minutes': duration/60,\n",
    "        'runs': runs,\n",
    "        'mean_sec': duration/runs,\n",
    "        'mean_minutes': duration/runs/60 ,\n",
    "        'steps': count\n",
    "    }\n",
    "    return pd.Series(result).round(1)\n",
    "\n",
    "#df2.groupby(['scriptName','sessionId']).apply(summary).to_html('data/execution/result.html')\n",
    "df2.groupby(['testName', 'executionLogsId']).apply(summary).to_html('data/execution/result.html')\n",
    "df2.groupby(['testName', 'executionLogsId']).apply(summary).to_excel('data/execution/result_groupby.xlsx')\n",
    "df2.groupby(['testName', 'executionLogsId']).agg({'executionLogsId': {'nunique'}, 'duration' : {'sum'}})\n",
    "#df2.groupby(['testName']).apply(summary).to_html('data/execution/result.html') \"\"\""
   ]
  },
  {
   "attachments": {},
   "cell_type": "markdown",
   "metadata": {},
   "source": [
    "### Add a column to indicate Runs of each test script\n",
    "As there is no other field available via the API, this field is generated each time the lineNum == 1.  This assumes that there will always be a step 1 in every test case.\n",
    "Before this can be done, first sort the whole dataframe"
   ]
  },
  {
   "cell_type": "code",
   "execution_count": null,
   "metadata": {},
   "outputs": [],
   "source": [
    "df2.sort_values(by=['executionLogsId','StepLogsId'], inplace=True)"
   ]
  },
  {
   "cell_type": "code",
   "execution_count": null,
   "metadata": {},
   "outputs": [
    {
     "name": "stderr",
     "output_type": "stream",
     "text": [
      "/tmp/ipykernel_267/878714988.py:8: SettingWithCopyWarning: \n",
      "A value is trying to be set on a copy of a slice from a DataFrame\n",
      "\n",
      "See the caveats in the documentation: https://pandas.pydata.org/pandas-docs/stable/user_guide/indexing.html#returning-a-view-versus-a-copy\n",
      "  df2['run2'][idx] = run\n"
     ]
    }
   ],
   "source": [
    "df2['run2'] = 0\n",
    "run = 0\n",
    "# Using DataFrame.index\n",
    "for idx in df2.index:\n",
    "    #print(df2['lineNum'][idx])\n",
    "    if df2['lineNum'][idx] == 1:\n",
    "        run = run + 1\n",
    "    df2['run2'][idx] = run"
   ]
  },
  {
   "attachments": {},
   "cell_type": "markdown",
   "metadata": {},
   "source": [
    "### Generate a field to indicate where test scripts have run to the last step of the script\n",
    "This assumes that the last step is \"End script\"\n",
    "First sort the dataframe by Runs\n",
    "Then add a new text field that is a concatenation of all the step labels for each run\n",
    "Finally, check which of those strings contain the text \"End script\""
   ]
  },
  {
   "cell_type": "code",
   "execution_count": null,
   "metadata": {},
   "outputs": [],
   "source": [
    "df2.sort_values(by=['executionLogsId','StepLogsId','run2'], inplace=True)"
   ]
  },
  {
   "cell_type": "code",
   "execution_count": null,
   "metadata": {},
   "outputs": [],
   "source": [
    "df2['step_list'] = ''\n",
    "df2['run_status'] = ''\n",
    "df2['step_error'] = ''"
   ]
  },
  {
   "cell_type": "code",
   "execution_count": null,
   "metadata": {},
   "outputs": [
    {
     "name": "stderr",
     "output_type": "stream",
     "text": [
      "/tmp/ipykernel_267/3833809576.py:4: SettingWithCopyWarning: \n",
      "A value is trying to be set on a copy of a slice from a DataFrame\n",
      "\n",
      "See the caveats in the documentation: https://pandas.pydata.org/pandas-docs/stable/user_guide/indexing.html#returning-a-view-versus-a-copy\n",
      "  df2['step_list'][idx] = df2['StepLabel'][idx]\n",
      "/tmp/ipykernel_267/3833809576.py:10: SettingWithCopyWarning: \n",
      "A value is trying to be set on a copy of a slice from a DataFrame\n",
      "\n",
      "See the caveats in the documentation: https://pandas.pydata.org/pandas-docs/stable/user_guide/indexing.html#returning-a-view-versus-a-copy\n",
      "  df2['step_error'][idx] = 'ERROR'\n"
     ]
    }
   ],
   "source": [
    "run = -1\n",
    "for idx in df2.index:\n",
    "    if run != df2['run2'][idx]:\n",
    "        df2['step_list'][idx] = df2['StepLabel'][idx]\n",
    "    else:\n",
    "        df2['step_list'][idx] = df2['step_list'][idx] + df2['StepLabel'][idx]\n",
    "    run == df2['run2'][idx]      \n",
    "    \n",
    "    if df2['step_status'][idx] == 'ERROR':\n",
    "        df2['step_error'][idx] = 'ERROR'            \n",
    "        "
   ]
  },
  {
   "cell_type": "code",
   "execution_count": null,
   "metadata": {},
   "outputs": [
    {
     "data": {
      "text/html": [
       "<div>\n",
       "<style scoped>\n",
       "    .dataframe tbody tr th:only-of-type {\n",
       "        vertical-align: middle;\n",
       "    }\n",
       "\n",
       "    .dataframe tbody tr th {\n",
       "        vertical-align: top;\n",
       "    }\n",
       "\n",
       "    .dataframe thead th {\n",
       "        text-align: right;\n",
       "    }\n",
       "</style>\n",
       "<table border=\"1\" class=\"dataframe\">\n",
       "  <thead>\n",
       "    <tr style=\"text-align: right;\">\n",
       "      <th></th>\n",
       "      <th>topProjectName</th>\n",
       "      <th>testName</th>\n",
       "      <th>sessionId</th>\n",
       "      <th>executionLogsId</th>\n",
       "      <th>scriptId</th>\n",
       "      <th>scriptName</th>\n",
       "      <th>script_status</th>\n",
       "      <th>StepLabel</th>\n",
       "      <th>step_state</th>\n",
       "      <th>step_status</th>\n",
       "      <th>...</th>\n",
       "      <th>StepLogsId</th>\n",
       "      <th>takeScreenshots</th>\n",
       "      <th>screenshotsOnlyOnInterruption</th>\n",
       "      <th>duration_sec</th>\n",
       "      <th>duration_mins</th>\n",
       "      <th>date</th>\n",
       "      <th>run2</th>\n",
       "      <th>step_list</th>\n",
       "      <th>run_status</th>\n",
       "      <th>step_error</th>\n",
       "    </tr>\n",
       "  </thead>\n",
       "  <tbody>\n",
       "    <tr>\n",
       "      <th>2273789</th>\n",
       "      <td>Integrated Performance Testing</td>\n",
       "      <td>User 8 - Send Load to Roadnet load for Planning</td>\n",
       "      <td>JSGa7oUWzM</td>\n",
       "      <td>2275</td>\n",
       "      <td>413</td>\n",
       "      <td>User 8 - Send Load to Roadnet load for Planning</td>\n",
       "      <td>ERROR</td>\n",
       "      <td>Start script</td>\n",
       "      <td>TERMINATED</td>\n",
       "      <td>SUCCESS</td>\n",
       "      <td>...</td>\n",
       "      <td>61738</td>\n",
       "      <td>False</td>\n",
       "      <td>False</td>\n",
       "      <td>17.308</td>\n",
       "      <td>0.288467</td>\n",
       "      <td>2023-01-26</td>\n",
       "      <td>1</td>\n",
       "      <td>Start script</td>\n",
       "      <td>Script run incomplete</td>\n",
       "      <td></td>\n",
       "    </tr>\n",
       "    <tr>\n",
       "      <th>2273790</th>\n",
       "      <td>Integrated Performance Testing</td>\n",
       "      <td>User 8 - Send Load to Roadnet load for Planning</td>\n",
       "      <td>JSGa7oUWzM</td>\n",
       "      <td>2275</td>\n",
       "      <td>413</td>\n",
       "      <td>User 8 - Send Load to Roadnet load for Planning</td>\n",
       "      <td>ERROR</td>\n",
       "      <td>Go to Transportation management/Planning/Roadn...</td>\n",
       "      <td>TERMINATED</td>\n",
       "      <td>SUCCESS</td>\n",
       "      <td>...</td>\n",
       "      <td>61782</td>\n",
       "      <td>False</td>\n",
       "      <td>False</td>\n",
       "      <td>6.792</td>\n",
       "      <td>0.113200</td>\n",
       "      <td>2023-01-26</td>\n",
       "      <td>1</td>\n",
       "      <td>Go to Transportation management/Planning/Roadn...</td>\n",
       "      <td>Script run incomplete</td>\n",
       "      <td></td>\n",
       "    </tr>\n",
       "    <tr>\n",
       "      <th>2273791</th>\n",
       "      <td>Integrated Performance Testing</td>\n",
       "      <td>User 8 - Send Load to Roadnet load for Planning</td>\n",
       "      <td>JSGa7oUWzM</td>\n",
       "      <td>2275</td>\n",
       "      <td>413</td>\n",
       "      <td>User 8 - Send Load to Roadnet load for Planning</td>\n",
       "      <td>ERROR</td>\n",
       "      <td>Click Routing lookup button</td>\n",
       "      <td>TERMINATED</td>\n",
       "      <td>SUCCESS</td>\n",
       "      <td>...</td>\n",
       "      <td>61801</td>\n",
       "      <td>False</td>\n",
       "      <td>False</td>\n",
       "      <td>0.640</td>\n",
       "      <td>0.010667</td>\n",
       "      <td>2023-01-26</td>\n",
       "      <td>1</td>\n",
       "      <td>Click Routing lookup button</td>\n",
       "      <td>Script run incomplete</td>\n",
       "      <td></td>\n",
       "    </tr>\n",
       "    <tr>\n",
       "      <th>2273792</th>\n",
       "      <td>Integrated Performance Testing</td>\n",
       "      <td>User 8 - Send Load to Roadnet load for Planning</td>\n",
       "      <td>JSGa7oUWzM</td>\n",
       "      <td>2275</td>\n",
       "      <td>413</td>\n",
       "      <td>User 8 - Send Load to Roadnet load for Planning</td>\n",
       "      <td>ERROR</td>\n",
       "      <td>Select option DataSource / Sheet1 / Routing to...</td>\n",
       "      <td>TERMINATED</td>\n",
       "      <td>SUCCESS</td>\n",
       "      <td>...</td>\n",
       "      <td>61823</td>\n",
       "      <td>False</td>\n",
       "      <td>False</td>\n",
       "      <td>0.537</td>\n",
       "      <td>0.008950</td>\n",
       "      <td>2023-01-26</td>\n",
       "      <td>1</td>\n",
       "      <td>Select option DataSource / Sheet1 / Routing to...</td>\n",
       "      <td>Script run incomplete</td>\n",
       "      <td></td>\n",
       "    </tr>\n",
       "    <tr>\n",
       "      <th>2273793</th>\n",
       "      <td>Integrated Performance Testing</td>\n",
       "      <td>User 8 - Send Load to Roadnet load for Planning</td>\n",
       "      <td>JSGa7oUWzM</td>\n",
       "      <td>2275</td>\n",
       "      <td>413</td>\n",
       "      <td>User 8 - Send Load to Roadnet load for Planning</td>\n",
       "      <td>ERROR</td>\n",
       "      <td>Click Warehouse</td>\n",
       "      <td>TERMINATED</td>\n",
       "      <td>SUCCESS</td>\n",
       "      <td>...</td>\n",
       "      <td>61828</td>\n",
       "      <td>False</td>\n",
       "      <td>False</td>\n",
       "      <td>0.550</td>\n",
       "      <td>0.009167</td>\n",
       "      <td>2023-01-26</td>\n",
       "      <td>1</td>\n",
       "      <td>Click Warehouse</td>\n",
       "      <td>Script run incomplete</td>\n",
       "      <td></td>\n",
       "    </tr>\n",
       "    <tr>\n",
       "      <th>...</th>\n",
       "      <td>...</td>\n",
       "      <td>...</td>\n",
       "      <td>...</td>\n",
       "      <td>...</td>\n",
       "      <td>...</td>\n",
       "      <td>...</td>\n",
       "      <td>...</td>\n",
       "      <td>...</td>\n",
       "      <td>...</td>\n",
       "      <td>...</td>\n",
       "      <td>...</td>\n",
       "      <td>...</td>\n",
       "      <td>...</td>\n",
       "      <td>...</td>\n",
       "      <td>...</td>\n",
       "      <td>...</td>\n",
       "      <td>...</td>\n",
       "      <td>...</td>\n",
       "      <td>...</td>\n",
       "      <td>...</td>\n",
       "      <td>...</td>\n",
       "    </tr>\n",
       "    <tr>\n",
       "      <th>2274915</th>\n",
       "      <td>Integrated Performance Testing</td>\n",
       "      <td>Copy 1 - Receipted payment processing : SA Onl...</td>\n",
       "      <td>b3iiw3wwkr</td>\n",
       "      <td>2746</td>\n",
       "      <td>414</td>\n",
       "      <td>Copy 1 - Receipted payment processing : SA Onl...</td>\n",
       "      <td>NONE</td>\n",
       "      <td>Upload a file</td>\n",
       "      <td>RUNNING</td>\n",
       "      <td>SUCCESS</td>\n",
       "      <td>...</td>\n",
       "      <td>118638</td>\n",
       "      <td>False</td>\n",
       "      <td>False</td>\n",
       "      <td>4.256</td>\n",
       "      <td>0.070933</td>\n",
       "      <td>2023-01-26</td>\n",
       "      <td>609</td>\n",
       "      <td>Upload a file</td>\n",
       "      <td>Script run incomplete</td>\n",
       "      <td></td>\n",
       "    </tr>\n",
       "    <tr>\n",
       "      <th>2274916</th>\n",
       "      <td>Integrated Performance Testing</td>\n",
       "      <td>Copy 1 - Receipted payment processing : SA Onl...</td>\n",
       "      <td>b3iiw3wwkr</td>\n",
       "      <td>2746</td>\n",
       "      <td>414</td>\n",
       "      <td>Copy 1 - Receipted payment processing : SA Onl...</td>\n",
       "      <td>NONE</td>\n",
       "      <td>Click Close</td>\n",
       "      <td>RUNNING</td>\n",
       "      <td>SUCCESS</td>\n",
       "      <td>...</td>\n",
       "      <td>118653</td>\n",
       "      <td>False</td>\n",
       "      <td>False</td>\n",
       "      <td>2.008</td>\n",
       "      <td>0.033467</td>\n",
       "      <td>2023-01-26</td>\n",
       "      <td>609</td>\n",
       "      <td>Click Close</td>\n",
       "      <td>Script run incomplete</td>\n",
       "      <td></td>\n",
       "    </tr>\n",
       "    <tr>\n",
       "      <th>2274917</th>\n",
       "      <td>Integrated Performance Testing</td>\n",
       "      <td>Copy 1 - Receipted payment processing : SA Onl...</td>\n",
       "      <td>b3iiw3wwkr</td>\n",
       "      <td>2746</td>\n",
       "      <td>414</td>\n",
       "      <td>Copy 1 - Receipted payment processing : SA Onl...</td>\n",
       "      <td>NONE</td>\n",
       "      <td>Click Save</td>\n",
       "      <td>RUNNING</td>\n",
       "      <td>SUCCESS</td>\n",
       "      <td>...</td>\n",
       "      <td>118659</td>\n",
       "      <td>False</td>\n",
       "      <td>False</td>\n",
       "      <td>2.220</td>\n",
       "      <td>0.037000</td>\n",
       "      <td>2023-01-26</td>\n",
       "      <td>609</td>\n",
       "      <td>Click Save</td>\n",
       "      <td>Script run incomplete</td>\n",
       "      <td></td>\n",
       "    </tr>\n",
       "    <tr>\n",
       "      <th>2274918</th>\n",
       "      <td>Integrated Performance Testing</td>\n",
       "      <td>Copy 1 - Receipted payment processing : SA Onl...</td>\n",
       "      <td>b3iiw3wwkr</td>\n",
       "      <td>2746</td>\n",
       "      <td>414</td>\n",
       "      <td>Copy 1 - Receipted payment processing : SA Onl...</td>\n",
       "      <td>NONE</td>\n",
       "      <td>Click Import</td>\n",
       "      <td>RUNNING</td>\n",
       "      <td>SUCCESS</td>\n",
       "      <td>...</td>\n",
       "      <td>118672</td>\n",
       "      <td>False</td>\n",
       "      <td>False</td>\n",
       "      <td>3.395</td>\n",
       "      <td>0.056583</td>\n",
       "      <td>2023-01-26</td>\n",
       "      <td>609</td>\n",
       "      <td>Click Import</td>\n",
       "      <td>Script run incomplete</td>\n",
       "      <td></td>\n",
       "    </tr>\n",
       "    <tr>\n",
       "      <th>2274919</th>\n",
       "      <td>Integrated Performance Testing</td>\n",
       "      <td>Copy 1 - Receipted payment processing : SA Onl...</td>\n",
       "      <td>b3iiw3wwkr</td>\n",
       "      <td>2746</td>\n",
       "      <td>414</td>\n",
       "      <td>Copy 1 - Receipted payment processing : SA Onl...</td>\n",
       "      <td>NONE</td>\n",
       "      <td>Click Dialog Box Button</td>\n",
       "      <td>RUNNING</td>\n",
       "      <td>SUCCESS</td>\n",
       "      <td>...</td>\n",
       "      <td>118686</td>\n",
       "      <td>False</td>\n",
       "      <td>False</td>\n",
       "      <td>1.911</td>\n",
       "      <td>0.031850</td>\n",
       "      <td>2023-01-26</td>\n",
       "      <td>609</td>\n",
       "      <td>Click Dialog Box Button</td>\n",
       "      <td>Script run incomplete</td>\n",
       "      <td></td>\n",
       "    </tr>\n",
       "  </tbody>\n",
       "</table>\n",
       "<p>84687 rows × 24 columns</p>\n",
       "</div>"
      ],
      "text/plain": [
       "                         topProjectName  \\\n",
       "2273789  Integrated Performance Testing   \n",
       "2273790  Integrated Performance Testing   \n",
       "2273791  Integrated Performance Testing   \n",
       "2273792  Integrated Performance Testing   \n",
       "2273793  Integrated Performance Testing   \n",
       "...                                 ...   \n",
       "2274915  Integrated Performance Testing   \n",
       "2274916  Integrated Performance Testing   \n",
       "2274917  Integrated Performance Testing   \n",
       "2274918  Integrated Performance Testing   \n",
       "2274919  Integrated Performance Testing   \n",
       "\n",
       "                                                  testName   sessionId  \\\n",
       "2273789    User 8 - Send Load to Roadnet load for Planning  JSGa7oUWzM   \n",
       "2273790    User 8 - Send Load to Roadnet load for Planning  JSGa7oUWzM   \n",
       "2273791    User 8 - Send Load to Roadnet load for Planning  JSGa7oUWzM   \n",
       "2273792    User 8 - Send Load to Roadnet load for Planning  JSGa7oUWzM   \n",
       "2273793    User 8 - Send Load to Roadnet load for Planning  JSGa7oUWzM   \n",
       "...                                                    ...         ...   \n",
       "2274915  Copy 1 - Receipted payment processing : SA Onl...  b3iiw3wwkr   \n",
       "2274916  Copy 1 - Receipted payment processing : SA Onl...  b3iiw3wwkr   \n",
       "2274917  Copy 1 - Receipted payment processing : SA Onl...  b3iiw3wwkr   \n",
       "2274918  Copy 1 - Receipted payment processing : SA Onl...  b3iiw3wwkr   \n",
       "2274919  Copy 1 - Receipted payment processing : SA Onl...  b3iiw3wwkr   \n",
       "\n",
       "         executionLogsId  scriptId  \\\n",
       "2273789             2275       413   \n",
       "2273790             2275       413   \n",
       "2273791             2275       413   \n",
       "2273792             2275       413   \n",
       "2273793             2275       413   \n",
       "...                  ...       ...   \n",
       "2274915             2746       414   \n",
       "2274916             2746       414   \n",
       "2274917             2746       414   \n",
       "2274918             2746       414   \n",
       "2274919             2746       414   \n",
       "\n",
       "                                                scriptName script_status  \\\n",
       "2273789    User 8 - Send Load to Roadnet load for Planning         ERROR   \n",
       "2273790    User 8 - Send Load to Roadnet load for Planning         ERROR   \n",
       "2273791    User 8 - Send Load to Roadnet load for Planning         ERROR   \n",
       "2273792    User 8 - Send Load to Roadnet load for Planning         ERROR   \n",
       "2273793    User 8 - Send Load to Roadnet load for Planning         ERROR   \n",
       "...                                                    ...           ...   \n",
       "2274915  Copy 1 - Receipted payment processing : SA Onl...          NONE   \n",
       "2274916  Copy 1 - Receipted payment processing : SA Onl...          NONE   \n",
       "2274917  Copy 1 - Receipted payment processing : SA Onl...          NONE   \n",
       "2274918  Copy 1 - Receipted payment processing : SA Onl...          NONE   \n",
       "2274919  Copy 1 - Receipted payment processing : SA Onl...          NONE   \n",
       "\n",
       "                                                 StepLabel  step_state  \\\n",
       "2273789                                       Start script  TERMINATED   \n",
       "2273790  Go to Transportation management/Planning/Roadn...  TERMINATED   \n",
       "2273791                        Click Routing lookup button  TERMINATED   \n",
       "2273792  Select option DataSource / Sheet1 / Routing to...  TERMINATED   \n",
       "2273793                                    Click Warehouse  TERMINATED   \n",
       "...                                                    ...         ...   \n",
       "2274915                                      Upload a file     RUNNING   \n",
       "2274916                                        Click Close     RUNNING   \n",
       "2274917                                         Click Save     RUNNING   \n",
       "2274918                                       Click Import     RUNNING   \n",
       "2274919                            Click Dialog Box Button     RUNNING   \n",
       "\n",
       "        step_status  ... StepLogsId takeScreenshots  \\\n",
       "2273789     SUCCESS  ...      61738           False   \n",
       "2273790     SUCCESS  ...      61782           False   \n",
       "2273791     SUCCESS  ...      61801           False   \n",
       "2273792     SUCCESS  ...      61823           False   \n",
       "2273793     SUCCESS  ...      61828           False   \n",
       "...             ...  ...        ...             ...   \n",
       "2274915     SUCCESS  ...     118638           False   \n",
       "2274916     SUCCESS  ...     118653           False   \n",
       "2274917     SUCCESS  ...     118659           False   \n",
       "2274918     SUCCESS  ...     118672           False   \n",
       "2274919     SUCCESS  ...     118686           False   \n",
       "\n",
       "         screenshotsOnlyOnInterruption  duration_sec  duration_mins  \\\n",
       "2273789                          False        17.308       0.288467   \n",
       "2273790                          False         6.792       0.113200   \n",
       "2273791                          False         0.640       0.010667   \n",
       "2273792                          False         0.537       0.008950   \n",
       "2273793                          False         0.550       0.009167   \n",
       "...                                ...           ...            ...   \n",
       "2274915                          False         4.256       0.070933   \n",
       "2274916                          False         2.008       0.033467   \n",
       "2274917                          False         2.220       0.037000   \n",
       "2274918                          False         3.395       0.056583   \n",
       "2274919                          False         1.911       0.031850   \n",
       "\n",
       "              date run2                                          step_list  \\\n",
       "2273789 2023-01-26    1                                       Start script   \n",
       "2273790 2023-01-26    1  Go to Transportation management/Planning/Roadn...   \n",
       "2273791 2023-01-26    1                        Click Routing lookup button   \n",
       "2273792 2023-01-26    1  Select option DataSource / Sheet1 / Routing to...   \n",
       "2273793 2023-01-26    1                                    Click Warehouse   \n",
       "...            ...  ...                                                ...   \n",
       "2274915 2023-01-26  609                                      Upload a file   \n",
       "2274916 2023-01-26  609                                        Click Close   \n",
       "2274917 2023-01-26  609                                         Click Save   \n",
       "2274918 2023-01-26  609                                       Click Import   \n",
       "2274919 2023-01-26  609                            Click Dialog Box Button   \n",
       "\n",
       "                    run_status step_error  \n",
       "2273789  Script run incomplete             \n",
       "2273790  Script run incomplete             \n",
       "2273791  Script run incomplete             \n",
       "2273792  Script run incomplete             \n",
       "2273793  Script run incomplete             \n",
       "...                        ...        ...  \n",
       "2274915  Script run incomplete             \n",
       "2274916  Script run incomplete             \n",
       "2274917  Script run incomplete             \n",
       "2274918  Script run incomplete             \n",
       "2274919  Script run incomplete             \n",
       "\n",
       "[84687 rows x 24 columns]"
      ]
     },
     "execution_count": 550,
     "metadata": {},
     "output_type": "execute_result"
    }
   ],
   "source": [
    "df2"
   ]
  },
  {
   "cell_type": "code",
   "execution_count": null,
   "metadata": {},
   "outputs": [],
   "source": [
    "df2['run_status'] = 'Script run incomplete'"
   ]
  },
  {
   "cell_type": "code",
   "execution_count": null,
   "metadata": {},
   "outputs": [],
   "source": [
    "mask = (df2['step_list'].str.contains('End script'))\n",
    "df2['run_status'].mask(mask,'Script completed',inplace=True)"
   ]
  },
  {
   "attachments": {},
   "cell_type": "markdown",
   "metadata": {},
   "source": [
    "### Add a column to indicate scripts where at least one step status is \"Error\".\n",
    "This is necessary, as the script status is sometimes Success even where a step terminates in \"Error\"."
   ]
  },
  {
   "attachments": {},
   "cell_type": "markdown",
   "metadata": {},
   "source": [
    "### Generate an output file in CSV format"
   ]
  },
  {
   "cell_type": "code",
   "execution_count": null,
   "metadata": {},
   "outputs": [],
   "source": [
    "df2.to_csv('data/execution/result.csv',index=False)"
   ]
  },
  {
   "attachments": {},
   "cell_type": "markdown",
   "metadata": {},
   "source": [
    "### From here on the script is disabled."
   ]
  },
  {
   "cell_type": "code",
   "execution_count": null,
   "metadata": {},
   "outputs": [
    {
     "ename": "SystemExit",
     "evalue": "Stop right here!",
     "output_type": "error",
     "traceback": [
      "An exception has occurred, use %tb to see the full traceback.\n",
      "\u001b[0;31mSystemExit\u001b[0m\u001b[0;31m:\u001b[0m Stop right here!\n"
     ]
    },
    {
     "name": "stderr",
     "output_type": "stream",
     "text": [
      "/home/wo/.local/lib/python3.8/site-packages/IPython/core/interactiveshell.py:3441: UserWarning: To exit: use 'exit', 'quit', or Ctrl-D.\n",
      "  warn(\"To exit: use 'exit', 'quit', or Ctrl-D.\", stacklevel=1)\n"
     ]
    }
   ],
   "source": [
    "# Insert this to prevent the cells below from trying to write to the sql table\n",
    "raise SystemExit(\"Stop right here!\")"
   ]
  },
  {
   "attachments": {},
   "cell_type": "markdown",
   "metadata": {},
   "source": [
    "### Get ready to export to SQL"
   ]
  },
  {
   "cell_type": "code",
   "execution_count": null,
   "metadata": {},
   "outputs": [],
   "source": [
    "mask = (df['date'] > '2023-01-10')\n",
    "#df.loc[(df['date'] > '2023-01-10')]\n",
    "df = df[mask]"
   ]
  },
  {
   "cell_type": "code",
   "execution_count": null,
   "metadata": {},
   "outputs": [],
   "source": [
    "# https://learn.microsoft.com/en-us/sql/machine-learning/data-exploration/python-dataframe-pandas?view=sql-server-ver16\n",
    "# Some other example server values are\n",
    "# server = 'localhost\\sqlexpress' # for a named instance\n",
    "# server = 'myserver,port' # to specify an alternate port\n",
    "server = 'tcp:csazniptlsql01.database.windows.net,1433' \n",
    "database = 'CSAZN-INT-IPT-L-DSQ-01' \n",
    "username = 'ccbaadmin' \n",
    "password = '@FireBase123' \n",
    "# ENCRYPT defaults to yes starting in ODBC Driver 18. It's good to always specify ENCRYPT=yes on the client side to avoid MITM attacks.\n",
    "cnxn = pyodbc.connect('DRIVER={ODBC Driver 18 for SQL Server};SERVER='+server+';DATABASE='+database+';ENCRYPT=yes;UID='+username+';PWD='+ password)\n",
    "cursor = cnxn.cursor()"
   ]
  },
  {
   "cell_type": "code",
   "execution_count": null,
   "metadata": {},
   "outputs": [],
   "source": [
    "# cursor = cnxn.cursor()\n",
    "\n",
    "# cursor.execute('''\n",
    "# \t\tCREATE TABLE ea_script_history (\n",
    "# \t\t\trecords_no int,\n",
    "#             topProjectName nvarchar(255),\n",
    "#             testName nvarchar(255),\n",
    "#             sessionId nvarchar(255),\n",
    "#             id int,\n",
    "#             scriptId int,\n",
    "#             scriptName nvarchar(255),\n",
    "#             state nvarchar(255),\n",
    "#             status nvarchar(255),\n",
    "#             StepLabel nvarchar(255),\n",
    "#             startTime datetime,\n",
    "#             endTime datetime,\n",
    "#             duration int,\n",
    "#             lineNum int,\n",
    "#             StepLogs_id int\n",
    "# \t\t\t)\n",
    "#                ''')\n",
    "\n",
    "# cnxn.commit()"
   ]
  },
  {
   "cell_type": "code",
   "execution_count": null,
   "metadata": {},
   "outputs": [],
   "source": [
    "cnxn = pyodbc.connect('DRIVER={ODBC Driver 18 for SQL Server};SERVER='+server+';DATABASE='+database+';ENCRYPT=yes;UID='+username+';PWD='+ password)\n",
    "cursor = cnxn.cursor()\n",
    "# Insert Dataframe into SQL Server:\n",
    "i = 0\n",
    "for index, row in df.iterrows():\n",
    "     cursor.execute(\"INSERT INTO ea_script_history (records_no,topProjectName,testName,sessionId,id,scriptId,scriptName,state,status,StepLabel,startTime,endTime,duration,lineNum,StepLogs_id) values(?,?,?,?,?,?,?,?,?,?,?,?,?,?,?)\", row.records_no, row.topProjectName, row.testName, row.sessionId, row.id, row.scriptId, row.scriptName, row.state, row.status, row.StepLabel, row.startTime, row.endTime, row.duration, row.lineNum, row.StepLogs_id)\n",
    "     i = i + 1\n",
    "     if i == 1000:\n",
    "          i = 0\n",
    "          cnxn.commit()          \n",
    "cnxn.commit()\n",
    "cursor.close()"
   ]
  },
  {
   "cell_type": "code",
   "execution_count": null,
   "metadata": {},
   "outputs": [],
   "source": [
    "# cnxn = pyodbc.connect('DRIVER={ODBC Driver 18 for SQL Server};SERVER='+server+';DATABASE='+database+';ENCRYPT=yes;UID='+username+';PWD='+ password)\n",
    "# cursor = cnxn.cursor()\n",
    "# # Insert Dataframe into SQL Server:\n",
    "# for index, row in df.iterrows():\n",
    "#      cursor.execute(\"INSERT INTO ea_script_history (startTime) values(?)\", row.startTime)\n",
    "# cnxn.commit()\n",
    "# cursor.close()"
   ]
  },
  {
   "cell_type": "code",
   "execution_count": null,
   "metadata": {},
   "outputs": [],
   "source": [
    "# Delete all the rows in the SQl script history table\n",
    "cursor = cnxn.cursor()\n",
    "cursor.execute(\"DELETE FROM ea_script_history\")\n",
    "cnxn.commit()\n",
    "cursor.close()"
   ]
  },
  {
   "cell_type": "code",
   "execution_count": null,
   "metadata": {},
   "outputs": [],
   "source": [
    "# Drop the SQl script history table (it must be re-created)\n",
    "cursor = cnxn.cursor()\n",
    "cursor.execute(\"DROP Table ea_script_history\")\n",
    "#cursor.execute(\"DROP Table temp_table\")\n",
    "cnxn.commit()\n",
    "cursor.close()"
   ]
  },
  {
   "cell_type": "code",
   "execution_count": null,
   "metadata": {},
   "outputs": [],
   "source": [
    "line = '},        \"tags\": [],        \"useDefaultEnvironment\": true, }abc        \"tags\": []abc        \"useDefaultEnvironment\": true,'\n",
    "\n",
    "line = re.sub(r\"\\},[^,]\", \"},\\n\", line) # OK\n",
    "line = re.sub(r\"\\],[^,]\", \"],\\n\", line) # OK\n",
    "line = re.sub(r\"\\}[^,]\", \"}\\n\", line) # OK\n",
    "line = re.sub(r\"\\][^,]\", \"]\\n\", line) # OK\n"
   ]
  },
  {
   "cell_type": "code",
   "execution_count": null,
   "metadata": {},
   "outputs": [],
   "source": [
    "print(line)"
   ]
  }
 ],
 "metadata": {
  "kernelspec": {
   "display_name": "Python 3",
   "language": "python",
   "name": "python3"
  },
  "language_info": {
   "codemirror_mode": {
    "name": "ipython",
    "version": 3
   },
   "file_extension": ".py",
   "mimetype": "text/x-python",
   "name": "python",
   "nbconvert_exporter": "python",
   "pygments_lexer": "ipython3",
   "version": "3.8.10"
  },
  "orig_nbformat": 4,
  "vscode": {
   "interpreter": {
    "hash": "916dbcbb3f70747c44a77c7bcd40155683ae19c65e1c03b4aa3499c5328201f1"
   }
  }
 },
 "nbformat": 4,
 "nbformat_minor": 2
}
