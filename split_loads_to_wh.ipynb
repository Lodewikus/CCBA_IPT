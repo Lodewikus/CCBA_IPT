{
 "cells": [
  {
   "cell_type": "code",
   "execution_count": 85,
   "metadata": {},
   "outputs": [],
   "source": [
    "import json\n",
    "import numpy as np\n",
    "import pandas as pd\n",
    "import lxml\n",
    "import re\n",
    "import os\n",
    "from datetime import datetime"
   ]
  },
  {
   "attachments": {},
   "cell_type": "markdown",
   "metadata": {},
   "source": [
    "# Script summary\n",
    "- Import several Excel files from D365 that lists sales orders with Load IDs and consolidate them in one dataframe\n",
    "- Ask the user how many sessions this should be split into\n",
    "- Split the dataframe into n x csv files\n",
    "- Convert the CSV files to Excel"
   ]
  },
  {
   "cell_type": "markdown",
   "metadata": {},
   "source": [
    "### Clean up the xml_prep folder"
   ]
  },
  {
   "cell_type": "code",
   "execution_count": 86,
   "metadata": {},
   "outputs": [],
   "source": [
    "path = \"data/rel_to_wh/outbound_to_EA/\"\n",
    "dir_list = os.listdir(path)\n",
    "\n",
    "for i in range(0,len(dir_list)):\n",
    "    xml_file = path+dir_list[i]\n",
    "    os.remove(xml_file)"
   ]
  },
  {
   "attachments": {},
   "cell_type": "markdown",
   "metadata": {},
   "source": [
    "### Import files from D365 containing sales order lines with Load IDs"
   ]
  },
  {
   "cell_type": "code",
   "execution_count": 87,
   "metadata": {},
   "outputs": [],
   "source": [
    "path = \"data/rel_to_wh/inbound_from_D365/\"\n",
    "dir_list = os.listdir(path)"
   ]
  },
  {
   "cell_type": "code",
   "execution_count": 88,
   "metadata": {},
   "outputs": [
    {
     "name": "stdout",
     "output_type": "stream",
     "text": [
      "data/rel_to_wh/inbound_from_D365/ZA1-000000841.xlsx\n"
     ]
    }
   ],
   "source": [
    "loadfiles_concat = pd.read_excel(path+dir_list[0])\n",
    "print(xml_file)\n",
    "try:\n",
    "    loadfiles_concat.rename(columns={'Load ID': 'LoadID'}, inplace=True)\n",
    "except:\n",
    "    pass"
   ]
  },
  {
   "cell_type": "code",
   "execution_count": 89,
   "metadata": {},
   "outputs": [
    {
     "name": "stdout",
     "output_type": "stream",
     "text": [
      "data/rel_to_wh/inbound_from_D365/ZA1-000000841.xlsx\n"
     ]
    }
   ],
   "source": [
    "for i in range(1,len(dir_list)):\n",
    "    xml_file = path+dir_list[i]\n",
    "    print(xml_file)\n",
    "    temp = pd.read_excel(path+dir_list[i])\n",
    "    try:\n",
    "        temp.rename(columns={'Load ID': 'LoadID'}, inplace=True)\n",
    "    except:\n",
    "        pass\n",
    "    loadfiles_concat = pd.concat([loadfiles_concat, temp], ignore_index=True)"
   ]
  },
  {
   "cell_type": "code",
   "execution_count": 90,
   "metadata": {},
   "outputs": [],
   "source": [
    "#loadfiles_concat.to_excel('data/rel_to_wh/consolidated.xlsx')"
   ]
  },
  {
   "cell_type": "code",
   "execution_count": 91,
   "metadata": {},
   "outputs": [],
   "source": [
    "loads_to_wh = loadfiles_concat[['LoadID','Description']].copy()\n",
    "loads_to_wh.drop(columns={'Description'}, inplace=True, axis=1)"
   ]
  },
  {
   "cell_type": "code",
   "execution_count": 92,
   "metadata": {},
   "outputs": [],
   "source": [
    "loads_to_wh.drop_duplicates(keep='first',inplace=True)\n",
    "loads_to_wh = loads_to_wh.dropna()\n",
    "loads_to_wh.reset_index(drop=True, inplace=True)"
   ]
  },
  {
   "cell_type": "markdown",
   "metadata": {},
   "source": [
    "### Split the data among the number of user sessions"
   ]
  },
  {
   "cell_type": "code",
   "execution_count": 93,
   "metadata": {},
   "outputs": [],
   "source": [
    "files_str = input('Enter the number of files into which the loads must be split: ')\n",
    "files = int(files_str)"
   ]
  },
  {
   "cell_type": "code",
   "execution_count": 94,
   "metadata": {},
   "outputs": [],
   "source": [
    "for file in range(1,files+1):\n",
    "    with open('data/rel_to_wh/outbound_to_EA/wh' + str(file) + '.csv', 'a') as fw:        \n",
    "        fw.write('LoadID'+'\\n')\n",
    "\n",
    "file = 0\n",
    "for i in range(len(loads_to_wh)):\n",
    "    if file <= files-1:\n",
    "        file = file + 1\n",
    "    else:\n",
    "        file = 1\n",
    "    with open('data/rel_to_wh/outbound_to_EA/wh' + str(file) + '.csv', 'a') as fw:        \n",
    "        fw.write(str(loads_to_wh.loc[i, \"LoadID\"])+'\\n')\n",
    "        #print(file,loads_to_wh.loc[i, \"LoadID\"])"
   ]
  },
  {
   "cell_type": "markdown",
   "metadata": {},
   "source": [
    "### Now convert the CSV files into Excel"
   ]
  },
  {
   "cell_type": "code",
   "execution_count": 95,
   "metadata": {},
   "outputs": [],
   "source": [
    "path = \"data/rel_to_wh/outbound_to_EA/\"\n",
    "dir_list = os.listdir(path)"
   ]
  },
  {
   "cell_type": "code",
   "execution_count": 96,
   "metadata": {},
   "outputs": [],
   "source": [
    "# 21 user - Release to warehouse , picking and despatch (Roadnet loads).xlsx\n",
    "\n",
    "for i in range(0,len(dir_list)):\n",
    "    excel_file = path+str(i+1)+' user - Release to warehouse , picking and despatch (Roadnet loads).xlsx'\n",
    "    #print(str(i)+xml_file)\n",
    "    temp = pd.read_csv(path+dir_list[i])\n",
    "    temp.to_excel(excel_file, index=False)\n",
    "    os.remove(path+dir_list[i])"
   ]
  }
 ],
 "metadata": {
  "kernelspec": {
   "display_name": "Python 3",
   "language": "python",
   "name": "python3"
  },
  "language_info": {
   "codemirror_mode": {
    "name": "ipython",
    "version": 3
   },
   "file_extension": ".py",
   "mimetype": "text/x-python",
   "name": "python",
   "nbconvert_exporter": "python",
   "pygments_lexer": "ipython3",
   "version": "3.8.10"
  },
  "orig_nbformat": 4,
  "vscode": {
   "interpreter": {
    "hash": "916dbcbb3f70747c44a77c7bcd40155683ae19c65e1c03b4aa3499c5328201f1"
   }
  }
 },
 "nbformat": 4,
 "nbformat_minor": 2
}
