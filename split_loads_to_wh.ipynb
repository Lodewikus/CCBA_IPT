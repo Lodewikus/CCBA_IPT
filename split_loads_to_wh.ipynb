{
 "cells": [
  {
   "cell_type": "code",
   "execution_count": 29,
   "metadata": {},
   "outputs": [],
   "source": [
    "import json\n",
    "import numpy as np\n",
    "import pandas as pd\n",
    "import lxml\n",
    "import re\n",
    "import os\n",
    "from datetime import datetime"
   ]
  },
  {
   "attachments": {},
   "cell_type": "markdown",
   "metadata": {},
   "source": [
    "# Script summary\n",
    "- Import several Excel files from D365 that lists sales orders with Load IDs and consolidate them in one dataframe\n",
    "- Ask the user how many sessions this should be split into\n",
    "- Split the dataframe into n x csv files\n",
    "- Convert the CSV files to Excel"
   ]
  },
  {
   "cell_type": "markdown",
   "metadata": {},
   "source": [
    "### Clean up the xml_prep folder"
   ]
  },
  {
   "cell_type": "code",
   "execution_count": 30,
   "metadata": {},
   "outputs": [],
   "source": [
    "path = \"data/rel_to_wh/outbound_to_EA/\"\n",
    "dir_list = os.listdir(path)\n",
    "\n",
    "for i in range(0,len(dir_list)):\n",
    "    xml_file = path+dir_list[i]\n",
    "    os.remove(xml_file)"
   ]
  },
  {
   "attachments": {},
   "cell_type": "markdown",
   "metadata": {},
   "source": [
    "### Import files from D365 containing sales order lines with Load IDs"
   ]
  },
  {
   "cell_type": "code",
   "execution_count": 31,
   "metadata": {},
   "outputs": [],
   "source": [
    "path = \"data/rel_to_wh/inbound_from_D365/\"\n",
    "dir_list = os.listdir(path)"
   ]
  },
  {
   "cell_type": "code",
   "execution_count": 32,
   "metadata": {},
   "outputs": [],
   "source": [
    "loadfiles_concat = pd.read_excel(path+dir_list[0])\n",
    "try:\n",
    "    loadfiles_concat.rename(columns={'Load ID': 'LoadID'}, inplace=True)\n",
    "except:\n",
    "    pass"
   ]
  },
  {
   "cell_type": "code",
   "execution_count": 33,
   "metadata": {},
   "outputs": [
    {
     "name": "stdout",
     "output_type": "stream",
     "text": [
      "1data/rel_to_wh/inbound_from_D365/ZA1-000000698.xlsx\n",
      "2data/rel_to_wh/inbound_from_D365/ZA1-000000699.xlsx\n",
      "3data/rel_to_wh/inbound_from_D365/ZA1-000000700.xlsx\n",
      "4data/rel_to_wh/inbound_from_D365/ZA1-000000702.xlsx\n",
      "5data/rel_to_wh/inbound_from_D365/ZA1-000000706.xlsx\n",
      "6data/rel_to_wh/inbound_from_D365/ZA1-000000704.xlsx\n",
      "7data/rel_to_wh/inbound_from_D365/ZA1-000000697.xlsx\n",
      "8data/rel_to_wh/inbound_from_D365/ZA1-000000703.xlsx\n",
      "9data/rel_to_wh/inbound_from_D365/ZA1-000000701.xlsx\n"
     ]
    }
   ],
   "source": [
    "for i in range(1,len(dir_list)):\n",
    "    xml_file = path+dir_list[i]\n",
    "    print(str(i)+xml_file)\n",
    "    temp = pd.read_excel(path+dir_list[i])\n",
    "    try:\n",
    "        temp.rename(columns={'Load ID': 'LoadID'}, inplace=True)\n",
    "    except:\n",
    "        pass\n",
    "    loadfiles_concat = pd.concat([loadfiles_concat, temp], ignore_index=True)"
   ]
  },
  {
   "cell_type": "code",
   "execution_count": 34,
   "metadata": {},
   "outputs": [],
   "source": [
    "loads_to_wh = loadfiles_concat[['LoadID','Description']].copy()\n",
    "loads_to_wh.drop(columns={'Description'}, inplace=True, axis=1)"
   ]
  },
  {
   "cell_type": "code",
   "execution_count": 35,
   "metadata": {},
   "outputs": [],
   "source": [
    "loads_to_wh.drop_duplicates(keep='first',inplace=True)\n",
    "loads_to_wh = loads_to_wh.dropna()\n",
    "loads_to_wh.reset_index(drop=True, inplace=True)"
   ]
  },
  {
   "cell_type": "code",
   "execution_count": 36,
   "metadata": {},
   "outputs": [],
   "source": [
    "loads_to_wh['LoadID'] = loads_to_wh['LoadID'].astype(int)\n",
    "loads_to_wh['LoadID'] = loads_to_wh['LoadID'].astype(str)"
   ]
  },
  {
   "cell_type": "markdown",
   "metadata": {},
   "source": [
    "### Split the data among the number of user sessions"
   ]
  },
  {
   "cell_type": "code",
   "execution_count": 37,
   "metadata": {},
   "outputs": [],
   "source": [
    "files_str = input('Enter the number of files into which the loads must be split')\n",
    "files = int(files_str)"
   ]
  },
  {
   "cell_type": "code",
   "execution_count": 38,
   "metadata": {},
   "outputs": [],
   "source": [
    "lines_per_file = int(len(loads_to_wh)/(files))-1\n",
    "if lines_per_file == 0:\n",
    "    lines_per_file = 1"
   ]
  },
  {
   "cell_type": "code",
   "execution_count": 39,
   "metadata": {},
   "outputs": [],
   "source": [
    "filenum = 0\n",
    "for i in range(len(loads_to_wh)):\n",
    "    if i % lines_per_file == 0:\n",
    "        filenum = filenum + 1\n",
    "        with open('data/rel_to_wh/outbound_to_EA/wh' + str(filenum) + '.csv', 'a') as fw:        \n",
    "            fw.write('LoadID'+'\\n')        \n",
    "    if filenum > files:\n",
    "        filenum = files\n",
    "    # print(i)\n",
    "    # print(str(loads_to_wh.loc[i, \"LoadID\"]))\n",
    "    with open('data/rel_to_wh/outbound_to_EA/wh' + str(filenum) + '.csv', 'a') as fw:        \n",
    "         fw.write(str(loads_to_wh.loc[i, \"LoadID\"])+'\\n')"
   ]
  },
  {
   "cell_type": "markdown",
   "metadata": {},
   "source": [
    "### Now convert the CSV files into Excel"
   ]
  },
  {
   "cell_type": "code",
   "execution_count": 40,
   "metadata": {},
   "outputs": [],
   "source": [
    "path = \"data/rel_to_wh/outbound_to_EA/\"\n",
    "dir_list = os.listdir(path)"
   ]
  },
  {
   "cell_type": "code",
   "execution_count": 41,
   "metadata": {},
   "outputs": [],
   "source": [
    "# 21 user - Release to warehouse , picking and despatch (Roadnet loads).xlsx\n",
    "\n",
    "for i in range(0,len(dir_list)):\n",
    "    excel_file = path+str(i+1)+' user - Release to warehouse , picking and despatch (Roadnet loads).xlsx'\n",
    "    #print(str(i)+xml_file)\n",
    "    temp = pd.read_csv(path+dir_list[i])\n",
    "    temp.to_excel(excel_file, index=False)\n",
    "    os.remove(path+dir_list[i])"
   ]
  },
  {
   "cell_type": "code",
   "execution_count": 42,
   "metadata": {},
   "outputs": [
    {
     "ename": "SystemExit",
     "evalue": "Stop right here!",
     "output_type": "error",
     "traceback": [
      "An exception has occurred, use %tb to see the full traceback.\n",
      "\u001b[0;31mSystemExit\u001b[0m\u001b[0;31m:\u001b[0m Stop right here!\n"
     ]
    },
    {
     "name": "stderr",
     "output_type": "stream",
     "text": [
      "/home/wo/.local/lib/python3.8/site-packages/IPython/core/interactiveshell.py:3441: UserWarning: To exit: use 'exit', 'quit', or Ctrl-D.\n",
      "  warn(\"To exit: use 'exit', 'quit', or Ctrl-D.\", stacklevel=1)\n"
     ]
    }
   ],
   "source": [
    "raise SystemExit(\"Stop right here!\")"
   ]
  }
 ],
 "metadata": {
  "kernelspec": {
   "display_name": "Python 3",
   "language": "python",
   "name": "python3"
  },
  "language_info": {
   "codemirror_mode": {
    "name": "ipython",
    "version": 3
   },
   "file_extension": ".py",
   "mimetype": "text/x-python",
   "name": "python",
   "nbconvert_exporter": "python",
   "pygments_lexer": "ipython3",
   "version": "3.8.10"
  },
  "orig_nbformat": 4,
  "vscode": {
   "interpreter": {
    "hash": "916dbcbb3f70747c44a77c7bcd40155683ae19c65e1c03b4aa3499c5328201f1"
   }
  }
 },
 "nbformat": 4,
 "nbformat_minor": 2
}
